{
 "cells": [
  {
   "cell_type": "markdown",
   "metadata": {},
   "source": [
    "# Sentiment Analysis Web App\n",
    "\n",
    "_Deep Learning Nanodegree Program | Deployment_\n",
    "\n",
    "---\n",
    "\n",
    "In this notebook we will use Amazon's SageMaker service to construct a random tree model to predict the sentiment of a movie review. In addition, we will deploy this model to an endpoint and construct a very simple web app which will interact with our model's deployed endpoint.\n",
    "\n",
    "## General Outline\n",
    "\n",
    "Typically, when using a notebook instance with SageMaker, you will proceed through the following steps. Of course, not every step will need to be done with each project. Also, there is quite a lot of room for variation in many of the steps, as you will see throughout these lessons.\n",
    "\n",
    "1. Download or otherwise retrieve the data.\n",
    "2. Process / Prepare the data.\n",
    "3. Upload the processed data to S3.\n",
    "4. Train a chosen model.\n",
    "5. Test the trained model (typically using a batch transform job).\n",
    "6. Deploy the trained model.\n",
    "7. Use the deployed model.\n",
    "\n",
    "In this notebook we will progress through each of the steps above. We will also see that the final step, using the deployed model, can be quite challenging."
   ]
  },
  {
   "cell_type": "markdown",
   "metadata": {},
   "source": [
    "## Step 1: Downloading the data\n",
    "\n",
    "The dataset we are going to use is very popular among researchers in Natural Language Processing, usually referred to as the [IMDb dataset](http://ai.stanford.edu/~amaas/data/sentiment/). It consists of movie reviews from the website [imdb.com](http://www.imdb.com/), each labeled as either '**pos**itive', if the reviewer enjoyed the film, or '**neg**ative' otherwise.\n",
    "\n",
    "> Maas, Andrew L., et al. [Learning Word Vectors for Sentiment Analysis](http://ai.stanford.edu/~amaas/data/sentiment/). In _Proceedings of the 49th Annual Meeting of the Association for Computational Linguistics: Human Language Technologies_. Association for Computational Linguistics, 2011.\n",
    "\n",
    "We begin by using some Jupyter Notebook magic to download and extract the dataset."
   ]
  },
  {
   "cell_type": "code",
   "execution_count": 3,
   "metadata": {},
   "outputs": [
    {
     "name": "stdout",
     "output_type": "stream",
     "text": [
      "mkdir: cannot create directory ‘../data’: File exists\n",
      "--2019-12-13 19:36:34--  http://ai.stanford.edu/~amaas/data/sentiment/aclImdb_v1.tar.gz\n",
      "Resolving ai.stanford.edu (ai.stanford.edu)... 171.64.68.10\n",
      "Connecting to ai.stanford.edu (ai.stanford.edu)|171.64.68.10|:80... connected.\n",
      "HTTP request sent, awaiting response... 200 OK\n",
      "Length: 84125825 (80M) [application/x-gzip]\n",
      "Saving to: ‘../data/aclImdb_v1.tar.gz’\n",
      "\n",
      "../data/aclImdb_v1. 100%[===================>]  80.23M  22.8MB/s    in 5.8s    \n",
      "\n",
      "2019-12-13 19:36:40 (13.9 MB/s) - ‘../data/aclImdb_v1.tar.gz’ saved [84125825/84125825]\n",
      "\n"
     ]
    }
   ],
   "source": [
    "%mkdir ../data\n",
    "!wget -O ../data/aclImdb_v1.tar.gz http://ai.stanford.edu/~amaas/data/sentiment/aclImdb_v1.tar.gz\n",
    "!tar -zxf ../data/aclImdb_v1.tar.gz -C ../data"
   ]
  },
  {
   "cell_type": "markdown",
   "metadata": {},
   "source": [
    "## Step 2: Preparing and Processing the data\n",
    "\n",
    "The data we have downloaded is split into various files, each of which contains a single review. It will be much easier going forward if we combine these individual files into two large files, one for training and one for testing."
   ]
  },
  {
   "cell_type": "code",
   "execution_count": 8,
   "metadata": {},
   "outputs": [],
   "source": [
    "import os\n",
    "import glob\n",
    "\n",
    "def read_imdb_data(data_dir='../data/aclImdb'):\n",
    "    data = {}\n",
    "    labels = {}\n",
    "    \n",
    "    for data_type in ['train', 'test']:\n",
    "        data[data_type] = {}\n",
    "        labels[data_type] = {}\n",
    "        \n",
    "        for sentiment in ['pos', 'neg']:\n",
    "            data[data_type][sentiment] = []\n",
    "            labels[data_type][sentiment] = []\n",
    "            \n",
    "            path = os.path.join(data_dir, data_type, sentiment, '*.txt')\n",
    "            files = glob.glob(path)\n",
    "            \n",
    "            for f in files:\n",
    "                with open(f) as review:\n",
    "                    data[data_type][sentiment].append(review.read())\n",
    "                    # Here we represent a positive review by '1' and a negative review by '0'\n",
    "                    labels[data_type][sentiment].append(1 if sentiment == 'pos' else 0)\n",
    "                    \n",
    "            assert len(data[data_type][sentiment]) == len(labels[data_type][sentiment]), \\\n",
    "                    \"{}/{} data size does not match labels size\".format(data_type, sentiment)\n",
    "                \n",
    "    return data, labels"
   ]
  },
  {
   "cell_type": "code",
   "execution_count": 9,
   "metadata": {},
   "outputs": [
    {
     "name": "stdout",
     "output_type": "stream",
     "text": [
      "IMDB reviews: train = 12500 pos / 12500 neg, test = 12500 pos / 12500 neg\n"
     ]
    }
   ],
   "source": [
    "data, labels = read_imdb_data()\n",
    "print(\"IMDB reviews: train = {} pos / {} neg, test = {} pos / {} neg\".format(\n",
    "            len(data['train']['pos']), len(data['train']['neg']),\n",
    "            len(data['test']['pos']), len(data['test']['neg'])))"
   ]
  },
  {
   "cell_type": "code",
   "execution_count": 10,
   "metadata": {},
   "outputs": [],
   "source": [
    "from sklearn.utils import shuffle\n",
    "\n",
    "def prepare_imdb_data(data, labels):\n",
    "    \"\"\"Prepare training and test sets from IMDb movie reviews.\"\"\"\n",
    "    \n",
    "    #Combine positive and negative reviews and labels\n",
    "    data_train = data['train']['pos'] + data['train']['neg']\n",
    "    data_test = data['test']['pos'] + data['test']['neg']\n",
    "    labels_train = labels['train']['pos'] + labels['train']['neg']\n",
    "    labels_test = labels['test']['pos'] + labels['test']['neg']\n",
    "    \n",
    "    #Shuffle reviews and corresponding labels within training and test sets\n",
    "    data_train, labels_train = shuffle(data_train, labels_train)\n",
    "    data_test, labels_test = shuffle(data_test, labels_test)\n",
    "    \n",
    "    # Return a unified training data, test data, training labels, test labets\n",
    "    return data_train, data_test, labels_train, labels_test"
   ]
  },
  {
   "cell_type": "code",
   "execution_count": 11,
   "metadata": {},
   "outputs": [
    {
     "name": "stdout",
     "output_type": "stream",
     "text": [
      "IMDb reviews (combined): train = 25000, test = 25000\n"
     ]
    }
   ],
   "source": [
    "train_X, test_X, train_y, test_y = prepare_imdb_data(data, labels)\n",
    "print(\"IMDb reviews (combined): train = {}, test = {}\".format(len(train_X), len(test_X)))"
   ]
  },
  {
   "cell_type": "code",
   "execution_count": 12,
   "metadata": {},
   "outputs": [
    {
     "data": {
      "text/plain": [
       "'Upon The Straight Story release in 1999, it was praised for being David Lynch\\'s first film that ignored his regular themes of the macabre and the surreal. Based on a true story of one man and his journey to visit his estranged brother on a John Deere \\'66 mower, at first glance its an odd story for Lynch to direct. Yet as the story develops you can see some of Lynch\\'s trademark motifs coming through.<br /><br />Lynch\\'s focus on small town America and its inhabitants is still as prevalent as in his previous efforts such as Blue Velvet or Twin Peaks, but the most notable difference is that the weirdness is curbed down. The restrictions imposed means that the film has the notable accolade of being one of the few live action films that I can think of that features a G rating. Incredibly significant, this films stands as evidence that beautiful and significant family films can be produced.<br /><br />The Straight Story was the first feature which Lynch directed where he had no hand at writing. For many Lynch devotees this was a huge negative point. Almost universally acclaimed, the only overly negative review by James Brundage of filmcritic.com focused on this very criticism, that it wasn\\'t a typical Lynch film. \"Lynch is struggling within the mold of a G-Rated story that isn\\'t his own.\" Brundage claims, with his protagonist Alvin Straight \"quoting lines directly from Confucious.\" He argues that the story is weak and the dialogue even worse. Yet this is about the only criticism that many will read for the film. Whilst it is true that it is not Lynch in the sense of Eraserhead, Lost Highway or Mulholland Drive - all films which I also adore, The Straight Story features a different side of Lynch that is by no means terrible. If you are a Lynch fan, it is most important to separate that side of Lynch with this feature.<br /><br />The narrative is slow and thoughtful, which gives you a real sense of the protagonist\\'s thoughts as he travels to his destination. Alvin constantly is reminded about his past and his relationships with his wife, children and his brother. Yet particularly significant is that there are no flashbacks, which only adds to the effect, which reminded me of my conversations with my grandparents. The conclusion arrives like watching a boat being carried down a slow meandering river and it is beautiful to watch. The natural landscapes of the US are accentuated and together with the beautiful soundtrack by Angelo Badalamenti, makes me yearn to go to America. The performances are also excellent with every actor believable in their roles and Richard Farnsworth is particularly excellent. His Oscar nomination was greatly deserved and it was a shame that he didn\\'t win. Regardless, however it is probably the finest swan-song for any actor. <br /><br />So whilst The Straight Story features none of Lynch\\'s complex narratives or trademark dialogue, the film is a fascinating character study about getting old and comes highly recommended!'"
      ]
     },
     "execution_count": 12,
     "metadata": {},
     "output_type": "execute_result"
    }
   ],
   "source": [
    "train_X[100]"
   ]
  },
  {
   "cell_type": "markdown",
   "metadata": {},
   "source": [
    "## Processing the data\n",
    "\n",
    "Now that we have our training and testing datasets merged and ready to use, we need to start processing the raw data into something that will be useable by our machine learning algorithm. To begin with, we remove any html formatting and any non-alpha numeric characters that may appear in the reviews. We will do this in a very simplistic way using Python's regular expression module. We will discuss the reason for this rather simplistic pre-processing later on."
   ]
  },
  {
   "cell_type": "code",
   "execution_count": 13,
   "metadata": {},
   "outputs": [],
   "source": [
    "import re\n",
    "\n",
    "REPLACE_NO_SPACE = re.compile(\"(\\.)|(\\;)|(\\:)|(\\!)|(\\')|(\\?)|(\\,)|(\\\")|(\\()|(\\))|(\\[)|(\\])\")\n",
    "REPLACE_WITH_SPACE = re.compile(\"(<br\\s*/><br\\s*/>)|(\\-)|(\\/)\")\n",
    "\n",
    "def review_to_words(review):\n",
    "    words = REPLACE_NO_SPACE.sub(\"\", review.lower())\n",
    "    words = REPLACE_WITH_SPACE.sub(\" \", words)\n",
    "    return words"
   ]
  },
  {
   "cell_type": "code",
   "execution_count": 14,
   "metadata": {},
   "outputs": [
    {
     "data": {
      "text/plain": [
       "'upon the straight story release in 1999 it was praised for being david lynchs first film that ignored his regular themes of the macabre and the surreal based on a true story of one man and his journey to visit his estranged brother on a john deere 66 mower at first glance its an odd story for lynch to direct yet as the story develops you can see some of lynchs trademark motifs coming through lynchs focus on small town america and its inhabitants is still as prevalent as in his previous efforts such as blue velvet or twin peaks but the most notable difference is that the weirdness is curbed down the restrictions imposed means that the film has the notable accolade of being one of the few live action films that i can think of that features a g rating incredibly significant this films stands as evidence that beautiful and significant family films can be produced the straight story was the first feature which lynch directed where he had no hand at writing for many lynch devotees this was a huge negative point almost universally acclaimed the only overly negative review by james brundage of filmcriticcom focused on this very criticism that it wasnt a typical lynch film lynch is struggling within the mold of a g rated story that isnt his own brundage claims with his protagonist alvin straight quoting lines directly from confucious he argues that the story is weak and the dialogue even worse yet this is about the only criticism that many will read for the film whilst it is true that it is not lynch in the sense of eraserhead lost highway or mulholland drive   all films which i also adore the straight story features a different side of lynch that is by no means terrible if you are a lynch fan it is most important to separate that side of lynch with this feature the narrative is slow and thoughtful which gives you a real sense of the protagonists thoughts as he travels to his destination alvin constantly is reminded about his past and his relationships with his wife children and his brother yet particularly significant is that there are no flashbacks which only adds to the effect which reminded me of my conversations with my grandparents the conclusion arrives like watching a boat being carried down a slow meandering river and it is beautiful to watch the natural landscapes of the us are accentuated and together with the beautiful soundtrack by angelo badalamenti makes me yearn to go to america the performances are also excellent with every actor believable in their roles and richard farnsworth is particularly excellent his oscar nomination was greatly deserved and it was a shame that he didnt win regardless however it is probably the finest swan song for any actor  so whilst the straight story features none of lynchs complex narratives or trademark dialogue the film is a fascinating character study about getting old and comes highly recommended'"
      ]
     },
     "execution_count": 14,
     "metadata": {},
     "output_type": "execute_result"
    }
   ],
   "source": [
    "review_to_words(train_X[100])"
   ]
  },
  {
   "cell_type": "code",
   "execution_count": 15,
   "metadata": {},
   "outputs": [],
   "source": [
    "import pickle\n",
    "\n",
    "cache_dir = os.path.join(\"../cache\", \"sentiment_analysis\")  # where to store cache files\n",
    "os.makedirs(cache_dir, exist_ok=True)  # ensure cache directory exists\n",
    "\n",
    "def preprocess_data(data_train, data_test, labels_train, labels_test,\n",
    "                    cache_dir=cache_dir, cache_file=\"preprocessed_data.pkl\"):\n",
    "    \"\"\"Convert each review to words; read from cache if available.\"\"\"\n",
    "\n",
    "    # If cache_file is not None, try to read from it first\n",
    "    cache_data = None\n",
    "    if cache_file is not None:\n",
    "        try:\n",
    "            with open(os.path.join(cache_dir, cache_file), \"rb\") as f:\n",
    "                cache_data = pickle.load(f)\n",
    "            print(\"Read preprocessed data from cache file:\", cache_file)\n",
    "        except:\n",
    "            pass  # unable to read from cache, but that's okay\n",
    "    \n",
    "    # If cache is missing, then do the heavy lifting\n",
    "    if cache_data is None:\n",
    "        # Preprocess training and test data to obtain words for each review\n",
    "        #words_train = list(map(review_to_words, data_train))\n",
    "        #words_test = list(map(review_to_words, data_test))\n",
    "        words_train = [review_to_words(review) for review in data_train]\n",
    "        words_test = [review_to_words(review) for review in data_test]\n",
    "        \n",
    "        # Write to cache file for future runs\n",
    "        if cache_file is not None:\n",
    "            cache_data = dict(words_train=words_train, words_test=words_test,\n",
    "                              labels_train=labels_train, labels_test=labels_test)\n",
    "            with open(os.path.join(cache_dir, cache_file), \"wb\") as f:\n",
    "                pickle.dump(cache_data, f)\n",
    "            print(\"Wrote preprocessed data to cache file:\", cache_file)\n",
    "    else:\n",
    "        # Unpack data loaded from cache file\n",
    "        words_train, words_test, labels_train, labels_test = (cache_data['words_train'],\n",
    "                cache_data['words_test'], cache_data['labels_train'], cache_data['labels_test'])\n",
    "    \n",
    "    return words_train, words_test, labels_train, labels_test"
   ]
  },
  {
   "cell_type": "code",
   "execution_count": 16,
   "metadata": {},
   "outputs": [
    {
     "name": "stdout",
     "output_type": "stream",
     "text": [
      "Read preprocessed data from cache file: preprocessed_data.pkl\n"
     ]
    }
   ],
   "source": [
    "# Preprocess data\n",
    "train_X, test_X, train_y, test_y = preprocess_data(train_X, test_X, train_y, test_y)"
   ]
  },
  {
   "cell_type": "markdown",
   "metadata": {},
   "source": [
    "### Extract Bag-of-Words features\n",
    "\n",
    "For the model we will be implementing, rather than using the reviews directly, we are going to transform each review into a Bag-of-Words feature representation. Keep in mind that 'in the wild' we will only have access to the training set so our transformer can only use the training set to construct a representation."
   ]
  },
  {
   "cell_type": "code",
   "execution_count": 17,
   "metadata": {},
   "outputs": [],
   "source": [
    "import numpy as np\n",
    "from sklearn.feature_extraction.text import CountVectorizer\n",
    "from sklearn.externals import joblib\n",
    "# joblib is an enhanced version of pickle that is more efficient for storing NumPy arrays\n",
    "\n",
    "def extract_BoW_features(words_train, words_test, vocabulary_size=5000,\n",
    "                         cache_dir=cache_dir, cache_file=\"bow_features.pkl\"):\n",
    "    \"\"\"Extract Bag-of-Words for a given set of documents, already preprocessed into words.\"\"\"\n",
    "    \n",
    "    # If cache_file is not None, try to read from it first\n",
    "    cache_data = None\n",
    "    if cache_file is not None:\n",
    "        try:\n",
    "            with open(os.path.join(cache_dir, cache_file), \"rb\") as f:\n",
    "                cache_data = joblib.load(f)\n",
    "            print(\"Read features from cache file:\", cache_file)\n",
    "        except:\n",
    "            pass  # unable to read from cache, but that's okay\n",
    "    \n",
    "    # If cache is missing, then do the heavy lifting\n",
    "    if cache_data is None:\n",
    "        # Fit a vectorizer to training documents and use it to transform them\n",
    "        # NOTE: Training documents have already been preprocessed and tokenized into words;\n",
    "        #       pass in dummy functions to skip those steps, e.g. preprocessor=lambda x: x\n",
    "        vectorizer = CountVectorizer(max_features=vocabulary_size)\n",
    "        features_train = vectorizer.fit_transform(words_train).toarray()\n",
    "\n",
    "        # Apply the same vectorizer to transform the test documents (ignore unknown words)\n",
    "        features_test = vectorizer.transform(words_test).toarray()\n",
    "        \n",
    "        # NOTE: Remember to convert the features using .toarray() for a compact representation\n",
    "        \n",
    "        # Write to cache file for future runs (store vocabulary as well)\n",
    "        if cache_file is not None:\n",
    "            vocabulary = vectorizer.vocabulary_\n",
    "            cache_data = dict(features_train=features_train, features_test=features_test,\n",
    "                             vocabulary=vocabulary)\n",
    "            with open(os.path.join(cache_dir, cache_file), \"wb\") as f:\n",
    "                joblib.dump(cache_data, f)\n",
    "            print(\"Wrote features to cache file:\", cache_file)\n",
    "    else:\n",
    "        # Unpack data loaded from cache file\n",
    "        features_train, features_test, vocabulary = (cache_data['features_train'],\n",
    "                cache_data['features_test'], cache_data['vocabulary'])\n",
    "    \n",
    "    # Return both the extracted features as well as the vocabulary\n",
    "    return features_train, features_test, vocabulary"
   ]
  },
  {
   "cell_type": "code",
   "execution_count": 18,
   "metadata": {},
   "outputs": [
    {
     "name": "stdout",
     "output_type": "stream",
     "text": [
      "Read features from cache file: bow_features.pkl\n"
     ]
    }
   ],
   "source": [
    "# Extract Bag of Words features for both training and test datasets\n",
    "train_X, test_X, vocabulary = extract_BoW_features(train_X, test_X)"
   ]
  },
  {
   "cell_type": "code",
   "execution_count": 19,
   "metadata": {},
   "outputs": [
    {
     "data": {
      "text/plain": [
       "5000"
      ]
     },
     "execution_count": 19,
     "metadata": {},
     "output_type": "execute_result"
    }
   ],
   "source": [
    "len(train_X[100])"
   ]
  },
  {
   "cell_type": "markdown",
   "metadata": {},
   "source": [
    "## Step 3: Upload data to S3\n",
    "\n",
    "Now that we have created the feature representation of our training (and testing) data, it is time to start setting up and using the XGBoost classifier provided by SageMaker.\n",
    "\n",
    "### Writing the datasets\n",
    "\n",
    "The XGBoost classifier that we will be using requires the dataset to be written to a file and stored using Amazon S3. To do this, we will start by splitting the training dataset into two parts, the data we will train the model with and a validation set. Then, we will write those datasets to a file locally and then upload the files to S3. In addition, we will write the test set to a file and upload that file to S3. This is so that we can use SageMakers Batch Transform functionality to test our model once we've fit it."
   ]
  },
  {
   "cell_type": "code",
   "execution_count": 20,
   "metadata": {},
   "outputs": [],
   "source": [
    "import pandas as pd\n",
    "\n",
    "# Earlier we shuffled the training dataset so to make things simple we can just assign\n",
    "# the first 10 000 reviews to the validation set and use the remaining reviews for training.\n",
    "val_X = pd.DataFrame(train_X[:10000])\n",
    "train_X = pd.DataFrame(train_X[10000:])\n",
    "\n",
    "val_y = pd.DataFrame(train_y[:10000])\n",
    "train_y = pd.DataFrame(train_y[10000:])"
   ]
  },
  {
   "cell_type": "markdown",
   "metadata": {},
   "source": [
    "The documentation for the XGBoost algorithm in SageMaker requires that the training and validation datasets should contain no headers or index and that the label should occur first for each sample.\n",
    "\n",
    "For more information about this and other algorithms, the SageMaker developer documentation can be found on __[Amazon's website.](https://docs.aws.amazon.com/sagemaker/latest/dg/)__"
   ]
  },
  {
   "cell_type": "code",
   "execution_count": 21,
   "metadata": {},
   "outputs": [],
   "source": [
    "# First we make sure that the local directory in which we'd like to store the training and validation csv files exists.\n",
    "data_dir = '../data/sentiment_web_app'\n",
    "if not os.path.exists(data_dir):\n",
    "    os.makedirs(data_dir)"
   ]
  },
  {
   "cell_type": "code",
   "execution_count": 22,
   "metadata": {},
   "outputs": [],
   "source": [
    "pd.DataFrame(test_X).to_csv(os.path.join(data_dir, 'test.csv'), header=False, index=False)\n",
    "\n",
    "pd.concat([val_y, val_X], axis=1).to_csv(os.path.join(data_dir, 'validation.csv'), header=False, index=False)\n",
    "pd.concat([train_y, train_X], axis=1).to_csv(os.path.join(data_dir, 'train.csv'), header=False, index=False)"
   ]
  },
  {
   "cell_type": "code",
   "execution_count": 23,
   "metadata": {},
   "outputs": [],
   "source": [
    "# To save a bit of memory we can set text_X, train_X, val_X, train_y and val_y to None.\n",
    "\n",
    "test_X = train_X = val_X = train_y = val_y = None"
   ]
  },
  {
   "cell_type": "markdown",
   "metadata": {},
   "source": [
    "### Uploading Training / Validation files to S3\n",
    "\n",
    "Amazon's S3 service allows us to store files that can be accessed by both the built-in training models such as the XGBoost model we will be using as well as custom models such as the one we will see a little later.\n",
    "\n",
    "For this and most other tasks we will be doing using SageMaker, there are two methods we could use. The first is to use the low level functionality of SageMaker which requires knowing each of the objects involved in the SageMaker environment. The second is to use the high level functionality in which certain choices have been made on the user's behalf. The low level approach benefits from allowing the user a great deal of flexibility while the high level approach makes development much quicker. For our purposes we will opt to use the high level approach although using the low-level approach is certainly an option.\n",
    "\n",
    "Recall the method `upload_data()` which is a member of the object representing our current SageMaker session. What this method does is upload the data to the default bucket (which is created if it does not exist) into the path described by the key_prefix variable. To see this for yourself, once you have uploaded the data files, go to the S3 console and look to see where the files have been uploaded.\n",
    "\n",
    "For additional resources, see the __[SageMaker API documentation](http://sagemaker.readthedocs.io/en/latest/)__ and in addition the __[SageMaker Developer Guide.](https://docs.aws.amazon.com/sagemaker/latest/dg/)__"
   ]
  },
  {
   "cell_type": "code",
   "execution_count": 24,
   "metadata": {},
   "outputs": [],
   "source": [
    "import sagemaker\n",
    "\n",
    "session = sagemaker.Session() # Store the current SageMaker session\n",
    "\n",
    "# S3 prefix (which folder will we use)\n",
    "prefix = 'sentiment-web-app'\n",
    "\n",
    "test_location = session.upload_data(os.path.join(data_dir, 'test.csv'), key_prefix=prefix)\n",
    "val_location = session.upload_data(os.path.join(data_dir, 'validation.csv'), key_prefix=prefix)\n",
    "train_location = session.upload_data(os.path.join(data_dir, 'train.csv'), key_prefix=prefix)"
   ]
  },
  {
   "cell_type": "markdown",
   "metadata": {},
   "source": [
    "## Step 4: Creating the XGBoost model\n",
    "\n",
    "Now that the data has been uploaded it is time to create the XGBoost model. To begin with, we need to do some setup. At this point it is worth discussing what a model is in SageMaker. It is easiest to think of a model of comprising three different objects in the SageMaker ecosystem, which interact with one another.\n",
    "\n",
    "- Model Artifacts\n",
    "- Training Code (Container)\n",
    "- Inference Code (Container)\n",
    "\n",
    "The Model Artifacts are what you might think of as the actual model itself. For example, if you were building a neural network, the model artifacts would be the weights of the various layers. In our case, for an XGBoost model, the artifacts are the actual trees that are created during training.\n",
    "\n",
    "The other two objects, the training code and the inference code are then used to manipulate the training artifacts. More precisely, the training code uses the training data that is provided and creates the model artifacts, while the inference code uses the model artifacts to make predictions on new data.\n",
    "\n",
    "The way that SageMaker runs the training and inference code is by making use of Docker containers. For now, think of a container as being a way of packaging code up so that dependencies aren't an issue."
   ]
  },
  {
   "cell_type": "code",
   "execution_count": 25,
   "metadata": {},
   "outputs": [],
   "source": [
    "from sagemaker import get_execution_role\n",
    "\n",
    "# Our current execution role is required when creating the model as the training\n",
    "# and inference code will need to access the model artifacts.\n",
    "role = get_execution_role()"
   ]
  },
  {
   "cell_type": "code",
   "execution_count": 26,
   "metadata": {},
   "outputs": [
    {
     "name": "stderr",
     "output_type": "stream",
     "text": [
      "WARNING:root:There is a more up to date SageMaker XGBoost image. To use the newer image, please set 'repo_version'='0.90-1'. For example:\n",
      "\tget_image_uri(region, 'xgboost', '0.90-1').\n"
     ]
    }
   ],
   "source": [
    "# We need to retrieve the location of the container which is provided by Amazon for using XGBoost.\n",
    "# As a matter of convenience, the training and inference code both use the same container.\n",
    "from sagemaker.amazon.amazon_estimator import get_image_uri\n",
    "\n",
    "container = get_image_uri(session.boto_region_name, 'xgboost')"
   ]
  },
  {
   "cell_type": "code",
   "execution_count": 27,
   "metadata": {},
   "outputs": [],
   "source": [
    "# First we create a SageMaker estimator object for our model.\n",
    "xgb = sagemaker.estimator.Estimator(container, # The location of the container we wish to use\n",
    "                                    role,                                    # What is our current IAM Role\n",
    "                                    train_instance_count=1,                  # How many compute instances\n",
    "                                    train_instance_type='ml.m4.xlarge',      # What kind of compute instances\n",
    "                                    output_path='s3://{}/{}/output'.format(session.default_bucket(), prefix),\n",
    "                                    sagemaker_session=session)\n",
    "\n",
    "# And then set the algorithm specific parameters.\n",
    "xgb.set_hyperparameters(max_depth=5,\n",
    "                        eta=0.2,\n",
    "                        gamma=4,\n",
    "                        min_child_weight=6,\n",
    "                        subsample=0.8,\n",
    "                        silent=0,\n",
    "                        objective='binary:logistic',\n",
    "                        early_stopping_rounds=10,\n",
    "                        num_round=500)"
   ]
  },
  {
   "cell_type": "markdown",
   "metadata": {},
   "source": [
    "### Fit the XGBoost model\n",
    "\n",
    "Now that our model has been set up we simply need to attach the training and validation datasets and then ask SageMaker to set up the computation."
   ]
  },
  {
   "cell_type": "code",
   "execution_count": 28,
   "metadata": {},
   "outputs": [],
   "source": [
    "s3_input_train = sagemaker.s3_input(s3_data=train_location, content_type='csv')\n",
    "s3_input_validation = sagemaker.s3_input(s3_data=val_location, content_type='csv')"
   ]
  },
  {
   "cell_type": "code",
   "execution_count": 29,
   "metadata": {},
   "outputs": [
    {
     "name": "stdout",
     "output_type": "stream",
     "text": [
      "2019-12-13 19:45:54 Starting - Starting the training job...\n",
      "2019-12-13 19:45:55 Starting - Launching requested ML instances......\n",
      "2019-12-13 19:46:55 Starting - Preparing the instances for training......\n",
      "2019-12-13 19:48:16 Downloading - Downloading input data\n",
      "2019-12-13 19:48:16 Training - Downloading the training image..\u001b[34mArguments: train\u001b[0m\n",
      "\u001b[34m[2019-12-13:19:48:35:INFO] Running standalone xgboost training.\u001b[0m\n",
      "\u001b[34m[2019-12-13:19:48:35:INFO] File size need to be processed in the node: 238.47mb. Available memory size in the node: 8512.73mb\u001b[0m\n",
      "\u001b[34m[2019-12-13:19:48:35:INFO] Determined delimiter of CSV input is ','\u001b[0m\n",
      "\u001b[34m[19:48:35] S3DistributionType set as FullyReplicated\u001b[0m\n",
      "\u001b[34m[19:48:37] 15000x5000 matrix with 75000000 entries loaded from /opt/ml/input/data/train?format=csv&label_column=0&delimiter=,\u001b[0m\n",
      "\u001b[34m[2019-12-13:19:48:37:INFO] Determined delimiter of CSV input is ','\u001b[0m\n",
      "\u001b[34m[19:48:37] S3DistributionType set as FullyReplicated\u001b[0m\n",
      "\u001b[34m[19:48:38] 10000x5000 matrix with 50000000 entries loaded from /opt/ml/input/data/validation?format=csv&label_column=0&delimiter=,\u001b[0m\n",
      "\u001b[34m[19:48:41] src/tree/updater_prune.cc:74: tree pruning end, 1 roots, 40 extra nodes, 8 pruned nodes, max_depth=5\u001b[0m\n",
      "\u001b[34m[0]#011train-error:0.3002#011validation-error:0.2996\u001b[0m\n",
      "\u001b[34mMultiple eval metrics have been passed: 'validation-error' will be used for early stopping.\n",
      "\u001b[0m\n",
      "\u001b[34mWill train until validation-error hasn't improved in 10 rounds.\u001b[0m\n",
      "\u001b[34m[19:48:42] src/tree/updater_prune.cc:74: tree pruning end, 1 roots, 44 extra nodes, 0 pruned nodes, max_depth=5\u001b[0m\n",
      "\u001b[34m[1]#011train-error:0.283#011validation-error:0.2853\u001b[0m\n",
      "\n",
      "2019-12-13 19:48:34 Training - Training image download completed. Training in progress.\u001b[34m[19:48:44] src/tree/updater_prune.cc:74: tree pruning end, 1 roots, 30 extra nodes, 6 pruned nodes, max_depth=5\u001b[0m\n",
      "\u001b[34m[2]#011train-error:0.280133#011validation-error:0.285\u001b[0m\n",
      "\u001b[34m[19:48:45] src/tree/updater_prune.cc:74: tree pruning end, 1 roots, 46 extra nodes, 4 pruned nodes, max_depth=5\u001b[0m\n",
      "\u001b[34m[3]#011train-error:0.2632#011validation-error:0.2626\u001b[0m\n",
      "\u001b[34m[19:48:47] src/tree/updater_prune.cc:74: tree pruning end, 1 roots, 38 extra nodes, 6 pruned nodes, max_depth=5\u001b[0m\n",
      "\u001b[34m[4]#011train-error:0.246667#011validation-error:0.2508\u001b[0m\n",
      "\u001b[34m[19:48:48] src/tree/updater_prune.cc:74: tree pruning end, 1 roots, 48 extra nodes, 2 pruned nodes, max_depth=5\u001b[0m\n",
      "\u001b[34m[5]#011train-error:0.2496#011validation-error:0.2554\u001b[0m\n",
      "\u001b[34m[19:48:49] src/tree/updater_prune.cc:74: tree pruning end, 1 roots, 34 extra nodes, 4 pruned nodes, max_depth=5\u001b[0m\n",
      "\u001b[34m[6]#011train-error:0.243267#011validation-error:0.2493\u001b[0m\n",
      "\u001b[34m[19:48:51] src/tree/updater_prune.cc:74: tree pruning end, 1 roots, 34 extra nodes, 4 pruned nodes, max_depth=5\u001b[0m\n",
      "\u001b[34m[7]#011train-error:0.2384#011validation-error:0.2472\u001b[0m\n",
      "\u001b[34m[19:48:52] src/tree/updater_prune.cc:74: tree pruning end, 1 roots, 34 extra nodes, 10 pruned nodes, max_depth=5\u001b[0m\n",
      "\u001b[34m[8]#011train-error:0.233333#011validation-error:0.2413\u001b[0m\n",
      "\u001b[34m[19:48:53] src/tree/updater_prune.cc:74: tree pruning end, 1 roots, 28 extra nodes, 8 pruned nodes, max_depth=5\u001b[0m\n",
      "\u001b[34m[9]#011train-error:0.227667#011validation-error:0.2354\u001b[0m\n",
      "\u001b[34m[19:48:54] src/tree/updater_prune.cc:74: tree pruning end, 1 roots, 26 extra nodes, 8 pruned nodes, max_depth=5\u001b[0m\n",
      "\u001b[34m[10]#011train-error:0.223667#011validation-error:0.2314\u001b[0m\n",
      "\u001b[34m[19:48:56] src/tree/updater_prune.cc:74: tree pruning end, 1 roots, 26 extra nodes, 4 pruned nodes, max_depth=5\u001b[0m\n",
      "\u001b[34m[11]#011train-error:0.219933#011validation-error:0.2288\u001b[0m\n",
      "\u001b[34m[19:48:57] src/tree/updater_prune.cc:74: tree pruning end, 1 roots, 24 extra nodes, 10 pruned nodes, max_depth=5\u001b[0m\n",
      "\u001b[34m[12]#011train-error:0.216467#011validation-error:0.2277\u001b[0m\n",
      "\u001b[34m[19:48:58] src/tree/updater_prune.cc:74: tree pruning end, 1 roots, 28 extra nodes, 6 pruned nodes, max_depth=5\u001b[0m\n",
      "\u001b[34m[13]#011train-error:0.211133#011validation-error:0.222\u001b[0m\n",
      "\u001b[34m[19:48:59] src/tree/updater_prune.cc:74: tree pruning end, 1 roots, 24 extra nodes, 6 pruned nodes, max_depth=5\u001b[0m\n",
      "\u001b[34m[14]#011train-error:0.207#011validation-error:0.2167\u001b[0m\n",
      "\u001b[34m[19:49:01] src/tree/updater_prune.cc:74: tree pruning end, 1 roots, 32 extra nodes, 8 pruned nodes, max_depth=5\u001b[0m\n",
      "\u001b[34m[15]#011train-error:0.204333#011validation-error:0.2149\u001b[0m\n",
      "\u001b[34m[19:49:02] src/tree/updater_prune.cc:74: tree pruning end, 1 roots, 42 extra nodes, 8 pruned nodes, max_depth=5\u001b[0m\n",
      "\u001b[34m[16]#011train-error:0.198867#011validation-error:0.2111\u001b[0m\n",
      "\u001b[34m[19:49:03] src/tree/updater_prune.cc:74: tree pruning end, 1 roots, 26 extra nodes, 8 pruned nodes, max_depth=5\u001b[0m\n",
      "\u001b[34m[17]#011train-error:0.195467#011validation-error:0.2097\u001b[0m\n",
      "\u001b[34m[19:49:04] src/tree/updater_prune.cc:74: tree pruning end, 1 roots, 18 extra nodes, 10 pruned nodes, max_depth=5\u001b[0m\n",
      "\u001b[34m[18]#011train-error:0.193067#011validation-error:0.2071\u001b[0m\n",
      "\u001b[34m[19:49:06] src/tree/updater_prune.cc:74: tree pruning end, 1 roots, 28 extra nodes, 6 pruned nodes, max_depth=5\u001b[0m\n",
      "\u001b[34m[19]#011train-error:0.189667#011validation-error:0.2051\u001b[0m\n",
      "\u001b[34m[19:49:07] src/tree/updater_prune.cc:74: tree pruning end, 1 roots, 36 extra nodes, 8 pruned nodes, max_depth=5\u001b[0m\n",
      "\u001b[34m[20]#011train-error:0.186667#011validation-error:0.2027\u001b[0m\n",
      "\u001b[34m[19:49:08] src/tree/updater_prune.cc:74: tree pruning end, 1 roots, 22 extra nodes, 12 pruned nodes, max_depth=5\u001b[0m\n",
      "\u001b[34m[21]#011train-error:0.182733#011validation-error:0.2005\u001b[0m\n",
      "\u001b[34m[19:49:09] src/tree/updater_prune.cc:74: tree pruning end, 1 roots, 30 extra nodes, 4 pruned nodes, max_depth=5\u001b[0m\n",
      "\u001b[34m[22]#011train-error:0.181267#011validation-error:0.1987\u001b[0m\n",
      "\u001b[34m[19:49:11] src/tree/updater_prune.cc:74: tree pruning end, 1 roots, 32 extra nodes, 0 pruned nodes, max_depth=5\u001b[0m\n",
      "\u001b[34m[23]#011train-error:0.177467#011validation-error:0.1971\u001b[0m\n",
      "\u001b[34m[19:49:12] src/tree/updater_prune.cc:74: tree pruning end, 1 roots, 28 extra nodes, 12 pruned nodes, max_depth=5\u001b[0m\n",
      "\u001b[34m[24]#011train-error:0.176267#011validation-error:0.1957\u001b[0m\n",
      "\u001b[34m[19:49:13] src/tree/updater_prune.cc:74: tree pruning end, 1 roots, 28 extra nodes, 6 pruned nodes, max_depth=5\u001b[0m\n",
      "\u001b[34m[25]#011train-error:0.174267#011validation-error:0.1921\u001b[0m\n",
      "\u001b[34m[19:49:14] src/tree/updater_prune.cc:74: tree pruning end, 1 roots, 30 extra nodes, 6 pruned nodes, max_depth=5\u001b[0m\n",
      "\u001b[34m[26]#011train-error:0.171733#011validation-error:0.1916\u001b[0m\n",
      "\u001b[34m[19:49:16] src/tree/updater_prune.cc:74: tree pruning end, 1 roots, 24 extra nodes, 10 pruned nodes, max_depth=5\u001b[0m\n",
      "\u001b[34m[27]#011train-error:0.169867#011validation-error:0.1907\u001b[0m\n",
      "\u001b[34m[19:49:17] src/tree/updater_prune.cc:74: tree pruning end, 1 roots, 32 extra nodes, 18 pruned nodes, max_depth=5\u001b[0m\n",
      "\u001b[34m[28]#011train-error:0.1684#011validation-error:0.1914\u001b[0m\n",
      "\u001b[34m[19:49:18] src/tree/updater_prune.cc:74: tree pruning end, 1 roots, 28 extra nodes, 6 pruned nodes, max_depth=5\u001b[0m\n",
      "\u001b[34m[29]#011train-error:0.1658#011validation-error:0.1894\u001b[0m\n",
      "\u001b[34m[19:49:20] src/tree/updater_prune.cc:74: tree pruning end, 1 roots, 24 extra nodes, 6 pruned nodes, max_depth=5\u001b[0m\n",
      "\u001b[34m[30]#011train-error:0.165067#011validation-error:0.1871\u001b[0m\n",
      "\u001b[34m[19:49:21] src/tree/updater_prune.cc:74: tree pruning end, 1 roots, 18 extra nodes, 10 pruned nodes, max_depth=5\u001b[0m\n",
      "\u001b[34m[31]#011train-error:0.1642#011validation-error:0.1844\u001b[0m\n",
      "\u001b[34m[19:49:22] src/tree/updater_prune.cc:74: tree pruning end, 1 roots, 22 extra nodes, 18 pruned nodes, max_depth=5\u001b[0m\n",
      "\u001b[34m[32]#011train-error:0.162267#011validation-error:0.1838\u001b[0m\n",
      "\u001b[34m[19:49:23] src/tree/updater_prune.cc:74: tree pruning end, 1 roots, 34 extra nodes, 6 pruned nodes, max_depth=5\u001b[0m\n",
      "\u001b[34m[33]#011train-error:0.160533#011validation-error:0.183\u001b[0m\n",
      "\u001b[34m[19:49:25] src/tree/updater_prune.cc:74: tree pruning end, 1 roots, 18 extra nodes, 12 pruned nodes, max_depth=5\u001b[0m\n",
      "\u001b[34m[34]#011train-error:0.1594#011validation-error:0.1826\u001b[0m\n",
      "\u001b[34m[19:49:26] src/tree/updater_prune.cc:74: tree pruning end, 1 roots, 26 extra nodes, 6 pruned nodes, max_depth=5\u001b[0m\n",
      "\u001b[34m[35]#011train-error:0.159067#011validation-error:0.1823\u001b[0m\n",
      "\u001b[34m[19:49:27] src/tree/updater_prune.cc:74: tree pruning end, 1 roots, 22 extra nodes, 12 pruned nodes, max_depth=5\u001b[0m\n",
      "\u001b[34m[36]#011train-error:0.157133#011validation-error:0.1806\u001b[0m\n",
      "\u001b[34m[19:49:28] src/tree/updater_prune.cc:74: tree pruning end, 1 roots, 16 extra nodes, 8 pruned nodes, max_depth=5\u001b[0m\n",
      "\u001b[34m[37]#011train-error:0.156067#011validation-error:0.1804\u001b[0m\n"
     ]
    },
    {
     "name": "stdout",
     "output_type": "stream",
     "text": [
      "\u001b[34m[19:49:30] src/tree/updater_prune.cc:74: tree pruning end, 1 roots, 22 extra nodes, 10 pruned nodes, max_depth=5\u001b[0m\n",
      "\u001b[34m[38]#011train-error:0.1542#011validation-error:0.1791\u001b[0m\n",
      "\u001b[34m[19:49:31] src/tree/updater_prune.cc:74: tree pruning end, 1 roots, 26 extra nodes, 10 pruned nodes, max_depth=5\u001b[0m\n",
      "\u001b[34m[39]#011train-error:0.152#011validation-error:0.177\u001b[0m\n",
      "\u001b[34m[19:49:32] src/tree/updater_prune.cc:74: tree pruning end, 1 roots, 20 extra nodes, 14 pruned nodes, max_depth=5\u001b[0m\n",
      "\u001b[34m[40]#011train-error:0.150667#011validation-error:0.1769\u001b[0m\n",
      "\u001b[34m[19:49:33] src/tree/updater_prune.cc:74: tree pruning end, 1 roots, 30 extra nodes, 4 pruned nodes, max_depth=5\u001b[0m\n",
      "\u001b[34m[41]#011train-error:0.149133#011validation-error:0.1766\u001b[0m\n",
      "\u001b[34m[19:49:35] src/tree/updater_prune.cc:74: tree pruning end, 1 roots, 20 extra nodes, 12 pruned nodes, max_depth=5\u001b[0m\n",
      "\u001b[34m[42]#011train-error:0.1492#011validation-error:0.1755\u001b[0m\n",
      "\u001b[34m[19:49:36] src/tree/updater_prune.cc:74: tree pruning end, 1 roots, 16 extra nodes, 6 pruned nodes, max_depth=5\u001b[0m\n",
      "\u001b[34m[43]#011train-error:0.147067#011validation-error:0.1737\u001b[0m\n",
      "\u001b[34m[19:49:37] src/tree/updater_prune.cc:74: tree pruning end, 1 roots, 16 extra nodes, 6 pruned nodes, max_depth=5\u001b[0m\n",
      "\u001b[34m[44]#011train-error:0.146467#011validation-error:0.1735\u001b[0m\n",
      "\u001b[34m[19:49:38] src/tree/updater_prune.cc:74: tree pruning end, 1 roots, 30 extra nodes, 10 pruned nodes, max_depth=5\u001b[0m\n",
      "\u001b[34m[45]#011train-error:0.143867#011validation-error:0.1731\u001b[0m\n",
      "\u001b[34m[19:49:40] src/tree/updater_prune.cc:74: tree pruning end, 1 roots, 16 extra nodes, 8 pruned nodes, max_depth=5\u001b[0m\n",
      "\u001b[34m[46]#011train-error:0.142733#011validation-error:0.1713\u001b[0m\n",
      "\u001b[34m[19:49:41] src/tree/updater_prune.cc:74: tree pruning end, 1 roots, 34 extra nodes, 8 pruned nodes, max_depth=5\u001b[0m\n",
      "\u001b[34m[47]#011train-error:0.141067#011validation-error:0.1701\u001b[0m\n",
      "\u001b[34m[19:49:42] src/tree/updater_prune.cc:74: tree pruning end, 1 roots, 14 extra nodes, 10 pruned nodes, max_depth=5\u001b[0m\n",
      "\u001b[34m[48]#011train-error:0.141333#011validation-error:0.1688\u001b[0m\n",
      "\u001b[34m[19:49:43] src/tree/updater_prune.cc:74: tree pruning end, 1 roots, 16 extra nodes, 12 pruned nodes, max_depth=5\u001b[0m\n",
      "\u001b[34m[49]#011train-error:0.140267#011validation-error:0.1689\u001b[0m\n",
      "\u001b[34m[19:49:45] src/tree/updater_prune.cc:74: tree pruning end, 1 roots, 18 extra nodes, 4 pruned nodes, max_depth=5\u001b[0m\n",
      "\u001b[34m[50]#011train-error:0.1402#011validation-error:0.1684\u001b[0m\n",
      "\u001b[34m[19:49:46] src/tree/updater_prune.cc:74: tree pruning end, 1 roots, 14 extra nodes, 12 pruned nodes, max_depth=5\u001b[0m\n",
      "\u001b[34m[51]#011train-error:0.1392#011validation-error:0.1673\u001b[0m\n",
      "\u001b[34m[19:49:47] src/tree/updater_prune.cc:74: tree pruning end, 1 roots, 20 extra nodes, 14 pruned nodes, max_depth=5\u001b[0m\n",
      "\u001b[34m[52]#011train-error:0.138067#011validation-error:0.1672\u001b[0m\n",
      "\u001b[34m[19:49:48] src/tree/updater_prune.cc:74: tree pruning end, 1 roots, 20 extra nodes, 20 pruned nodes, max_depth=5\u001b[0m\n",
      "\u001b[34m[53]#011train-error:0.1374#011validation-error:0.1672\u001b[0m\n",
      "\u001b[34m[19:49:50] src/tree/updater_prune.cc:74: tree pruning end, 1 roots, 22 extra nodes, 6 pruned nodes, max_depth=5\u001b[0m\n",
      "\u001b[34m[54]#011train-error:0.137#011validation-error:0.1665\u001b[0m\n",
      "\u001b[34m[19:49:51] src/tree/updater_prune.cc:74: tree pruning end, 1 roots, 20 extra nodes, 14 pruned nodes, max_depth=5\u001b[0m\n",
      "\u001b[34m[55]#011train-error:0.1358#011validation-error:0.1647\u001b[0m\n",
      "\u001b[34m[19:49:52] src/tree/updater_prune.cc:74: tree pruning end, 1 roots, 32 extra nodes, 2 pruned nodes, max_depth=5\u001b[0m\n",
      "\u001b[34m[56]#011train-error:0.133933#011validation-error:0.1638\u001b[0m\n",
      "\u001b[34m[19:49:53] src/tree/updater_prune.cc:74: tree pruning end, 1 roots, 18 extra nodes, 10 pruned nodes, max_depth=5\u001b[0m\n",
      "\u001b[34m[57]#011train-error:0.1346#011validation-error:0.1639\u001b[0m\n",
      "\u001b[34m[19:49:55] src/tree/updater_prune.cc:74: tree pruning end, 1 roots, 24 extra nodes, 10 pruned nodes, max_depth=5\u001b[0m\n",
      "\u001b[34m[58]#011train-error:0.133733#011validation-error:0.1621\u001b[0m\n",
      "\u001b[34m[19:49:56] src/tree/updater_prune.cc:74: tree pruning end, 1 roots, 30 extra nodes, 10 pruned nodes, max_depth=5\u001b[0m\n",
      "\u001b[34m[59]#011train-error:0.1324#011validation-error:0.1627\u001b[0m\n",
      "\u001b[34m[19:49:57] src/tree/updater_prune.cc:74: tree pruning end, 1 roots, 20 extra nodes, 8 pruned nodes, max_depth=5\u001b[0m\n",
      "\u001b[34m[60]#011train-error:0.131533#011validation-error:0.162\u001b[0m\n",
      "\u001b[34m[19:49:58] src/tree/updater_prune.cc:74: tree pruning end, 1 roots, 18 extra nodes, 20 pruned nodes, max_depth=5\u001b[0m\n",
      "\u001b[34m[61]#011train-error:0.130533#011validation-error:0.1616\u001b[0m\n",
      "\u001b[34m[19:50:00] src/tree/updater_prune.cc:74: tree pruning end, 1 roots, 22 extra nodes, 6 pruned nodes, max_depth=5\u001b[0m\n",
      "\u001b[34m[62]#011train-error:0.128667#011validation-error:0.1615\u001b[0m\n",
      "\u001b[34m[19:50:01] src/tree/updater_prune.cc:74: tree pruning end, 1 roots, 14 extra nodes, 10 pruned nodes, max_depth=5\u001b[0m\n",
      "\u001b[34m[63]#011train-error:0.1282#011validation-error:0.1615\u001b[0m\n",
      "\u001b[34m[19:50:02] src/tree/updater_prune.cc:74: tree pruning end, 1 roots, 14 extra nodes, 16 pruned nodes, max_depth=5\u001b[0m\n",
      "\u001b[34m[64]#011train-error:0.128067#011validation-error:0.1602\u001b[0m\n",
      "\u001b[34m[19:50:03] src/tree/updater_prune.cc:74: tree pruning end, 1 roots, 20 extra nodes, 10 pruned nodes, max_depth=5\u001b[0m\n",
      "\u001b[34m[65]#011train-error:0.128#011validation-error:0.1591\u001b[0m\n",
      "\u001b[34m[19:50:05] src/tree/updater_prune.cc:74: tree pruning end, 1 roots, 12 extra nodes, 10 pruned nodes, max_depth=5\u001b[0m\n",
      "\u001b[34m[66]#011train-error:0.127#011validation-error:0.1591\u001b[0m\n",
      "\u001b[34m[19:50:06] src/tree/updater_prune.cc:74: tree pruning end, 1 roots, 20 extra nodes, 6 pruned nodes, max_depth=5\u001b[0m\n",
      "\u001b[34m[67]#011train-error:0.1262#011validation-error:0.1588\u001b[0m\n",
      "\u001b[34m[19:50:07] src/tree/updater_prune.cc:74: tree pruning end, 1 roots, 18 extra nodes, 12 pruned nodes, max_depth=5\u001b[0m\n",
      "\u001b[34m[68]#011train-error:0.125267#011validation-error:0.1586\u001b[0m\n",
      "\u001b[34m[19:50:09] src/tree/updater_prune.cc:74: tree pruning end, 1 roots, 14 extra nodes, 12 pruned nodes, max_depth=5\u001b[0m\n",
      "\u001b[34m[69]#011train-error:0.124667#011validation-error:0.1583\u001b[0m\n",
      "\u001b[34m[19:50:10] src/tree/updater_prune.cc:74: tree pruning end, 1 roots, 12 extra nodes, 12 pruned nodes, max_depth=5\u001b[0m\n",
      "\u001b[34m[70]#011train-error:0.1244#011validation-error:0.1581\u001b[0m\n",
      "\u001b[34m[19:50:11] src/tree/updater_prune.cc:74: tree pruning end, 1 roots, 20 extra nodes, 6 pruned nodes, max_depth=5\u001b[0m\n",
      "\u001b[34m[71]#011train-error:0.124067#011validation-error:0.1565\u001b[0m\n",
      "\u001b[34m[19:50:12] src/tree/updater_prune.cc:74: tree pruning end, 1 roots, 22 extra nodes, 2 pruned nodes, max_depth=5\u001b[0m\n",
      "\u001b[34m[72]#011train-error:0.1234#011validation-error:0.1571\u001b[0m\n",
      "\u001b[34m[19:50:14] src/tree/updater_prune.cc:74: tree pruning end, 1 roots, 14 extra nodes, 12 pruned nodes, max_depth=5\u001b[0m\n",
      "\u001b[34m[73]#011train-error:0.122933#011validation-error:0.1562\u001b[0m\n",
      "\u001b[34m[19:50:15] src/tree/updater_prune.cc:74: tree pruning end, 1 roots, 22 extra nodes, 18 pruned nodes, max_depth=5\u001b[0m\n",
      "\u001b[34m[74]#011train-error:0.121667#011validation-error:0.1556\u001b[0m\n",
      "\u001b[34m[19:50:16] src/tree/updater_prune.cc:74: tree pruning end, 1 roots, 28 extra nodes, 4 pruned nodes, max_depth=5\u001b[0m\n",
      "\u001b[34m[75]#011train-error:0.120867#011validation-error:0.1556\u001b[0m\n",
      "\u001b[34m[19:50:17] src/tree/updater_prune.cc:74: tree pruning end, 1 roots, 34 extra nodes, 6 pruned nodes, max_depth=5\u001b[0m\n",
      "\u001b[34m[76]#011train-error:0.119467#011validation-error:0.1546\u001b[0m\n",
      "\u001b[34m[19:50:19] src/tree/updater_prune.cc:74: tree pruning end, 1 roots, 16 extra nodes, 8 pruned nodes, max_depth=5\u001b[0m\n",
      "\u001b[34m[77]#011train-error:0.119133#011validation-error:0.155\u001b[0m\n",
      "\u001b[34m[19:50:20] src/tree/updater_prune.cc:74: tree pruning end, 1 roots, 12 extra nodes, 0 pruned nodes, max_depth=5\u001b[0m\n",
      "\u001b[34m[78]#011train-error:0.118933#011validation-error:0.1548\u001b[0m\n",
      "\u001b[34m[19:50:21] src/tree/updater_prune.cc:74: tree pruning end, 1 roots, 12 extra nodes, 8 pruned nodes, max_depth=5\u001b[0m\n",
      "\u001b[34m[79]#011train-error:0.1192#011validation-error:0.1545\u001b[0m\n",
      "\u001b[34m[19:50:22] src/tree/updater_prune.cc:74: tree pruning end, 1 roots, 16 extra nodes, 6 pruned nodes, max_depth=5\u001b[0m\n",
      "\u001b[34m[80]#011train-error:0.1182#011validation-error:0.1553\u001b[0m\n",
      "\u001b[34m[19:50:24] src/tree/updater_prune.cc:74: tree pruning end, 1 roots, 20 extra nodes, 2 pruned nodes, max_depth=5\u001b[0m\n",
      "\u001b[34m[81]#011train-error:0.117467#011validation-error:0.1543\u001b[0m\n",
      "\u001b[34m[19:50:25] src/tree/updater_prune.cc:74: tree pruning end, 1 roots, 14 extra nodes, 2 pruned nodes, max_depth=5\u001b[0m\n",
      "\u001b[34m[82]#011train-error:0.117067#011validation-error:0.1538\u001b[0m\n",
      "\u001b[34m[19:50:26] src/tree/updater_prune.cc:74: tree pruning end, 1 roots, 18 extra nodes, 18 pruned nodes, max_depth=5\u001b[0m\n",
      "\u001b[34m[83]#011train-error:0.116667#011validation-error:0.1537\u001b[0m\n",
      "\u001b[34m[19:50:27] src/tree/updater_prune.cc:74: tree pruning end, 1 roots, 16 extra nodes, 10 pruned nodes, max_depth=5\u001b[0m\n",
      "\u001b[34m[84]#011train-error:0.1154#011validation-error:0.153\u001b[0m\n",
      "\u001b[34m[19:50:29] src/tree/updater_prune.cc:74: tree pruning end, 1 roots, 18 extra nodes, 10 pruned nodes, max_depth=5\u001b[0m\n",
      "\u001b[34m[85]#011train-error:0.114667#011validation-error:0.1535\u001b[0m\n",
      "\u001b[34m[19:50:30] src/tree/updater_prune.cc:74: tree pruning end, 1 roots, 24 extra nodes, 12 pruned nodes, max_depth=5\u001b[0m\n",
      "\u001b[34m[86]#011train-error:0.114933#011validation-error:0.153\u001b[0m\n",
      "\u001b[34m[19:50:31] src/tree/updater_prune.cc:74: tree pruning end, 1 roots, 30 extra nodes, 8 pruned nodes, max_depth=5\u001b[0m\n",
      "\u001b[34m[87]#011train-error:0.1144#011validation-error:0.1524\u001b[0m\n",
      "\u001b[34m[19:50:32] src/tree/updater_prune.cc:74: tree pruning end, 1 roots, 12 extra nodes, 18 pruned nodes, max_depth=5\u001b[0m\n",
      "\u001b[34m[88]#011train-error:0.113867#011validation-error:0.1519\u001b[0m\n",
      "\u001b[34m[19:50:34] src/tree/updater_prune.cc:74: tree pruning end, 1 roots, 18 extra nodes, 8 pruned nodes, max_depth=5\u001b[0m\n",
      "\u001b[34m[89]#011train-error:0.113533#011validation-error:0.1518\u001b[0m\n"
     ]
    },
    {
     "name": "stdout",
     "output_type": "stream",
     "text": [
      "\u001b[34m[19:50:35] src/tree/updater_prune.cc:74: tree pruning end, 1 roots, 16 extra nodes, 8 pruned nodes, max_depth=5\u001b[0m\n",
      "\u001b[34m[90]#011train-error:0.1132#011validation-error:0.151\u001b[0m\n",
      "\u001b[34m[19:50:36] src/tree/updater_prune.cc:74: tree pruning end, 1 roots, 14 extra nodes, 10 pruned nodes, max_depth=5\u001b[0m\n",
      "\u001b[34m[91]#011train-error:0.112533#011validation-error:0.151\u001b[0m\n",
      "\u001b[34m[19:50:37] src/tree/updater_prune.cc:74: tree pruning end, 1 roots, 10 extra nodes, 6 pruned nodes, max_depth=5\u001b[0m\n",
      "\u001b[34m[92]#011train-error:0.112533#011validation-error:0.1501\u001b[0m\n",
      "\u001b[34m[19:50:39] src/tree/updater_prune.cc:74: tree pruning end, 1 roots, 20 extra nodes, 18 pruned nodes, max_depth=5\u001b[0m\n",
      "\u001b[34m[93]#011train-error:0.111467#011validation-error:0.1498\u001b[0m\n",
      "\u001b[34m[19:50:40] src/tree/updater_prune.cc:74: tree pruning end, 1 roots, 20 extra nodes, 16 pruned nodes, max_depth=5\u001b[0m\n",
      "\u001b[34m[94]#011train-error:0.1106#011validation-error:0.1496\u001b[0m\n",
      "\u001b[34m[19:50:41] src/tree/updater_prune.cc:74: tree pruning end, 1 roots, 24 extra nodes, 14 pruned nodes, max_depth=5\u001b[0m\n",
      "\u001b[34m[95]#011train-error:0.110667#011validation-error:0.1491\u001b[0m\n",
      "\u001b[34m[19:50:42] src/tree/updater_prune.cc:74: tree pruning end, 1 roots, 10 extra nodes, 14 pruned nodes, max_depth=5\u001b[0m\n",
      "\u001b[34m[96]#011train-error:0.109533#011validation-error:0.1491\u001b[0m\n",
      "\u001b[34m[19:50:44] src/tree/updater_prune.cc:74: tree pruning end, 1 roots, 10 extra nodes, 14 pruned nodes, max_depth=5\u001b[0m\n",
      "\u001b[34m[97]#011train-error:0.1094#011validation-error:0.1491\u001b[0m\n",
      "\u001b[34m[19:50:45] src/tree/updater_prune.cc:74: tree pruning end, 1 roots, 18 extra nodes, 8 pruned nodes, max_depth=5\u001b[0m\n",
      "\u001b[34m[98]#011train-error:0.109533#011validation-error:0.1493\u001b[0m\n",
      "\u001b[34m[19:50:46] src/tree/updater_prune.cc:74: tree pruning end, 1 roots, 22 extra nodes, 14 pruned nodes, max_depth=5\u001b[0m\n",
      "\u001b[34m[99]#011train-error:0.108#011validation-error:0.1505\u001b[0m\n",
      "\u001b[34m[19:50:47] src/tree/updater_prune.cc:74: tree pruning end, 1 roots, 12 extra nodes, 4 pruned nodes, max_depth=5\u001b[0m\n",
      "\u001b[34m[100]#011train-error:0.1084#011validation-error:0.1489\u001b[0m\n",
      "\u001b[34m[19:50:49] src/tree/updater_prune.cc:74: tree pruning end, 1 roots, 16 extra nodes, 8 pruned nodes, max_depth=5\u001b[0m\n",
      "\u001b[34m[101]#011train-error:0.107667#011validation-error:0.1488\u001b[0m\n",
      "\u001b[34m[19:50:50] src/tree/updater_prune.cc:74: tree pruning end, 1 roots, 14 extra nodes, 16 pruned nodes, max_depth=5\u001b[0m\n",
      "\u001b[34m[102]#011train-error:0.1076#011validation-error:0.1476\u001b[0m\n",
      "\u001b[34m[19:50:51] src/tree/updater_prune.cc:74: tree pruning end, 1 roots, 16 extra nodes, 4 pruned nodes, max_depth=5\u001b[0m\n",
      "\u001b[34m[103]#011train-error:0.1074#011validation-error:0.1478\u001b[0m\n",
      "\u001b[34m[19:50:52] src/tree/updater_prune.cc:74: tree pruning end, 1 roots, 12 extra nodes, 6 pruned nodes, max_depth=5\u001b[0m\n",
      "\u001b[34m[104]#011train-error:0.107133#011validation-error:0.1474\u001b[0m\n",
      "\u001b[34m[19:50:54] src/tree/updater_prune.cc:74: tree pruning end, 1 roots, 14 extra nodes, 6 pruned nodes, max_depth=5\u001b[0m\n",
      "\u001b[34m[105]#011train-error:0.106933#011validation-error:0.1474\u001b[0m\n",
      "\u001b[34m[19:50:55] src/tree/updater_prune.cc:74: tree pruning end, 1 roots, 16 extra nodes, 4 pruned nodes, max_depth=5\u001b[0m\n",
      "\u001b[34m[106]#011train-error:0.106533#011validation-error:0.1472\u001b[0m\n",
      "\u001b[34m[19:50:56] src/tree/updater_prune.cc:74: tree pruning end, 1 roots, 12 extra nodes, 2 pruned nodes, max_depth=5\u001b[0m\n",
      "\u001b[34m[107]#011train-error:0.1062#011validation-error:0.1476\u001b[0m\n",
      "\u001b[34m[19:50:57] src/tree/updater_prune.cc:74: tree pruning end, 1 roots, 14 extra nodes, 16 pruned nodes, max_depth=5\u001b[0m\n",
      "\u001b[34m[108]#011train-error:0.105467#011validation-error:0.147\u001b[0m\n",
      "\u001b[34m[19:50:59] src/tree/updater_prune.cc:74: tree pruning end, 1 roots, 22 extra nodes, 12 pruned nodes, max_depth=5\u001b[0m\n",
      "\u001b[34m[109]#011train-error:0.105267#011validation-error:0.1466\u001b[0m\n",
      "\u001b[34m[19:51:00] src/tree/updater_prune.cc:74: tree pruning end, 1 roots, 14 extra nodes, 10 pruned nodes, max_depth=5\u001b[0m\n",
      "\u001b[34m[110]#011train-error:0.104667#011validation-error:0.1469\u001b[0m\n",
      "\u001b[34m[19:51:01] src/tree/updater_prune.cc:74: tree pruning end, 1 roots, 18 extra nodes, 12 pruned nodes, max_depth=5\u001b[0m\n",
      "\u001b[34m[111]#011train-error:0.103667#011validation-error:0.147\u001b[0m\n",
      "\u001b[34m[19:51:02] src/tree/updater_prune.cc:74: tree pruning end, 1 roots, 24 extra nodes, 2 pruned nodes, max_depth=5\u001b[0m\n",
      "\u001b[34m[112]#011train-error:0.1028#011validation-error:0.1459\u001b[0m\n",
      "\u001b[34m[19:51:04] src/tree/updater_prune.cc:74: tree pruning end, 1 roots, 18 extra nodes, 8 pruned nodes, max_depth=5\u001b[0m\n",
      "\u001b[34m[113]#011train-error:0.102733#011validation-error:0.1457\u001b[0m\n",
      "\u001b[34m[19:51:05] src/tree/updater_prune.cc:74: tree pruning end, 1 roots, 22 extra nodes, 4 pruned nodes, max_depth=5\u001b[0m\n",
      "\u001b[34m[114]#011train-error:0.102533#011validation-error:0.145\u001b[0m\n",
      "\u001b[34m[19:51:06] src/tree/updater_prune.cc:74: tree pruning end, 1 roots, 12 extra nodes, 6 pruned nodes, max_depth=5\u001b[0m\n",
      "\u001b[34m[115]#011train-error:0.103267#011validation-error:0.1443\u001b[0m\n",
      "\u001b[34m[19:51:07] src/tree/updater_prune.cc:74: tree pruning end, 1 roots, 12 extra nodes, 4 pruned nodes, max_depth=5\u001b[0m\n",
      "\u001b[34m[116]#011train-error:0.102067#011validation-error:0.1441\u001b[0m\n",
      "\u001b[34m[19:51:09] src/tree/updater_prune.cc:74: tree pruning end, 1 roots, 14 extra nodes, 6 pruned nodes, max_depth=5\u001b[0m\n",
      "\u001b[34m[117]#011train-error:0.102#011validation-error:0.1444\u001b[0m\n",
      "\u001b[34m[19:51:10] src/tree/updater_prune.cc:74: tree pruning end, 1 roots, 26 extra nodes, 8 pruned nodes, max_depth=5\u001b[0m\n",
      "\u001b[34m[118]#011train-error:0.1006#011validation-error:0.1454\u001b[0m\n",
      "\u001b[34m[19:51:11] src/tree/updater_prune.cc:74: tree pruning end, 1 roots, 20 extra nodes, 8 pruned nodes, max_depth=5\u001b[0m\n",
      "\u001b[34m[119]#011train-error:0.100133#011validation-error:0.1455\u001b[0m\n",
      "\u001b[34m[19:51:12] src/tree/updater_prune.cc:74: tree pruning end, 1 roots, 16 extra nodes, 4 pruned nodes, max_depth=5\u001b[0m\n",
      "\u001b[34m[120]#011train-error:0.099333#011validation-error:0.1461\u001b[0m\n",
      "\u001b[34m[19:51:14] src/tree/updater_prune.cc:74: tree pruning end, 1 roots, 22 extra nodes, 10 pruned nodes, max_depth=5\u001b[0m\n",
      "\u001b[34m[121]#011train-error:0.098667#011validation-error:0.1449\u001b[0m\n",
      "\u001b[34m[19:51:15] src/tree/updater_prune.cc:74: tree pruning end, 1 roots, 10 extra nodes, 4 pruned nodes, max_depth=5\u001b[0m\n",
      "\u001b[34m[122]#011train-error:0.098133#011validation-error:0.145\u001b[0m\n",
      "\u001b[34m[19:51:16] src/tree/updater_prune.cc:74: tree pruning end, 1 roots, 20 extra nodes, 10 pruned nodes, max_depth=5\u001b[0m\n",
      "\u001b[34m[123]#011train-error:0.097933#011validation-error:0.145\u001b[0m\n",
      "\u001b[34m[19:51:17] src/tree/updater_prune.cc:74: tree pruning end, 1 roots, 10 extra nodes, 8 pruned nodes, max_depth=5\u001b[0m\n",
      "\u001b[34m[124]#011train-error:0.097733#011validation-error:0.1447\u001b[0m\n",
      "\u001b[34m[19:51:19] src/tree/updater_prune.cc:74: tree pruning end, 1 roots, 16 extra nodes, 0 pruned nodes, max_depth=5\u001b[0m\n",
      "\u001b[34m[125]#011train-error:0.097333#011validation-error:0.1439\u001b[0m\n",
      "\u001b[34m[19:51:20] src/tree/updater_prune.cc:74: tree pruning end, 1 roots, 12 extra nodes, 2 pruned nodes, max_depth=5\u001b[0m\n",
      "\u001b[34m[126]#011train-error:0.0976#011validation-error:0.1435\u001b[0m\n",
      "\u001b[34m[19:51:21] src/tree/updater_prune.cc:74: tree pruning end, 1 roots, 10 extra nodes, 2 pruned nodes, max_depth=5\u001b[0m\n",
      "\u001b[34m[127]#011train-error:0.0968#011validation-error:0.1429\u001b[0m\n",
      "\u001b[34m[19:51:22] src/tree/updater_prune.cc:74: tree pruning end, 1 roots, 12 extra nodes, 10 pruned nodes, max_depth=5\u001b[0m\n",
      "\u001b[34m[128]#011train-error:0.096867#011validation-error:0.1429\u001b[0m\n",
      "\u001b[34m[19:51:24] src/tree/updater_prune.cc:74: tree pruning end, 1 roots, 12 extra nodes, 8 pruned nodes, max_depth=5\u001b[0m\n",
      "\u001b[34m[129]#011train-error:0.096533#011validation-error:0.1427\u001b[0m\n",
      "\u001b[34m[19:51:25] src/tree/updater_prune.cc:74: tree pruning end, 1 roots, 18 extra nodes, 10 pruned nodes, max_depth=5\u001b[0m\n",
      "\u001b[34m[130]#011train-error:0.095867#011validation-error:0.1422\u001b[0m\n",
      "\u001b[34m[19:51:26] src/tree/updater_prune.cc:74: tree pruning end, 1 roots, 10 extra nodes, 6 pruned nodes, max_depth=5\u001b[0m\n",
      "\u001b[34m[131]#011train-error:0.095733#011validation-error:0.1424\u001b[0m\n",
      "\u001b[34m[19:51:27] src/tree/updater_prune.cc:74: tree pruning end, 1 roots, 14 extra nodes, 10 pruned nodes, max_depth=5\u001b[0m\n",
      "\u001b[34m[132]#011train-error:0.0956#011validation-error:0.142\u001b[0m\n",
      "\u001b[34m[19:51:29] src/tree/updater_prune.cc:74: tree pruning end, 1 roots, 12 extra nodes, 16 pruned nodes, max_depth=5\u001b[0m\n",
      "\u001b[34m[133]#011train-error:0.095533#011validation-error:0.1416\u001b[0m\n",
      "\u001b[34m[19:51:30] src/tree/updater_prune.cc:74: tree pruning end, 1 roots, 14 extra nodes, 16 pruned nodes, max_depth=5\u001b[0m\n",
      "\u001b[34m[134]#011train-error:0.095133#011validation-error:0.1423\u001b[0m\n",
      "\u001b[34m[19:51:31] src/tree/updater_prune.cc:74: tree pruning end, 1 roots, 14 extra nodes, 8 pruned nodes, max_depth=5\u001b[0m\n",
      "\u001b[34m[135]#011train-error:0.095267#011validation-error:0.1421\u001b[0m\n",
      "\u001b[34m[19:51:32] src/tree/updater_prune.cc:74: tree pruning end, 1 roots, 12 extra nodes, 10 pruned nodes, max_depth=5\u001b[0m\n",
      "\u001b[34m[136]#011train-error:0.0952#011validation-error:0.1423\u001b[0m\n",
      "\u001b[34m[19:51:34] src/tree/updater_prune.cc:74: tree pruning end, 1 roots, 18 extra nodes, 12 pruned nodes, max_depth=5\u001b[0m\n",
      "\u001b[34m[137]#011train-error:0.0944#011validation-error:0.1414\u001b[0m\n"
     ]
    },
    {
     "name": "stdout",
     "output_type": "stream",
     "text": [
      "\u001b[34m[19:51:35] src/tree/updater_prune.cc:74: tree pruning end, 1 roots, 10 extra nodes, 6 pruned nodes, max_depth=5\u001b[0m\n",
      "\u001b[34m[138]#011train-error:0.0938#011validation-error:0.1415\u001b[0m\n",
      "\u001b[34m[19:51:36] src/tree/updater_prune.cc:74: tree pruning end, 1 roots, 12 extra nodes, 2 pruned nodes, max_depth=5\u001b[0m\n",
      "\u001b[34m[139]#011train-error:0.094267#011validation-error:0.1419\u001b[0m\n",
      "\u001b[34m[19:51:37] src/tree/updater_prune.cc:74: tree pruning end, 1 roots, 16 extra nodes, 14 pruned nodes, max_depth=5\u001b[0m\n",
      "\u001b[34m[140]#011train-error:0.0942#011validation-error:0.1416\u001b[0m\n",
      "\u001b[34m[19:51:39] src/tree/updater_prune.cc:74: tree pruning end, 1 roots, 20 extra nodes, 12 pruned nodes, max_depth=5\u001b[0m\n",
      "\u001b[34m[141]#011train-error:0.094333#011validation-error:0.1412\u001b[0m\n",
      "\u001b[34m[19:51:40] src/tree/updater_prune.cc:74: tree pruning end, 1 roots, 18 extra nodes, 14 pruned nodes, max_depth=5\u001b[0m\n",
      "\u001b[34m[142]#011train-error:0.094067#011validation-error:0.1416\u001b[0m\n",
      "\u001b[34m[19:51:41] src/tree/updater_prune.cc:74: tree pruning end, 1 roots, 12 extra nodes, 6 pruned nodes, max_depth=5\u001b[0m\n",
      "\u001b[34m[143]#011train-error:0.093933#011validation-error:0.1415\u001b[0m\n",
      "\u001b[34m[19:51:42] src/tree/updater_prune.cc:74: tree pruning end, 1 roots, 18 extra nodes, 16 pruned nodes, max_depth=5\u001b[0m\n",
      "\u001b[34m[144]#011train-error:0.093267#011validation-error:0.142\u001b[0m\n",
      "\u001b[34m[19:51:44] src/tree/updater_prune.cc:74: tree pruning end, 1 roots, 22 extra nodes, 12 pruned nodes, max_depth=5\u001b[0m\n",
      "\u001b[34m[145]#011train-error:0.092933#011validation-error:0.1419\u001b[0m\n",
      "\u001b[34m[19:51:45] src/tree/updater_prune.cc:74: tree pruning end, 1 roots, 10 extra nodes, 10 pruned nodes, max_depth=5\u001b[0m\n",
      "\u001b[34m[146]#011train-error:0.092933#011validation-error:0.1412\u001b[0m\n",
      "\u001b[34m[19:51:46] src/tree/updater_prune.cc:74: tree pruning end, 1 roots, 14 extra nodes, 10 pruned nodes, max_depth=5\u001b[0m\n",
      "\u001b[34m[147]#011train-error:0.092867#011validation-error:0.1414\u001b[0m\n",
      "\u001b[34m[19:51:47] src/tree/updater_prune.cc:74: tree pruning end, 1 roots, 14 extra nodes, 8 pruned nodes, max_depth=5\u001b[0m\n",
      "\u001b[34m[148]#011train-error:0.092133#011validation-error:0.141\u001b[0m\n",
      "\u001b[34m[19:51:49] src/tree/updater_prune.cc:74: tree pruning end, 1 roots, 14 extra nodes, 10 pruned nodes, max_depth=5\u001b[0m\n",
      "\u001b[34m[149]#011train-error:0.092#011validation-error:0.1401\u001b[0m\n",
      "\u001b[34m[19:51:50] src/tree/updater_prune.cc:74: tree pruning end, 1 roots, 10 extra nodes, 12 pruned nodes, max_depth=5\u001b[0m\n",
      "\u001b[34m[150]#011train-error:0.0918#011validation-error:0.1398\u001b[0m\n",
      "\u001b[34m[19:51:51] src/tree/updater_prune.cc:74: tree pruning end, 1 roots, 10 extra nodes, 10 pruned nodes, max_depth=5\u001b[0m\n",
      "\u001b[34m[151]#011train-error:0.091867#011validation-error:0.1399\u001b[0m\n",
      "\u001b[34m[19:51:52] src/tree/updater_prune.cc:74: tree pruning end, 1 roots, 16 extra nodes, 10 pruned nodes, max_depth=5\u001b[0m\n",
      "\u001b[34m[152]#011train-error:0.0916#011validation-error:0.1392\u001b[0m\n",
      "\u001b[34m[19:51:54] src/tree/updater_prune.cc:74: tree pruning end, 1 roots, 20 extra nodes, 8 pruned nodes, max_depth=5\u001b[0m\n",
      "\u001b[34m[153]#011train-error:0.0908#011validation-error:0.1397\u001b[0m\n",
      "\u001b[34m[19:51:55] src/tree/updater_prune.cc:74: tree pruning end, 1 roots, 10 extra nodes, 6 pruned nodes, max_depth=5\u001b[0m\n",
      "\u001b[34m[154]#011train-error:0.090733#011validation-error:0.1398\u001b[0m\n",
      "\u001b[34m[19:51:56] src/tree/updater_prune.cc:74: tree pruning end, 1 roots, 16 extra nodes, 2 pruned nodes, max_depth=5\u001b[0m\n",
      "\u001b[34m[155]#011train-error:0.0904#011validation-error:0.14\u001b[0m\n",
      "\u001b[34m[19:51:58] src/tree/updater_prune.cc:74: tree pruning end, 1 roots, 16 extra nodes, 6 pruned nodes, max_depth=5\u001b[0m\n",
      "\u001b[34m[156]#011train-error:0.0904#011validation-error:0.1397\u001b[0m\n",
      "\u001b[34m[19:51:59] src/tree/updater_prune.cc:74: tree pruning end, 1 roots, 26 extra nodes, 2 pruned nodes, max_depth=5\u001b[0m\n",
      "\u001b[34m[157]#011train-error:0.089867#011validation-error:0.1396\u001b[0m\n",
      "\u001b[34m[19:52:00] src/tree/updater_prune.cc:74: tree pruning end, 1 roots, 12 extra nodes, 2 pruned nodes, max_depth=5\u001b[0m\n",
      "\u001b[34m[158]#011train-error:0.089667#011validation-error:0.1393\u001b[0m\n",
      "\u001b[34m[19:52:01] src/tree/updater_prune.cc:74: tree pruning end, 1 roots, 16 extra nodes, 4 pruned nodes, max_depth=5\u001b[0m\n",
      "\u001b[34m[159]#011train-error:0.088733#011validation-error:0.1401\u001b[0m\n",
      "\u001b[34m[19:52:03] src/tree/updater_prune.cc:74: tree pruning end, 1 roots, 12 extra nodes, 8 pruned nodes, max_depth=5\u001b[0m\n",
      "\u001b[34m[160]#011train-error:0.088467#011validation-error:0.1398\u001b[0m\n",
      "\u001b[34m[19:52:04] src/tree/updater_prune.cc:74: tree pruning end, 1 roots, 12 extra nodes, 6 pruned nodes, max_depth=5\u001b[0m\n",
      "\u001b[34m[161]#011train-error:0.088133#011validation-error:0.1396\u001b[0m\n",
      "\u001b[34m[19:52:05] src/tree/updater_prune.cc:74: tree pruning end, 1 roots, 14 extra nodes, 8 pruned nodes, max_depth=5\u001b[0m\n",
      "\u001b[34m[162]#011train-error:0.088067#011validation-error:0.1394\u001b[0m\n",
      "\u001b[34mStopping. Best iteration:\u001b[0m\n",
      "\u001b[34m[152]#011train-error:0.0916#011validation-error:0.1392\n",
      "\u001b[0m\n",
      "\n",
      "2019-12-13 19:52:14 Uploading - Uploading generated training model\n",
      "2019-12-13 19:52:14 Completed - Training job completed\n",
      "Training seconds: 255\n",
      "Billable seconds: 255\n"
     ]
    }
   ],
   "source": [
    "xgb.fit({'train': s3_input_train, 'validation': s3_input_validation})"
   ]
  },
  {
   "cell_type": "markdown",
   "metadata": {},
   "source": [
    "## Step 5: Testing the model\n",
    "\n",
    "Now that we've fit our XGBoost model, it's time to see how well it performs. To do this we will use SageMakers Batch Transform functionality. Batch Transform is a convenient way to perform inference on a large dataset in a way that is not realtime. That is, we don't necessarily need to use our model's results immediately and instead we can perform inference on a large number of samples. An example of this in industry might be performing an end of month report. This method of inference can also be useful to us as it means that we can perform inference on our entire test set. \n",
    "\n",
    "To perform a Batch Transformation we need to first create a transformer objects from our trained estimator object."
   ]
  },
  {
   "cell_type": "code",
   "execution_count": 30,
   "metadata": {},
   "outputs": [],
   "source": [
    "xgb_transformer = xgb.transformer(instance_count = 1, instance_type = 'ml.m4.xlarge')"
   ]
  },
  {
   "cell_type": "markdown",
   "metadata": {},
   "source": [
    "Next we actually perform the transform job. When doing so we need to make sure to specify the type of data we are sending so that it is serialized correctly in the background. In our case we are providing our model with csv data so we specify `text/csv`. Also, if the test data that we have provided is too large to process all at once then we need to specify how the data file should be split up. Since each line is a single entry in our data set we tell SageMaker that it can split the input on each line."
   ]
  },
  {
   "cell_type": "code",
   "execution_count": 31,
   "metadata": {},
   "outputs": [],
   "source": [
    "xgb_transformer.transform(test_location, content_type='text/csv', split_type='Line')"
   ]
  },
  {
   "cell_type": "markdown",
   "metadata": {},
   "source": [
    "Currently the transform job is running but it is doing so in the background. Since we wish to wait until the transform job is done and we would like a bit of feedback we can run the `wait()` method."
   ]
  },
  {
   "cell_type": "code",
   "execution_count": 32,
   "metadata": {},
   "outputs": [
    {
     "name": "stdout",
     "output_type": "stream",
     "text": [
      "...................\u001b[34mArguments: serve\u001b[0m\n",
      "\u001b[34m[2019-12-13 19:55:43 +0000] [1] [INFO] Starting gunicorn 19.7.1\u001b[0m\n",
      "\u001b[34m[2019-12-13 19:55:43 +0000] [1] [INFO] Listening at: http://0.0.0.0:8080 (1)\u001b[0m\n",
      "\u001b[34m[2019-12-13 19:55:43 +0000] [1] [INFO] Using worker: gevent\u001b[0m\n",
      "\u001b[34m[2019-12-13 19:55:43 +0000] [38] [INFO] Booting worker with pid: 38\u001b[0m\n",
      "\u001b[34m[2019-12-13 19:55:43 +0000] [39] [INFO] Booting worker with pid: 39\u001b[0m\n",
      "\u001b[34m[2019-12-13 19:55:43 +0000] [40] [INFO] Booting worker with pid: 40\u001b[0m\n",
      "\u001b[34m[2019-12-13 19:55:43 +0000] [41] [INFO] Booting worker with pid: 41\u001b[0m\n",
      "\u001b[34m[2019-12-13:19:55:43:INFO] Model loaded successfully for worker : 38\u001b[0m\n",
      "\u001b[34m[2019-12-13:19:55:43:INFO] Model loaded successfully for worker : 39\u001b[0m\n",
      "\u001b[34m[2019-12-13:19:55:43:INFO] Model loaded successfully for worker : 40\u001b[0m\n",
      "\u001b[34m[2019-12-13:19:55:43:INFO] Model loaded successfully for worker : 41\u001b[0m\n",
      "\u001b[34m[2019-12-13:19:56:05:INFO] Sniff delimiter as ','\u001b[0m\n",
      "\u001b[34m[2019-12-13:19:56:05:INFO] Determined delimiter of CSV input is ','\u001b[0m\n",
      "\u001b[34m[2019-12-13:19:56:06:INFO] Sniff delimiter as ','\u001b[0m\n",
      "\u001b[34m[2019-12-13:19:56:06:INFO] Determined delimiter of CSV input is ','\u001b[0m\n",
      "\u001b[35m[2019-12-13:19:56:05:INFO] Sniff delimiter as ','\u001b[0m\n",
      "\u001b[35m[2019-12-13:19:56:05:INFO] Determined delimiter of CSV input is ','\u001b[0m\n",
      "\u001b[35m[2019-12-13:19:56:06:INFO] Sniff delimiter as ','\u001b[0m\n",
      "\u001b[35m[2019-12-13:19:56:06:INFO] Determined delimiter of CSV input is ','\u001b[0m\n",
      "\u001b[34m[2019-12-13:19:56:06:INFO] Sniff delimiter as ','\u001b[0m\n",
      "\u001b[34m[2019-12-13:19:56:06:INFO] Determined delimiter of CSV input is ','\u001b[0m\n",
      "\u001b[34m[2019-12-13:19:56:06:INFO] Sniff delimiter as ','\u001b[0m\n",
      "\u001b[34m[2019-12-13:19:56:06:INFO] Determined delimiter of CSV input is ','\u001b[0m\n",
      "\u001b[35m[2019-12-13:19:56:06:INFO] Sniff delimiter as ','\u001b[0m\n",
      "\u001b[35m[2019-12-13:19:56:06:INFO] Determined delimiter of CSV input is ','\u001b[0m\n",
      "\u001b[35m[2019-12-13:19:56:06:INFO] Sniff delimiter as ','\u001b[0m\n",
      "\u001b[35m[2019-12-13:19:56:06:INFO] Determined delimiter of CSV input is ','\u001b[0m\n",
      "\u001b[32m2019-12-13T19:56:03.443:[sagemaker logs]: MaxConcurrentTransforms=4, MaxPayloadInMB=6, BatchStrategy=MULTI_RECORD\u001b[0m\n",
      "\u001b[34m[2019-12-13:19:56:08:INFO] Sniff delimiter as ','\u001b[0m\n",
      "\u001b[34m[2019-12-13:19:56:08:INFO] Determined delimiter of CSV input is ','\u001b[0m\n",
      "\u001b[34m[2019-12-13:19:56:08:INFO] Sniff delimiter as ','\u001b[0m\n",
      "\u001b[34m[2019-12-13:19:56:08:INFO] Determined delimiter of CSV input is ','\u001b[0m\n",
      "\u001b[34m[2019-12-13:19:56:09:INFO] Sniff delimiter as ','\u001b[0m\n",
      "\u001b[34m[2019-12-13:19:56:09:INFO] Determined delimiter of CSV input is ','\u001b[0m\n",
      "\u001b[34m[2019-12-13:19:56:09:INFO] Sniff delimiter as ','\u001b[0m\n",
      "\u001b[34m[2019-12-13:19:56:09:INFO] Determined delimiter of CSV input is ','\u001b[0m\n",
      "\u001b[35m[2019-12-13:19:56:08:INFO] Sniff delimiter as ','\u001b[0m\n",
      "\u001b[35m[2019-12-13:19:56:08:INFO] Determined delimiter of CSV input is ','\u001b[0m\n",
      "\u001b[35m[2019-12-13:19:56:08:INFO] Sniff delimiter as ','\u001b[0m\n",
      "\u001b[35m[2019-12-13:19:56:08:INFO] Determined delimiter of CSV input is ','\u001b[0m\n",
      "\u001b[35m[2019-12-13:19:56:09:INFO] Sniff delimiter as ','\u001b[0m\n",
      "\u001b[35m[2019-12-13:19:56:09:INFO] Determined delimiter of CSV input is ','\u001b[0m\n",
      "\u001b[35m[2019-12-13:19:56:09:INFO] Sniff delimiter as ','\u001b[0m\n",
      "\u001b[35m[2019-12-13:19:56:09:INFO] Determined delimiter of CSV input is ','\u001b[0m\n",
      "\u001b[34m[2019-12-13:19:56:10:INFO] Sniff delimiter as ','\u001b[0m\n",
      "\u001b[34m[2019-12-13:19:56:10:INFO] Determined delimiter of CSV input is ','\u001b[0m\n",
      "\u001b[34m[2019-12-13:19:56:11:INFO] Sniff delimiter as ','\u001b[0m\n",
      "\u001b[34m[2019-12-13:19:56:11:INFO] Determined delimiter of CSV input is ','\u001b[0m\n",
      "\u001b[35m[2019-12-13:19:56:10:INFO] Sniff delimiter as ','\u001b[0m\n",
      "\u001b[35m[2019-12-13:19:56:10:INFO] Determined delimiter of CSV input is ','\u001b[0m\n",
      "\u001b[35m[2019-12-13:19:56:11:INFO] Sniff delimiter as ','\u001b[0m\n",
      "\u001b[35m[2019-12-13:19:56:11:INFO] Determined delimiter of CSV input is ','\u001b[0m\n",
      "\u001b[34m[2019-12-13:19:56:11:INFO] Sniff delimiter as ','\u001b[0m\n",
      "\u001b[35m[2019-12-13:19:56:11:INFO] Sniff delimiter as ','\u001b[0m\n",
      "\u001b[34m[2019-12-13:19:56:11:INFO] Determined delimiter of CSV input is ','\u001b[0m\n",
      "\u001b[34m[2019-12-13:19:56:11:INFO] Sniff delimiter as ','\u001b[0m\n",
      "\u001b[34m[2019-12-13:19:56:11:INFO] Determined delimiter of CSV input is ','\u001b[0m\n",
      "\u001b[35m[2019-12-13:19:56:11:INFO] Determined delimiter of CSV input is ','\u001b[0m\n",
      "\u001b[35m[2019-12-13:19:56:11:INFO] Sniff delimiter as ','\u001b[0m\n",
      "\u001b[35m[2019-12-13:19:56:11:INFO] Determined delimiter of CSV input is ','\u001b[0m\n",
      "\u001b[34m[2019-12-13:19:56:13:INFO] Sniff delimiter as ','\u001b[0m\n",
      "\u001b[34m[2019-12-13:19:56:13:INFO] Determined delimiter of CSV input is ','\u001b[0m\n",
      "\u001b[35m[2019-12-13:19:56:13:INFO] Sniff delimiter as ','\u001b[0m\n",
      "\u001b[35m[2019-12-13:19:56:13:INFO] Determined delimiter of CSV input is ','\u001b[0m\n",
      "\u001b[34m[2019-12-13:19:56:13:INFO] Sniff delimiter as ','\u001b[0m\n",
      "\u001b[35m[2019-12-13:19:56:13:INFO] Sniff delimiter as ','\u001b[0m\n",
      "\u001b[34m[2019-12-13:19:56:13:INFO] Determined delimiter of CSV input is ','\u001b[0m\n",
      "\u001b[34m[2019-12-13:19:56:13:INFO] Sniff delimiter as ','\u001b[0m\n",
      "\u001b[34m[2019-12-13:19:56:13:INFO] Determined delimiter of CSV input is ','\u001b[0m\n",
      "\u001b[34m[2019-12-13:19:56:14:INFO] Sniff delimiter as ','\u001b[0m\n",
      "\u001b[34m[2019-12-13:19:56:14:INFO] Determined delimiter of CSV input is ','\u001b[0m\n",
      "\u001b[35m[2019-12-13:19:56:13:INFO] Determined delimiter of CSV input is ','\u001b[0m\n",
      "\u001b[35m[2019-12-13:19:56:13:INFO] Sniff delimiter as ','\u001b[0m\n",
      "\u001b[35m[2019-12-13:19:56:13:INFO] Determined delimiter of CSV input is ','\u001b[0m\n",
      "\u001b[35m[2019-12-13:19:56:14:INFO] Sniff delimiter as ','\u001b[0m\n",
      "\u001b[35m[2019-12-13:19:56:14:INFO] Determined delimiter of CSV input is ','\u001b[0m\n",
      "\u001b[34m[2019-12-13:19:56:16:INFO] Determined delimiter of CSV input is ','\u001b[0m\n",
      "\u001b[35m[2019-12-13:19:56:16:INFO] Determined delimiter of CSV input is ','\u001b[0m\n",
      "\u001b[34m[2019-12-13:19:56:16:INFO] Sniff delimiter as ','\u001b[0m\n",
      "\u001b[34m[2019-12-13:19:56:16:INFO] Determined delimiter of CSV input is ','\u001b[0m\n",
      "\u001b[35m[2019-12-13:19:56:16:INFO] Sniff delimiter as ','\u001b[0m\n",
      "\u001b[35m[2019-12-13:19:56:16:INFO] Determined delimiter of CSV input is ','\u001b[0m\n",
      "\u001b[34m[2019-12-13:19:56:18:INFO] Sniff delimiter as ','\u001b[0m\n",
      "\u001b[34m[2019-12-13:19:56:18:INFO] Determined delimiter of CSV input is ','\u001b[0m\n",
      "\u001b[34m[2019-12-13:19:56:18:INFO] Sniff delimiter as ','\u001b[0m\n",
      "\u001b[34m[2019-12-13:19:56:18:INFO] Determined delimiter of CSV input is ','\u001b[0m\n",
      "\u001b[35m[2019-12-13:19:56:18:INFO] Sniff delimiter as ','\u001b[0m\n",
      "\u001b[35m[2019-12-13:19:56:18:INFO] Determined delimiter of CSV input is ','\u001b[0m\n",
      "\u001b[35m[2019-12-13:19:56:18:INFO] Sniff delimiter as ','\u001b[0m\n",
      "\u001b[35m[2019-12-13:19:56:18:INFO] Determined delimiter of CSV input is ','\u001b[0m\n",
      "\u001b[34m[2019-12-13:19:56:18:INFO] Sniff delimiter as ','\u001b[0m\n",
      "\u001b[34m[2019-12-13:19:56:18:INFO] Determined delimiter of CSV input is ','\u001b[0m\n",
      "\u001b[34m[2019-12-13:19:56:18:INFO] Sniff delimiter as ','\u001b[0m\n",
      "\u001b[34m[2019-12-13:19:56:18:INFO] Determined delimiter of CSV input is ','\u001b[0m\n",
      "\u001b[35m[2019-12-13:19:56:18:INFO] Sniff delimiter as ','\u001b[0m\n",
      "\u001b[35m[2019-12-13:19:56:18:INFO] Determined delimiter of CSV input is ','\u001b[0m\n",
      "\u001b[35m[2019-12-13:19:56:18:INFO] Sniff delimiter as ','\u001b[0m\n",
      "\u001b[35m[2019-12-13:19:56:18:INFO] Determined delimiter of CSV input is ','\u001b[0m\n",
      "\u001b[34m[2019-12-13:19:56:20:INFO] Sniff delimiter as ','\u001b[0m\n",
      "\u001b[34m[2019-12-13:19:56:20:INFO] Determined delimiter of CSV input is ','\u001b[0m\n",
      "\u001b[34m[2019-12-13:19:56:20:INFO] Sniff delimiter as ','\u001b[0m\n",
      "\u001b[34m[2019-12-13:19:56:20:INFO] Determined delimiter of CSV input is ','\u001b[0m\n",
      "\u001b[34m[2019-12-13:19:56:20:INFO] Sniff delimiter as ','\u001b[0m\n",
      "\u001b[34m[2019-12-13:19:56:20:INFO] Determined delimiter of CSV input is ','\u001b[0m\n",
      "\u001b[35m[2019-12-13:19:56:20:INFO] Sniff delimiter as ','\u001b[0m\n",
      "\u001b[35m[2019-12-13:19:56:20:INFO] Determined delimiter of CSV input is ','\u001b[0m\n",
      "\u001b[35m[2019-12-13:19:56:20:INFO] Sniff delimiter as ','\u001b[0m\n",
      "\u001b[35m[2019-12-13:19:56:20:INFO] Determined delimiter of CSV input is ','\u001b[0m\n",
      "\u001b[35m[2019-12-13:19:56:20:INFO] Sniff delimiter as ','\u001b[0m\n",
      "\u001b[35m[2019-12-13:19:56:20:INFO] Determined delimiter of CSV input is ','\u001b[0m\n",
      "\u001b[34m[2019-12-13:19:56:21:INFO] Sniff delimiter as ','\u001b[0m\n",
      "\u001b[34m[2019-12-13:19:56:21:INFO] Determined delimiter of CSV input is ','\u001b[0m\n",
      "\u001b[35m[2019-12-13:19:56:21:INFO] Sniff delimiter as ','\u001b[0m\n",
      "\u001b[35m[2019-12-13:19:56:21:INFO] Determined delimiter of CSV input is ','\u001b[0m\n",
      "\u001b[34m[2019-12-13:19:56:22:INFO] Sniff delimiter as ','\u001b[0m\n",
      "\u001b[34m[2019-12-13:19:56:22:INFO] Determined delimiter of CSV input is ','\u001b[0m\n",
      "\u001b[34m[2019-12-13:19:56:22:INFO] Sniff delimiter as ','\u001b[0m\n",
      "\u001b[34m[2019-12-13:19:56:22:INFO] Determined delimiter of CSV input is ','\u001b[0m\n",
      "\u001b[34m[2019-12-13:19:56:23:INFO] Sniff delimiter as ','\u001b[0m\n",
      "\u001b[35m[2019-12-13:19:56:22:INFO] Sniff delimiter as ','\u001b[0m\n",
      "\u001b[35m[2019-12-13:19:56:22:INFO] Determined delimiter of CSV input is ','\u001b[0m\n",
      "\u001b[35m[2019-12-13:19:56:22:INFO] Sniff delimiter as ','\u001b[0m\n",
      "\u001b[35m[2019-12-13:19:56:22:INFO] Determined delimiter of CSV input is ','\u001b[0m\n",
      "\u001b[35m[2019-12-13:19:56:23:INFO] Sniff delimiter as ','\u001b[0m\n",
      "\u001b[34m[2019-12-13:19:56:23:INFO] Determined delimiter of CSV input is ','\u001b[0m\n",
      "\u001b[35m[2019-12-13:19:56:23:INFO] Determined delimiter of CSV input is ','\u001b[0m\n",
      "\u001b[34m[2019-12-13:19:56:23:INFO] Sniff delimiter as ','\u001b[0m\n",
      "\u001b[34m[2019-12-13:19:56:23:INFO] Determined delimiter of CSV input is ','\u001b[0m\n",
      "\u001b[35m[2019-12-13:19:56:23:INFO] Sniff delimiter as ','\u001b[0m\n",
      "\u001b[35m[2019-12-13:19:56:23:INFO] Determined delimiter of CSV input is ','\u001b[0m\n",
      "\u001b[34m[2019-12-13:19:56:25:INFO] Sniff delimiter as ','\u001b[0m\n",
      "\u001b[35m[2019-12-13:19:56:25:INFO] Sniff delimiter as ','\u001b[0m\n",
      "\u001b[34m[2019-12-13:19:56:25:INFO] Determined delimiter of CSV input is ','\u001b[0m\n",
      "\u001b[34m[2019-12-13:19:56:25:INFO] Sniff delimiter as ','\u001b[0m\n",
      "\u001b[34m[2019-12-13:19:56:25:INFO] Determined delimiter of CSV input is ','\u001b[0m\n",
      "\u001b[35m[2019-12-13:19:56:25:INFO] Determined delimiter of CSV input is ','\u001b[0m\n",
      "\u001b[35m[2019-12-13:19:56:25:INFO] Sniff delimiter as ','\u001b[0m\n",
      "\u001b[35m[2019-12-13:19:56:25:INFO] Determined delimiter of CSV input is ','\u001b[0m\n"
     ]
    },
    {
     "name": "stdout",
     "output_type": "stream",
     "text": [
      "\n",
      "\u001b[34m[2019-12-13:19:56:26:INFO] Determined delimiter of CSV input is ','\u001b[0m\n",
      "\u001b[35m[2019-12-13:19:56:26:INFO] Determined delimiter of CSV input is ','\u001b[0m\n",
      "\u001b[34m[2019-12-13:19:56:27:INFO] Sniff delimiter as ','\u001b[0m\n",
      "\u001b[34m[2019-12-13:19:56:27:INFO] Determined delimiter of CSV input is ','\u001b[0m\n",
      "\u001b[34m[2019-12-13:19:56:27:INFO] Sniff delimiter as ','\u001b[0m\n",
      "\u001b[34m[2019-12-13:19:56:27:INFO] Determined delimiter of CSV input is ','\u001b[0m\n",
      "\u001b[34m[2019-12-13:19:56:28:INFO] Sniff delimiter as ','\u001b[0m\n",
      "\u001b[34m[2019-12-13:19:56:28:INFO] Determined delimiter of CSV input is ','\u001b[0m\n",
      "\u001b[35m[2019-12-13:19:56:27:INFO] Sniff delimiter as ','\u001b[0m\n",
      "\u001b[35m[2019-12-13:19:56:27:INFO] Determined delimiter of CSV input is ','\u001b[0m\n",
      "\u001b[35m[2019-12-13:19:56:27:INFO] Sniff delimiter as ','\u001b[0m\n",
      "\u001b[35m[2019-12-13:19:56:27:INFO] Determined delimiter of CSV input is ','\u001b[0m\n",
      "\u001b[35m[2019-12-13:19:56:28:INFO] Sniff delimiter as ','\u001b[0m\n",
      "\u001b[35m[2019-12-13:19:56:28:INFO] Determined delimiter of CSV input is ','\u001b[0m\n",
      "\u001b[34m[2019-12-13:19:56:28:INFO] Sniff delimiter as ','\u001b[0m\n",
      "\u001b[34m[2019-12-13:19:56:28:INFO] Determined delimiter of CSV input is ','\u001b[0m\n",
      "\u001b[35m[2019-12-13:19:56:28:INFO] Sniff delimiter as ','\u001b[0m\n",
      "\u001b[35m[2019-12-13:19:56:28:INFO] Determined delimiter of CSV input is ','\u001b[0m\n"
     ]
    }
   ],
   "source": [
    "xgb_transformer.wait()"
   ]
  },
  {
   "cell_type": "markdown",
   "metadata": {},
   "source": [
    "Now the transform job has executed and the result, the estimated sentiment of each review, has been saved on S3. Since we would rather work on this file locally we can perform a bit of notebook magic to copy the file to the `data_dir`."
   ]
  },
  {
   "cell_type": "code",
   "execution_count": 33,
   "metadata": {},
   "outputs": [
    {
     "name": "stdout",
     "output_type": "stream",
     "text": [
      "Completed 256.0 KiB/370.0 KiB (2.9 MiB/s) with 1 file(s) remaining\r",
      "Completed 370.0 KiB/370.0 KiB (4.1 MiB/s) with 1 file(s) remaining\r",
      "download: s3://sagemaker-us-east-2-020479436148/xgboost-2019-12-13-19-52-38-231/test.csv.out to ../data/sentiment_web_app/test.csv.out\r\n"
     ]
    }
   ],
   "source": [
    "!aws s3 cp --recursive $xgb_transformer.output_path $data_dir"
   ]
  },
  {
   "cell_type": "markdown",
   "metadata": {},
   "source": [
    "The last step is now to read in the output from our model, convert the output to something a little more usable, in this case we want the sentiment to be either `1` (positive) or `0` (negative), and then compare to the ground truth labels."
   ]
  },
  {
   "cell_type": "code",
   "execution_count": 34,
   "metadata": {},
   "outputs": [],
   "source": [
    "predictions = pd.read_csv(os.path.join(data_dir, 'test.csv.out'), header=None)\n",
    "predictions = [round(num) for num in predictions.squeeze().values]"
   ]
  },
  {
   "cell_type": "code",
   "execution_count": 35,
   "metadata": {},
   "outputs": [
    {
     "data": {
      "text/plain": [
       "0.8624"
      ]
     },
     "execution_count": 35,
     "metadata": {},
     "output_type": "execute_result"
    }
   ],
   "source": [
    "from sklearn.metrics import accuracy_score\n",
    "accuracy_score(test_y, predictions)"
   ]
  },
  {
   "cell_type": "markdown",
   "metadata": {},
   "source": [
    "## Step 6: Deploying the model\n",
    "\n",
    "Once we construct and fit our model, SageMaker stores the resulting model artifacts and we can use those to deploy an endpoint (inference code). To see this, look in the SageMaker console and you should see that a model has been created along with a link to the S3 location where the model artifacts have been stored.\n",
    "\n",
    "Deploying an endpoint is a lot like training the model with a few important differences. The first is that a deployed model doesn't change the model artifacts, so as you send it various testing instances the model won't change. Another difference is that since we aren't performing a fixed computation, as we were in the training step or while performing a batch transform, the compute instance that gets started stays running until we tell it to stop. This is important to note as if we forget and leave it running we will be charged the entire time.\n",
    "\n",
    "In other words **If you are no longer using a deployed endpoint, shut it down!**"
   ]
  },
  {
   "cell_type": "code",
   "execution_count": 36,
   "metadata": {},
   "outputs": [
    {
     "name": "stderr",
     "output_type": "stream",
     "text": [
      "WARNING:sagemaker:Using already existing model: xgboost-2019-12-13-19-45-54-124\n"
     ]
    },
    {
     "name": "stdout",
     "output_type": "stream",
     "text": [
      "--------------------------------------------------------------------------------------!"
     ]
    }
   ],
   "source": [
    "xgb_predictor = xgb.deploy(initial_instance_count = 1, instance_type = 'ml.m4.xlarge')"
   ]
  },
  {
   "cell_type": "markdown",
   "metadata": {},
   "source": [
    "### Testing the model (again)\n",
    "\n",
    "Now that we have deployed our endpoint, we can send the testing data to it and get back the inference results. We already did this earlier using the batch transform functionality of SageMaker, however, we will test our model again using the newly deployed endpoint so that we can make sure that it works properly and to get a bit of a feel for how the endpoint works.\n",
    "\n",
    "When using the created endpoint it is important to know that we are limited in the amount of information we can send in each call so we need to break the testing data up into chunks and then send each chunk. Also, we need to serialize our data before we send it to the endpoint to ensure that our data is transmitted properly. Fortunately, SageMaker can do the serialization part for us provided we tell it the format of our data."
   ]
  },
  {
   "cell_type": "code",
   "execution_count": 37,
   "metadata": {},
   "outputs": [],
   "source": [
    "from sagemaker.predictor import csv_serializer\n",
    "\n",
    "# We need to tell the endpoint what format the data we are sending is in so that SageMaker can perform the serialization.\n",
    "xgb_predictor.content_type = 'text/csv'\n",
    "xgb_predictor.serializer = csv_serializer"
   ]
  },
  {
   "cell_type": "code",
   "execution_count": 38,
   "metadata": {},
   "outputs": [],
   "source": [
    "# We split the data into chunks and send each chunk seperately, accumulating the results.\n",
    "\n",
    "def predict(data, rows=512):\n",
    "    split_array = np.array_split(data, int(data.shape[0] / float(rows) + 1))\n",
    "    predictions = ''\n",
    "    for array in split_array:\n",
    "        predictions = ','.join([predictions, xgb_predictor.predict(array).decode('utf-8')])\n",
    "    \n",
    "    return np.fromstring(predictions[1:], sep=',')"
   ]
  },
  {
   "cell_type": "code",
   "execution_count": 39,
   "metadata": {},
   "outputs": [],
   "source": [
    "test_X = pd.read_csv(os.path.join(data_dir, 'test.csv'), header=None).values\n",
    "\n",
    "predictions = predict(test_X)\n",
    "predictions = [round(num) for num in predictions]"
   ]
  },
  {
   "cell_type": "markdown",
   "metadata": {},
   "source": [
    "Lastly, we check to see what the accuracy of our model is."
   ]
  },
  {
   "cell_type": "code",
   "execution_count": 40,
   "metadata": {},
   "outputs": [
    {
     "data": {
      "text/plain": [
       "0.8624"
      ]
     },
     "execution_count": 40,
     "metadata": {},
     "output_type": "execute_result"
    }
   ],
   "source": [
    "from sklearn.metrics import accuracy_score\n",
    "accuracy_score(test_y, predictions)"
   ]
  },
  {
   "cell_type": "markdown",
   "metadata": {},
   "source": [
    "And the results here should agree with the model testing that we did earlier using the batch transform job.\n",
    "\n",
    "### Cleaning up\n",
    "\n",
    "Now that we've determined that deploying our model works as expected, we are going to shut it down. Remember that the longer the endpoint is left running, the greater the cost and since we have a bit more work to do before we are able to use our endpoint with our simple web app, we should shut everything down."
   ]
  },
  {
   "cell_type": "code",
   "execution_count": 41,
   "metadata": {},
   "outputs": [],
   "source": [
    "xgb_predictor.delete_endpoint()"
   ]
  },
  {
   "cell_type": "markdown",
   "metadata": {},
   "source": [
    "## Step 7: Putting our model to work\n",
    "\n",
    "As we've mentioned a few times now, our goal is to have our model deployed and then access it using a very simple web app. The intent is for this web app to take some user submitted data (a review), send it off to our endpoint (the model) and then display the result.\n",
    "\n",
    "However, there is a small catch. Currently the only way we can access the endpoint to send it data is using the SageMaker API. We can, if we wish, expose the actual URL that our model's endpoint is receiving data from, however, if we just send it data ourselves we will not get anything in return. This is because the endpoint created by SageMaker requires the entity accessing it have the correct permissions. So, we would need to somehow authenticate our web app with AWS.\n",
    "\n",
    "Having a website that authenticates to AWS seems a bit beyond the scope of this lesson so we will opt for an alternative approach. Namely, we will create a new endpoint which does not require authentication and which acts as a proxy for the SageMaker endpoint.\n",
    "\n",
    "As an additional constraint, we will try to avoid doing any data processing in the web app itself. Remember that when we constructed and tested our model we started with a movie review, then we simplified it by removing any html formatting and punctuation, then we constructed a bag of words embedding and the resulting vector is what we sent to our model. All of this needs to be done to our user input as well.\n",
    "\n",
    "Fortunately we can do all of this data processing in the backend, using Amazon's Lambda service.\n",
    "\n",
    "<img src=\"Web App Diagram.svg\">\n",
    "\n",
    "The diagram above gives an overview of how the various services will work together. On the far right is the model which we trained above and which will be deployed using SageMaker. On the far left is our web app that collects a user's movie review, sends it off and expects a positive or negative sentiment in return.\n",
    "\n",
    "In the middle is where some of the magic happens. We will construct a Lambda function, which you can think of as a straightforward Python function that can be executed whenever a specified event occurs. This Python function will do the data processing we need to perform on a user submitted review. In addition, we will give this function permission to send and recieve data from a SageMaker endpoint.\n",
    "\n",
    "Lastly, the method we will use to execute the Lambda function is a new endpoint that we will create using API Gateway. This endpoint will be a url that listens for data to be sent to it. Once it gets some data it will pass that data on to the Lambda function and then return whatever the Lambda function returns. Essentially it will act as an interface that lets our web app communicate with the Lambda function.\n",
    "\n",
    "### Processing a single review\n",
    "\n",
    "For now, suppose we are given a movie review by our user in the form of a string, like so:"
   ]
  },
  {
   "cell_type": "code",
   "execution_count": 42,
   "metadata": {},
   "outputs": [],
   "source": [
    "test_review = \"Nothing but a disgusting materialistic pageant of glistening abed remote control greed zombies, totally devoid of any heart or heat. A romantic comedy that has zero romantic chemestry and zero laughs!\""
   ]
  },
  {
   "cell_type": "markdown",
   "metadata": {},
   "source": [
    "How do we go from this string to the bag of words feature vector that is expected by our model?\n",
    "\n",
    "If we recall at the beginning of this notebook, the first step is to remove any unnecessary characters using the `review_to_words` method. Remember that we intentionally did this in a very simplistic way. This is because we are going to have to copy this method to our (eventual) Lambda function (we will go into more detail later) and this means it needs to be rather simplistic."
   ]
  },
  {
   "cell_type": "code",
   "execution_count": 43,
   "metadata": {},
   "outputs": [
    {
     "name": "stdout",
     "output_type": "stream",
     "text": [
      "nothing but a disgusting materialistic pageant of glistening abed remote control greed zombies totally devoid of any heart or heat a romantic comedy that has zero romantic chemestry and zero laughs\n"
     ]
    }
   ],
   "source": [
    "test_words = review_to_words(test_review)\n",
    "print(test_words)"
   ]
  },
  {
   "cell_type": "markdown",
   "metadata": {},
   "source": [
    "Next, we need to construct a bag of words embedding of the `test_words` string. To do this, remember that a bag of words embedding uses a `vocabulary` consisting of the most frequently appearing words in a set of documents. Then, for each word in the vocabulary we record the number of times that word appears in `test_words`. We constructed the `vocabulary` earlier using the training set for our problem so encoding `test_words` is relatively straightforward."
   ]
  },
  {
   "cell_type": "code",
   "execution_count": 44,
   "metadata": {},
   "outputs": [],
   "source": [
    "def bow_encoding(words, vocabulary):\n",
    "    bow = [0] * len(vocabulary) # Start by setting the count for each word in the vocabulary to zero.\n",
    "    for word in words.split():  # For each word in the string\n",
    "        if word in vocabulary:  # If the word is one that occurs in the vocabulary, increase its count.\n",
    "            bow[vocabulary[word]] += 1\n",
    "    return bow"
   ]
  },
  {
   "cell_type": "code",
   "execution_count": 45,
   "metadata": {},
   "outputs": [
    {
     "name": "stdout",
     "output_type": "stream",
     "text": [
      "[0, 0, 0, 0, 0, 0, 0, 0, 0, 0, 0, 0, 0, 0, 0, 0, 0, 0, 0, 0, 0, 0, 0, 0, 0, 0, 0, 0, 0, 0, 0, 0, 0, 0, 0, 0, 0, 0, 0, 0, 0, 0, 0, 0, 0, 0, 0, 0, 0, 0, 0, 0, 0, 0, 0, 0, 0, 0, 0, 0, 0, 0, 0, 0, 0, 0, 0, 0, 0, 0, 0, 0, 0, 0, 0, 0, 0, 0, 0, 0, 0, 0, 0, 0, 0, 0, 0, 0, 0, 0, 0, 0, 0, 0, 0, 0, 0, 0, 0, 0, 0, 0, 0, 0, 0, 0, 0, 0, 0, 0, 0, 0, 0, 0, 0, 0, 0, 0, 0, 0, 0, 0, 0, 0, 0, 0, 0, 0, 0, 0, 0, 0, 0, 0, 0, 0, 0, 0, 0, 0, 0, 0, 0, 0, 0, 0, 0, 0, 0, 0, 0, 0, 0, 0, 0, 0, 0, 0, 0, 0, 0, 0, 0, 0, 0, 0, 0, 0, 0, 0, 0, 0, 0, 0, 0, 0, 0, 0, 0, 0, 0, 0, 0, 0, 0, 0, 0, 0, 0, 0, 0, 0, 0, 0, 0, 0, 0, 0, 0, 0, 0, 0, 0, 0, 0, 0, 0, 0, 0, 0, 0, 0, 0, 0, 0, 0, 0, 0, 0, 0, 0, 0, 0, 0, 0, 0, 0, 0, 0, 0, 0, 0, 0, 0, 0, 0, 0, 0, 0, 0, 0, 0, 0, 0, 0, 0, 0, 0, 0, 0, 0, 0, 0, 0, 0, 0, 0, 0, 0, 0, 0, 0, 0, 0, 0, 0, 0, 0, 0, 0, 0, 0, 0, 0, 0, 0, 0, 0, 0, 0, 0, 0, 0, 0, 0, 0, 0, 0, 0, 0, 0, 0, 0, 0, 0, 0, 0, 0, 0, 0, 0, 0, 0, 0, 0, 0, 0, 0, 0, 0, 0, 0, 0, 0, 0, 0, 0, 0, 0, 0, 0, 0, 0, 0, 0, 0, 0, 0, 0, 0, 0, 0, 0, 0, 0, 0, 0, 0, 0, 0, 0, 0, 0, 0, 0, 0, 0, 0, 0, 0, 0, 0, 0, 0, 0, 0, 0, 0, 0, 0, 0, 0, 0, 0, 0, 0, 0, 0, 0, 0, 0, 0, 0, 0, 0, 0, 0, 0, 0, 0, 0, 0, 0, 0, 0, 0, 0, 0, 0, 0, 0, 0, 0, 0, 0, 0, 0, 0, 0, 0, 0, 0, 0, 0, 0, 0, 0, 0, 0, 0, 0, 0, 0, 0, 0, 0, 0, 0, 0, 0, 0, 0, 0, 0, 0, 0, 0, 0, 0, 0, 0, 0, 0, 0, 0, 0, 0, 0, 0, 0, 0, 0, 0, 0, 0, 0, 0, 0, 0, 0, 0, 0, 0, 0, 0, 0, 0, 0, 0, 0, 0, 0, 0, 0, 0, 0, 0, 0, 0, 0, 0, 0, 0, 0, 0, 0, 0, 0, 0, 0, 0, 0, 0, 0, 0, 0, 0, 0, 0, 0, 0, 0, 0, 0, 0, 0, 0, 0, 0, 0, 0, 0, 0, 0, 0, 0, 0, 0, 0, 0, 0, 0, 0, 0, 0, 0, 0, 0, 0, 0, 0, 0, 0, 0, 0, 0, 0, 0, 0, 0, 0, 0, 0, 0, 0, 0, 0, 0, 0, 0, 0, 0, 0, 0, 0, 0, 0, 0, 0, 0, 0, 0, 0, 0, 0, 0, 0, 0, 0, 0, 0, 0, 0, 0, 0, 0, 0, 0, 0, 0, 0, 0, 0, 0, 0, 0, 0, 0, 0, 0, 0, 0, 0, 0, 0, 0, 0, 0, 0, 0, 0, 0, 0, 0, 0, 0, 0, 0, 0, 0, 0, 0, 0, 0, 0, 0, 0, 0, 0, 0, 0, 0, 0, 0, 0, 0, 0, 0, 0, 0, 0, 0, 0, 0, 0, 0, 0, 0, 0, 0, 0, 0, 0, 0, 0, 0, 0, 0, 0, 0, 0, 0, 0, 0, 0, 0, 0, 0, 0, 0, 0, 0, 0, 0, 0, 0, 0, 0, 0, 0, 0, 0, 0, 0, 0, 0, 0, 0, 0, 0, 0, 0, 0, 0, 0, 0, 0, 0, 0, 0, 0, 0, 0, 0, 0, 0, 0, 0, 0, 0, 0, 0, 0, 0, 0, 0, 0, 0, 0, 0, 0, 0, 0, 0, 0, 0, 0, 0, 0, 0, 0, 0, 0, 0, 0, 0, 0, 0, 0, 0, 0, 0, 0, 0, 0, 0, 0, 0, 0, 0, 0, 0, 0, 0, 0, 0, 0, 0, 0, 0, 0, 0, 0, 0, 0, 0, 0, 0, 0, 0, 0, 0, 0, 0, 0, 0, 0, 0, 0, 0, 0, 0, 0, 0, 0, 0, 0, 0, 0, 0, 0, 0, 0, 0, 0, 0, 0, 0, 0, 0, 0, 0, 0, 0, 0, 0, 0, 0, 0, 0, 0, 0, 0, 0, 0, 0, 0, 0, 0, 0, 0, 0, 0, 0, 0, 0, 0, 0, 0, 0, 0, 0, 0, 0, 0, 0, 0, 0, 0, 0, 0, 0, 0, 0, 0, 0, 0, 0, 0, 0, 0, 0, 0, 0, 0, 0, 0, 0, 0, 0, 0, 0, 0, 0, 0, 0, 0, 0, 0, 0, 0, 0, 0, 0, 0, 0, 0, 0, 0, 0, 0, 0, 0, 0, 0, 0, 0, 0, 0, 0, 0, 0, 0, 0, 0, 0, 0, 0, 0, 0, 0, 0, 0, 0, 0, 0, 0, 0, 0, 0, 0, 0, 0, 0, 0, 0, 0, 0, 0, 0, 0, 0, 0, 0, 0, 0, 0, 0, 0, 0, 0, 0, 0, 0, 0, 0, 0, 0, 0, 0, 0, 0, 0, 0, 0, 0, 0, 0, 0, 0, 0, 0, 0, 0, 0, 0, 0, 0, 0, 0, 0, 0, 0, 0, 0, 0, 0, 0, 0, 0, 0, 0, 0, 0, 0, 0, 0, 0, 0, 0, 0, 0, 0, 0, 0, 0, 0, 0, 0, 0, 0, 0, 0, 0, 0, 0, 0, 0, 0, 0, 0, 0, 0, 0, 0, 0, 0, 0, 0, 0, 0, 0, 0, 0, 0, 0, 0, 0, 0, 0, 0, 0, 0, 0, 0, 0, 0, 0, 0, 0, 0, 0, 0, 0, 0, 0, 0, 0, 0, 0, 0, 0, 0, 0, 0, 0, 0, 0, 0, 0, 0, 0, 0, 0, 0, 0, 0, 0, 0, 0, 0, 0, 0, 1, 0, 0, 0, 0, 0, 0, 0, 0, 0, 0, 0, 0, 0, 0, 0, 0, 0, 0, 0, 0, 0, 0, 0, 0, 0, 0, 0, 0, 0, 0, 0, 0, 0, 0, 0, 0, 0, 0, 0, 0, 0, 0, 0, 0, 0, 0, 0, 0, 0, 0, 0, 0, 0, 0, 0, 0, 0, 0, 0, 0, 0, 0, 0, 0, 0, 0, 0, 0, 0, 0, 0, 0, 0, 0, 0, 0, 0, 0, 0, 0, 0, 0, 0, 0, 0, 0, 0, 0, 0, 0, 0, 0, 0, 0, 0, 0, 0, 0, 0, 0, 0, 0, 0, 0, 0, 0, 0, 0, 0, 0, 0, 0, 0, 0, 0, 0, 0, 0, 0, 0, 0, 0, 0, 0, 0, 0, 0, 0, 0, 0, 0, 0, 0, 0, 0, 0, 0, 0, 0, 0, 0, 0, 0, 0, 0, 0, 0, 0, 0, 0, 0, 0, 0, 0, 0, 0, 0, 0, 0, 0, 0, 0, 0, 0, 0, 0, 0, 0, 0, 0, 0, 0, 0, 0, 0, 0, 0, 0, 0, 0, 0, 0, 0, 0, 0, 0, 0, 0, 0, 0, 0, 0, 0, 0, 0, 0, 0, 0, 0, 0, 0, 0, 0, 0, 0, 0, 0, 0, 0, 0, 0, 0, 0, 0, 0, 0, 0, 0, 0, 0, 0, 0, 0, 0, 0, 0, 0, 0, 0, 0, 0, 0, 0, 0, 0, 0, 0, 0, 0, 0, 0, 0, 0, 0, 0, 0, 0, 0, 1, 0, 0, 0, 0, 0, 0, 0, 0, 0, 0, 0, 0, 0, 0, 0, 0, 0, 0, 0, 0, 0, 0, 0, 0, 0, 0, 0, 0, 0, 0, 0, 0, 0, 0, 0, 0, 0, 0, 0, 0, 0, 0, 0, 0, 0, 0, 0, 0, 0, 0, 0, 0, 0, 0, 0, 0, 0, 0, 0, 0, 0, 0, 0, 0, 0, 0, 0, 0, 0, 0, 0, 0, 0, 0, 0, 0, 0, 0, 0, 0, 0, 0, 0, 0, 0, 0, 0, 0, 0, 0, 0, 0, 0, 0, 0, 0, 0, 0, 0, 0, 0, 0, 0, 0, 0, 0, 0, 0, 0, 0, 0, 0, 0, 0, 0, 0, 0, 0, 0, 0, 0, 0, 0, 0, 0, 0, 0, 0, 0, 0, 0, 0, 0, 0, 0, 0, 0, 0, 0, 0, 0, 0, 0, 0, 0, 0, 0, 0, 0, 0, 0, 0, 0, 0, 0, 0, 0, 0, 0, 0, 0, 0, 0, 0, 0, 0, 0, 0, 0, 0, 0, 0, 0, 0, 0, 0, 0, 0, 0, 0, 0, 0, 0, 0, 0, 0, 0, 0, 0, 0, 0, 0, 0, 0, 0, 0, 0, 0, 0, 0, 0, 0, 0, 0, 0, 0, 0, 0, 0, 0, 0, 0, 0, 0, 0, 0, 0, 0, 0, 0, 0, 0, 0, 0, 0, 0, 0, 0, 0, 0, 0, 0, 0, 0, 0, 0, 0, 0, 0, 0, 0, 0, 0, 0, 0, 0, 0, 0, 0, 0, 0, 0, 0, 0, 0, 0, 0, 0, 0, 0, 0, 0, 0, 0, 0, 0, 0, 0, 0, 0, 0, 0, 0, 0, 0, 0, 0, 0, 0, 0, 0, 0, 0, 0, 0, 0, 0, 0, 0, 0, 0, 0, 0, 0, 0, 0, 0, 0, 0, 0, 0, 0, 0, 0, 0, 0, 0, 0, 0, 0, 0, 0, 0, 0, 0, 0, 0, 0, 0, 0, 0, 0, 0, 0, 0, 0, 0, 0, 0, 0, 0, 0, 0, 0, 0, 0, 0, 0, 0, 0, 0, 0, 0, 0, 0, 0, 0, 0, 0, 0, 0, 0, 0, 0, 0, 0, 0, 0, 0, 0, 0, 0, 0, 0, 0, 0, 0, 0, 0, 0, 0, 0, 0, 0, 0, 0, 0, 0, 0, 0, 0, 0, 0, 0, 0, 0, 0, 0, 0, 0, 0, 0, 0, 0, 0, 0, 0, 0, 0, 0, 0, 0, 0, 0, 0, 0, 0, 0, 0, 0, 0, 0, 0, 0, 0, 0, 0, 0, 0, 0, 0, 0, 0, 0, 0, 0, 0, 0, 0, 0, 0, 0, 0, 0, 0, 0, 0, 0, 0, 0, 0, 0, 0, 0, 0, 0, 0, 0, 0, 0, 0, 0, 0, 0, 0, 0, 0, 0, 0, 0, 0, 0, 0, 0, 0, 0, 0, 0, 0, 0, 0, 0, 0, 0, 0, 0, 0, 0, 0, 0, 0, 0, 0, 0, 0, 0, 0, 0, 0, 0, 0, 0, 0, 0, 0, 0, 0, 0, 0, 0, 0, 0, 0, 0, 0, 0, 0, 0, 0, 0, 0, 0, 0, 0, 0, 0, 0, 0, 0, 0, 0, 0, 0, 0, 0, 0, 0, 0, 0, 0, 0, 0, 0, 0, 0, 0, 0, 0, 0, 0, 0, 0, 0, 0, 0, 0, 0, 0, 0, 0, 0, 0, 0, 0, 0, 0, 0, 0, 0, 0, 0, 0, 0, 0, 0, 0, 0, 0, 0, 0, 0, 0, 0, 0, 0, 0, 0, 0, 0, 0, 0, 0, 0, 0, 0, 0, 0, 0, 0, 0, 0, 0, 0, 0, 0, 0, 0, 0, 0, 0, 0, 0, 0, 0, 0, 0, 0, 0, 0, 0, 0, 0, 0, 0, 0, 0, 0, 0, 0, 0, 0, 0, 0, 0, 0, 0, 0, 0, 0, 0, 0, 0, 0, 0, 0, 0, 0, 0, 0, 0, 0, 0, 0, 0, 0, 0, 0, 0, 0, 0, 0, 0, 0, 0, 0, 0, 0, 0, 0, 0, 0, 0, 0, 0, 0, 0, 0, 0, 0, 0, 0, 0, 0, 0, 0, 0, 0, 0, 0, 0, 0, 0, 0, 0, 0, 0, 0, 0, 0, 0, 0, 0, 0, 0, 0, 0, 0, 0, 0, 0, 0, 0, 0, 0, 0, 0, 0, 0, 0, 0, 0, 0, 0, 0, 0, 0, 0, 0, 0, 0, 0, 0, 0, 0, 0, 0, 0, 0, 0, 0, 1, 0, 0, 0, 0, 0, 0, 0, 0, 0, 0, 0, 0, 0, 0, 0, 0, 0, 0, 0, 0, 0, 0, 0, 0, 0, 0, 0, 0, 0, 0, 0, 0, 0, 0, 0, 0, 0, 0, 0, 0, 0, 0, 0, 0, 0, 0, 0, 0, 0, 0, 0, 0, 0, 0, 0, 0, 0, 0, 0, 0, 0, 0, 0, 0, 0, 0, 0, 0, 0, 0, 0, 0, 0, 0, 0, 0, 0, 0, 0, 0, 0, 0, 0, 0, 0, 0, 0, 0, 0, 0, 0, 0, 0, 0, 0, 0, 0, 0, 0, 1, 0, 0, 0, 1, 0, 0, 0, 0, 0, 0, 0, 0, 0, 0, 0, 0, 0, 0, 0, 0, 0, 0, 0, 0, 0, 0, 0, 0, 0, 0, 0, 0, 0, 0, 0, 0, 0, 0, 0, 0, 0, 0, 0, 0, 0, 0, 0, 0, 0, 0, 0, 0, 0, 0, 0, 0, 0, 0, 0, 0, 0, 0, 0, 0, 0, 0, 0, 0, 0, 0, 0, 0, 0, 0, 0, 0, 0, 0, 0, 0, 0, 0, 0, 0, 0, 0, 0, 0, 0, 0, 0, 0, 0, 0, 0, 0, 0, 0, 0, 0, 0, 0, 0, 0, 0, 0, 0, 0, 0, 0, 0, 0, 0, 0, 0, 0, 0, 0, 0, 0, 0, 0, 0, 0, 0, 0, 0, 0, 0, 0, 0, 0, 0, 0, 0, 0, 0, 0, 0, 0, 0, 0, 0, 0, 0, 0, 0, 0, 0, 0, 0, 0, 0, 0, 0, 0, 0, 0, 0, 0, 0, 0, 0, 0, 0, 0, 0, 0, 0, 0, 0, 0, 0, 0, 0, 0, 0, 0, 0, 0, 0, 0, 0, 0, 0, 0, 0, 0, 0, 0, 0, 0, 0, 0, 0, 0, 0, 0, 0, 0, 0, 0, 0, 0, 0, 0, 0, 0, 0, 0, 0, 0, 0, 0, 0, 0, 0, 0, 0, 0, 0, 0, 0, 0, 0, 0, 0, 0, 0, 0, 0, 0, 0, 0, 0, 0, 0, 0, 0, 0, 0, 0, 0, 0, 0, 0, 0, 0, 0, 0, 0, 0, 0, 0, 0, 0, 0, 0, 0, 0, 0, 0, 0, 0, 0, 0, 0, 0, 0, 0, 0, 0, 0, 0, 0, 0, 0, 0, 0, 0, 0, 0, 0, 0, 0, 0, 0, 0, 0, 0, 0, 0, 0, 0, 0, 0, 0, 0, 0, 0, 0, 0, 0, 0, 0, 0, 0, 0, 0, 0, 0, 0, 0, 0, 0, 0, 0, 0, 0, 0, 0, 0, 0, 0, 0, 0, 0, 0, 0, 0, 0, 0, 0, 0, 0, 0, 0, 0, 0, 0, 0, 0, 0, 0, 0, 0, 0, 0, 0, 0, 0, 0, 0, 0, 0, 0, 0, 0, 0, 0, 0, 0, 0, 0, 0, 0, 0, 0, 0, 0, 0, 0, 0, 0, 0, 0, 0, 0, 0, 0, 0, 0, 0, 0, 0, 0, 0, 0, 0, 0, 0, 0, 0, 0, 0, 0, 0, 0, 0, 0, 0, 0, 0, 0, 0, 0, 0, 0, 0, 0, 0, 0, 0, 0, 0, 0, 0, 0, 0, 0, 0, 0, 0, 0, 0, 0, 0, 0, 0, 0, 0, 0, 0, 0, 0, 0, 0, 0, 0, 0, 0, 0, 0, 0, 0, 0, 0, 0, 0, 0, 0, 0, 0, 0, 0, 0, 0, 0, 0, 0, 0, 0, 0, 0, 0, 0, 0, 0, 0, 0, 0, 0, 0, 0, 0, 0, 0, 0, 0, 0, 0, 0, 0, 0, 0, 0, 0, 0, 0, 0, 0, 0, 0, 0, 0, 0, 0, 0, 0, 0, 0, 0, 0, 0, 0, 0, 0, 0, 0, 0, 0, 0, 0, 0, 0, 0, 0, 0, 0, 0, 0, 0, 0, 0, 0, 0, 0, 0, 0, 0, 0, 0, 0, 0, 0, 0, 0, 0, 0, 0, 0, 0, 0, 0, 0, 0, 0, 0, 0, 0, 0, 0, 0, 0, 0, 0, 0, 0, 0, 0, 0, 0, 0, 0, 0, 0, 0, 0, 0, 0, 0, 0, 0, 0, 0, 0, 0, 0, 0, 0, 0, 0, 0, 0, 0, 0, 0, 0, 0, 0, 0, 0, 0, 0, 0, 0, 0, 0, 0, 0, 0, 0, 0, 0, 0, 0, 0, 0, 0, 0, 0, 0, 0, 0, 0, 0, 0, 0, 0, 0, 0, 0, 0, 0, 0, 0, 0, 0, 0, 0, 0, 0, 0, 0, 0, 0, 0, 0, 0, 0, 0, 0, 0, 0, 0, 0, 0, 0, 0, 0, 0, 0, 0, 0, 0, 0, 0, 0, 0, 0, 0, 0, 0, 0, 0, 0, 0, 0, 0, 0, 0, 0, 0, 0, 0, 0, 0, 0, 0, 0, 0, 0, 0, 0, 0, 0, 0, 0, 0, 0, 0, 0, 0, 0, 0, 0, 0, 0, 0, 0, 0, 0, 0, 0, 0, 0, 0, 0, 0, 0, 0, 0, 0, 0, 0, 0, 0, 0, 0, 0, 0, 0, 0, 0, 0, 0, 0, 0, 0, 0, 0, 0, 0, 0, 0, 0, 0, 0, 0, 0, 0, 0, 0, 0, 0, 0, 0, 0, 0, 0, 0, 0, 0, 0, 0, 0, 0, 0, 0, 0, 0, 0, 0, 0, 0, 0, 0, 0, 0, 0, 0, 0, 0, 0, 0, 0, 0, 0, 0, 0, 0, 0, 0, 0, 0, 0, 0, 0, 0, 0, 0, 0, 0, 0, 0, 0, 0, 0, 0, 0, 0, 0, 0, 0, 0, 0, 0, 0, 0, 0, 0, 0, 0, 0, 0, 0, 0, 0, 0, 0, 0, 0, 0, 0, 0, 0, 0, 0, 0, 0, 0, 0, 0, 0, 0, 0, 0, 0, 0, 0, 0, 0, 0, 0, 0, 0, 0, 0, 0, 0, 0, 0, 0, 0, 0, 0, 0, 0, 0, 0, 0, 0, 0, 0, 0, 0, 0, 0, 0, 0, 0, 0, 0, 0, 0, 0, 0, 0, 0, 0, 0, 0, 0, 0, 0, 0, 0, 0, 0, 0, 0, 0, 0, 0, 0, 0, 0, 0, 0, 0, 0, 0, 0, 0, 0, 0, 0, 0, 0, 0, 0, 0, 0, 0, 0, 0, 0, 0, 0, 0, 0, 0, 0, 0, 0, 0, 0, 0, 0, 0, 0, 0, 0, 0, 0, 0, 0, 0, 0, 0, 0, 0, 0, 0, 0, 0, 0, 0, 0, 0, 0, 0, 0, 0, 0, 0, 0, 0, 0, 0, 0, 0, 0, 0, 0, 0, 0, 0, 0, 0, 0, 0, 0, 0, 0, 0, 0, 0, 0, 0, 0, 0, 0, 0, 0, 0, 0, 0, 0, 0, 0, 0, 0, 0, 0, 0, 0, 0, 0, 0, 0, 0, 0, 0, 0, 0, 0, 0, 0, 0, 0, 0, 0, 0, 0, 0, 0, 0, 0, 0, 0, 0, 0, 0, 0, 0, 0, 0, 0, 0, 0, 0, 0, 0, 0, 0, 0, 0, 0, 0, 0, 0, 0, 0, 0, 0, 0, 0, 0, 0, 0, 0, 0, 0, 0, 0, 0, 0, 0, 0, 0, 0, 0, 0, 0, 0, 0, 0, 0, 0, 0, 0, 0, 0, 0, 0, 0, 0, 0, 0, 0, 0, 0, 0, 0, 0, 0, 0, 0, 0, 0, 0, 0, 0, 0, 0, 0, 0, 0, 0, 0, 0, 0, 0, 0, 0, 0, 0, 0, 0, 0, 0, 0, 0, 0, 0, 0, 0, 0, 0, 0, 0, 0, 0, 0, 0, 0, 0, 0, 0, 0, 0, 0, 0, 0, 0, 0, 0, 0, 0, 0, 0, 0, 0, 0, 0, 0, 0, 0, 0, 0, 0, 0, 0, 0, 0, 0, 0, 0, 0, 0, 0, 0, 0, 0, 0, 0, 0, 0, 0, 0, 0, 0, 0, 0, 0, 0, 0, 0, 0, 0, 0, 0, 0, 0, 0, 0, 0, 0, 0, 0, 0, 0, 0, 0, 0, 0, 0, 0, 0, 0, 0, 0, 0, 0, 0, 0, 0, 0, 0, 0, 0, 0, 0, 0, 0, 0, 0, 0, 0, 0, 0, 0, 0, 0, 0, 0, 0, 0, 0, 0, 0, 0, 0, 0, 0, 0, 0, 0, 0, 0, 0, 0, 0, 0, 0, 0, 0, 0, 0, 0, 0, 0, 0, 0, 0, 0, 0, 0, 0, 0, 0, 0, 0, 0, 0, 0, 0, 0, 0, 0, 0, 0, 0, 0, 0, 0, 0, 0, 0, 0, 0, 0, 0, 0, 0, 0, 0, 0, 0, 0, 0, 0, 0, 0, 0, 0, 0, 0, 0, 0, 0, 0, 0, 0, 0, 0, 0, 0, 0, 0, 0, 0, 0, 0, 0, 0, 0, 0, 0, 0, 0, 0, 0, 0, 0, 0, 0, 0, 0, 0, 0, 0, 0, 0, 0, 0, 0, 0, 0, 0, 0, 0, 0, 0, 0, 0, 0, 0, 0, 0, 0, 0, 0, 0, 0, 0, 0, 0, 0, 0, 0, 0, 0, 0, 0, 0, 0, 0, 0, 0, 0, 0, 0, 0, 0, 0, 0, 0, 0, 0, 0, 0, 0, 0, 0, 0, 0, 0, 0, 0, 0, 0, 0, 0, 0, 0, 0, 0, 0, 0, 0, 0, 0, 0, 0, 0, 0, 0, 0, 0, 0, 0, 0, 0, 0, 0, 0, 0, 0, 0, 0, 0, 0, 0, 0, 0, 0, 0, 0, 0, 0, 0, 0, 0, 0, 0, 0, 0, 0, 0, 0, 0, 0, 0, 0, 0, 0, 0, 0, 0, 0, 0, 0, 0, 0, 0, 0, 0, 0, 0, 0, 0, 0, 0, 0, 0, 0, 0, 0, 0, 0, 0, 0, 0, 0, 0, 0, 0, 0, 0, 0, 0, 0, 0, 0, 0, 0, 0, 0, 0, 0, 0, 0, 0, 0, 0, 0, 0, 0, 0, 0, 0, 0, 0, 0, 0, 0, 0, 0, 0, 0, 0, 0, 0, 0, 0, 0, 0, 0, 0, 0, 0, 0, 0, 0, 0, 0, 0, 0, 0, 0, 0, 0, 0, 0, 0, 0, 0, 0, 0, 0, 0, 0, 0, 0, 0, 0, 0, 0, 0, 0, 0, 0, 0, 0, 0, 0, 0, 0, 0, 0, 0, 0, 0, 0, 0, 0, 0, 0, 0, 0, 0, 0, 0, 0, 0, 0, 0, 0, 0, 0, 0, 0, 0, 0, 0, 0, 0, 0, 0, 0, 0, 0, 0, 0, 0, 0, 0, 0, 0, 0, 0, 0, 0, 0, 0, 0, 0, 0, 0, 0, 0, 0, 0, 0, 0, 0, 0, 0, 0, 0, 0, 0, 0, 0, 0, 0, 0, 0, 0, 0, 0, 0, 0, 0, 0, 0, 0, 0, 0, 0, 0, 0, 0, 0, 0, 0, 0, 0, 0, 0, 0, 0, 0, 0, 0, 0, 0, 0, 0, 0, 0, 0, 0, 0, 0, 0, 0, 0, 0, 0, 0, 0, 0, 0, 0, 0, 0, 0, 0, 0, 0, 0, 0, 0, 0, 0, 0, 0, 0, 0, 0, 0, 0, 0, 0, 0, 0, 0, 0, 0, 0, 0, 0, 0, 0, 0, 0, 0, 0, 0, 0, 0, 0, 0, 0, 0, 0, 0, 0, 0, 0, 0, 0, 0, 0, 0, 0, 0, 0, 0, 0, 0, 0, 0, 0, 0, 0, 0, 0, 0, 0, 0, 0, 0, 0, 0, 0, 0, 0, 0, 0, 0, 0, 0, 0, 0, 0, 0, 0, 0, 0, 0, 0, 0, 0, 0, 0, 0, 0, 0, 0, 0, 0, 0, 0, 0, 0, 0, 0, 0, 0, 0, 0, 0, 0, 0, 0, 0, 0, 0, 0, 0, 0, 0, 0, 0, 0, 0, 0, 0, 0, 0, 0, 0, 0, 0, 0, 0, 0, 0, 0, 0, 0, 0, 0, 0, 0, 0, 0, 0, 0, 0, 0, 0, 0, 0, 0, 0, 0, 0, 0, 0, 0, 0, 0, 0, 0, 0, 0, 0, 0, 0, 0, 0, 0, 0, 0, 0, 0, 0, 0, 0, 0, 0, 0, 0, 0, 0, 0, 0, 0, 0, 0, 0, 0, 0, 0, 0, 0, 0, 0, 0, 0, 0, 0, 0, 0, 0, 0, 0, 0, 0, 0, 0, 0, 0, 0, 0, 0, 0, 0, 0, 0, 0, 0, 0, 0, 0, 0, 0, 0, 0, 0, 0, 0, 0, 0, 0, 0, 0, 0, 0, 0, 0, 0, 0, 0, 0, 0, 0, 0, 0, 0, 0, 0, 0, 0, 0, 0, 0, 0, 0, 0, 0, 0, 0, 0, 0, 0, 0, 0, 0, 0, 0, 0, 0, 0, 0, 0, 0, 0, 0, 0, 0, 0, 0, 0, 0, 0, 0, 0, 0, 0, 0, 0, 0, 0, 0, 0, 0, 0, 0, 0, 0, 0, 0, 0, 0, 0, 0, 0, 0, 0, 0, 0, 0, 0, 0, 0, 0, 0, 0, 0, 0, 0, 0, 0, 0, 0, 0, 0, 0, 0, 0, 0, 0, 0, 0, 0, 0, 0, 0, 0, 0, 0, 0, 0, 0, 0, 0, 0, 0, 0, 0, 0, 0, 0, 0, 0, 0, 0, 0, 0, 0, 0, 0, 0, 0, 0, 0, 0, 0, 0, 0, 0, 0, 0, 0, 0, 0, 0, 0, 0, 0, 0, 0, 0, 0, 0, 0, 0, 0, 0, 0, 0, 0, 0, 0, 0, 0, 0, 0, 0, 0, 0, 0, 0, 0, 0, 0, 0, 0, 0, 0, 0, 0, 0, 0, 0, 0, 0, 0, 0, 0, 0, 0, 0, 0, 0, 0, 0, 0, 0, 0, 0, 0, 0, 0, 0, 0, 0, 0, 0, 0, 0, 0, 0, 0, 0, 0, 0, 0, 0, 0, 0, 0, 0, 0, 0, 0, 0, 0, 0, 0, 0, 0, 0, 0, 0, 0, 0, 0, 0, 0, 0, 0, 0, 0, 0, 0, 0, 0, 0, 0, 0, 0, 0, 0, 0, 0, 0, 0, 0, 0, 0, 0, 0, 0, 0, 0, 0, 0, 0, 0, 0, 0, 0, 0, 0, 0, 0, 0, 0, 0, 0, 0, 0, 0, 0, 0, 0, 0, 0, 0, 0, 0, 0, 0, 0, 0, 0, 0, 0, 0, 0, 0, 0, 0, 0, 0, 0, 0, 0, 0, 0, 0, 0, 0, 0, 0, 0, 0, 0, 0, 0, 0, 0, 0, 0, 0, 0, 0, 0, 0, 0, 0, 0, 0, 0, 0, 0, 0, 0, 0, 0, 0, 0, 0, 0, 0, 0, 0, 0, 0, 0, 0, 0, 0, 0, 0, 0, 0, 0, 0, 0, 0, 0, 0, 0, 0, 0, 0, 0, 0, 0, 0, 0, 0, 0, 0, 0, 0, 0, 0, 0, 0, 0, 0, 0, 0, 0, 0, 0, 0, 0, 0, 0, 0, 0, 0, 0, 0, 0, 0, 0, 0, 0, 0, 0, 0, 0, 0, 0, 0, 0, 0, 0, 0, 0, 0, 0, 0, 0, 0, 0, 0, 0, 0, 0, 0, 0, 0, 0, 0, 0, 0, 0, 0, 0, 0, 0, 0, 0, 0, 0, 0, 0, 0, 1, 0, 0, 0, 0, 0, 0, 0, 0, 0, 0, 0, 0, 0, 0, 0, 0, 0, 0, 0, 0, 0, 0, 0, 0, 0, 0, 0, 0, 0, 0, 0, 0, 0, 0, 0, 0, 0, 0, 0, 0, 0, 0, 0, 0, 0, 0, 0, 0, 0, 0, 0, 0, 0, 0, 0, 0, 0, 0, 0, 0, 0, 0, 0, 0, 0, 0, 0, 0, 0, 0, 0, 0, 0, 0, 0, 0, 0, 0, 0, 0, 0, 0, 0, 0, 0, 0, 0, 0, 0, 0, 0, 0, 0, 0, 0, 0, 0, 0, 0, 0, 0, 0, 0, 0, 0, 0, 0, 0, 0, 0, 0, 0, 0, 0, 0, 0, 0, 0, 0, 0, 0, 0, 0, 0, 0, 0, 0, 0, 0, 0, 0, 0, 0, 0, 0, 0, 0, 0, 0, 0, 0, 0, 0, 0, 0, 0, 0, 0, 0, 0, 0, 0, 0, 0, 0, 0, 0, 0, 0, 0, 0, 0, 0, 0, 0, 0, 0, 0, 0, 0, 0, 0, 0, 0, 0, 0, 0, 0, 0, 0, 0, 0, 0, 0, 0, 0, 0, 0, 0, 0, 0, 0, 0, 0, 0, 0, 0, 0, 0, 0, 0, 0, 0, 0, 0, 0, 0, 0, 0, 0, 0, 0, 0, 0, 0, 0, 0, 0, 0, 0, 0, 0, 0, 0, 0, 0, 0, 0, 0, 0, 0, 0, 0, 0, 0, 0, 0, 0, 0, 0, 0, 0, 0, 0, 0, 0, 0, 0, 0, 0, 0, 0, 0, 0, 0, 0, 0, 0, 0, 0, 0, 0, 0, 0, 0, 0, 0, 0, 0, 0, 0, 0, 0, 0, 0, 0, 0, 0, 0, 0, 0, 0, 0, 0, 0, 0, 0, 0, 0, 0, 0, 0, 0, 0, 0, 0, 0, 0, 0, 0, 0, 0, 0, 0, 0, 0, 0, 0, 0, 0, 0, 0, 0, 0, 0, 0, 0, 0, 0, 0, 0, 0, 0, 0, 0, 0, 0, 0, 0, 0, 0, 0, 0, 0, 0, 0, 0, 0, 0, 0, 0, 0, 0, 0, 0, 0, 0, 0, 0, 0, 0, 0, 0, 0, 0, 0, 0, 0, 0, 0, 0, 0, 0, 0, 0, 0, 0, 0, 0, 0, 0, 0, 0, 0, 0, 0, 0, 0, 0, 0, 0, 0, 0, 0, 0, 0, 0, 0, 0, 0, 0, 0, 0, 0, 0, 0, 0, 0, 0, 0, 0, 0, 0, 0, 0, 0, 0, 0, 0, 0, 0, 0, 0, 0, 0, 0, 0, 0, 0, 0, 0, 0, 0, 0, 0, 0, 0, 0, 0, 0, 0, 0, 0, 0, 0, 0, 0, 0, 0, 0, 0, 0, 0, 0, 0, 0, 0, 0, 0, 0, 0, 0, 0, 0, 0, 0, 0, 0, 0, 0, 0, 0, 0, 0, 0, 0, 0, 0, 0, 0, 0, 0, 0, 0, 0, 0, 0, 0, 0, 0, 0, 0, 0, 0, 0, 0, 0, 0, 0, 0, 0, 0, 0, 0, 0, 0, 0, 0, 0, 0, 0, 0, 0, 0, 0, 0, 0, 0, 0, 0, 0, 0, 0, 0, 0, 0, 0, 0, 0, 0, 2, 0, 0, 0, 0]\n"
     ]
    }
   ],
   "source": [
    "test_bow = bow_encoding(test_words, vocabulary)\n",
    "print(test_bow)"
   ]
  },
  {
   "cell_type": "code",
   "execution_count": 46,
   "metadata": {},
   "outputs": [
    {
     "data": {
      "text/plain": [
       "5000"
      ]
     },
     "execution_count": 46,
     "metadata": {},
     "output_type": "execute_result"
    }
   ],
   "source": [
    "len(test_bow)"
   ]
  },
  {
   "cell_type": "markdown",
   "metadata": {},
   "source": [
    "So now we know how to construct a bag of words encoding of a user provided review, how to we send it to our endpoint? First, we need to start the endpoint back up."
   ]
  },
  {
   "cell_type": "code",
   "execution_count": 48,
   "metadata": {},
   "outputs": [
    {
     "name": "stderr",
     "output_type": "stream",
     "text": [
      "WARNING:sagemaker:Using already existing model: xgboost-2019-12-13-19-45-54-124\n"
     ]
    },
    {
     "name": "stdout",
     "output_type": "stream",
     "text": [
      "--------------------------------------------------------------------------------------!"
     ]
    }
   ],
   "source": [
    "xgb_predictor = xgb.deploy(initial_instance_count = 1, instance_type = 'ml.m4.xlarge')"
   ]
  },
  {
   "cell_type": "markdown",
   "metadata": {},
   "source": [
    "At this point we could just do the same thing that we did earlier when we tested our deployed model and send `test_bow` to our endpoint using the `xgb_predictor` object. However, when we eventually construct our Lambda function we won't have access to this object, so how do we call a SageMaker endpoint?\n",
    "\n",
    "It turns out that Python functions that are used in Lambda have access to another Amazon library called `boto3`. This library provides an API for working with Amazon services, including SageMaker. To start with, we need to get a handle to the SageMaker runtime."
   ]
  },
  {
   "cell_type": "code",
   "execution_count": 49,
   "metadata": {},
   "outputs": [],
   "source": [
    "import boto3\n",
    "\n",
    "runtime = boto3.Session().client('sagemaker-runtime')"
   ]
  },
  {
   "cell_type": "markdown",
   "metadata": {},
   "source": [
    "And now that we have access to the SageMaker runtime, we can ask it to make use of (invoke) an endpoint that has already been created. However, we need to provide SageMaker with the name of the deployed endpoint. To find this out we can print it out using the `xgb_predictor` object."
   ]
  },
  {
   "cell_type": "code",
   "execution_count": 50,
   "metadata": {},
   "outputs": [
    {
     "data": {
      "text/plain": [
       "'xgboost-2019-12-13-19-45-54-124'"
      ]
     },
     "execution_count": 50,
     "metadata": {},
     "output_type": "execute_result"
    }
   ],
   "source": [
    "xgb_predictor.endpoint"
   ]
  },
  {
   "cell_type": "markdown",
   "metadata": {},
   "source": [
    "Using the SageMaker runtime and the name of our endpoint, we can invoke the endpoint and send it the `test_bow` data."
   ]
  },
  {
   "cell_type": "code",
   "execution_count": null,
   "metadata": {},
   "outputs": [],
   "source": [
    "response = runtime.invoke_endpoint(EndpointName = xgb_predictor.endpoint, # The name of the endpoint we created\n",
    "                                       ContentType = 'text/csv',                     # The data format that is expected\n",
    "                                       Body = test_bow)"
   ]
  },
  {
   "cell_type": "markdown",
   "metadata": {},
   "source": [
    "So why did we get an error?\n",
    "\n",
    "Because we tried to send the endpoint a list of integers but it expected us to send data of type `text/csv`. So, we need to convert it."
   ]
  },
  {
   "cell_type": "code",
   "execution_count": 51,
   "metadata": {},
   "outputs": [],
   "source": [
    "response = runtime.invoke_endpoint(EndpointName = xgb_predictor.endpoint, # The name of the endpoint we created\n",
    "                                       ContentType = 'text/csv',                     # The data format that is expected\n",
    "                                       Body = ','.join([str(val) for val in test_bow]).encode('utf-8'))"
   ]
  },
  {
   "cell_type": "code",
   "execution_count": 52,
   "metadata": {},
   "outputs": [
    {
     "name": "stdout",
     "output_type": "stream",
     "text": [
      "{'ResponseMetadata': {'RequestId': '648d9ce1-13fc-4970-b850-0f93ca70273c', 'HTTPStatusCode': 200, 'HTTPHeaders': {'x-amzn-requestid': '648d9ce1-13fc-4970-b850-0f93ca70273c', 'x-amzn-invoked-production-variant': 'AllTraffic', 'date': 'Fri, 13 Dec 2019 20:19:48 GMT', 'content-type': 'text/csv; charset=utf-8', 'content-length': '14'}, 'RetryAttempts': 0}, 'ContentType': 'text/csv; charset=utf-8', 'InvokedProductionVariant': 'AllTraffic', 'Body': <botocore.response.StreamingBody object at 0x7f8616995cf8>}\n"
     ]
    }
   ],
   "source": [
    "print(response)"
   ]
  },
  {
   "cell_type": "markdown",
   "metadata": {},
   "source": [
    "As we can see, the response from our model is a somewhat complicated looking dict that contains a bunch of information. The bit that we are most interested in is `'Body'` object which is a streaming object that we need to `read` in order to make use of."
   ]
  },
  {
   "cell_type": "code",
   "execution_count": 53,
   "metadata": {},
   "outputs": [
    {
     "name": "stdout",
     "output_type": "stream",
     "text": [
      "0.668659865856\n"
     ]
    }
   ],
   "source": [
    "response = response['Body'].read().decode('utf-8')\n",
    "print(response)"
   ]
  },
  {
   "cell_type": "markdown",
   "metadata": {},
   "source": [
    "Now that we know how to process the incoming user data we can start setting up the infrastructure to make our simple web app work. To do this we will make use of two different services. Amazon's Lambda and API Gateway services.\n",
    "\n",
    "Lambda is a service which allows someone to write some relatively simple code and have it executed whenever a chosen trigger occurs. For example, you may want to update a database whenever new data is uploaded to a folder stored on S3.\n",
    "\n",
    "API Gateway is a service that allows you to create HTTP endpoints (url addresses) which are connected to other AWS services. One of the benefits to this is that you get to decide what credentials, if any, are required to access these endpoints.\n",
    "\n",
    "In our case we are going to set up an HTTP endpoint through API Gateway which is open to the public. Then, whenever anyone sends data to our public endpoint we will trigger a Lambda function which will send the input (in our case a review) to our model's endpoint and then return the result."
   ]
  },
  {
   "cell_type": "markdown",
   "metadata": {},
   "source": [
    "### Setting up a Lambda function\n",
    "\n",
    "The first thing we are going to do is set up a Lambda function. This Lambda function will be executed whenever our public API has data sent to it. When it is executed it will receive the data, perform any sort of processing that is required, send the data (the review) to the SageMaker endpoint we've created and then return the result.\n",
    "\n",
    "#### Part A: Create an IAM Role for the Lambda function\n",
    "\n",
    "Since we want the Lambda function to call a SageMaker endpoint, we need to make sure that it has permission to do so. To do this, we will construct a role that we can later give the Lambda function.\n",
    "\n",
    "Using the AWS Console, navigate to the **IAM** page and click on **Roles**. Then, click on **Create role**. Make sure that the **AWS service** is the type of trusted entity selected and choose **Lambda** as the service that will use this role, then click **Next: Permissions**.\n",
    "\n",
    "In the search box type `sagemaker` and select the check box next to the **AmazonSageMakerFullAccess** policy. Then, click on **Next: Review**.\n",
    "\n",
    "Lastly, give this role a name. Make sure you use a name that you will remember later on, for example `LambdaSageMakerRole`. Then, click on **Create role**."
   ]
  },
  {
   "cell_type": "markdown",
   "metadata": {},
   "source": [
    "#### Part B: Create a Lambda function\n",
    "\n",
    "Now it is time to actually create the Lambda function. Remember from earlier that in order to process the user provided input and send it to our endpoint we need to gather two pieces of information:\n",
    "\n",
    " - The name of the endpoint, and\n",
    " - the vocabulary object.\n",
    "\n",
    "We will copy these pieces of information to our Lambda function after we create it.\n",
    "\n",
    "To start, using the AWS Console, navigate to the AWS Lambda page and click on **Create a function**. When you get to the next page, make sure that **Author from scratch** is selected. Now, name your Lambda function, using a name that you will remember later on, for example `sentiment_analysis_xgboost_func`. Make sure that the **Python 3.6** runtime is selected and then choose the role that you created in the previous part. Then, click on **Create Function**.\n",
    "\n",
    "On the next page you will see some information about the Lambda function you've just created. If you scroll down you should see an editor in which you can write the code that will be executed when your Lambda function is triggered. Collecting the code we wrote above to process a single review and adding it to the provided example `lambda_handler` we arrive at the following.\n",
    "\n",
    "```python\n",
    "# We need to use the low-level library to interact with SageMaker since the SageMaker API\n",
    "# is not available natively through Lambda.\n",
    "import boto3\n",
    "\n",
    "# And we need the regular expression library to do some of the data processing\n",
    "import re\n",
    "\n",
    "REPLACE_NO_SPACE = re.compile(\"(\\.)|(\\;)|(\\:)|(\\!)|(\\')|(\\?)|(\\,)|(\\\")|(\\()|(\\))|(\\[)|(\\])\")\n",
    "REPLACE_WITH_SPACE = re.compile(\"(<br\\s*/><br\\s*/>)|(\\-)|(\\/)\")\n",
    "\n",
    "def review_to_words(review):\n",
    "    words = REPLACE_NO_SPACE.sub(\"\", review.lower())\n",
    "    words = REPLACE_WITH_SPACE.sub(\" \", words)\n",
    "    return words\n",
    "    \n",
    "def bow_encoding(words, vocabulary):\n",
    "    bow = [0] * len(vocabulary) # Start by setting the count for each word in the vocabulary to zero.\n",
    "    for word in words.split():  # For each word in the string\n",
    "        if word in vocabulary:  # If the word is one that occurs in the vocabulary, increase its count.\n",
    "            bow[vocabulary[word]] += 1\n",
    "    return bow\n",
    "\n",
    "\n",
    "def lambda_handler(event, context):\n",
    "    \n",
    "    vocab = \"*** ACTUAL VOCABULARY GOES HERE ***\"\n",
    "    \n",
    "    words = review_to_words(event['body'])\n",
    "    bow = bow_encoding(words, vocab)\n",
    "\n",
    "    # The SageMaker runtime is what allows us to invoke the endpoint that we've created.\n",
    "    runtime = boto3.Session().client('sagemaker-runtime')\n",
    "\n",
    "    # Now we use the SageMaker runtime to invoke our endpoint, sending the review we were given\n",
    "    response = runtime.invoke_endpoint(EndpointName = '***ENDPOINT NAME HERE***',# The name of the endpoint we created\n",
    "                                       ContentType = 'text/csv',                 # The data format that is expected\n",
    "                                       Body = ','.join([str(val) for val in bow]).encode('utf-8')) # The actual review\n",
    "\n",
    "    # The response is an HTTP response whose body contains the result of our inference\n",
    "    result = response['Body'].read().decode('utf-8')\n",
    "    \n",
    "    # Round the result so that our web app only gets '1' or '0' as a response.\n",
    "    result = round(float(result))\n",
    "\n",
    "    return {\n",
    "        'statusCode' : 200,\n",
    "        'headers' : { 'Content-Type' : 'text/plain', 'Access-Control-Allow-Origin' : '*' },\n",
    "        'body' : str(result)\n",
    "    }\n",
    "```"
   ]
  },
  {
   "cell_type": "markdown",
   "metadata": {},
   "source": [
    "Once you have copy and pasted the code above into the Lambda code editor, replace the `**ENDPOINT NAME HERE**` portion with the name of the endpoint that we deployed earlier. You can determine the name of the endpoint using the code cell below."
   ]
  },
  {
   "cell_type": "code",
   "execution_count": 55,
   "metadata": {},
   "outputs": [
    {
     "data": {
      "text/plain": [
       "'xgboost-2019-12-13-19-45-54-124'"
      ]
     },
     "execution_count": 55,
     "metadata": {},
     "output_type": "execute_result"
    }
   ],
   "source": [
    "xgb_predictor.endpoint"
   ]
  },
  {
   "cell_type": "markdown",
   "metadata": {},
   "source": [
    "In addition, you will need to copy the vocabulary dict to the appropriate place in the code at the beginning of the `lambda_handler` method. The cell below prints out the vocabulary dict in a way that is easy to copy and paste."
   ]
  },
  {
   "cell_type": "code",
   "execution_count": 54,
   "metadata": {},
   "outputs": [
    {
     "name": "stdout",
     "output_type": "stream",
     "text": [
      "{'70': 88, 'show': 4016, 'definit': 1233, 'funniest': 1893, 'current': 1148, 'tv': 4633, 'start': 4233, 'watch': 4844, 'two': 4640, 'half': 2072, 'year': 4981, 'ago': 179, 'soon': 4140, 'saw': 3865, 'could': 1075, 'tell': 4449, 'great': 2019, 'like': 2654, 'charact': 808, 'person': 3297, 'favorit': 1710, 'leo': 2627, 'also': 222, 'awesom': 395, 'realli': 3612, 'hope': 2202, 'come': 952, 'back': 405, 'hilari': 2162, 'classic': 889, 'goe': 1980, 'son': 4138, 'bitch': 525, 'yell': 4983, 'burn': 678, 'alway': 229, 'make': 2757, 'laugh': 2586, 'someth': 4134, 'funni': 1891, 'say': 3866, 'jacki': 2420, 'hot': 2219, 'anoth': 268, 'reason': 3615, 'good': 1989, 'look': 2694, 'damn': 1170, 'somewher': 4137, 'around': 316, 'season': 3908, '5': 83, '6': 85, 'got': 1996, 'seen': 3926, 'episod': 1565, '10': 4, 'time': 4519, 'still': 4255, 'one': 3155, 'much': 2977, 'first': 1764, 'cast': 762, 'almost': 216, 'everyon': 1604, 'mani': 2766, 'sad': 3833, 'see': 3920, 'end': 1531, 'next': 3058, 'go': 1975, 'air': 185, 'best': 498, 'ever': 1600, 'serious': 3956, 'disturb': 1358, 'movi': 2972, 'even': 1597, 'though': 4491, 'boy': 601, 'deserv': 1271, 'sadist': 3834, 'gruesom': 2048, 'execut': 1625, 'slightli': 4093, 'top': 4550, 'conscienc': 1014, 'earli': 1451, 'hunt': 2244, 'kill': 2527, 'offer': 3139, 'help': 2141, 'plot': 3362, 'begin': 474, 'promis': 3491, 'mediocr': 2833, 'affair': 164, 'viewer': 4780, 'fals': 1682, 'sens': 3938, 'secur': 3917, 'joy': 2479, 'thing': 4484, 'save': 3864, 'jack': 2418, 'nicholson': 3061, 'jump': 2489, 'bush': 682, 'batman': 451, 'kim': 2529, 'basing': 443, 'scream': 3895, 'would': 4957, 'cool': 1056, 'excel': 1618, 'film': 1750, 'adult': 156, 'swim': 4391, 'class': 888, 'problem': 3471, 'relationship': 3658, 'interact': 2376, 'manag': 2764, 'distribut': 1357, 'better': 502, 'similar': 4039, 'major': 2756, 'studio': 4305, 'reduc': 3635, 'teach': 4433, 'basic': 442, 'lesson': 2634, 'often': 3142, 'target': 4423, 'femal': 1727, 'student': 4303, 'attempt': 362, 'less': 2632, 'vari': 4748, 'result': 3716, 'mainstream': 2754, 'u': 4644, 'teacher': 4434, 'colleg': 942, 'retir': 3721, 'peopl': 3283, 'learn': 2607, 'cover': 1088, 'includ': 2305, 'friend': 1868, 'rel': 3656, 'romant': 3785, 'sever': 3966, 'subplot': 4318, 'provid': 3510, 'amus': 247, 'divorc': 1363, 'high': 2155, 'school': 3881, 'documentari': 1368, 'girl': 1957, 'meet': 2835, 'guy': 2062, 'date': 1188, 'mood': 2948, 'drama': 1399, 'realiti': 3610, 'finish': 1760, 'ridicul': 3749, 'bad': 410, 'disappoint': 1327, 'sure': 4365, 'someon': 4133, 'margin': 2778, 'entertain': 1555, 'feel': 1721, 'lot': 2702, 'writer': 4967, 'charg': 812, 'director': 1320, 'get': 1944, 'coffe': 930, 'etc': 1585, 'seem': 3924, 'want': 4830, 'coupl': 1083, 'differ': 1304, 'money': 2937, 'els': 1506, 'comment': 960, 'act': 136, 'disagre': 1325, 'actor': 139, 'abl': 100, 'keep': 2511, 'straight': 4275, 'face': 1664, 'perhap': 3291, 'give': 1959, 'credit': 1110, 'dvd': 1442, 'impress': 2294, 'mysteri': 2998, 'along': 218, 'line': 2661, 'histor': 2168, 'law': 2595, 'order': 3169, 'nation': 3015, 'treasur': 4594, 'nowher': 3105, 'take': 4410, 'turn': 4630, 'toward': 4563, 'twilight': 4637, 'zone': 4998, 'outer': 3185, 'limit': 2657, 'main': 2752, 'complaint': 977, 'play': 3352, 'evil': 1608, 'spike': 4182, 'white': 4892, 'hair': 2070, 'love': 2709, 'interest': 2377, 'appear': 293, 'wind': 4916, 'actual': 141, 'blow': 555, 'realiz': 3611, 'christian': 860, 'pretti': 3446, 'easi': 1457, 'spot': 4204, 'cinematographi': 874, 'poorli': 3387, 'done': 1377, 'especi': 1577, 'open': 3158, 'scene': 3876, 'way': 4851, 'put': 3538, 'foot': 1813, 'forward': 1835, 'atroci': 359, 'occasion': 3129, 'shot': 4012, 'old': 3148, 'ladi': 2566, 'pray': 3416, 'arm': 312, 'dark': 1183, 'room': 3792, 'strike': 4289, 'sort': 4147, 'littl': 2675, 'bit': 524, 'embarrass': 1512, 'bought': 593, 'toy': 4566, 'stori': 4271, 'tape': 4420, 'came': 706, 'video': 4777, 'releas': 3660, 'theater': 4475, 'trailer': 4577, 'said': 3839, 'creator': 1107, 'knew': 2540, 'gonna': 1988, 'featur': 1718, 'right': 3751, 'bug': 666, 'life': 2646, 'anim': 262, 'dim': 1311, 'voic': 4802, 'brad': 605, 'late': 2581, 'pixar': 3341, 'joe': 2462, 'walk': 4818, 'stick': 4253, 'david': 1192, 'hyde': 2249, 'pierc': 3329, 'lift': 2650, 'tri': 4601, 'distract': 1355, 'bird': 521, 'mr': 2973, 'nice': 3059, 'tast': 4426, 'worm': 4947, 'snap': 4111, 'die': 1303, 'big': 510, 'fan': 1687, 'think': 4485, 'know': 2545, 'consid': 1019, 'worst': 4952, 'hate': 2109, 'job': 2460, 'camp': 710, 'everi': 1601, 'twist': 4639, 'predict': 3425, 'obvious': 3127, 'lose': 2698, 'rate': 3591, '3': 73, 'drop': 1418, 'point': 3370, 'easili': 1459, 'grace': 2002, 'enough': 1549, 'beer': 470, 'world': 4946, 'found': 1839, 'uninterest': 4690, 'never': 3049, 'read': 3603, 'book': 579, 'thank': 4473, 'pain': 3217, 'experi': 1636, 'ticket': 4511, 'preview': 3448, 'free': 1859, 'worth': 4953, 'past': 3258, 'kid': 2523, 'live': 2677, 'gener': 1930, 'avoid': 386, 'stupid': 4310, 'mistak': 2913, 'howev': 2226, 'lame': 2569, 'ellen': 1504, 'write': 4966, 'review': 3730, 'posit': 3400, 'given': 1960, 'unfortun': 4682, 'convinc': 1051, 'experienc': 1637, 'wonder': 4936, 'cinema': 871, 'move': 2970, 'pictur': 3326, 'child': 839, 'god': 1977, 'dinosaur': 1316, 'heck': 2131, 'realist': 3609, 'flick': 1787, 'b': 399, 'giant': 1948, 'monster': 2942, 'work': 4944, 'dialog': 1294, 'effect': 1480, 'honest': 2193, 'real': 3606, 'pack': 3212, 'punch': 3526, 'gore': 1993, 'close': 913, 'engin': 1540, 'dri': 1409, 'sidewalk': 4029, 'obsess': 3123, 'flavor': 1780, 'exist': 1629, 'varieti': 4750, 'may': 2814, 'noth': 3098, 'disord': 1346, 'other': 3179, 'surviv': 4374, 'lack': 2563, 'combin': 951, 'inabl': 2298, 'daili': 1164, 'social': 4119, 'requir': 3696, 'compel': 972, 'geniu': 1933, 'enthusiast': 1558, 'embrac': 1513, 'comfort': 956, 'extrem': 1658, 'case': 756, 'object': 3117, 'becom': 467, 'drive': 1413, 'individu': 2323, 'began': 473, 'mean': 2822, 'discov': 1333, 'direct': 1318, 'level': 2638, 'intellig': 2372, 'insur': 2369, 'resolut': 3703, 'fact': 1667, 'situat': 4065, 'prejudic': 3428, 'prefer': 3426, 'moreov': 2954, 'quarter': 3544, 'italian': 2414, 'resort': 3706, '1920': 16, 'alexand': 202, 'john': 2465, 'gather': 1922, 'chess': 832, 'winner': 4919, 'champion': 799, 'master': 2801, 'game': 1910, 'vulner': 4811, 'long': 2692, 'sinc': 4051, 'rather': 3592, 'childhood': 840, 'total': 4558, 'inept': 2327, 'seemingli': 3925, 'area': 305, 'enabl': 1527, 'cope': 1059, 'subtl': 4323, 'immedi': 2280, 'famili': 1684, 'heel': 2132, 'flaw': 1781, 'understand': 4670, 'furthermor': 1896, 'exploit': 1644, 'gain': 1906, 'man': 2763, 'stuart': 4301, 'wilson': 4913, 'former': 1830, 'absenc': 107, 'suddenli': 4332, 'made': 2742, 'known': 2547, 'presenc': 3435, 'threaten': 4496, 'overwhelm': 3202, 'oppon': 3162, 'previou': 3449, 'match': 2803, 'emerg': 1514, 'draw': 1401, 'hour': 2221, 'resolv': 3704, 'new': 3051, 'element': 1496, 'young': 4989, 'woman': 4934, 'met': 2859, 'emili': 1515, 'watson': 4848, 'cloud': 918, 'push': 3537, 'deeper': 1225, 'well': 4872, 'curs': 1149, 'entir': 1559, 'use': 4723, 'flashback': 1777, 'gradual': 2004, 'reveal': 3726, 'quickli': 3549, 'led': 2612, 'background': 407, 'establish': 1580, 'afford': 167, 'insight': 2354, 'allow': 215, 'audienc': 370, 'fulli': 1885, 'appropri': 299, 'atmospher': 357, 'carri': 752, 'underli': 4665, 'present': 3436, 'set': 3961, 'transit': 4583, 'weav': 4863, 'togeth': 4532, 'handl': 2085, 'pace': 3209, 'rivet': 3763, 'yet': 4986, 'menac': 2847, 'produc': 3476, 'concentr': 992, 'suspens': 4379, 'ultim': 4648, 'serv': 3957, 'overal': 3195, 'impact': 2285, 'tragedi': 4574, 'believ': 482, 'unsettl': 4709, 'singl': 4055, 'memor': 2844, 'affect': 165, 'perform': 3290, 'must': 2993, 'absolut': 109, 'moment': 2935, 'disastr': 1329, 'happen': 2090, 'creat': 1104, 'true': 4620, 'captur': 733, 'term': 4460, 'except': 1619, 'equal': 1567, 'surpass': 4369, 'rush': 3823, 'portray': 3397, 'shine': 3998, 'compar': 969, 'sid': 4026, 'hero': 2146, 'pete': 3304, 'brother': 650, 'art': 322, 'al': 191, 'box': 599, 'incred': 2315, 'rang': 3581, 'remark': 3672, 'artist': 326, 'truli': 4621, 'fairli': 1676, 'reserv': 3700, 'develop': 1289, 'quit': 3554, 'somewhat': 4136, 'relat': 3657, 'importantli': 2291, 'detail': 1284, 'bring': 635, 'lend': 2624, 'credibl': 1109, 'eye': 1659, 'convey': 1049, 'terrif': 4464, 'talent': 4413, 'gift': 1949, 'support': 4361, 'jame': 2426, 'christoph': 863, 'thompson': 4489, 'peter': 3305, 'bradi': 606, 'anna': 264, 'mark': 2784, 'father': 1707, 'kelli': 2513, 'hunter': 2245, 'mother': 2962, 'craft': 1093, 'deliv': 1242, 'emot': 1517, 'involv': 2397, 'restrain': 3714, 'compass': 971, 'evok': 1609, 'sorrow': 4146, 'reflect': 3641, 'upon': 4716, 'need': 3030, 'cours': 1085, 'us': 4721, 'cruelti': 1132, 'medium': 2834, 'remind': 3674, 'forget': 1822, 'abil': 99, 'chang': 803, '9': 93, 'weak': 4854, 'script': 3900, 'cheesi': 829, 'special': 4169, 'delici': 1240, 'guilti': 2055, 'pleasur': 3358, 'carl': 743, 'kolchak': 2548, 'darren': 1186, 'enjoy': 1545, 'scienc': 3883, 'fiction': 1738, 'dracula': 1394, 'frankenstein': 1852, 'mummi': 2982, 'horror': 2213, 'stuff': 4306, 'crap': 1095, 'took': 4547, 'perspect': 3299, 'univers': 4694, 'win': 4914, 'side': 4027, 'duke': 1432, 'eastwood': 1462, 'dirti': 1323, 'harri': 2102, 'garner': 1919, 'mix': 2918, 'group': 2043, 'guest': 2052, 'star': 4229, 'humor': 2239, 'spite': 4191, 'danger': 1178, 'pursuit': 3536, 'truth': 4624, 'accept': 117, 'obligatori': 3119, 'incompet': 2308, 'eventu': 1599, 'govern': 2000, 'offici': 3141, 'addit': 147, 'unlik': 4698, 'will': 4910, 'neck': 3028, 'meant': 2826, 'demis': 1248, 'journalist': 2477, 'career': 738, 'jail': 2423, 'fault': 1708, 'cloth': 917, 'charm': 819, 'wit': 4926, 'drove': 1419, 'beauti': 465, 'yellow': 4984, 'car': 734, 'day': 1195, 'human': 2236, 'brought': 651, 'week': 4867, 'pass': 3253, 'fun': 1886, 'night': 3066, 'stalker': 4221, 'wealthi': 4858, 'psychiatrist': 3515, 'lindsay': 2660, 'publish': 3522, 'novel': 3103, 'profess': 3479, 'hopeless': 2203, 'patient': 3263, 'gambl': 1909, 'client': 901, 'ask': 334, 'pay': 3273, 'debt': 1208, 'spoil': 4196, 'hell': 2138, 'hous': 2222, 'con': 989, 'wrote': 4970, 'gem': 1927, 'full': 1883, 'dialogu': 1295, 'liner': 2663, 'guess': 2051, 'perfect': 3288, 'coincid': 933, 'last': 2580, 'utter': 4729, 'control': 1043, 'mind': 2890, 'lyric': 2735, 'song': 4139, 'confront': 1006, 'wrong': 4969, 'wife': 4905, 'dress': 1407, 'sung': 4349, 'content': 1033, 'loud': 2704, 'hear': 2121, 'neither': 3038, 'beaten': 462, 'fist': 1769, 'belt': 487, 'cartoonish': 755, 'absurd': 111, 'cartoon': 754, 'liter': 2672, 'astound': 352, 'discuss': 1335, 'black': 530, 'women': 4935, 'find': 1756, 'cheat': 824, 'debat': 1207, 'team': 4435, 'racism': 3561, 'might': 2874, 'possibl': 3402, 'endur': 1534, 'soundtrack': 4150, 'sound': 4149, 'technic': 4439, 'track': 4569, 'edit': 1475, 'desper': 1275, 'felt': 1726, 'sorri': 4145, 'anthoni': 273, 'quinn': 3552, 'role': 3780, 'favourit': 1712, 'seri': 3953, 'call': 703, 'mail': 2751, 'clich': 899, 'violenc': 4787, 'mafia': 2744, 'sex': 3967, 'drug': 1421, 'alreadi': 220, 'anyth': 284, 'small': 4101, 'screen': 3896, 'add': 145, 'fit': 1770, 'type': 4642, 'brain': 607, 'that': 4474, 'tough': 4560, 'compet': 974, 'stand': 4224, 'toni': 4545, 'soprano': 4143, 'edi': 1474, 'roll': 3781, 'word': 4942, 'cannot': 723, 'express': 1650, 'psycholog': 3518, 'brillianc': 632, 'grip': 2037, 'stop': 4269, 'question': 3547, 'anyon': 283, 'care': 737, 'action': 137, 'listen': 2670, 'redempt': 3633, 'braveheart': 612, 'superb': 4353, 'tim': 4517, 'roth': 3802, 'hurt': 2246, 'jessica': 2449, 'lang': 2575, 'impos': 2292, 'size': 4068, 'brilliant': 633, 'breathtak': 621, 'virtual': 4792, 'flawless': 1782, 'amaz': 233, '50': 84, '100': 5, 'passion': 3257, 'regist': 3647, 'imdb': 2277, 'let': 2636, 'scoop': 3887, 'awak': 389, 'attent': 365, '30': 74, 'minut': 2900, 'introduc': 2388, 'span': 4161, 'longer': 2693, 'juvenil': 2497, 'site': 4064, 'lord': 2696, 'ring': 3752, 'matrix': 2807, 'age': 174, 'ice': 2254, 'pick': 3324, 'sit': 4062, 'abort': 103, 'ray': 3597, 'shame': 3978, 'industri': 2326, 'shown': 4020, 'rumor': 3819, 'threw': 4498, 'floor': 1793, 'break': 616, 'taken': 4411, 'away': 393, 'marri': 2787, 'loser': 2699, 'wanna': 4828, 'stay': 4240, 'london': 2689, 'return': 3723, 'usa': 4722, 'pleas': 3355, 'wast': 4843, 'beg': 472, 'tune': 4626, 'drum': 1422, 'ford': 1818, 'american': 240, 'histori': 2169, 'henri': 2144, 'fonda': 1808, 'three': 4497, 'era': 1571, 'certain': 790, 'place': 3342, 'emphasi': 1521, 'cultur': 1142, 'surround': 4373, 'pioneer': 3335, 'america': 239, 'bloom': 554, 'indian': 2320, 'forc': 1817, '19th': 53, 'centuri': 787, 'invent': 2392, 'creativ': 1106, 'amongst': 244, 'tall': 4416, 'lawyer': 2597, 'name': 3006, 'lincoln': 2658, 'later': 2582, 'accomplish': 123, 'essenc': 1578, 'persona': 3298, 'although': 225, 'exactli': 1614, 'uniqu': 4692, 'balanc': 419, 'dream': 1404, 'form': 1828, 'symbol': 4395, 'inde': 2316, 'warm': 4834, 'event': 1598, 'legaci': 2616, 'mari': 2779, 'todd': 4530, 'hard': 2094, 'simpli': 4044, 'tribut': 4605, 'wide': 4900, 'regard': 3644, 'greatest': 2021, 'presid': 3438, 'quiet': 3550, 'straightforward': 4276, 'rare': 3589, 'today': 4529, 'men': 2846, 'shark': 3982, 'hyster': 2252, 'channel': 804, 'culmin': 1140, 'premier': 3429, 'origin': 3173, 'base': 437, 'highli': 2158, 'essenti': 1579, 'remak': 3671, 'creatur': 1108, 'attack': 361, 'hilar': 2161, 'readi': 3605, 'mad': 2741, 'scientist': 3885, 'oh': 3143, 'sick': 4024, 'mess': 2856, 'suspend': 4378, 'tabl': 4401, 'head': 2115, 'insan': 2351, 'deliber': 1238, 'jesu': 2450, 'monkey': 2939, 'thought': 4492, 'cancer': 717, 'via': 4768, 'evolut': 1610, 'race': 3558, 'darn': 1185, 'gene': 1929, 'instead': 2363, 'rape': 3586, 'babe': 400, 'send': 3936, 'jungl': 2491, 'paradis': 3235, 'eat': 1463, 'check': 825, 'among': 243, 'random': 3579, 'research': 3698, 'island': 2408, 'engag': 1539, 'bet': 499, 'lead': 2602, 'touch': 4559, 'heartfelt': 2125, 'reunion': 3724, 'indic': 2321, 'tank': 4418, 'sweet': 4389, 'proof': 3494, 'everyth': 1605, 'tarantino': 4422, 'gold': 1982, 'plastic': 3349, 'without': 4929, 'probabl': 3470, 'sat': 3858, 'shelf': 3990, 'assum': 348, 'fascin': 1699, 'death': 1206, 'clean': 893, 'crime': 1116, 'angela': 257, 'jone': 2473, 'unconvinc': 4659, 'william': 4912, 'baldwin': 420, 'serial': 3954, 'killer': 2528, 'employ': 1523, 'poor': 3386, 'routin': 3807, 'thriller': 4500, 'concern': 994, 'lurk': 2730, 'televis': 4448, 'dad': 1162, 'tonight': 4546, 'went': 4875, 'opinion': 3161, 'least': 2608, 'children': 842, 'hide': 2153, 'hatr': 2110, 'plan': 3345, 'murder': 2985, 'innoc': 2349, 'format': 1829, 'pull': 3523, 'hand': 2083, 'held': 2135, 'camera': 708, 'perfectli': 3289, 'april': 301, '20th': 66, '1999': 52, 'eric': 1572, 'dylan': 1444, '12': 7, 'media': 2831, 'storm': 4272, 'follow': 1806, 'basement': 439, 'version': 4763, 'behind': 478, 'market': 2785, 'blockbust': 550, 'gone': 1987, 'deal': 1201, 'zero': 4995, 'adapt': 144, 'shoot': 4005, 'ten': 4453, 'mostli': 2961, 'focus': 1802, 'andr': 254, 'rent': 3681, 'guarante': 2049, 'ghost': 1946, 'hollow': 2183, 'biggest': 512, 'sin': 4049, 'commit': 963, 'defi': 1231, 'traffic': 4573, 'fanat': 1688, 'busi': 683, 'rival': 3761, 'pressur': 3440, 'drag': 1395, 'rock': 3775, 'n': 3002, 'folk': 1805, 'intern': 2380, 'fond': 1807, 'decent': 1213, 'squar': 4211, 'teen': 4445, 'parti': 3246, 'doubl': 1385, 'exchang': 1621, 'fresh': 1865, 'throat': 4501, 'arriv': 319, 'brief': 629, 'climact': 904, 'pre': 3417, 'scoobi': 3886, 'doo': 1380, 'style': 4311, 'nostalgia': 3094, 'buff': 664, 'mindless': 2891, 'thrill': 4499, 'glamor': 1962, 'sexual': 3969, 'program': 3485, 'suck': 4329, 'titl': 4528, 'nuditi': 3109, 'vulgar': 4810, 'broad': 640, 'mute': 2995, 'neat': 3024, 'western': 4878, 'state': 4235, 'teenag': 4446, 'wive': 4931, 'correctli': 1070, 'chosen': 856, 'home': 2188, 'rule': 3818, 'sometim': 4135, 'section': 3916, 'husband': 2247, 'conclud': 996, 'portion': 3395, 'fight': 1744, 'gave': 1923, 'corrupt': 1071, 'averag': 385, 'behavior': 476, 'refer': 3640, 'privat': 3467, 'part': 3245, 'necessari': 3026, 'lower': 2712, 'luke': 2726, 'reaction': 3602, 'consequ': 1017, 'throughout': 4502, 'messag': 2857, 'bulli': 672, 'examin': 1616, 'unexpect': 4676, 'billi': 518, 'whether': 4888, 'surpris': 4370, 'compromis': 987, 'import': 2290, 'rank': 3583, 'determin': 1286, 'instal': 2359, 'wors': 4950, 'vice': 4770, 'nearli': 3023, 'fifteen': 1741, 'rememb': 3673, 'twice': 4636, 'doubt': 1386, 'rest': 3711, 'assur': 349, 'franchis': 1847, 'enter': 1553, 'sign': 4032, 'pop': 3388, 'magazin': 2745, 'contain': 1029, 'explan': 1641, 'articl': 324, 'explain': 1640, 'freddi': 1858, 'left': 2614, 'grown': 2045, 'decid': 1215, 'alic': 205, 'far': 1692, 'unrel': 4706, 'public': 3521, 'trivia': 4616, 'concept': 993, 'expect': 1633, 'joke': 2469, 'categori': 768, 'ala': 192, 'sheer': 3988, 'system': 4400, 'piec': 3328, 'garbag': 1915, 'genuin': 1937, 'frighten': 1872, 'attract': 368, 'activ': 138, 'fortun': 1834, 'depend': 1258, 'lisa': 2668, 'comparison': 970, 'either': 1488, 'adventur': 159, 'blade': 532, 'robert': 3770, 'product': 3477, 'offic': 3140, 'steadi': 4241, 'declin': 1218, 'particular': 3249, 'predecessor': 3424, 'fail': 1671, 'succeed': 4327, 'alien': 207, 'core': 1062, 'despit': 1278, 'five': 1771, 'bright': 631, 'four': 1840, 'insult': 2368, 'nightmar': 3068, 'elm': 1505, 'street': 4283, 'appeal': 292, 'idea': 2257, 'succe': 4326, 'continu': 1036, 'nobodi': 3075, 'notic': 3099, 'shed': 3987, 'light': 2651, 'onto': 3157, 'footag': 1814, 'h': 2063, 'heard': 2122, 'whole': 4894, 'st': 4212, 'martin': 2794, 'fulci': 1881, 'bore': 583, 'iron': 2402, 'recognis': 3622, 'hopelessli': 2204, 'epic': 1564, 'fantasi': 1690, 'genr': 1934, 'structur': 4299, 'conan': 990, 'ye': 4979, 'arnold': 315, 'hardli': 2098, 'budget': 663, 'dog': 1369, 'soldier': 4124, 'bunch': 675, 'metal': 2860, 'music': 2990, 'slam': 4077, 'excus': 1624, 'shop': 4007, 'tire': 4525, 'buy': 691, 'simmon': 4041, 'terribl': 4463, 'descript': 1269, 'rooki': 3791, 'train': 4578, 'stark': 4232, 'contract': 1037, 'fire': 1761, 'fighter': 1745, 'aspir': 337, 'natur': 3017, 'deliveri': 1244, 'imposs': 2293, 'tear': 4436, 'english': 1542, 'york': 4988, 'visit': 4796, 'septemb': 3949, 'second': 3910, 'devast': 1288, 'loss': 2700, 'destruct': 1282, 'citi': 878, 'collaps': 938, 'glad': 1961, 'build': 667, 'memori': 2845, 'futur': 1897, 'conspiraci': 1022, 'anger': 258, 'romanc': 3784, 'complet': 978, 'brando': 610, 'anyway': 285, 'fall': 1680, 'curiou': 1146, 'excit': 1622, 'belief': 481, 'christ': 858, 'kind': 2530, 'view': 4779, 'matter': 2809, 'written': 4968, 'bibl': 508, 'maria': 2780, 'virgin': 4789, 'peac': 3275, 'angri': 260, 'somebodi': 4130, 'sentenc': 3945, 'context': 1035, 'exampl': 1617, 'enemi': 1535, 'mine': 2892, 'king': 2532, 'front': 1874, 'luka': 2725, '19': 15, 'told': 4536, 'passag': 3255, 'quot': 3555, 'pseudo': 3513, 'fill': 1748, 'inform': 2336, 'anybodi': 281, 'pure': 3532, 'manipul': 2768, 'destroy': 1281, 'basi': 441, 'civil': 880, 'approach': 298, 'fear': 1715, 'jare': 2433, 'paul': 3268, 'proper': 3497, 'pleasantli': 3357, 'michael': 2868, '1970': 27, 'across': 135, 'confid': 1002, 'biographi': 520, 'beatl': 463, 'imagin': 2276, '1976': 32, 'convers': 1047, 'glimps': 1967, 'musician': 2991, 'broke': 643, 'talk': 4414, 'fantast': 1691, 'storytel': 4274, 'shock': 4002, 'counterpart': 1078, 'intim': 2385, 'priceless': 3453, 'tale': 4412, 'certainli': 791, 'recommend': 3625, 'hype': 2250, 'myth': 3000, 'premis': 3431, 'spooki': 4202, 'miss': 2910, 'kept': 2518, 'wait': 4815, 'boo': 577, 'plagu': 3343, 'thu': 4506, 'session': 3960, 'cube': 1138, 'low': 2711, 'conceiv': 991, 'encourag': 1530, 'aw': 387, 'storylin': 4273, 'countri': 1080, 'cheap': 823, 'nasti': 3012, 'happi': 2091, 'prevent': 3447, '1': 3, 'score': 3889, 'harvey': 2107, 'effort': 1482, 'dull': 1433, 'locat': 2683, 'critic': 1121, 'commentari': 961, 'topic': 4551, 'franc': 1846, 'regular': 3649, 'partner': 3252, '7': 87, 'boyfriend': 603, 'heart': 2123, 'isabel': 2406, 'distinct': 1352, 'answer': 269, 'kick': 2522, 'wake': 4817, 'speech': 4173, 'jule': 2485, 'et': 1584, 'jim': 2456, 'final': 1753, 'cold': 934, 'headach': 2116, 'forgiv': 1824, 'warn': 4836, 'spoiler': 4197, 'corni': 1066, 'fontain': 1809, 'particularli': 3250, 'richard': 3742, 'wooden': 4940, 'lie': 2645, 'bed': 468, 'poison': 3372, 'faith': 1677, 'joan': 2459, 'stroke': 4293, 'usual': 4727, 'self': 3930, 'suppos': 4362, 'feet': 1722, 'empti': 1525, 'space': 4157, 'disney': 1345, 'dare': 1182, 'award': 392, 'hole': 2179, 'troubl': 4618, 'purpos': 3534, 'matur': 2812, 'admit': 151, 'besid': 497, 'method': 2862, 'correct': 1069, 'facil': 1666, 'forbidden': 1816, 'dig': 1307, 'contribut': 1041, 'smart': 4103, 'short': 4008, 'sequel': 3950, 'popular': 3391, 'pig': 3330, 'chanc': 802, 'redeem': 3632, 'price': 3452, 'paid': 3216, 'lost': 2701, '00': 1, 'bomb': 572, 'crew': 1114, 'member': 2843, 'boat': 563, 'fbi': 1714, 'alleg': 211, 'revolv': 3735, 'door': 1382, 'magic': 2747, 'transform': 4582, 'automat': 382, 'ponder': 3384, 'agent': 177, 'weapon': 4859, 'ms': 2974, 'r': 3556, 'editor': 1476, 'cut': 1155, 'graduat': 2005, 'retard': 3720, 'unbeliev': 4656, 'list': 2669, 'note': 3097, 'store': 4270, 'slip': 4095, 'insid': 2353, 'custom': 1154, 'rap': 3585, 'user': 4725, '2': 55, 'grave': 2016, 'hang': 2087, 'sequenc': 3951, 'jet': 2451, 'li': 2641, 'honestli': 2195, 'load': 2680, 'mask': 2796, 'wall': 4821, 'run': 3820, 'plenti': 3359, 'decapit': 1211, 'slaughter': 4082, 'martial': 2792, 'hold': 2178, 'gratuit': 2015, 'whatsoev': 4884, 'magnific': 2749, 'intrigu': 2387, 'bewar': 505, 'horrend': 2208, 'dub': 1425, 'younger': 4990, 'holm': 2185, 'refus': 3643, 'butcher': 687, 'receiv': 3618, 'translat': 4584, 'cross': 1125, 'field': 1740, 'east': 1460, 'germani': 1942, 'west': 4877, 'polish': 3381, 'frontier': 1876, 'similarli': 4040, 'damag': 1167, 'integr': 2370, 'bridg': 627, 'divid': 1361, 'ideal': 2258, 'suffer': 4334, 'due': 1430, 'influenc': 2334, 'gotten': 1999, 'educ': 1477, 'depart': 1256, 'physic': 3322, 'capabl': 727, 'author': 381, 'water': 4847, 'literari': 2673, 'devic': 1290, 'comic': 957, 'minor': 2898, 'logic': 2686, 'analysi': 248, 'tie': 4512, 'chainsaw': 795, 'gag': 1905, 'cabl': 696, 'spend': 4176, 'buck': 660, 'jerri': 2447, 'inferior': 2332, 'tom': 4538, 'agre': 180, 'cat': 765, 'scari': 3873, 'radio': 3565, 'broadcast': 641, 'observ': 3122, 'scare': 3870, 'dilemma': 1310, 'sheet': 3989, 'chase': 820, 'accident': 120, 'bite': 526, 'maid': 2750, 'cup': 1143, 'wish': 4925, 'slapstick': 4079, 'famou': 1686, 'machin': 2738, 'screenplay': 3897, 'noir': 3077, 'hung': 2242, 'step': 4247, 'urg': 4720, 'pour': 3409, 'rain': 3567, 'potenti': 3406, 'bride': 626, 'disappear': 1326, 'appar': 291, 'dick': 1300, 'hire': 2167, 'slug': 4099, 'blind': 547, 'ok': 3145, 'finest': 1758, 'lane': 2574, 'boston': 589, 'outing': 3187, 'wet': 4879, 'unless': 4697, 'spray': 4205, 'sea': 3903, 'clock': 911, 'avail': 383, 'normal': 3088, 'dont': 1379, 'swear': 4385, 'annoy': 267, 'rambl': 3572, 'pretenti': 3445, 'claim': 882, 'drink': 1411, 'construct': 1026, 'figur': 1746, 'maci': 2740, 'grin': 2035, 'attend': 364, 'bay': 453, 'north': 3090, 'river': 3762, 'summer': 4346, 'cabin': 695, 'becam': 466, 'junior': 2492, 'senior': 3937, 'within': 4928, 'power': 3412, 'sell': 3932, 'neglect': 3033, 'benefit': 492, 'contact': 1028, 'curti': 1151, 'resid': 3701, 'properti': 3499, 'idol': 2263, 'fish': 1766, 'design': 1272, 'ball': 421, 'etern': 1586, 'third': 4486, 'pokemon': 3374, 'older': 3149, 'rocket': 3776, 'bare': 431, 'watchabl': 4845, 'none': 3083, 'segment': 3927, 'mildli': 2879, 'middl': 2872, 'plain': 3344, 'brutal': 655, 'comed': 953, 'standard': 4225, 'lampoon': 2570, 'prequel': 3434, 'trek': 4598, 'doom': 1381, 'rick': 3744, 'artifici': 325, 'futurist': 1898, 'increasingli': 2314, 'dramat': 1400, 'runner': 3821, 'uninspir': 4688, 'rehash': 3650, 'disregard': 1349, 'mytholog': 3001, 'obviou': 3126, 'consist': 1021, 'bubbl': 659, 'outsid': 3192, 'contemporari': 1031, 'landscap': 2573, 'demand': 1246, 'sophist': 4142, 'desir': 1273, 'higher': 2156, 'up': 4713, 'paramount': 3237, 'enterpris': 1554, 'driven': 1415, 'qualiti': 3543, 'shield': 3996, 'measur': 2828, 'competit': 975, 'hundr': 2241, 'mile': 2881, 'hollywood': 2184, 'resum': 3717, 'difficult': 1305, 'argument': 308, 'share': 3981, 'luck': 2719, 'whose': 4898, 'philosoph': 3314, 'difficulti': 1306, 'reach': 3600, 'goal': 1976, 'flashi': 1778, 'slow': 4097, 'simpl': 4043, 'sugar': 4337, 'nonsens': 3085, 'asham': 330, 'argu': 306, 'shallow': 3977, 'pride': 3454, 'stood': 4267, 'everybodi': 1602, 'deep': 1224, 'chicago': 835, 'fine': 1757, 'sissi': 4060, 'lynch': 2734, 'aim': 184, 'hit': 2171, 'bull': 670, 'lone': 2690, 'garden': 1917, 'gross': 2040, 'cruel': 1131, 'trashi': 4589, 'valley': 4739, 'doll': 1370, 'nake': 3005, 'miscast': 2904, 'flat': 1779, 'project': 3488, 'saturday': 3862, 'fever': 1735, 'wear': 4860, 'pregnant': 3427, 'practic': 3413, 'nervou': 3045, 'breakdown': 617, 'float': 1791, 'freez': 1862, 'frame': 1845, 'subsequ': 4319, 'overdon': 3197, 'trash': 4588, 'eighti': 1486, 'therefor': 4480, '4': 79, 'somehow': 4132, 'violent': 4788, 'calm': 704, 'otherwis': 3180, 'rabbit': 3557, 'unsuspect': 4710, 'warren': 4839, 'journey': 2478, 'roger': 3779, 'ebert': 1465, 'respect': 3708, 'spectacular': 4172, 'choru': 854, 'broadway': 642, 'incorrect': 2312, 'dancer': 1175, 'common': 964, 'showcas': 4017, 'poignant': 3369, 'studi': 4304, 'confus': 1007, 'thoroughli': 4490, 'closer': 914, 'mayb': 2815, 'silent': 4036, 'imag': 2274, 'freedom': 1860, 'movement': 2971, 'reminisc': 3675, 'backdrop': 406, 'internet': 2381, 'non': 3082, 'spirit': 4188, 'raj': 3569, 'gandhi': 1911, 'attorney': 367, 'south': 4153, 'africa': 170, 'ideolog': 2261, 'degre': 1235, 'convict': 1050, 'spread': 4206, 'awar': 391, 'humour': 2240, 'threat': 4495, 'british': 638, 'india': 2319, 'silenc': 4035, 'politician': 3383, 'mention': 2849, 'spell': 4175, 'psych': 3514, 'alon': 217, 'unrealist': 4705, 'ambit': 237, 'huge': 2231, 'ship': 3999, 'success': 4328, 'frustrat': 1878, 'mental': 2848, 'derang': 1263, 'extent': 1654, 'religi': 3666, 'alcohol': 198, 'neg': 3032, 'sincer': 4052, 'humbl': 2237, 'conclus': 997, 'merit': 2852, 'cousin': 1087, 'opportun': 3163, 'england': 1541, 'thrown': 4504, 'celebr': 778, 'manner': 2771, 'clever': 897, 'strong': 4294, 'armi': 313, 'brave': 611, 'sadli': 3835, 'naiv': 3004, 'piti': 3339, 'ruin': 3816, 'shall': 3976, 'disast': 1328, 'outstand': 3193, '17': 13, 'rosario': 3797, 'dawson': 1194, 'recent': 3619, 'gentleman': 1936, 'invit': 2396, 'dinner': 1315, 'apart': 287, 'incid': 2303, 'scar': 3869, 'club': 920, 'patrick': 3265, 'drunk': 1423, 'friendship': 1870, 'assist': 345, 'catch': 766, 'smooth': 4109, 'upper': 4717, 'repeat': 3683, 'focu': 1801, 'rapist': 3588, 'coach': 925, 'poetic': 3367, 'improv': 2296, 'leg': 2615, 'steal': 4242, 'chuck': 865, 'ador': 155, 'oliv': 3151, 'aunt': 374, 'delight': 1241, 'bigger': 511, 'news': 3056, 'print': 3464, 'bowl': 598, 'popcorn': 3389, 'fashion': 1701, 'dr': 1393, 'zombi': 4997, 'comput': 988, 'conduct': 1000, 'stage': 4216, 'favor': 1709, 'overact': 3194, 'suitabl': 4341, 'dumb': 1434, 'truck': 4619, 'driver': 1416, 'minist': 2897, 'princip': 3462, 'investig': 2394, 'chip': 846, 'secret': 3913, 'react': 3601, 'be': 455, 'strictli': 4288, 'scientif': 3884, 'exercis': 1626, 'surprisingli': 4371, 'weird': 4870, 'asleep': 335, 'oddli': 3135, 'wacki': 4813, '15': 11, 'scratch': 3894, 'exit': 1630, 'wild': 4907, 'breast': 619, 'c': 694, '0': 0, 'bond': 573, 'mission': 2912, 'brosnan': 649, 'graphic': 2012, 'swedish': 4387, 'seek': 3923, 'inspir': 2358, 'girlfriend': 1958, 'priest': 3455, 'battl': 452, 'defend': 1229, 'nobl': 3074, 'caus': 773, 'okay': 3146, 'actress': 140, 'jeremi': 2445, 'ahead': 182, 'month': 2945, 'whenev': 4886, 'ashley': 331, 'wave': 4849, 'surf': 4366, 'fifti': 1743, 'near': 3021, 'primari': 3456, 'sport': 4203, 'candid': 719, 'layer': 2599, 'particip': 3248, 'fabul': 1663, 'scope': 3888, 'aspect': 336, 'ben': 489, 'stiller': 4256, 'farc': 1693, 'superhero': 4356, 'outrag': 3190, 'fame': 1683, 'color': 945, 'comedi': 954, 'goofi': 1991, 'la': 2559, 'superman': 4358, 'strang': 4279, 'silli': 4037, 'languag': 2576, 'tame': 4417, 'recal': 3617, 'f': 1661, 'formula': 1831, 'alter': 223, 'trap': 4587, 'grand': 2008, 'fair': 1674, 'caricatur': 742, 'spi': 4178, 'crimin': 1117, 'amount': 246, 'preciou': 3421, 'tad': 4407, 'seriou': 3955, 'complex': 979, 'exposit': 1648, 'sibl': 4023, 'utterli': 4730, 'wise': 4924, 'candi': 718, 'fundament': 1889, 'afraid': 169, 'distinguish': 1353, 'surfac': 4367, 'linear': 2662, 'maker': 2758, 'kubrick': 2551, '2001': 58, 'appreci': 297, 'experiment': 1638, 'typic': 4643, 'post': 3403, 'modern': 2928, 'interview': 2384, 'choreograph': 852, 'danc': 1174, 'prepar': 3432, 'valu': 4740, 'pearl': 3277, 'surreal': 4372, 'horribl': 2209, 'fake': 1678, 'tea': 4432, 'ceremoni': 789, 'vain': 4736, 'vaniti': 4747, 'youth': 4992, 'gundam': 2059, 'wing': 4918, 'depth': 1261, 'band': 425, 'stylish': 4312, 'partli': 3251, 'clear': 894, 'endear': 1532, 'drawn': 1402, 'bias': 507, 'sentiment': 3946, 'attach': 360, 'address': 148, 'war': 4831, 'obtain': 3125, 'larg': 2577, 'robot': 3773, 'suit': 4340, 'resembl': 3699, 'puzzl': 3539, 'rural': 3822, 'alvin': 228, 'lauren': 2592, 'offens': 3138, 'speak': 4167, 'deer': 1227, 'complain': 976, 'leav': 2610, 'cook': 1054, 'dear': 1205, 'meat': 2829, 'yard': 4977, 'fix': 1772, 'daughter': 1189, 'haunt': 2111, 'insist': 2356, 'bar': 429, 'harsh': 2104, 'soul': 4148, 'confess': 1001, 'fatal': 1705, 'sniper': 4114, 'forev': 1821, 'encount': 1529, 'labor': 2562, 'cost': 1072, 'hat': 2108, 'honor': 2197, 'simplic': 4045, 'wisdom': 4923, 'justic': 2494, 'regret': 3648, 'thief': 4482, 'search': 3907, 'stolen': 4264, 'conrad': 1013, 'princess': 3461, 'justin': 2496, 'fourth': 1841, 'villain': 4785, 'princ': 3460, 'geni': 1932, 'bottl': 591, 'collect': 940, 'mechan': 2830, 'fli': 1786, 'hors': 2214, 'count': 1076, 'nowaday': 3104, 'spider': 4180, 'kong': 2549, 'willi': 4911, 'motion': 2963, 'thousand': 4493, 'puppet': 3529, 'string': 4290, 'remot': 3676, '8': 91, 'talki': 4415, 'remain': 3670, 'cusack': 1152, 'hotel': 2220, 'freak': 1856, 'everyday': 1603, 'bake': 416, 'theme': 4478, 'tack': 4403, 'choic': 847, 'ride': 3747, 'alarm': 194, 'crazi': 1102, 'hammer': 2080, 'account': 125, 'stephen': 4248, 'guid': 2053, 'caught': 772, 'melissa': 2838, 'hart': 2105, 'sabrina': 3830, 'witch': 4927, 'vile': 4783, 'ordinari': 3170, 'parent': 3239, 'odd': 3134, 'phil': 3311, 'ryan': 3829, 'cure': 1144, 'interestingli': 2378, 'tremend': 4599, 'profession': 3480, 'hook': 2199, 'monument': 2947, 'moron': 2958, 'sean': 3906, 'shift': 3997, 'realis': 3607, 'weekend': 4868, 'adequ': 149, 'medic': 2832, 'seven': 3964, 'soap': 4117, 'bizarr': 529, 'kitchen': 2536, 'food': 1810, 'bedroom': 469, 'basket': 444, 'fuller': 1884, 'toilet': 4533, 'seat': 3909, 'grief': 2032, 'cap': 726, 'arrang': 317, 'phone': 3316, 'vincent': 4786, 'conveni': 1045, 'slightest': 4092, 'gun': 2058, 'websit': 4865, 'boast': 562, 'curios': 1145, 'filmmak': 1751, 'plu': 3363, 'constant': 1023, 'guitar': 2057, 'bollywood': 571, 'gestur': 1943, 'instrument': 2367, 'comprehend': 984, 'anymor': 282, 'constantli': 1024, 'mom': 2934, 'achiev': 130, 'evolv': 1611, 'newer': 3053, 'plausibl': 3351, 'stretch': 4287, 'weather': 4862, 'alik': 208, 'blood': 552, 'stuck': 4302, 'specif': 4170, 'gear': 1925, 'instanc': 2360, 'join': 2468, 'circu': 876, 'dan': 1172, 'buri': 677, 'welcom': 4871, 'minu': 2899, 'lazi': 2600, 'theori': 4479, 'seldom': 3928, 'molli': 2933, 'cute': 1156, 'darker': 1184, 'trust': 4623, 'tendenc': 4456, 'grab': 2001, 'pirat': 3336, 'chemistri': 830, 'demonstr': 1250, 'whale': 4881, 'abus': 113, 'motiv': 2964, 'ol': 3147, 'duck': 1426, 'necessarili': 3027, 'plane': 3346, 'function': 1887, 'super': 4352, 'board': 561, 'reli': 3663, 'pilot': 3332, 'skill': 4071, 'vehicl': 4755, 'cannon': 722, 'period': 3293, 'belushi': 488, 'tender': 4457, 'basebal': 438, 'championship': 800, 'defeat': 1228, 'enorm': 1548, 'admir': 150, 'satisfi': 3861, 'cox': 1091, 'pleasant': 3356, 'notori': 3101, 'betti': 503, 'page': 3215, '2006': 63, 'mol': 2932, 'taylor': 4431, 'chri': 857, 'sarah': 3856, 'austin': 377, 'norman': 3089, 'legendari': 2619, 'pin': 3333, 'queen': 3545, 'infam': 2330, 'co': 924, 'rise': 3755, 'born': 586, 'rais': 3568, 'orient': 3172, 'lust': 2732, 'grew': 2030, 'gang': 1912, 'depict': 1259, 'escap': 1576, '1950': 23, 'divin': 1362, 'policeman': 3379, 'photograph': 3319, 'pose': 3398, 'sister': 4061, 'paula': 3269, 'undeni': 4663, 'bodi': 566, 'forest': 1820, 'tree': 4597, 'portrait': 3396, 'turner': 4631, 'psycho': 3517, 'andi': 253, 'neatli': 3025, 'cinematograph': 873, 'gorgeou': 1994, 'dougla': 1387, 'sirk': 4059, 'melodramat': 2841, 'feminist': 1729, 'fulfil': 1882, 'ensembl': 1550, 'fellow': 1725, 'stunt': 4309, 'senat': 3935, 'campaign': 711, 'edward': 1478, 'opposit': 3165, 'deepli': 1226, 'moral': 2952, 'bold': 569, 'male': 2760, 'fanci': 1689, 'decad': 1210, 'subject': 4315, 'teas': 4437, 'smile': 4106, 'bless': 545, 'radiat': 3563, 'masterpiec': 2802, 'creep': 1112, 'eccentr': 1466, 'pathet': 3261, 'financ': 1754, 'befriend': 471, 'wretch': 4965, 'kiss': 2535, 'ass': 338, 'whatev': 4883, 'cooper': 1057, 'guilt': 2054, 'process': 3474, 'reput': 3695, 'grotesqu': 2041, 'indulg': 2325, 'consciou': 1015, 'unimagin': 4687, 'tediou': 4444, 'factor': 1668, 'dimension': 1313, 'ego': 1484, 'anti': 274, 'bourn': 596, 'nail': 3003, 'choreographi': 853, 'polic': 3378, 'muddl': 2978, 'sudden': 4331, 'player': 3354, 'protect': 3506, 'pamela': 3228, 'parson': 3244, 'tight': 4515, 'intens': 2374, 'veteran': 4766, 'albert': 196, 'slight': 4091, 'polit': 3382, 'rendit': 3680, 'polici': 3380, 'trilog': 4609, 'visitor': 4797, 'travesti': 4593, 'unbear': 4655, 'rough': 3804, 'speci': 4168, 'infect': 2331, 'invas': 2391, 'misfortun': 2907, 'suggest': 4338, 'terror': 4467, 'techniqu': 4441, 'sci': 3882, 'fi': 1736, 'regardless': 3645, 'countless': 1079, 'bloodi': 553, 'narrat': 3009, 'amateurish': 232, 'red': 3631, 'cuba': 1136, 'godzilla': 1979, 'vs': 4809, 'undead': 4662, 'mob': 2921, 'blue': 557, 'epitom': 1566, 'ad': 142, 'dire': 1317, 'canadian': 715, 'german': 1941, 'prior': 3465, 'mum': 2981, 'devot': 1293, 'wipe': 4921, 'incoher': 2307, 'useless': 4724, 'appal': 290, 'display': 1347, 'bikini': 515, 'clad': 881, 'sexi': 3968, 'worthi': 4954, 'compani': 967, 'fool': 1811, 'territori': 4466, 'breakfast': 618, 'pointless': 3371, 'challeng': 797, 'convent': 1046, 'tens': 4458, 'goof': 1990, 'melodrama': 2840, 'k': 2498, 'hara': 2093, 'travel': 4592, 'secretli': 3915, 'meanwhil': 2827, 'amazingli': 234, 'ballet': 422, 'unnecessari': 4699, 'vote': 4807, 'brazil': 614, 'victor': 4773, 'dollar': 1371, 'cynic': 1159, 'ape': 288, 'edgi': 1473, 'intellectu': 2371, 'realism': 3608, 'dentist': 1254, 'upset': 4718, 'separ': 3948, 'irrit': 2405, 'campbel': 712, 'scott': 3892, 'ned': 3029, 'simpson': 4047, 'mild': 2878, 'davi': 1191, 'stiff': 4254, 'housewif': 2224, 'amateur': 231, 'opera': 3160, 'sing': 4053, 'flirt': 1790, 'dread': 1403, 'institut': 2365, 'proceed': 3473, 'profit': 3483, 'choos': 849, 'pretend': 3443, 'ignor': 2265, 'yawn': 4978, 'ho': 2175, 'hum': 2235, 'jane': 2429, 'materi': 2805, 'compens': 973, 'deni': 1251, 'devil': 1291, 'shoulder': 4013, 'virtu': 4791, 'dump': 1435, 'buddi': 662, 'torment': 4553, 'shut': 4022, 'recogniz': 3624, 'pair': 3220, 'cruis': 1133, 'kidman': 2525, 'clearli': 895, 'relev': 3662, 'youngest': 4991, 'bill': 517, 'trace': 4567, '1979': 35, '2003': 60, 'domest': 1373, 'hoffman': 2176, 'vomit': 4805, 'inan': 2301, 'directori': 1321, 'grant': 2011, 'stomach': 4265, 'round': 3805, 'household': 2223, 'initi': 2343, 'pitt': 3340, 'substitut': 4321, 'e': 1447, 'prove': 3509, 'authent': 380, 'bean': 457, 'contriv': 1042, 'triangl': 4603, 'expand': 1632, 'key': 2520, 'sharp': 3984, 'tongu': 4544, 'crucial': 1129, 'owen': 3204, 'handsom': 2086, 'park': 3241, 'arthur': 323, 'confirm': 1004, 'bland': 537, 'wig': 4906, 'walker': 4820, 'enchant': 1528, 'patriot': 3266, 'lacklust': 2564, 'sore': 4144, 'lip': 2667, 'costum': 1073, 'sir': 4058, 'sceneri': 3877, 'brown': 652, 'gray': 2017, 'hint': 2164, 'sunni': 4350, 'sky': 4076, 'green': 2026, 'sunshin': 4351, 'depress': 1260, 'ought': 3181, 'subtitl': 4322, 'window': 4917, 'unpleas': 4701, 'mike': 2877, 'leigh': 2621, 'length': 2625, 'commun': 965, 'presum': 3442, 'eleg': 1495, 'brian': 625, 'hawk': 2112, 'ingredi': 2338, 'celluloid': 780, 'thin': 4483, 'discern': 1332, 'substanc': 4320, 'bag': 414, 'cypher': 1160, 'cleverli': 898, 'distant': 1351, 'loyalti': 2715, 'ruthless': 3828, 'corpor': 1067, 'repres': 3690, 'indiffer': 2322, 'risk': 3756, 'employe': 1524, 'morgan': 2955, 'sullivan': 4342, 'appli': 296, 'oper': 3159, 'chief': 838, 'ident': 2259, 'sent': 3944, 'task': 4425, 'record': 3626, 'variou': 4751, 'assign': 344, 'previous': 3450, 'trip': 4611, 'rita': 3757, 'foster': 1836, 'liu': 2676, 'implic': 2289, 'effici': 1481, 'shadow': 3972, 'vivid': 4800, 'mainli': 2753, 'decept': 1214, 'luci': 2717, 'tone': 4543, 'explor': 1645, 'complic': 980, 'hidden': 2152, 'overli': 3198, 'attenborough': 363, 'mere': 2851, 'planet': 3347, 'khan': 2521, 'debut': 1209, 'pit': 3337, 'nuclear': 3107, 'larger': 2578, 'mass': 2798, 'digniti': 1309, 'advantag': 158, 'overlook': 3200, 'preach': 3418, 'unusu': 4711, 'scenario': 3875, 'fragil': 1844, 'link': 2665, 'stumbl': 4307, 'quest': 3546, 'marriag': 2788, 'religion': 3667, 'consider': 1020, 'evid': 1607, 'commerci': 962, 'kapoor': 2501, 'brook': 647, 'hospit': 2215, 'recogn': 3621, 'poverti': 3410, 'loneli': 2691, 'exterior': 1655, 'dust': 1438, 'invest': 2393, 'cinemat': 872, 'royal': 3810, 'academi': 115, 'decis': 1216, 'poster': 3404, 'access': 118, 'height': 2133, 'intent': 2375, 'unintent': 4689, 'throw': 4503, 'stronger': 4295, 'ground': 2042, 'african': 171, 'tokyo': 4535, 'festiv': 1733, 'sensit': 3942, 'swing': 4392, 'sixti': 4067, 'rich': 3741, 'forti': 1833, 'urban': 4719, 'blond': 551, 'midnight': 2873, 'kinda': 2531, 'tragic': 4575, 'mountain': 2967, 'nois': 3078, 'creepi': 1113, 'badli': 412, 'squad': 4210, 'sicken': 4025, 'doctor': 1366, 'coup': 1082, 'chavez': 821, 'organ': 3171, 'foreign': 1819, 'servic': 3959, 'church': 867, 'chapter': 807, 'steven': 4251, 'elect': 1492, 'saint': 3841, 'bath': 449, 'riot': 3753, 'choppi': 851, 'adam': 143, 'sandler': 3852, 'butt': 689, 'likabl': 2653, 'victim': 4772, '45': 81, 'catherin': 769, 'julia': 2487, 'recognit': 3623, 'kung': 2554, 'fu': 1879, 'glow': 1974, 'visual': 4798, 'passabl': 3254, 'compliment': 981, 'chines': 845, 'chan': 801, 'cop': 1058, 'china': 844, 'latter': 2585, 'duel': 1431, 'shaw': 3986, '20': 56, 'combat': 950, 'speed': 4174, 'immatur': 2279, 'inherit': 2342, 'dead': 1198, 'mouth': 2969, 'teeth': 4447, 'ugli': 4645, 'copi': 1060, 'britain': 637, 'toler': 4537, 'yeah': 4980, 'digit': 1308, 'lucki': 2720, 'par': 3233, 'rip': 3754, 'earlier': 1452, 'bottom': 592, 'barrel': 434, 'assert': 342, 'thru': 4505, 'schlock': 3880, 'lesli': 2631, 'bear': 458, 'delet': 1237, 'possess': 3401, 'dean': 1204, 'oscar': 3177, 'phenomenon': 3310, 'newman': 3055, 'silver': 4038, 'horrid': 2210, 'abound': 104, 'bela': 480, 'lugosi': 2723, 'georg': 1938, 'grade': 2003, 'z': 4993, 'thumb': 4508, 'captain': 731, 'inject': 2344, 'thirti': 4487, 'grow': 2044, '2000': 57, 'number': 3111, 'affleck': 166, 'paltrow': 3227, 'campi': 713, 'applaud': 295, 'progress': 3487, 'greatli': 2022, 'phantom': 3308, 'theatr': 4476, 'tiger': 4514, 'wood': 4939, 'simon': 4042, 'sidney': 4030, 'henc': 2143, 'nevertheless': 3050, 'compos': 982, 'alison': 209, 'primarili': 3457, 'fox': 1842, 'ladder': 2565, 'peak': 3276, 'screenwrit': 3898, 'com': 948, 'implaus': 2287, 'narr': 3008, 'wire': 4922, 'jeff': 2441, 'dude': 1428, 'alex': 201, 'hudson': 2229, 'babi': 401, 'cheer': 827, 'clue': 921, 'nick': 3062, 'jami': 2427, 'emma': 1516, 'trick': 4606, 'crack': 1092, 'laid': 2567, 'jess': 2448, 'alli': 214, 'ya': 4976, 'sh': 3970, 'reveng': 3728, 'aveng': 384, 'lover': 2710, 'fate': 1706, 'turkey': 4629, 'cd': 776, 'ex': 1612, 'reject': 3655, 'awkward': 397, '24': 69, 'block': 549, 'homosexu': 2192, 'unfold': 4680, 'pg': 3307, '13': 8, 'crowd': 1127, 'exposur': 1649, 'dislik': 1342, 'knock': 2544, 'eve': 1595, 'asid': 333, 'abrupt': 106, '90': 94, 'altern': 224, 'prop': 3495, 'proud': 3508, 'promot': 3492, 'friday': 1867, '1991': 46, '11': 6, 'per': 3285, 'beyond': 506, 'nut': 3115, 'viru': 4793, 'en': 1526, 'leagu': 2604, 'l': 2558, 'glass': 1965, 'singer': 4054, 'uk': 4647, 'expert': 1639, 'tend': 4455, 'downhil': 1390, 'predat': 3423, 'rid': 3745, 'brilliantli': 634, 'daniel': 1179, 'slowli': 4098, 'stimul': 4258, 'tomorrow': 4541, 'purchas': 3531, 'amazon': 235, 'instantli': 2362, 'j': 2417, 'judg': 2482, 'companion': 968, 'disc': 1331, 'understood': 4671, 'daddi': 1163, 'screw': 3899, 'vision': 4795, 'pursu': 3535, 'respons': 3710, 'tradit': 4572, 'smith': 4107, 'mon': 2936, 'societi': 4120, 'vh': 4767, 'camcord': 705, 'forgiven': 1825, 'detract': 1287, 'meaning': 2824, 'lectur': 2611, 'hapless': 2089, 'johnni': 2466, 'cher': 831, 'christma': 862, '16': 12, 'twin': 4638, 'drip': 1412, 'feed': 1720, 'suspect': 4377, 'provok': 3512, 'angl': 259, 'cent': 783, 'wholli': 4895, 'await': 388, 'cave': 774, 'exhibit': 1628, 'im': 2273, 'aka': 188, 'hitler': 2173, 'secretari': 3914, '80': 92, 'jimmi': 2457, 'accent': 116, 'rubbish': 3813, 'describ': 1268, 'boob': 578, 'lee': 2613, 'sleepwalk': 4087, 'cash': 757, 'central': 786, 'forgotten': 1827, 'eastern': 1461, 'european': 1592, 'chees': 828, 'defin': 1232, 'carpent': 749, 'trade': 4570, 'scorses': 3890, 'nolan': 3079, 'stock': 4262, 'theatric': 4477, 'assassin': 339, 'mystic': 2999, 'clint': 909, 'breath': 620, 'knight': 2542, 'rome': 3786, 'circumst': 877, 'deem': 1223, 'thoma': 4488, 'sub': 4314, 'sleep': 4086, 'entranc': 1561, 'heaven': 2128, 'heal': 2117, 'duti': 1440, 'reluct': 3668, 'ritual': 3760, 'connect': 1009, 'pale': 3224, 'plight': 3360, 'quietli': 3551, 'smell': 4105, 'salt': 3846, 'quick': 3548, 'narrow': 3010, 'japanes': 2431, 'asian': 332, 'linda': 2659, 'rob': 3766, 'town': 4565, 'sight': 4031, 'boss': 588, 'porno': 3393, 'belong': 485, 'tortur': 4556, 'local': 2682, '2005': 62, 'mini': 2893, 'craze': 1101, 'porn': 3392, 'accord': 124, 'fat': 1704, 'bondag': 574, 'coher': 932, 'sleazi': 4085, 'shorter': 4010, 'gori': 1995, 'what': 4882, 'canada': 714, 'cri': 1115, 'superior': 4357, 'closet': 916, 'illustr': 2272, 'unorigin': 4700, 'trend': 4600, 'unknown': 4695, 'crawl': 1100, 'plant': 3348, 'introduct': 2389, 'climax': 906, 'ran': 3576, 'curtain': 1150, 'meaningless': 2825, 'clinic': 908, 'seagal': 3904, 'militari': 2882, 'rescu': 3697, 'suffic': 4335, 'lesbian': 2630, 'exot': 1631, 'cathol': 770, 'paint': 3218, 'painter': 3219, 'prostitut': 3504, 'denni': 1253, 'hopper': 2206, 'profil': 3482, 'replac': 3686, 'uncl': 4657, 'underr': 4668, 'jodi': 2461, 'minim': 2894, 'enthusiasm': 1557, 'jackson': 2421, 'pal': 3221, 'blair': 534, 'destin': 1279, 'obscur': 3121, 'miser': 2905, 'flesh': 1785, 'whilst': 4889, 'cue': 1139, 'lousi': 2707, 'favour': 1711, 'firstli': 1765, 'angel': 256, 'larri': 2579, 'fetch': 1734, 'secondli': 3912, 'corps': 1068, 'wander': 4826, 'leap': 2606, 'launch': 2589, 'flow': 1796, 'lock': 2684, 'ventur': 4759, 'unleash': 4696, 'warner': 4837, 'bunni': 676, 'acquir': 134, '21st': 67, 'banal': 424, 'banter': 428, 'laughter': 2588, 'exclus': 1623, 'ace': 129, 'energi': 1537, 'trait': 4579, 'titan': 4527, 'excess': 1620, 'protagonist': 3505, 'sam': 3847, 'tech': 4438, 'convert': 1048, 'neurot': 3048, 'ah': 181, '2nd': 72, '14': 10, '3rd': 78, 'robin': 3771, 'jo': 2458, 'spin': 4184, 'mildr': 2880, 'semi': 3934, 'fisher': 1768, 'borrow': 587, 'funnier': 1892, 'conserv': 1018, 'worri': 4949, 'million': 2886, 'programm': 3486, 'network': 3047, 'pulp': 3524, 'quirki': 3553, 'citizen': 879, 'kane': 2499, 'pc': 3274, 'report': 3689, 'un': 4651, 'iran': 2398, 'soccer': 4118, 'spare': 4163, 'oppos': 3164, 'cage': 697, 'oppress': 3166, 'heroic': 2147, 'off': 3136, 'snl': 4115, 'bounc': 594, 'hey': 2151, 'rod': 3778, 'frank': 1851, '000': 2, 'surgeri': 4368, 'beat': 461, 'corner': 1065, 'precis': 3422, 'leather': 2609, 'down': 1388, 'alfr': 204, 'novak': 3102, 'letter': 2637, 'owner': 3206, 'centr': 785, 'santa': 3854, 'clau': 890, 'profound': 3484, 'stewart': 4252, 'margaret': 2777, 'worn': 4948, 'phrase': 3321, 'vagu': 4735, 'mode': 2925, 'alec': 199, 'steve': 4250, 'mcqueen': 2820, 'nerv': 3044, 'seduct': 3919, 'captiv': 732, 'jennif': 2444, 'chick': 836, 'unforgett': 4681, 'summar': 4344, 'pool': 3385, 'echo': 1467, 'betray': 500, 'frankli': 1854, 'french': 1863, 'occur': 3132, 'macho': 2739, 'shaki': 3975, 'tag': 4408, 'inspector': 2357, 'gadget': 1904, 'earn': 1453, 'guin': 2056, 'rope': 3796, 'climb': 907, 'safe': 3836, 'injuri': 2346, 'mid': 2871, 'descent': 1267, 'blank': 538, 'root': 3795, 'satir': 3860, 'capit': 729, 'dirt': 1322, 'resist': 3702, 'union': 4691, 'wash': 4841, 'notion': 3100, 'ambigu': 236, 'heroin': 2148, 'drunken': 1424, 'rampag': 3575, 'russian': 3826, 'statement': 4236, 'jew': 2452, 'nazi': 3020, 'tool': 4548, 'communist': 966, 'stink': 4259, 'berlin': 495, 'error': 1575, 'phoni': 3317, 'shepherd': 3993, '1972': 29, 'cain': 699, 'rosemari': 3799, 'latest': 2583, 'taught': 4428, 'reev': 3639, 'ensur': 1552, 'lumet': 2727, 'deadli': 1199, 'venom': 4758, 'ninja': 3072, 'hong': 2196, 'lo': 2679, 'philip': 3312, 'boil': 568, 'chop': 850, 'jake': 2424, 'homer': 2190, 'shoe': 4004, 'edg': 1471, 'replay': 3687, 'hitchcock': 2172, 'ranger': 3582, 'zane': 4994, 'unabl': 4652, 'document': 1367, 'underground': 4664, 'nightclub': 3067, 'cliffhang': 903, 'torn': 4554, 'ear': 1449, 'bell': 483, '2004': 61, 'addict': 146, 'info': 2335, 'button': 690, 'birthday': 523, 'dysfunct': 1446, 'danni': 1181, 'grandmoth': 2010, 'joey': 2464, 'california': 702, '4th': 82, '1995': 49, '1996': 50, 'nelson': 3039, 'prom': 3489, 'colour': 946, 'photo': 3318, 'friendli': 1869, 'environ': 1563, 'nude': 3108, 'repress': 3692, 'degrad': 1234, 'whip': 4891, 'hardcor': 2095, 'desert': 1270, 'bound': 595, 'knowledg': 2546, 'awe': 394, 'modesti': 2930, 'clone': 912, 'max': 2813, 'ii': 2266, 'luckili': 2721, 'professor': 3481, 'mansion': 2772, 'frog': 1873, 'chaplin': 806, 'laurel': 2591, 'hardi': 2097, 'model': 2926, 'fought': 1837, 'sneak': 4113, 'supposedli': 4363, '35': 76, 'pacino': 3211, 'accur': 126, 'drain': 1397, 'eli': 1500, 'jon': 2471, 'detect': 1285, 'eas': 1456, 'treat': 4595, 'stereotyp': 4249, 'ill': 2268, 'likewis': 2655, 'accuraci': 127, 'dynam': 1445, 'senseless': 3940, 'huh': 2233, 'gari': 1918, 'purpl': 3533, 'whoopi': 4896, 'goldberg': 1983, 'glover': 1973, 'spielberg': 4181, 'naughti': 3018, 'er': 1570, 'sensual': 3943, 'soft': 4122, 'electr': 1493, 'razor': 3599, 'chest': 833, 'suicid': 4339, 'jacket': 2419, 'kevin': 2519, 'drown': 1420, 'yesterday': 4985, 'messi': 2858, 'fruit': 1877, 'abysm': 114, 'eva': 1593, 'lake': 2568, 'jason': 2434, 'boot': 581, 'shout': 4014, 'gay': 1924, 'blew': 546, 'massiv': 2800, 'connor': 1011, 'grim': 2034, 'pervert': 3302, 'ultra': 4649, 'worship': 4951, 'sacrific': 3832, 'prime': 3458, 'dement': 1247, 'minimum': 2895, 'satan': 3859, 'cult': 1141, 'simplist': 4046, 'asylum': 354, 'nurs': 3114, 'elabor': 1490, 'laughabl': 2587, 'photographi': 3320, 'hideou': 2154, 'sleaz': 4084, 'clan': 884, 'cameo': 707, 'ireland': 2400, 'skip': 4073, 'irish': 2401, 'gut': 2061, 'chain': 794, 'strip': 4291, 'slice': 4088, 'mutant': 2994, 'awhil': 396, 'cannib': 721, 'cow': 1089, 'chicken': 837, 'ham': 2077, 'howard': 2225, 'impli': 2288, 'gillian': 1953, 'fell': 1724, 'shower': 4019, 'x': 4975, 'flight': 1788, 'heat': 2127, 'leader': 2603, 'overlong': 3199, 'crush': 1134, 'ghetto': 1945, 'harm': 2099, 'marion': 2783, 'barri': 435, 'w': 4812, 'crook': 1124, 'philosophi': 3315, 'golden': 1985, 'globe': 1969, 'han': 2082, 'miracl': 2901, 'creation': 1105, 'mesmer': 2855, 'agenc': 175, 'built': 668, 'trigger': 4608, 'explicit': 1642, 'hackman': 2067, 'mickey': 2870, 'rooney': 3794, 'earth': 1455, 'kiddi': 2524, 'sheriff': 3994, 'p': 3208, 'outlin': 3189, 'anywher': 286, 'instant': 2361, 'astronaut': 353, 'bridget': 628, 'chuckl': 866, 'g': 1900, 'perman': 3294, 'irrelev': 2404, 'handicap': 2084, 'ian': 2253, 'station': 4238, 'secondari': 3911, 'relief': 3665, 'command': 958, 'slap': 4078, 'fluff': 1798, 'dreari': 1405, 'repeatedli': 3684, 'le': 2601, 'van': 4743, 'alley': 213, 'unwatch': 4712, 'fund': 1888, 'ingeni': 2337, 'spice': 4179, 'dragon': 1396, 'horrif': 2211, 'beast': 460, 'rex': 3737, 'harrison': 2103, 'redund': 3636, 'expos': 1647, 'six': 4066, 'punish': 3527, 'erot': 1573, 'villag': 4784, 'peril': 3292, 'monk': 2938, 'templ': 4451, 'nearbi': 3022, 'seduc': 3918, 'mistress': 2915, 'bumbl': 673, 'sword': 4394, 'cant': 724, 'ash': 329, 'reincarn': 3654, 'morn': 2957, 'sun': 4347, 'carel': 739, '40': 80, 'steel': 4244, '1990': 45, 'whoever': 4893, 'struck': 4298, 'pepper': 3284, 'ish': 2407, 'toss': 4557, 'exact': 1613, 'nose': 3092, 'stone': 4266, 'japan': 2430, 'owe': 3203, 'gothic': 1997, 'giallo': 1947, 'evelyn': 1596, '1971': 28, 'spine': 4186, 'chill': 843, 'sublim': 4316, 'lush': 2731, 'barbara': 430, 'castl': 763, 'kitti': 2537, 'grandfath': 2009, 'legend': 2618, 'feast': 1716, 'arguabl': 307, 'accompani': 122, 'highlight': 2159, 'macabr': 2736, 'eeri': 1479, 'convolut': 1053, 'tension': 4459, 'stun': 4308, 'prais': 3414, 'improb': 2295, 'explos': 1646, 'respond': 3709, 'independ': 2317, 'jr': 2480, 'ed': 1469, 'center': 784, 'conflict': 1005, 'bitter': 528, 'nine': 3070, '75': 90, 'giggl': 1950, 'lifetim': 2649, 'path': 3260, 'bonu': 576, 'refresh': 3642, 'denzel': 1255, 'washington': 4842, 'guard': 2050, 'happili': 2092, 'kidnap': 2526, 'recov': 3627, 'numer': 3112, 'alongsid': 219, 'acknowledg': 132, 'ton': 4542, 'pun': 3525, 'album': 197, 'issu': 2412, 'dealt': 1203, 'destini': 1280, 'glanc': 1963, 'farmer': 1696, 'samurai': 3849, 'gangster': 1913, 'increas': 2313, 'land': 2572, 'pervers': 3301, 'nuanc': 3106, 'disguis': 1338, 'sustain': 4382, 'wannab': 4829, 'halfway': 2073, 'file': 1747, 'paus': 3271, 'fade': 1670, 'out': 3182, 'groan': 2039, 'hackney': 2068, 'revel': 3727, 'nolt': 3080, 'murphi': 2986, 'apolog': 289, 'collector': 941, 'bow': 597, 'arrow': 321, 'snatch': 4112, '25': 70, 'weakest': 4856, 'empir': 1522, 'ludicr': 2722, 'vader': 4734, 'luca': 2716, 'aliv': 210, 'nativ': 3016, 'tactic': 4406, 'heavili': 2130, 'rebel': 3616, 'familiar': 1685, 'solo': 4127, 'remov': 3677, 'preced': 3420, 'attitud': 366, 'mislead': 2909, 'jedi': 2440, 'boredom': 584, 'bank': 427, 'fri': 1866, 'prank': 3415, 'pant': 3231, 'snake': 4110, 'plate': 3350, 'miik': 2876, 'startl': 4234, 'sensibl': 3941, 'fallen': 1681, 'realm': 3613, 'belov': 486, 'woo': 4938, 'wherea': 4887, 'neighborhood': 3035, 'proce': 3472, 'road': 3764, 'revolt': 3732, 'disgust': 1339, 'fast': 1702, 'adolesc': 153, 'charismat': 814, 'gritti': 2038, 'neo': 3041, 'kazan': 2508, 'ethnic': 1588, 'racist': 3562, 'represent': 3691, 'indi': 2318, 'greek': 2025, 'wed': 4866, 'exagger': 1615, 'marc': 2775, 'struggl': 4300, 'global': 1968, 'entri': 1562, 'terri': 4462, 'sparkl': 4165, 'seller': 3933, 'revolutionari': 3734, 'pattern': 3267, 'taboo': 4402, 'sole': 4125, 'popul': 3390, 'qualifi': 3542, 'pro': 3469, 'advertis': 160, 'australia': 378, 'miniseri': 2896, 'offend': 3137, 'failur': 1672, 'northern': 3091, 'descend': 1266, 'rat': 3590, 'coat': 928, 'sitcom': 4063, 'lowest': 2713, 'option': 3167, 'greater': 2020, 'vampir': 4742, 'unpredict': 4702, 'streisand': 4284, 'skit': 4074, 'notch': 3096, 'scariest': 3874, 'idiot': 2262, 'acclaim': 121, 'calib': 701, 'contest': 1034, 'footbal': 1815, 'test': 4469, 'nun': 3113, 'meryl': 2854, 'streep': 4282, 'advanc': 157, 'behav': 475, 'ami': 241, 'kennedi': 2515, 'staff': 4215, 'suspicion': 4381, '2008': 65, 'enhanc': 1544, 'versu': 4764, 'arrog': 320, 'stare': 4230, 'childish': 841, 'carradin': 750, 'alert': 200, 'condit': 999, 'tax': 4429, 'burton': 681, 'chamberlain': 798, 'defens': 1230, 'aborigin': 102, 'arrest': 318, 'corman': 1063, 'court': 1086, 'accus': 128, 'invad': 2390, 'charli': 816, 'spiritu': 4189, 'australian': 379, 'cycl': 1158, 'ocean': 3133, 'tribe': 4604, 'pacif': 3210, 'coast': 926, 'monti': 2946, 'sake': 3842, 'pitch': 3338, 'punk': 3528, 'hal': 2071, 'strand': 4278, 'stole': 4263, 'rocki': 3777, 'confin': 1003, 'mortal': 2960, 'shred': 4021, 'stallon': 4222, 'bullet': 671, 'maintain': 2755, 'salli': 3844, 'uncov': 4660, 'leonard': 2629, 'resourc': 3707, 'anticip': 276, 'abomin': 101, 'greedi': 2024, 'gate': 1921, 'hokey': 2177, 'muppet': 2984, 'pet': 3303, 'recycl': 3630, 'pile': 3331, 'gotta': 1998, 'blatant': 540, 'financi': 1755, 'bait': 415, 'bother': 590, 'shake': 3973, 'inflict': 2333, 'dreck': 1406, 'flock': 1792, 'whine': 4890, 'incident': 2304, 'partial': 3247, 'tini': 4523, 'passeng': 3256, 'crash': 1097, 'survivor': 4375, 'admittedli': 152, 'supernatur': 4359, 'delv': 1245, 'curli': 1147, 'host': 2216, 'solv': 4129, 'brand': 609, 'dawn': 1193, 'climat': 905, 'web': 4864, 'bett': 501, 'fog': 1803, 'waitress': 4816, 'needless': 3031, 'phillip': 3313, 'carey': 740, 'preserv': 3437, 'repetit': 3685, 'franci': 1848, 'dee': 1221, 'strongest': 4296, 'induc': 2324, 'lure': 2729, 'abandon': 97, 'despis': 1277, 'selfish': 3931, 'explod': 1643, 'intend': 2373, 'outdat': 3184, 'highest': 2157, 'woodi': 4941, 'merci': 2850, 'imperson': 2286, 'kenneth': 2516, 'branagh': 608, 'manhattan': 2765, 'expens': 1635, 'restaur': 3712, 'sand': 3851, 'diseas': 1336, 'allen': 212, 'harold': 2101, 'uneven': 4675, 'worthwhil': 4956, 'briefli': 630, 'countrysid': 1081, 'directli': 1319, 'dismiss': 1344, 'intric': 2386, 'rage': 3566, 'imageri': 2275, 'technolog': 4442, 'collabor': 937, 'voyag': 4808, '1980': 36, 'murray': 2987, 'outlaw': 3188, 'transport': 4586, 'gender': 1928, 'makeup': 2759, 'basketbal': 445, 'vignett': 4782, 'paranoia': 3238, 'own': 3205, 'paxton': 3272, 'roommat': 3793, 'choke': 848, 'nineti': 3071, 'junk': 2493, 'dutch': 1439, 'slide': 4090, 'tower': 4564, 'audrey': 373, 'loos': 2695, 'neil': 3036, 'walter': 4825, 'matthau': 2810, 'contempl': 1030, 'bone': 575, 'split': 4194, 'trial': 4602, 'absorb': 110, 'korean': 2550, 'thug': 4507, 'mock': 2924, 'sink': 4057, 'crappi': 1096, 'overr': 3201, 'bread': 615, 'greg': 2028, 'julian': 2488, 'miller': 2885, 'mankind': 2769, 'immers': 2282, 'prize': 3468, 'propheci': 3500, 'casper': 759, 'circl': 875, 'censor': 782, 'tempt': 4452, 'crown': 1128, 'dismal': 1343, 'statu': 4239, 'scale': 3867, 'everywher': 1606, 'genet': 1931, 'ha': 2064, 'orson': 3176, 'shanghai': 3979, 'mirror': 2903, 'fairi': 1675, 'amitabh': 242, 'salman': 3845, 'bobbi': 565, 'clara': 885, 'inconsist': 2310, 'glenn': 1966, 'smaller': 4102, 'reader': 3604, 'laurenc': 2593, 'christin': 861, 'horn': 2207, 'cole': 935, 'mormon': 2956, 'nicol': 3063, 'petti': 3306, 'scottish': 3893, 'fuel': 1880, 'farm': 1695, 'wreck': 4961, 'lighter': 2652, 'faint': 1673, 'occup': 3130, 'wound': 4958, 'treatment': 4596, 'cattl': 771, 'jewish': 2454, 'ga': 1901, 'congratul': 1008, 'winter': 4920, 'ted': 4443, 'wizard': 4932, 'inhabit': 2340, 'duo': 1436, 'whack': 4880, 'seal': 3905, 'aid': 183, 'bogu': 567, 'gimmick': 1954, 'warrior': 4840, 'acid': 131, 'demon': 1249, 'uwe': 4731, 'boll': 570, 'daisi': 1165, 'skeptic': 4069, 'wow': 4959, 'morbid': 2953, 'lili': 2656, 'niec': 3065, 'reward': 3736, 'valuabl': 4741, '2007': 64, 'ruth': 3827, 'gordon': 1992, 'christi': 859, 'nephew': 3042, 'forth': 1832, 'improvis': 2297, 'columbo': 947, 'hartley': 2106, 'blackmail': 531, 'belli': 484, 'frequent': 1864, 'juli': 2486, 'andrew': 255, 'gal': 1907, 'bruce': 653, 'march': 2776, 'muslim': 2992, 'solid': 4126, 'wont': 4937, 'till': 4516, 'honesti': 2194, 'maniac': 2767, 'mundan': 2983, 'lay': 2598, 'stanwyck': 4228, 'ralph': 3570, 'glori': 1970, 'dozen': 1392, 'energet': 1536, 'charisma': 813, 'bargain': 432, 'accid': 119, 'lab': 2560, 'pan': 3229, 'uncomfort': 4658, 'chose': 855, '3000': 75, 'twelv': 4634, 'blown': 556, 'prison': 3466, 'kathryn': 2506, 'jeffrey': 2442, 'illus': 2271, 'astonish': 351, 'gilliam': 1952, 'loath': 2681, 'vega': 4754, 'marvel': 2795, 'dedic': 1220, 'cancel': 716, 'twenti': 4635, 'deriv': 1265, 'showdown': 4018, 'devoid': 1292, 'clip': 910, 'lester': 2635, 'entitl': 1560, 'sunday': 4348, 'eleven': 1499, 'athlet': 355, 'knife': 2541, 'poke': 3373, 'flag': 1773, 'unit': 4693, 'kingdom': 2533, 'lesser': 2633, 'primit': 3459, 'item': 2415, 'freeman': 1861, 'mexico': 2864, 'orang': 3168, 'diamond': 1296, 'dispos': 1348, 'heavi': 2129, 'promin': 3490, 'aris': 310, 'funer': 1890, 'ann': 263, 'baker': 417, 'blake': 535, 'exquisit': 1651, 'fido': 1739, 'lloyd': 2678, 'bike': 513, 'tyler': 4641, 'moon': 2950, 'toe': 4531, 'broken': 644, 'rifl': 3750, 'propos': 3503, 'jonathan': 2472, 'equip': 1568, 'reed': 3637, 'valid': 4738, 'abc': 98, 'cheek': 826, 'taxi': 4430, 'godfath': 1978, 'select': 3929, 'vital': 4799, 'june': 2490, 'summari': 4345, 'announc': 266, 'stir': 4261, 'wrestl': 4963, 'laura': 2590, 'crawford': 1099, 'vietnam': 4778, 'vet': 4765, 'fare': 1694, 'franco': 1850, 'antonio': 278, 'de': 1197, 'pad': 3214, 'spanish': 4162, 'psychopath': 3519, 'border': 582, 'hostag': 2217, '1993': 47, '22': 68, '1987': 42, 'michel': 2869, 'bob': 564, 'dave': 1190, 'cameron': 709, 'kate': 2505, 'eight': 1485, 'elvi': 1508, 'comedian': 955, 'oldest': 3150, 'donna': 1378, 'leon': 2628, 'slasher': 4081, 'helicopt': 2137, 'lit': 2671, 'card': 735, 'virginia': 4790, 'settl': 3962, 'assault': 340, 'hug': 2230, 'ban': 423, 'mill': 2884, 'fleet': 1784, 'moodi': 2949, 'kirk': 2534, 'spock': 4195, 'mccoy': 2818, 'librari': 2644, 'elderli': 1491, 'damon': 1171, 'craig': 1094, 'crude': 1130, 'stranger': 4280, 'spent': 4177, 'motorcycl': 2965, 'smack': 4100, 'newspap': 3057, 'femm': 1730, 'savag': 3863, '2002': 59, 'meander': 2823, 'shakespear': 3974, 'yearn': 4982, 'tube': 4625, 'joseph': 2475, 'forgot': 1826, 'josh': 2476, 'shootout': 4006, 'hip': 2165, 'hop': 2201, 'estat': 1581, 'lena': 2623, 'psychic': 3516, 'unfunni': 4683, 'suspici': 4380, 'hank': 2088, 'johnson': 2467, 'slash': 4080, 'axe': 398, 'wield': 4904, 'filth': 1752, 'spark': 4164, 'identifi': 2260, 'constitut': 1025, 'conscious': 1016, 'tour': 4561, 'galaxi': 1908, 'strength': 4285, 'sailor': 3840, 'courag': 1084, 'lean': 2605, 'paper': 3232, 'deed': 1222, 'enlighten': 1546, 'walt': 4824, 'bro': 639, 'occas': 3128, 'victoria': 4775, 'knightley': 2543, 'elizabeth': 1503, 'natali': 3013, 'helen': 2136, 'reign': 3653, 'diana': 1298, 'jean': 2439, 'chronicl': 864, 'blunt': 558, 'eager': 1448, 'kent': 2517, 'richardson': 3743, 'advis': 162, 'subtli': 4325, 'palac': 3222, 'bulk': 669, 'firm': 1762, 'overcom': 3196, 'potter': 3407, 'switch': 4393, '60': 86, 'isol': 2409, 'appl': 294, 'mario': 2782, 'stalk': 4220, 'sinist': 4056, 'clumsi': 923, 'witti': 4930, 'tap': 4419, 'snow': 4116, 'facial': 1665, 'nonetheless': 3084, 'parodi': 3243, '18': 14, 'southern': 4154, 'smoke': 4108, 'shatter': 3985, 'bu': 658, 'terrorist': 4468, 'click': 900, 'row': 3808, 'isra': 2410, 'ridden': 3746, 'cardboard': 736, 'drift': 1410, 'reliabl': 3664, 'homeless': 2189, 'agenda': 176, 'boom': 580, 'eaten': 1464, 'sum': 4343, 'fart': 1698, 'powel': 3411, 'cyborg': 1157, 'embark': 1511, 'radic': 3564, 'departur': 1257, 'sympathi': 4398, 'vengeanc': 4757, 'instinct': 2364, 'tooth': 4549, 'tick': 4510, 'kurt': 2556, 'reson': 3705, 'strongli': 4297, 'http': 2228, 'www': 4974, 'errol': 1574, 'safeti': 3837, 'blame': 536, 'swallow': 4384, 'unattract': 4653, 'museum': 2989, 'casual': 764, 'elev': 1498, 'nanci': 3007, 'keith': 2512, 'palma': 3226, 'flair': 1774, 'controversi': 1044, 'inappropri': 2302, '1981': 37, 'revolut': 3733, 'terrifi': 4465, 'deliver': 1243, 'pot': 3405, 'holiday': 2181, 'dandi': 1176, 'wendigo': 4874, 'unsatisfi': 4707, 'preston': 3441, 'roller': 3782, 'coaster': 927, 'stanley': 4227, 'bust': 685, 'spree': 4207, 'afterward': 173, 'spill': 4183, 'chair': 796, 'antic': 275, 'ensu': 1551, 'trio': 4610, 'disabl': 1324, 'provoc': 3511, 'drivel': 1414, 'vastli': 4753, '1988': 43, 'holocaust': 2186, 'afternoon': 172, 'beard': 459, 'luxuri': 2733, 'lengthi': 2626, 'cowboy': 1090, 'niro': 3073, 'homag': 2187, 'loretta': 2697, 'farrel': 1697, 'airplan': 186, 'suppli': 4360, 'revers': 3729, 'enthral': 1556, 'traci': 4568, 'thunderbird': 4509, 'flash': 1776, '1960': 24, 'styliz': 4313, 'grate': 2014, 'hood': 2198, 'extraordinari': 1657, 'nemesi': 3040, 'extend': 1652, 'corn': 1064, 'turd': 4628, 'icon': 2255, 'artwork': 328, 'clark': 886, 'milo': 2888, 'timeless': 4520, 'meg': 2836, 'robbin': 3769, 'einstein': 1487, 'alright': 221, 'inner': 2348, 'robinson': 3772, 'loui': 2705, 'armstrong': 314, 'mous': 2968, 'technicolor': 4440, 'analyz': 249, 'filler': 1749, 'enforc': 1538, 'san': 3850, 'francisco': 1849, 'hamlet': 2079, 'despic': 1276, 'visibl': 4794, 'sympath': 4396, 'lion': 2666, 'timon': 4521, 'cg': 792, 'distanc': 1350, 'casino': 758, 'mate': 2804, 'howl': 2227, 'interior': 2379, 'feat': 1717, 'glorifi': 1971, 'saga': 3838, 'character': 809, 'cagney': 698, 'ration': 3593, 'spectacl': 4171, 'yeti': 4987, 'earnest': 1454, 'strain': 4277, 'literatur': 2674, '1936': 19, 'carol': 748, 'contradict': 1038, '1994': 48, 'carter': 753, 'crow': 1126, 'associ': 346, 'sentinel': 3947, 'brooklyn': 648, 'tenant': 4454, 'fianc': 1737, 'interrupt': 2383, 'pat': 3259, 'harmless': 2100, 'dictat': 1302, 'illeg': 2269, 'healthi': 2119, 'mixtur': 2919, 'hbo': 2114, 'bat': 447, 'anderson': 252, 'beneath': 491, 'cell': 779, 'horrifi': 2212, '1978': 34, 'halloween': 2075, 'meyer': 2865, 'imit': 2278, 'myer': 2997, 'subtleti': 4324, 'dash': 1187, 'crisi': 1120, 'businessman': 684, 'hall': 2074, 'splatter': 4192, 'humili': 2238, 'cia': 868, 'romp': 3788, 'dealer': 1202, 'reunit': 3725, 'spring': 4208, 'bud': 661, 'hain': 2069, 'synopsi': 4399, 'shape': 3980, 'commend': 959, 'downright': 1391, 'disbelief': 1330, 'flip': 1789, 'fright': 1871, 'mall': 2761, 'glare': 1964, 'wrap': 4960, 'closest': 915, 'cgi': 793, 'blob': 548, 'variat': 4749, 'rubber': 3812, 'finger': 1759, 'coloni': 944, 'foul': 1838, 'grasp': 2013, 'cring': 1118, 'burst': 679, 'bash': 440, 'abund': 112, 'rental': 3682, 'hippi': 2166, 'biker': 514, 'stilt': 4257, 'undoubtedli': 4674, 'widow': 4903, 'advic': 161, 'obnoxi': 3120, 'percept': 3287, 'stress': 4286, 'repuls': 3694, 'press': 3439, 'bastard': 446, 'weari': 4861, 'disgrac': 1337, 'duval': 1441, 'downey': 1389, 'gentl': 1935, 'ustinov': 4726, 'maggi': 2746, 'karl': 2503, 'robber': 3767, 'omen': 3154, 'iv': 2416, 'elsewher': 1507, 'damm': 1169, 'dolph': 1372, 'outfit': 3186, '13th': 9, 'sidekick': 4028, 'wendi': 4873, 'brenda': 623, 'watcher': 4846, 'ancient': 251, 'boxer': 600, 'olivi': 3152, 'gap': 1914, 'mexican': 2863, 'redneck': 3634, 'ron': 3789, 'marshal': 2789, 'wardrob': 4833, 'montana': 2944, 'eleph': 1497, 'swept': 4390, 'brood': 646, 'servant': 3958, 'lavish': 2594, 'dana': 1173, 'signific': 4034, 'russia': 3825, 'spoke': 4198, 'bin': 519, 'rant': 3584, 'v': 4732, 'antagonist': 271, 'engross': 1543, 'burt': 680, 'wildli': 4909, 'setup': 3963, 'multipl': 2980, 'sketch': 4070, 'steam': 4243, 'milk': 2883, 'tiresom': 4526, 'nichola': 3060, 'underst': 4669, 'obstacl': 3124, 'insipid': 2355, 'exhaust': 1627, 'ant': 270, 'dazzl': 1196, 'static': 4237, 'growth': 2046, 'seed': 3921, 'altman': 226, 'zoom': 4999, 'trite': 4614, 'catchi': 767, 'weight': 4869, 'convincingli': 1052, 'render': 3679, 'bleak': 542, 'liber': 2642, 'cassidi': 761, 'updat': 4714, 'earl': 1450, 'endless': 1533, 'fred': 1857, 'neighbor': 3034, 'chao': 805, 'piano': 3323, 'homicid': 2191, 'properli': 3498, 'retain': 3719, 'fest': 1732, 'randomli': 3580, 'uh': 4646, 'lifeless': 2647, 'rose': 3798, 'rambo': 3573, 'declar': 1217, 'traumat': 4591, 'spoken': 4199, 'hill': 2163, 'nostalg': 3093, 'seventi': 3965, 'beatti': 464, 'whore': 4897, 'blatantli': 541, 'buzz': 692, 'sloppi': 4096, 'rub': 3811, 'inevit': 2328, 'spit': 4190, 'bo': 560, 'derek': 1264, 'edgar': 1472, 'tarzan': 4424, 'btw': 657, 'poem': 3366, 'wore': 4943, 'clown': 919, 'dane': 1177, 'multi': 2979, 'ingrid': 2339, 'volum': 4804, 'atlanti': 356, 'innov': 2350, 'prey': 3451, 'bleed': 543, 'goldblum': 1984, 'robberi': 3768, 'clerk': 896, 'ambiti': 238, 'inaccuraci': 2300, 'superfici': 4355, 'attribut': 369, 'wheel': 4885, 'doc': 1365, 'randolph': 3578, 'sassi': 3857, 'fed': 1719, 'reid': 3652, 'trauma': 4590, 'inmat': 2347, 'contempt': 1032, 'simultan': 4048, 'aforement': 168, 'pretens': 3444, 'audio': 371, 'graini': 2007, 'reel': 3638, 'chew': 834, 'lemmon': 2622, 'charlton': 818, 'heston': 2150, 'crystal': 1135, '1st': 54, 'gloriou': 1972, 'carlito': 745, 'lui': 2724, 'underworld': 4673, 'jay': 2436, 'comb': 949, 'breed': 622, 'wtf': 4971, 'gregori': 2029, 'peck': 3278, 'graham': 2006, 'beach': 456, 'illog': 2270, 'egg': 1483, 'phenomen': 3309, 'jill': 2455, 'elimin': 1501, 'alicia': 206, 'comprehens': 985, 'buffalo': 665, 'victori': 4774, 'easier': 1458, 'q': 3540, 'eyr': 1660, 'rochest': 3774, 'victorian': 4776, 'timothi': 4522, 'dalton': 1166, 'melt': 2842, 'furiou': 1895, 'cinderella': 870, 'spoof': 4201, 'wayn': 4852, '1933': 18, 'rubi': 3814, 'parad': 3234, 'smash': 4104, 'hugh': 2232, 'code': 929, 'atroc': 358, 'flop': 1794, 'gabl': 1902, 'slimi': 4094, 'montag': 2943, 'occupi': 3131, 'termin': 4461, 'shortli': 4011, 'suprem': 4364, 'lovabl': 2708, 'mermaid': 2853, 'sweat': 4386, 'critiqu': 1122, 'zizek': 4996, 'interpret': 2382, 'text': 4472, 'invis': 2395, 'psychot': 3520, 'lewi': 2639, 'extra': 1656, 'cigarett': 869, 'nicola': 3064, 'injur': 2345, 'mistaken': 2914, 'walsh': 4823, 'flynn': 1800, 'boyl': 604, 'viciou': 4771, 'justifi': 2495, 'modest': 2929, 'rachel': 3559, 'durat': 1437, '3d': 77, 'equival': 1569, 'skin': 4072, 'magician': 2748, 'aussi': 375, 'reynold': 3738, 'elvira': 1509, 'oz': 3207, 'flower': 1797, 'da': 1161, 'antholog': 272, 'cush': 1153, 'charl': 815, 'grayson': 2018, 'wax': 4850, 'instruct': 2366, 'porter': 3394, 'carla': 744, 'shade': 3971, 'aggress': 178, 'cohen': 931, 'poetri': 3368, 'ironi': 2403, 'tasteless': 4427, 'sale': 3843, 'recruit': 3629, 'legal': 2617, 'shortcom': 4009, 'approv': 300, 'behaviour': 477, 'pari': 3240, 'melodi': 2839, 'domin': 1374, 'thick': 4481, 'wolf': 4933, 'morri': 2959, 'onlin': 3156, 'firmli': 1763, 'wick': 4899, 'greet': 2027, 'repli': 3688, 'tip': 4524, 'principl': 3463, 'triumph': 4615, '1930': 17, 'nod': 3076, 'stab': 4213, 'alexandr': 203, 'preposter': 3433, 'em': 1510, 'numb': 3110, 'uniformli': 4686, 'preachi': 3419, 'condemn': 998, 'puppi': 3530, 'fascist': 1700, 'recreat': 3628, 'bend': 490, 'min': 2889, 'tackl': 4405, 'marti': 2791, 'dian': 1297, 'dud': 1427, 'unhappi': 4684, 'dish': 1340, 'foolish': 1812, 'ram': 3571, 'parker': 3242, 'nomin': 3081, 'seedi': 3922, 'huston': 2248, 'delic': 1239, 'incorpor': 2311, 'danish': 1180, 'trier': 4607, 'composit': 983, 'blend': 544, 'warmth': 4835, 'donald': 1376, 'bang': 426, 'spawn': 4166, 'nyc': 3116, 'ross': 3800, 'bach': 403, 'karen': 2502, 'loi': 2687, 'dose': 1384, 'unseen': 4708, 'discoveri': 1334, 'eddi': 1470, 'characterist': 811, 'sold': 4123, 'shi': 3995, 'heartbreak': 2124, 'cassavet': 760, 'parallel': 3236, 'harder': 2096, 'bye': 693, 'pie': 3327, 'worthless': 4955, 'stair': 4217, 'monologu': 2940, 'soup': 4151, 'corbett': 1061, 'roar': 3765, 'immigr': 2283, 'mighti': 2875, 'lawrenc': 2596, 'decor': 1219, 'ward': 4832, 'alan': 193, 'dorothi': 1383, 'assembl': 341, 'topless': 4552, 'electron': 1494, 'weaker': 4855, 'characteris': 810, 'deceas': 1212, 'bernard': 496, 'counter': 1077, 'mar': 2774, 'sympathet': 4397, 'lundgren': 2728, 'repris': 3693, 'wrestler': 4964, 'matt': 2808, 'claud': 891, 'transplant': 4585, 'uniform': 4685, 'behold': 479, 'estrang': 1583, 'rhythm': 3740, 'cemeteri': 781, '1983': 38, 'carlo': 746, 'stellar': 4246, '95': 95, 'beverli': 504, 'relax': 3659, 'sourc': 4152, 'inexplic': 2329, 'shirley': 4000, 'jealou': 2438, 'standout': 4226, 'consum': 1027, 'verg': 4761, 'clair': 883, 'arc': 303, 'slave': 4083, 'steer': 4245, 'itali': 2413, 'mason': 2797, 'vacat': 4733, 'pound': 3408, 'shirt': 4001, 'crocodil': 1123, 'hk': 2174, 'orphan': 3175, 'angst': 261, 'pink': 3334, 'europ': 1590, 'bent': 493, 'distress': 1356, 'barn': 433, 'retriev': 3722, 'persuad': 3300, 'deniro': 1252, 'matthew': 2811, 'cake': 700, 'winchest': 4915, '73': 89, 'wwii': 4973, 'mann': 2770, 'stake': 4218, 'poker': 3375, 'ritter': 3759, 'protest': 3507, 'outcom': 3183, 'rapidli': 3587, 'oblig': 3118, 'raw': 3596, 'cream': 1103, 'kurosawa': 2555, 'hulk': 2234, 'lol': 2688, 'brit': 636, 'forgett': 1823, 'madonna': 2743, 'uma': 4650, '1986': 41, 'drew': 1408, 'keaton': 2509, 'worker': 4945, 'buster': 686, 'candl': 720, 'widescreen': 4901, 'transfer': 4581, 'hay': 2113, 'label': 2561, 'prophet': 3501, 'antwon': 280, 'navi': 3019, 'spain': 4160, 'cooki': 1055, 'hack': 2066, 'amanda': 230, 'mel': 2837, 'albeit': 195, 'bacon': 409, 'hesit': 2149, 'sutherland': 4383, 'newcom': 3052, 'akshay': 190, 'playboy': 3353, 'birth': 522, 'massacr': 2799, 'anton': 277, 'verbal': 4760, 'vein': 4756, 'jaw': 2435, 'monoton': 2941, 'bump': 674, 'spinal': 4185, 'moder': 2927, 'contrari': 1039, 'israel': 2411, 'penn': 3281, 'scriptwrit': 3901, 'colin': 936, 'artsi': 327, 'walken': 4819, 'griffith': 2033, 'poe': 3365, 'inher': 2341, 'faster': 1703, 'norm': 3087, 'compris': 986, 'pickford': 3325, 'notabl': 3095, 'marin': 2781, 'patricia': 3264, 'we': 4853, 'bitten': 527, 'hopkin': 2205, 'missil': 2911, 'anni': 265, 'butler': 688, 'stinker': 4260, 'goer': 1981, 'jewel': 2453, 'bate': 448, 'vibrant': 4769, 'elit': 1502, 'eugen': 1589, 'conquer': 1012, 'restor': 3713, '1984': 39, 'unfair': 4679, 'moor': 2951, 'logan': 2685, 'arab': 302, 'oil': 3144, 'jar': 2432, 'assort': 347, 'kline': 2538, 'misguid': 2908, 'cliff': 902, 'rhyme': 3739, 'proport': 3502, 'dwarf': 1443, 'contrast': 1040, 'dame': 1168, 'judi': 2484, 'distort': 1354, 'miami': 2867, 'blah': 533, 'uncut': 4661, 'deaf': 1200, 'immens': 2281, 'sappi': 3855, 'superbl': 4354, 'ken': 2514, 'loyal': 2714, 'kumar': 2553, 'latin': 2584, 'restrict': 3715, 'baddi': 411, 'warrant': 4838, 'vast': 4752, '1997': 51, 'drake': 1398, 'propaganda': 3496, 'cerebr': 788, 'goldsworthi': 1986, 'concert': 995, 'creek': 1111, 'geek': 1926, 'canyon': 725, 'sweep': 4388, '1940': 21, 'scheme': 3879, 'greed': 2023, 'emphas': 1520, 'dicken': 1301, '1985': 40, 'scroog': 3902, 'knee': 2539, 'wealth': 4857, 'despair': 1274, 'tripl': 4613, 'slick': 4089, 'crippl': 1119, 'detach': 1283, 'del': 1236, '1968': 25, 'suffici': 4336, 'fenc': 1731, 'abraham': 105, 'mgm': 2866, 'penni': 3282, 'kay': 2507, 'nope': 3086, 'roof': 3790, 'gasp': 1920, 'holi': 2180, 'judd': 2481, 'highway': 2160, 'resurrect': 3718, 'mst3k': 2975, 'miyazaki': 2920, 'der': 1262, 'colonel': 943, 'thread': 4494, 'sacrif': 3831, 'wagner': 4814, 'dimens': 1312, 'claustrophob': 892, 'anchor': 250, 'unawar': 4654, '1973': 30, 'kudo': 2552, 'jenni': 2443, 'meal': 2821, 'awaken': 390, '28': 71, 'archiv': 304, 'aesthet': 163, 'sue': 4333, 'rider': 3748, 'sensat': 3939, 'tara': 4421, 'divers': 1360, 'grudg': 2047, 'unexplain': 4678, 'grey': 2031, 'marlon': 2786, 'vanessa': 4745, 'joel': 2463, 'disjoint': 1341, 'gina': 1955, 'lifestyl': 2648, 'couch': 1074, 'emperor': 1519, 'miseri': 2906, 'health': 2118, 'texa': 4471, 'jerk': 2446, 'sox': 4156, 'jam': 2425, 'barrymor': 436, 'underneath': 4667, 'tacki': 4404, 'viewpoint': 4781, 'recit': 3620, '1989': 44, 'stack': 4214, 'voight': 4803, 'ratso': 3594, 'florida': 1795, '1969': 26, 'incomprehens': 2309, 'louis': 2706, 'hello': 2139, 'cape': 728, 'ginger': 1956, 'gilbert': 1951, 'fifth': 1742, 'foxx': 1843, 'stoog': 4268, 'raymond': 3598, 'mitch': 2916, 'mclaglen': 2819, 'pen': 3280, 'mitchel': 2917, 'liberti': 2643, 'reviv': 3731, 'vocal': 4801, 'hammi': 2081, 'legitim': 2620, 'widmark': 4902, 'heist': 2134, 'trail': 4576, 'moe': 2931, 'newli': 3054, 'ramon': 3574, 'blast': 539, 'martian': 2793, 'factori': 1669, 'unexpectedli': 4677, 'russel': 3824, 'solut': 4128, 'bakshi': 418, 'spade': 4159, 'charlott': 817, 'brush': 654, 'flee': 1783, 'mobil': 2922, 'acquaint': 133, 'renaiss': 3678, 'perri': 3296, 'kansa': 2500, 'splendid': 4193, 'gerard': 1939, 'heap': 2120, 'immort': 2284, 'millionair': 2887, 'clash': 887, 'austen': 376, 'clueless': 922, 'ethan': 1587, 'shell': 3991, 'susan': 4376, 'adopt': 154, 'hungri': 2243, 'mayhem': 2816, 'shoddi': 4003, 'furi': 1894, 'asset': 343, 'dudley': 1429, 'tommi': 4540, 'toronto': 4555, 'proclaim': 3475, 'transcend': 4580, 'sergeant': 3952, 'patienc': 3262, 'metaphor': 2861, 'soviet': 4155, 'habit': 2065, '1939': 20, 'util': 4728, 'hallucin': 2076, 'hostil': 2218, 'backward': 408, 'mount': 2966, 'truman': 4622, 'capot': 730, 'rot': 3801, 'hooker': 2200, 'historian': 2170, 'fx': 1899, 'colleagu': 939, 'undertak': 4672, 'helm': 2140, 'bsg': 656, 'diari': 1299, 'submit': 4317, 'spiral': 4187, 'id': 2256, 'amor': 245, 'lex': 2640, 'spacey': 4158, 'posey': 3399, 'drone': 1417, 'conneri': 1010, 'fishburn': 1767, 'mayor': 2817, 'pocket': 3364, 'sharon': 3983, 'nerd': 3043, 'trademark': 4571, 'net': 3046, 'roy': 3809, 'von': 4806, 'tunnel': 4627, 'muscl': 2988, 'keen': 2510, 'sucker': 4330, 'tail': 4409, 'wwe': 4972, 'uplift': 4715, 'bravo': 613, 'cari': 741, 'fay': 1713, 'rout': 3806, 'fluid': 1799, 'tourist': 4562, 'dive': 1359, 'grinch': 2036, 'hypnot': 2251, 'carrey': 751, 'unravel': 4703, 'shove': 4015, 'racial': 3560, 'cecil': 777, 'orlean': 3174, 'akin': 189, 'biko': 516, 'wrench': 4962, 'heartwarm': 2126, '99': 96, 'ie': 2264, 'inclus': 2306, 'roman': 3783, 'werewolf': 4876, 'absent': 108, 'audit': 372, 'astair': 350, 'packag': 3213, 'inaccur': 2299, 'esther': 1582, 'jazz': 2437, 'verhoeven': 4762, 'tripe': 4612, 'joker': 2470, 'someday': 4131, 'schedul': 3878, 'franki': 1853, 'flame': 1775, 'boyer': 602, 'rave': 3595, 'relentless': 3661, 'mtv': 2976, 'foil': 1804, 'malon': 2762, 'kyle': 2557, 'bacal': 402, 'troop': 4617, 'evan': 1594, 'scotland': 3891, 'baffl': 413, 'bori': 585, 'karloff': 2504, 'wang': 4827, 'remad': 3669, 'insert': 2352, 'token': 4534, 'fabric': 1662, 'rear': 3614, 'bbc': 454, 'gere': 1940, 'empathi': 1518, 'rotten': 3803, 'tomato': 4539, 'pronounc': 3493, 'jan': 2428, 'randi': 3577, 'rukh': 3817, 'stan': 4223, '1945': 22, 'domino': 1375, 'wilder': 4908, 'profan': 3478, 'jade': 2422, 'pole': 3377, 'altogeth': 227, 'vanc': 4744, 'felix': 1723, 'sinatra': 4050, 'strive': 4292, 'sammi': 3848, 'stale': 4219, 'ariel': 309, 'skull': 4075, 'nathan': 3014, 'timberlak': 4518, 'bachelor': 404, 'nina': 3069, 'unreal': 4704, 'airport': 187, 'outright': 3191, 'turtl': 4632, 'iii': 2267, 'feminin': 1728, 'jordan': 2474, 'aristocrat': 311, 'scarfac': 3872, 'europa': 1591, 'extens': 1653, '1974': 31, 'biblic': 509, 'blur': 559, 'spontan': 4200, 'perceiv': 3286, 'perpetu': 3295, 'el': 1489, 'naschi': 3011, 'che': 822, 'soderbergh': 4121, 'scandal': 3868, 'hepburn': 2145, 'wallac': 4822, 'martha': 2790, 'shelley': 3992, 'hamilton': 2078, 'vanish': 4746, 'panic': 3230, 'rude': 3815, 'ritchi': 3758, 'expedit': 1634, 'testament': 4470, 'bergman': 494, 'bronson': 645, 'undermin': 4666, 'bathroom': 450, 'stargat': 4231, 'lucil': 2718, 'rehears': 3651, 'cb': 775, 'polanski': 3376, 'frontal': 1875, 'palm': 3225, 'falk': 1679, 'mobster': 2923, 'palanc': 3223, 'helpless': 2142, 'valentin': 4737, 'springer': 4209, 'peer': 3279, 'temper': 4450, 'olli': 3153, 'judgment': 2483, 'econom': 1468, 'carmen': 747, 'craven': 1098, '1977': 33, 'othello': 3178, 'macarthur': 2737, 'sandra': 3853, 'frantic': 1855, 'lou': 2703, 'mutual': 2996, 'gabriel': 1903, 'iraq': 2399, 'region': 3646, 'mathieu': 2806, 'din': 1314, 'enlist': 1547, 'sooner': 4141, 'plod': 3361, 'tierney': 4513, 'romero': 3787, 'stream': 4281, 'antonioni': 279, 'quaid': 3541, 'scarecrow': 3871, 'linger': 2664, 'map': 2773, 'pauli': 3270, 'brendan': 624, 'signal': 4033, 'neill': 3037, 'garbo': 1916, 'holli': 2182, 'lanc': 2571, 'gunga': 2060, 'cuban': 1137, 'dixon': 1364, 'miracul': 2902, 'preming': 3430}\n"
     ]
    }
   ],
   "source": [
    "print(str(vocabulary))"
   ]
  },
  {
   "cell_type": "markdown",
   "metadata": {},
   "source": [
    "Once you have added the endpoint name to the Lambda function, click on **Save**. Your Lambda function is now up and running. Next we need to create a way for our web app to execute the Lambda function."
   ]
  },
  {
   "cell_type": "markdown",
   "metadata": {},
   "source": [
    "### Setting up API Gateway\n",
    "\n",
    "Now that our Lambda function is set up, it is time to create a new API using API Gateway that will trigger the Lambda function we have just created.\n",
    "\n",
    "Using AWS Console, navigate to **Amazon API Gateway** and then click on **Get started**.\n",
    "\n",
    "On the next page, make sure that **New API** is selected and give the new api a name, for example, `sentiment_analysis_web_app`. Then, click on **Create API**.\n",
    "\n",
    "Now we have created an API, however it doesn't currently do anything. What we want it to do is to trigger the Lambda function that we created earlier.\n",
    "\n",
    "Select the **Actions** dropdown menu and click **Create Method**. A new blank method will be created, select its dropdown menu and select **POST**, then click on the check mark beside it.\n",
    "\n",
    "For the integration point, make sure that **Lambda Function** is selected and click on the **Use Lambda Proxy integration**. This option makes sure that the data that is sent to the API is then sent directly to the Lambda function with no processing. It also means that the return value must be a proper response object as it will also not be processed by API Gateway.\n",
    "\n",
    "Type the name of the Lambda function you created earlier into the **Lambda Function** text entry box and then click on **Save**. Click on **OK** in the pop-up box that then appears, giving permission to API Gateway to invoke the Lambda function you created.\n",
    "\n",
    "The last step in creating the API Gateway is to select the **Actions** dropdown and click on **Deploy API**. You will need to create a new Deployment stage and name it anything you like, for example `prod`.\n",
    "\n",
    "You have now successfully set up a public API to access your SageMaker model. Make sure to copy or write down the URL provided to invoke your newly created public API as this will be needed in the next step. This URL can be found at the top of the page, highlighted in blue next to the text **Invoke URL**."
   ]
  },
  {
   "cell_type": "markdown",
   "metadata": {},
   "source": [
    "## Step 7: Deploying our web app\n",
    "\n",
    "Now that we have a publicly available API, we can start using it in a web app. For our purposes, we have provided a simple static html file which can make use of the public api you created earlier.\n",
    "\n",
    "In the `website` folder there should be a file called `index.html`. Download the file to your computer and open that file up in a text editor of your choice. There should be a line which contains **\\*\\*REPLACE WITH PUBLIC API URL\\*\\***. Replace this string with the url that you wrote down in the last step and then save the file.\n",
    "\n",
    "Now, if you open `index.html` on your local computer, your browser will behave as a local web server and you can use the provided site to interact with your SageMaker model.\n",
    "\n",
    "If you'd like to go further, you can host this html file anywhere you'd like, for example using github or hosting a static site on Amazon's S3. Once you have done this you can share the link with anyone you'd like and have them play with it too!\n",
    "\n",
    "> **Important Note** In order for the web app to communicate with the SageMaker endpoint, the endpoint has to actually be deployed and running. This means that you are paying for it. Make sure that the endpoint is running when you want to use the web app but that you shut it down when you don't need it, otherwise you will end up with a surprisingly large AWS bill."
   ]
  },
  {
   "cell_type": "markdown",
   "metadata": {},
   "source": [
    "### Delete the endpoint\n",
    "\n",
    "Remember to always shut down your endpoint if you are no longer using it. You are charged for the length of time that the endpoint is running so if you forget and leave it on you could end up with an unexpectedly large bill."
   ]
  },
  {
   "cell_type": "code",
   "execution_count": null,
   "metadata": {},
   "outputs": [],
   "source": [
    "xgb_predictor.delete_endpoint()"
   ]
  },
  {
   "cell_type": "markdown",
   "metadata": {},
   "source": [
    "## Optional: Clean up\n",
    "\n",
    "The default notebook instance on SageMaker doesn't have a lot of excess disk space available. As you continue to complete and execute notebooks you will eventually fill up this disk space, leading to errors which can be difficult to diagnose. Once you are completely finished using a notebook it is a good idea to remove the files that you created along the way. Of course, you can do this from the terminal or from the notebook hub if you would like. The cell below contains some commands to clean up the created files from within the notebook."
   ]
  },
  {
   "cell_type": "code",
   "execution_count": 2,
   "metadata": {},
   "outputs": [
    {
     "name": "stdout",
     "output_type": "stream",
     "text": [
      "rm: descend into write-protected directory ‘/bin’? ^C\n",
      "rmdir: missing operand\n",
      "Try 'rmdir --help' for more information.\n"
     ]
    }
   ],
   "source": [
    "# First we will remove all of the files contained in the data_dir directory\n",
    "!rm -r $data_dir/*\n",
    "\n",
    "# And then we delete the directory itself\n",
    "!rmdir $data_dir\n",
    "\n",
    "# Similarly we remove the files in the cache_dir directory and the directory itself\n",
    "# !rm $cache_dir/*\n",
    "# !rmdir $cache_dir"
   ]
  },
  {
   "cell_type": "code",
   "execution_count": null,
   "metadata": {},
   "outputs": [],
   "source": []
  }
 ],
 "metadata": {
  "kernelspec": {
   "display_name": "conda_python3",
   "language": "python",
   "name": "conda_python3"
  },
  "language_info": {
   "codemirror_mode": {
    "name": "ipython",
    "version": 3
   },
   "file_extension": ".py",
   "mimetype": "text/x-python",
   "name": "python",
   "nbconvert_exporter": "python",
   "pygments_lexer": "ipython3",
   "version": "3.6.5"
  }
 },
 "nbformat": 4,
 "nbformat_minor": 2
}
