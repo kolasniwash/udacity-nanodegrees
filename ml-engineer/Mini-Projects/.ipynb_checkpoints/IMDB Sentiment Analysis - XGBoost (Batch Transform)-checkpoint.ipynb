{
 "cells": [
  {
   "cell_type": "markdown",
   "metadata": {},
   "source": [
    "# Sentiment Analysis\n",
    "\n",
    "## Using XGBoost in SageMaker\n",
    "\n",
    "_Deep Learning Nanodegree Program | Deployment_\n",
    "\n",
    "---\n",
    "\n",
    "As our first example of using Amazon's SageMaker service we will construct a random tree model to predict the sentiment of a movie review. You may have seen a version of this example in a pervious lesson although it would have been done using the sklearn package. Instead, we will be using the XGBoost package as it is provided to us by Amazon.\n",
    "\n",
    "## Instructions\n",
    "\n",
    "Some template code has already been provided for you, and you will need to implement additional functionality to successfully complete this notebook. You will not need to modify the included code beyond what is requested. Sections that begin with '**TODO**' in the header indicate that you need to complete or implement some portion within them. Instructions will be provided for each section and the specifics of the implementation are marked in the code block with a `# TODO: ...` comment. Please be sure to read the instructions carefully!\n",
    "\n",
    "In addition to implementing code, there may be questions for you to answer which relate to the task and your implementation. Each section where you will answer a question is preceded by a '**Question:**' header. Carefully read each question and provide your answer below the '**Answer:**' header by editing the Markdown cell.\n",
    "\n",
    "> **Note**: Code and Markdown cells can be executed using the **Shift+Enter** keyboard shortcut. In addition, a cell can be edited by typically clicking it (double-click for Markdown cells) or by pressing **Enter** while it is highlighted."
   ]
  },
  {
   "cell_type": "markdown",
   "metadata": {},
   "source": [
    "## Step 1: Downloading the data\n",
    "\n",
    "The dataset we are going to use is very popular among researchers in Natural Language Processing, usually referred to as the [IMDb dataset](http://ai.stanford.edu/~amaas/data/sentiment/). It consists of movie reviews from the website [imdb.com](http://www.imdb.com/), each labeled as either '**pos**itive', if the reviewer enjoyed the film, or '**neg**ative' otherwise.\n",
    "\n",
    "> Maas, Andrew L., et al. [Learning Word Vectors for Sentiment Analysis](http://ai.stanford.edu/~amaas/data/sentiment/). In _Proceedings of the 49th Annual Meeting of the Association for Computational Linguistics: Human Language Technologies_. Association for Computational Linguistics, 2011.\n",
    "\n",
    "We begin by using some Jupyter Notebook magic to download and extract the dataset."
   ]
  },
  {
   "cell_type": "code",
   "execution_count": 1,
   "metadata": {},
   "outputs": [
    {
     "name": "stdout",
     "output_type": "stream",
     "text": [
      "mkdir: cannot create directory ‘../data’: File exists\n",
      "--2019-12-08 17:40:39--  http://ai.stanford.edu/~amaas/data/sentiment/aclImdb_v1.tar.gz\n",
      "Resolving ai.stanford.edu (ai.stanford.edu)... 171.64.68.10\n",
      "Connecting to ai.stanford.edu (ai.stanford.edu)|171.64.68.10|:80... connected.\n",
      "HTTP request sent, awaiting response... 200 OK\n",
      "Length: 84125825 (80M) [application/x-gzip]\n",
      "Saving to: ‘../data/aclImdb_v1.tar.gz’\n",
      "\n",
      "../data/aclImdb_v1. 100%[===================>]  80.23M  22.4MB/s    in 4.4s    \n",
      "\n",
      "2019-12-08 17:40:44 (18.3 MB/s) - ‘../data/aclImdb_v1.tar.gz’ saved [84125825/84125825]\n",
      "\n"
     ]
    }
   ],
   "source": [
    "%mkdir ../data\n",
    "!wget -O ../data/aclImdb_v1.tar.gz http://ai.stanford.edu/~amaas/data/sentiment/aclImdb_v1.tar.gz\n",
    "!tar -zxf ../data/aclImdb_v1.tar.gz -C ../data"
   ]
  },
  {
   "cell_type": "markdown",
   "metadata": {},
   "source": [
    "## Step 2: Preparing the data\n",
    "\n",
    "The data we have downloaded is split into various files, each of which contains a single review. It will be much easier going forward if we combine these individual files into two large files, one for training and one for testing."
   ]
  },
  {
   "cell_type": "code",
   "execution_count": 2,
   "metadata": {},
   "outputs": [],
   "source": [
    "import os\n",
    "import glob\n",
    "\n",
    "def read_imdb_data(data_dir='../data/aclImdb'):\n",
    "    data = {}\n",
    "    labels = {}\n",
    "    \n",
    "    for data_type in ['train', 'test']:\n",
    "        data[data_type] = {}\n",
    "        labels[data_type] = {}\n",
    "        \n",
    "        for sentiment in ['pos', 'neg']:\n",
    "            data[data_type][sentiment] = []\n",
    "            labels[data_type][sentiment] = []\n",
    "            \n",
    "            path = os.path.join(data_dir, data_type, sentiment, '*.txt')\n",
    "            files = glob.glob(path)\n",
    "            \n",
    "            for f in files:\n",
    "                with open(f) as review:\n",
    "                    data[data_type][sentiment].append(review.read())\n",
    "                    # Here we represent a positive review by '1' and a negative review by '0'\n",
    "                    labels[data_type][sentiment].append(1 if sentiment == 'pos' else 0)\n",
    "                    \n",
    "            assert len(data[data_type][sentiment]) == len(labels[data_type][sentiment]), \\\n",
    "                    \"{}/{} data size does not match labels size\".format(data_type, sentiment)\n",
    "                \n",
    "    return data, labels"
   ]
  },
  {
   "cell_type": "code",
   "execution_count": 3,
   "metadata": {},
   "outputs": [
    {
     "name": "stdout",
     "output_type": "stream",
     "text": [
      "IMDB reviews: train = 12500 pos / 12500 neg, test = 12500 pos / 12500 neg\n"
     ]
    }
   ],
   "source": [
    "data, labels = read_imdb_data()\n",
    "print(\"IMDB reviews: train = {} pos / {} neg, test = {} pos / {} neg\".format(\n",
    "            len(data['train']['pos']), len(data['train']['neg']),\n",
    "            len(data['test']['pos']), len(data['test']['neg'])))"
   ]
  },
  {
   "cell_type": "code",
   "execution_count": 4,
   "metadata": {},
   "outputs": [],
   "source": [
    "from sklearn.utils import shuffle\n",
    "\n",
    "def prepare_imdb_data(data, labels):\n",
    "    \"\"\"Prepare training and test sets from IMDb movie reviews.\"\"\"\n",
    "    \n",
    "    #Combine positive and negative reviews and labels\n",
    "    data_train = data['train']['pos'] + data['train']['neg']\n",
    "    data_test = data['test']['pos'] + data['test']['neg']\n",
    "    labels_train = labels['train']['pos'] + labels['train']['neg']\n",
    "    labels_test = labels['test']['pos'] + labels['test']['neg']\n",
    "    \n",
    "    #Shuffle reviews and corresponding labels within training and test sets\n",
    "    data_train, labels_train = shuffle(data_train, labels_train)\n",
    "    data_test, labels_test = shuffle(data_test, labels_test)\n",
    "    \n",
    "    # Return a unified training data, test data, training labels, test labets\n",
    "    return data_train, data_test, labels_train, labels_test"
   ]
  },
  {
   "cell_type": "code",
   "execution_count": 5,
   "metadata": {},
   "outputs": [
    {
     "name": "stdout",
     "output_type": "stream",
     "text": [
      "IMDb reviews (combined): train = 25000, test = 25000\n"
     ]
    }
   ],
   "source": [
    "train_X, test_X, train_y, test_y = prepare_imdb_data(data, labels)\n",
    "print(\"IMDb reviews (combined): train = {}, test = {}\".format(len(train_X), len(test_X)))"
   ]
  },
  {
   "cell_type": "code",
   "execution_count": 6,
   "metadata": {},
   "outputs": [
    {
     "data": {
      "text/plain": [
       "'Atlantis: The Lost Empire is a better movie than I thought. I never thought this movie would lead to my expectations. True, this movie started slow, but as the movie wore on it became more to my liking. The story takes place in 1914 and is about a guy named Milo. Milo believes in the fabled Atlantis. Along with friends of his grandfather, he embarks on an amazing adventure of his own. Along the way, he must endear friendship, betrayal, trust, and more. The voice cast is great. They surely know how to carry movies with only their voice talent. The music is nothing special but likable anyway. The animation is not the best, but it is still good enough. Overall, this is a good family movie for all ages. I rate this movie 9/10.'"
      ]
     },
     "execution_count": 6,
     "metadata": {},
     "output_type": "execute_result"
    }
   ],
   "source": [
    "train_X[100]"
   ]
  },
  {
   "cell_type": "markdown",
   "metadata": {},
   "source": [
    "## Step 3: Processing the data\n",
    "\n",
    "Now that we have our training and testing datasets merged and ready to use, we need to start processing the raw data into something that will be useable by our machine learning algorithm. To begin with, we remove any html formatting that may appear in the reviews and perform some standard natural language processing in order to homogenize the data."
   ]
  },
  {
   "cell_type": "code",
   "execution_count": 7,
   "metadata": {},
   "outputs": [
    {
     "name": "stdout",
     "output_type": "stream",
     "text": [
      "[nltk_data] Downloading package stopwords to\n",
      "[nltk_data]     /home/ec2-user/nltk_data...\n",
      "[nltk_data]   Unzipping corpora/stopwords.zip.\n"
     ]
    }
   ],
   "source": [
    "import nltk\n",
    "nltk.download(\"stopwords\")\n",
    "from nltk.corpus import stopwords\n",
    "from nltk.stem.porter import *\n",
    "stemmer = PorterStemmer()"
   ]
  },
  {
   "cell_type": "code",
   "execution_count": 8,
   "metadata": {},
   "outputs": [],
   "source": [
    "import re\n",
    "from bs4 import BeautifulSoup\n",
    "\n",
    "def review_to_words(review):\n",
    "    text = BeautifulSoup(review, \"html.parser\").get_text() # Remove HTML tags\n",
    "    text = re.sub(r\"[^a-zA-Z0-9]\", \" \", text.lower()) # Convert to lower case\n",
    "    words = text.split() # Split string into words\n",
    "    words = [w for w in words if w not in stopwords.words(\"english\")] # Remove stopwords\n",
    "    words = [PorterStemmer().stem(w) for w in words] # stem\n",
    "    \n",
    "    return words"
   ]
  },
  {
   "cell_type": "code",
   "execution_count": 9,
   "metadata": {},
   "outputs": [],
   "source": [
    "import pickle\n",
    "\n",
    "cache_dir = os.path.join(\"../cache\", \"sentiment_analysis\")  # where to store cache files\n",
    "os.makedirs(cache_dir, exist_ok=True)  # ensure cache directory exists\n",
    "\n",
    "def preprocess_data(data_train, data_test, labels_train, labels_test,\n",
    "                    cache_dir=cache_dir, cache_file=\"preprocessed_data.pkl\"):\n",
    "    \"\"\"Convert each review to words; read from cache if available.\"\"\"\n",
    "\n",
    "    # If cache_file is not None, try to read from it first\n",
    "    cache_data = None\n",
    "    if cache_file is not None:\n",
    "        try:\n",
    "            with open(os.path.join(cache_dir, cache_file), \"rb\") as f:\n",
    "                cache_data = pickle.load(f)\n",
    "            print(\"Read preprocessed data from cache file:\", cache_file)\n",
    "        except:\n",
    "            pass  # unable to read from cache, but that's okay\n",
    "    \n",
    "    # If cache is missing, then do the heavy lifting\n",
    "    if cache_data is None:\n",
    "        # Preprocess training and test data to obtain words for each review\n",
    "        #words_train = list(map(review_to_words, data_train))\n",
    "        #words_test = list(map(review_to_words, data_test))\n",
    "        words_train = [review_to_words(review) for review in data_train]\n",
    "        words_test = [review_to_words(review) for review in data_test]\n",
    "        \n",
    "        # Write to cache file for future runs\n",
    "        if cache_file is not None:\n",
    "            cache_data = dict(words_train=words_train, words_test=words_test,\n",
    "                              labels_train=labels_train, labels_test=labels_test)\n",
    "            with open(os.path.join(cache_dir, cache_file), \"wb\") as f:\n",
    "                pickle.dump(cache_data, f)\n",
    "            print(\"Wrote preprocessed data to cache file:\", cache_file)\n",
    "    else:\n",
    "        # Unpack data loaded from cache file\n",
    "        words_train, words_test, labels_train, labels_test = (cache_data['words_train'],\n",
    "                cache_data['words_test'], cache_data['labels_train'], cache_data['labels_test'])\n",
    "    \n",
    "    return words_train, words_test, labels_train, labels_test"
   ]
  },
  {
   "cell_type": "code",
   "execution_count": 10,
   "metadata": {},
   "outputs": [
    {
     "name": "stdout",
     "output_type": "stream",
     "text": [
      "Wrote preprocessed data to cache file: preprocessed_data.pkl\n"
     ]
    }
   ],
   "source": [
    "# Preprocess data\n",
    "train_X, test_X, train_y, test_y = preprocess_data(train_X, test_X, train_y, test_y)"
   ]
  },
  {
   "cell_type": "markdown",
   "metadata": {},
   "source": [
    "### Extract Bag-of-Words features\n",
    "\n",
    "For the model we will be implementing, rather than using the reviews directly, we are going to transform each review into a Bag-of-Words feature representation. Keep in mind that 'in the wild' we will only have access to the training set so our transformer can only use the training set to construct a representation."
   ]
  },
  {
   "cell_type": "code",
   "execution_count": 11,
   "metadata": {},
   "outputs": [],
   "source": [
    "import numpy as np\n",
    "from sklearn.feature_extraction.text import CountVectorizer\n",
    "from sklearn.externals import joblib\n",
    "# joblib is an enhanced version of pickle that is more efficient for storing NumPy arrays\n",
    "\n",
    "def extract_BoW_features(words_train, words_test, vocabulary_size=5000,\n",
    "                         cache_dir=cache_dir, cache_file=\"bow_features.pkl\"):\n",
    "    \"\"\"Extract Bag-of-Words for a given set of documents, already preprocessed into words.\"\"\"\n",
    "    \n",
    "    # If cache_file is not None, try to read from it first\n",
    "    cache_data = None\n",
    "    if cache_file is not None:\n",
    "        try:\n",
    "            with open(os.path.join(cache_dir, cache_file), \"rb\") as f:\n",
    "                cache_data = joblib.load(f)\n",
    "            print(\"Read features from cache file:\", cache_file)\n",
    "        except:\n",
    "            pass  # unable to read from cache, but that's okay\n",
    "    \n",
    "    # If cache is missing, then do the heavy lifting\n",
    "    if cache_data is None:\n",
    "        # Fit a vectorizer to training documents and use it to transform them\n",
    "        # NOTE: Training documents have already been preprocessed and tokenized into words;\n",
    "        #       pass in dummy functions to skip those steps, e.g. preprocessor=lambda x: x\n",
    "        vectorizer = CountVectorizer(max_features=vocabulary_size,\n",
    "                preprocessor=lambda x: x, tokenizer=lambda x: x)  # already preprocessed\n",
    "        features_train = vectorizer.fit_transform(words_train).toarray()\n",
    "\n",
    "        # Apply the same vectorizer to transform the test documents (ignore unknown words)\n",
    "        features_test = vectorizer.transform(words_test).toarray()\n",
    "        \n",
    "        # NOTE: Remember to convert the features using .toarray() for a compact representation\n",
    "        \n",
    "        # Write to cache file for future runs (store vocabulary as well)\n",
    "        if cache_file is not None:\n",
    "            vocabulary = vectorizer.vocabulary_\n",
    "            cache_data = dict(features_train=features_train, features_test=features_test,\n",
    "                             vocabulary=vocabulary)\n",
    "            with open(os.path.join(cache_dir, cache_file), \"wb\") as f:\n",
    "                joblib.dump(cache_data, f)\n",
    "            print(\"Wrote features to cache file:\", cache_file)\n",
    "    else:\n",
    "        # Unpack data loaded from cache file\n",
    "        features_train, features_test, vocabulary = (cache_data['features_train'],\n",
    "                cache_data['features_test'], cache_data['vocabulary'])\n",
    "    \n",
    "    # Return both the extracted features as well as the vocabulary\n",
    "    return features_train, features_test, vocabulary"
   ]
  },
  {
   "cell_type": "code",
   "execution_count": 12,
   "metadata": {},
   "outputs": [
    {
     "name": "stdout",
     "output_type": "stream",
     "text": [
      "Wrote features to cache file: bow_features.pkl\n"
     ]
    }
   ],
   "source": [
    "# Extract Bag of Words features for both training and test datasets\n",
    "train_X, test_X, vocabulary = extract_BoW_features(train_X, test_X)"
   ]
  },
  {
   "cell_type": "markdown",
   "metadata": {},
   "source": [
    "## Step 4: Classification using XGBoost\n",
    "\n",
    "Now that we have created the feature representation of our training (and testing) data, it is time to start setting up and using the XGBoost classifier provided by SageMaker.\n",
    "\n",
    "### (TODO) Writing the dataset\n",
    "\n",
    "The XGBoost classifier that we will be using requires the dataset to be written to a file and stored using Amazon S3. To do this, we will start by splitting the training dataset into two parts, the data we will train the model with and a validation set. Then, we will write those datasets to a file and upload the files to S3. In addition, we will write the test set input to a file and upload the file to S3. This is so that we can use SageMakers Batch Transform functionality to test our model once we've fit it."
   ]
  },
  {
   "cell_type": "code",
   "execution_count": 13,
   "metadata": {},
   "outputs": [
    {
     "name": "stdout",
     "output_type": "stream",
     "text": [
      "Train length 15000 Validation length 10000\n"
     ]
    }
   ],
   "source": [
    "import pandas as pd\n",
    "\n",
    "# TODO: Split the train_X and train_y arrays into the DataFrames val_X, train_X and val_y, train_y. Make sure that\n",
    "#       val_X and val_y contain 10 000 entires while train_X and train_y contain the remaining 15 000 entries.\n",
    "\n",
    "val_X, train_X, val_y, train_y = train_X[:10000], train_X[10000:], train_y[:10000], train_y[10000:]\n",
    "print('Train length {} Validation length {}'.format(len(train_X), len(val_X)))"
   ]
  },
  {
   "cell_type": "markdown",
   "metadata": {},
   "source": [
    "The documentation for the XGBoost algorithm in SageMaker requires that the saved datasets should contain no headers or index and that for the training and validation data, the label should occur first for each sample.\n",
    "\n",
    "For more information about this and other algorithms, the SageMaker developer documentation can be found on __[Amazon's website.](https://docs.aws.amazon.com/sagemaker/latest/dg/)__"
   ]
  },
  {
   "cell_type": "code",
   "execution_count": 14,
   "metadata": {},
   "outputs": [],
   "source": [
    "# First we make sure that the local directory in which we'd like to store the training and validation csv files exists.\n",
    "data_dir = '../data/xgboost'\n",
    "if not os.path.exists(data_dir):\n",
    "    os.makedirs(data_dir)"
   ]
  },
  {
   "cell_type": "code",
   "execution_count": 15,
   "metadata": {},
   "outputs": [],
   "source": [
    "# First, save the test data to test.csv in the data_dir directory. Note that we do not save the associated ground truth\n",
    "# labels, instead we will use them later to compare with our model output.\n",
    "\n",
    "pd.DataFrame(test_X).to_csv(os.path.join(data_dir, 'test.csv'), header=False, index=False)\n",
    "\n",
    "# TODO: Save the training and validation data to train.csv and validation.csv in the data_dir directory.\n",
    "#       Make sure that the files you create are in the correct format.\n",
    "\n",
    "pd.concat([pd.DataFrame(train_y),pd.DataFrame(train_X)], axis=1).to_csv(os.path.join(data_dir, 'train.csv'), header=False, index=False)\n",
    "pd.concat([pd.DataFrame(val_y),pd.DataFrame(val_X)], axis=1).to_csv(os.path.join(data_dir, 'validation.csv'), header=False, index=False)"
   ]
  },
  {
   "cell_type": "code",
   "execution_count": 16,
   "metadata": {},
   "outputs": [],
   "source": [
    "# To save a bit of memory we can set text_X, train_X, val_X, train_y and val_y to None.\n",
    "\n",
    "test_X = train_X = val_X = train_y = val_y = None"
   ]
  },
  {
   "cell_type": "markdown",
   "metadata": {},
   "source": [
    "### (TODO) Uploading Training / Validation files to S3\n",
    "\n",
    "Amazon's S3 service allows us to store files that can be access by both the built-in training models such as the XGBoost model we will be using as well as custom models such as the one we will see a little later.\n",
    "\n",
    "For this, and most other tasks we will be doing using SageMaker, there are two methods we could use. The first is to use the low level functionality of SageMaker which requires knowing each of the objects involved in the SageMaker environment. The second is to use the high level functionality in which certain choices have been made on the user's behalf. The low level approach benefits from allowing the user a great deal of flexibility while the high level approach makes development much quicker. For our purposes we will opt to use the high level approach although using the low-level approach is certainly an option.\n",
    "\n",
    "Recall the method `upload_data()` which is a member of object representing our current SageMaker session. What this method does is upload the data to the default bucket (which is created if it does not exist) into the path described by the key_prefix variable. To see this for yourself, once you have uploaded the data files, go to the S3 console and look to see where the files have been uploaded.\n",
    "\n",
    "For additional resources, see the __[SageMaker API documentation](http://sagemaker.readthedocs.io/en/latest/)__ and in addition the __[SageMaker Developer Guide.](https://docs.aws.amazon.com/sagemaker/latest/dg/)__"
   ]
  },
  {
   "cell_type": "code",
   "execution_count": 17,
   "metadata": {},
   "outputs": [],
   "source": [
    "import sagemaker\n",
    "\n",
    "session = sagemaker.Session() # Store the current SageMaker session\n",
    "\n",
    "# S3 prefix (which folder will we use)\n",
    "prefix = 'sentiment-xgboost'\n",
    "\n",
    "# TODO: Upload the test.csv, train.csv and validation.csv files which are contained in data_dir to S3 using sess.upload_data().\n",
    "test_location = session.upload_data(os.path.join(data_dir, 'test.csv'),key_prefix=prefix)\n",
    "val_location = session.upload_data(os.path.join(data_dir, 'validation.csv'), key_prefix=prefix)\n",
    "train_location = session.upload_data(os.path.join(data_dir, 'train.csv'), key_prefix=prefix)"
   ]
  },
  {
   "cell_type": "markdown",
   "metadata": {},
   "source": [
    "### (TODO) Creating the XGBoost model\n",
    "\n",
    "Now that the data has been uploaded it is time to create the XGBoost model. To begin with, we need to do some setup. At this point it is worth discussing what a model is in SageMaker. It is easiest to think of a model of comprising three different objects in the SageMaker ecosystem, which interact with one another.\n",
    "\n",
    "- Model Artifacts\n",
    "- Training Code (Container)\n",
    "- Inference Code (Container)\n",
    "\n",
    "The Model Artifacts are what you might think of as the actual model itself. For example, if you were building a neural network, the model artifacts would be the weights of the various layers. In our case, for an XGBoost model, the artifacts are the actual trees that are created during training.\n",
    "\n",
    "The other two objects, the training code and the inference code are then used the manipulate the training artifacts. More precisely, the training code uses the training data that is provided and creates the model artifacts, while the inference code uses the model artifacts to make predictions on new data.\n",
    "\n",
    "The way that SageMaker runs the training and inference code is by making use of Docker containers. For now, think of a container as being a way of packaging code up so that dependencies aren't an issue."
   ]
  },
  {
   "cell_type": "code",
   "execution_count": 18,
   "metadata": {},
   "outputs": [],
   "source": [
    "from sagemaker import get_execution_role\n",
    "\n",
    "# Our current execution role is require when creating the model as the training\n",
    "# and inference code will need to access the model artifacts.\n",
    "role = get_execution_role()"
   ]
  },
  {
   "cell_type": "code",
   "execution_count": 20,
   "metadata": {},
   "outputs": [],
   "source": [
    "# We need to retrieve the location of the container which is provided by Amazon for using XGBoost.\n",
    "# As a matter of convenience, the training and inference code both use the same container.\n",
    "from sagemaker.amazon.amazon_estimator import get_image_uri\n",
    "\n",
    "container = get_image_uri(session.boto_region_name, 'xgboost', '0.90-1')"
   ]
  },
  {
   "cell_type": "code",
   "execution_count": 25,
   "metadata": {},
   "outputs": [],
   "source": [
    "# TODO: Create a SageMaker estimator using the container location determined in the previous cell.\n",
    "#       It is recommended that you use a single training instance of type ml.m4.xlarge. It is also\n",
    "#       recommended that you use 's3://{}/{}/output'.format(session.default_bucket(), prefix) as the\n",
    "#       output path.\n",
    "\n",
    "xgb = sagemaker.estimator.Estimator(container,\n",
    "                                    role,\n",
    "                                    train_instance_count=1,\n",
    "                                    train_instance_type='ml.m4.xlarge',\n",
    "                                    output_path='s3://{}/{}/output'.format(session.default_bucket(), prefix),\n",
    "                                    sagemaker_session=session\n",
    "                                   )\n",
    "\n",
    "\n",
    "# TODO: Set the XGBoost hyperparameters in the xgb object. Don't forget that in this case we have a binary\n",
    "#       label so we should be using the 'binary:logistic' objective.\n",
    "\n",
    "xgb.set_hyperparameters(max_depth=5,\n",
    "                        eta = .2,\n",
    "                        gamma = 4,\n",
    "                        min_child_weight = 6,\n",
    "                        subsample=0.8,\n",
    "                        objective='binary:logistic',\n",
    "                        early_stopping_rounds=10,\n",
    "                        num_round=200\n",
    "                       )\n"
   ]
  },
  {
   "cell_type": "markdown",
   "metadata": {},
   "source": [
    "### Fit the XGBoost model\n",
    "\n",
    "Now that our model has been set up we simply need to attach the training and validation datasets and then ask SageMaker to set up the computation."
   ]
  },
  {
   "cell_type": "code",
   "execution_count": 26,
   "metadata": {},
   "outputs": [],
   "source": [
    "s3_input_train = sagemaker.s3_input(s3_data=train_location, content_type='csv')\n",
    "s3_input_validation = sagemaker.s3_input(s3_data=val_location, content_type='csv')"
   ]
  },
  {
   "cell_type": "code",
   "execution_count": 27,
   "metadata": {},
   "outputs": [
    {
     "name": "stdout",
     "output_type": "stream",
     "text": [
      "2019-12-08 18:51:27 Starting - Starting the training job...\n",
      "2019-12-08 18:51:28 Starting - Launching requested ML instances...\n",
      "2019-12-08 18:52:23 Starting - Preparing the instances for training......\n",
      "2019-12-08 18:53:21 Downloading - Downloading input data...\n",
      "2019-12-08 18:53:42 Training - Downloading the training image...\n",
      "2019-12-08 18:54:11 Training - Training image download completed. Training in progress..\u001b[34mINFO:sagemaker-containers:Imported framework sagemaker_xgboost_container.training\u001b[0m\n",
      "\u001b[34mINFO:sagemaker-containers:Failed to parse hyperparameter objective value binary:logistic to Json.\u001b[0m\n",
      "\u001b[34mReturning the value itself\u001b[0m\n",
      "\u001b[34mINFO:sagemaker-containers:No GPUs detected (normal if no gpus installed)\u001b[0m\n",
      "\u001b[34mINFO:sagemaker_xgboost_container.training:Running XGBoost Sagemaker in algorithm mode\u001b[0m\n",
      "\u001b[34mINFO:root:Determined delimiter of CSV input is ','\u001b[0m\n",
      "\u001b[34mINFO:root:Determined delimiter of CSV input is ','\u001b[0m\n",
      "\u001b[34mINFO:root:Determined delimiter of CSV input is ','\u001b[0m\n",
      "\u001b[34m[18:54:16] 15000x5000 matrix with 75000000 entries loaded from /opt/ml/input/data/train?format=csv&label_column=0&delimiter=,\u001b[0m\n",
      "\u001b[34mINFO:root:Determined delimiter of CSV input is ','\u001b[0m\n",
      "\u001b[34m[18:54:17] 10000x5000 matrix with 50000000 entries loaded from /opt/ml/input/data/validation?format=csv&label_column=0&delimiter=,\u001b[0m\n",
      "\u001b[34mINFO:root:Single node training.\u001b[0m\n",
      "\u001b[34mINFO:root:Train matrix has 15000 rows\u001b[0m\n",
      "\u001b[34mINFO:root:Validation matrix has 10000 rows\u001b[0m\n",
      "\u001b[34m[0]#011train-error:0.294067#011validation-error:0.307\u001b[0m\n",
      "\u001b[34m[1]#011train-error:0.269533#011validation-error:0.2831\u001b[0m\n",
      "\u001b[34m[2]#011train-error:0.268#011validation-error:0.2836\u001b[0m\n",
      "\u001b[34m[3]#011train-error:0.266533#011validation-error:0.2795\u001b[0m\n",
      "\u001b[34m[4]#011train-error:0.255867#011validation-error:0.2697\u001b[0m\n",
      "\u001b[34m[5]#011train-error:0.2534#011validation-error:0.2656\u001b[0m\n",
      "\u001b[34m[6]#011train-error:0.248333#011validation-error:0.2615\u001b[0m\n",
      "\u001b[34m[7]#011train-error:0.236933#011validation-error:0.2497\u001b[0m\n",
      "\u001b[34m[8]#011train-error:0.230467#011validation-error:0.2391\u001b[0m\n",
      "\u001b[34m[9]#011train-error:0.2276#011validation-error:0.2419\u001b[0m\n",
      "\u001b[34m[10]#011train-error:0.224333#011validation-error:0.2383\u001b[0m\n",
      "\u001b[34m[11]#011train-error:0.217333#011validation-error:0.2322\u001b[0m\n",
      "\u001b[34m[12]#011train-error:0.2132#011validation-error:0.2286\u001b[0m\n",
      "\u001b[34m[13]#011train-error:0.2076#011validation-error:0.2256\u001b[0m\n",
      "\u001b[34m[14]#011train-error:0.204133#011validation-error:0.2214\u001b[0m\n",
      "\u001b[34m[15]#011train-error:0.200267#011validation-error:0.2188\u001b[0m\n",
      "\u001b[34m[16]#011train-error:0.1966#011validation-error:0.2174\u001b[0m\n",
      "\u001b[34m[17]#011train-error:0.1968#011validation-error:0.2154\u001b[0m\n",
      "\u001b[34m[18]#011train-error:0.1942#011validation-error:0.213\u001b[0m\n",
      "\u001b[34m[19]#011train-error:0.191267#011validation-error:0.21\u001b[0m\n",
      "\u001b[34m[20]#011train-error:0.188067#011validation-error:0.2087\u001b[0m\n",
      "\u001b[34m[21]#011train-error:0.183933#011validation-error:0.2067\u001b[0m\n",
      "\u001b[34m[22]#011train-error:0.182667#011validation-error:0.2051\u001b[0m\n",
      "\u001b[34m[23]#011train-error:0.1802#011validation-error:0.203\u001b[0m\n",
      "\u001b[34m[24]#011train-error:0.176933#011validation-error:0.2023\u001b[0m\n",
      "\u001b[34m[25]#011train-error:0.1752#011validation-error:0.2018\u001b[0m\n",
      "\u001b[34m[26]#011train-error:0.1728#011validation-error:0.198\u001b[0m\n",
      "\u001b[34m[27]#011train-error:0.171067#011validation-error:0.197\u001b[0m\n",
      "\u001b[34m[28]#011train-error:0.168733#011validation-error:0.1943\u001b[0m\n",
      "\u001b[34m[29]#011train-error:0.166867#011validation-error:0.1936\u001b[0m\n",
      "\u001b[34m[30]#011train-error:0.1644#011validation-error:0.1924\u001b[0m\n",
      "\u001b[34m[31]#011train-error:0.161667#011validation-error:0.1902\u001b[0m\n",
      "\u001b[34m[32]#011train-error:0.160067#011validation-error:0.1889\u001b[0m\n",
      "\u001b[34m[33]#011train-error:0.159933#011validation-error:0.187\u001b[0m\n",
      "\u001b[34m[34]#011train-error:0.158667#011validation-error:0.186\u001b[0m\n",
      "\u001b[34m[35]#011train-error:0.156#011validation-error:0.1867\u001b[0m\n",
      "\u001b[34m[36]#011train-error:0.154133#011validation-error:0.1837\u001b[0m\n",
      "\u001b[34m[37]#011train-error:0.153067#011validation-error:0.1818\u001b[0m\n",
      "\u001b[34m[38]#011train-error:0.152#011validation-error:0.1815\u001b[0m\n",
      "\u001b[34m[39]#011train-error:0.150133#011validation-error:0.1797\u001b[0m\n",
      "\u001b[34m[40]#011train-error:0.1494#011validation-error:0.178\u001b[0m\n",
      "\u001b[34m[41]#011train-error:0.148#011validation-error:0.1773\u001b[0m\n",
      "\u001b[34m[42]#011train-error:0.1462#011validation-error:0.1763\u001b[0m\n",
      "\u001b[34m[43]#011train-error:0.145733#011validation-error:0.176\u001b[0m\n",
      "\u001b[34m[44]#011train-error:0.145267#011validation-error:0.1758\u001b[0m\n",
      "\u001b[34m[45]#011train-error:0.1432#011validation-error:0.1738\u001b[0m\n",
      "\u001b[34m[46]#011train-error:0.142067#011validation-error:0.1732\u001b[0m\n",
      "\u001b[34m[47]#011train-error:0.141333#011validation-error:0.1728\u001b[0m\n",
      "\u001b[34m[48]#011train-error:0.1416#011validation-error:0.1728\u001b[0m\n",
      "\u001b[34m[49]#011train-error:0.140133#011validation-error:0.1724\u001b[0m\n",
      "\u001b[34m[50]#011train-error:0.139533#011validation-error:0.1725\u001b[0m\n",
      "\u001b[34m[51]#011train-error:0.138067#011validation-error:0.1714\u001b[0m\n",
      "\u001b[34m[52]#011train-error:0.1368#011validation-error:0.1706\u001b[0m\n",
      "\u001b[34m[53]#011train-error:0.135933#011validation-error:0.1699\u001b[0m\n",
      "\u001b[34m[54]#011train-error:0.1356#011validation-error:0.1683\u001b[0m\n",
      "\u001b[34m[55]#011train-error:0.135#011validation-error:0.167\u001b[0m\n",
      "\u001b[34m[56]#011train-error:0.134467#011validation-error:0.1674\u001b[0m\n",
      "\u001b[34m[57]#011train-error:0.1332#011validation-error:0.1679\u001b[0m\n",
      "\u001b[34m[58]#011train-error:0.1324#011validation-error:0.1683\u001b[0m\n",
      "\u001b[34m[59]#011train-error:0.132133#011validation-error:0.1669\u001b[0m\n",
      "\u001b[34m[60]#011train-error:0.131133#011validation-error:0.1656\u001b[0m\n",
      "\u001b[34m[61]#011train-error:0.1306#011validation-error:0.1659\u001b[0m\n",
      "\u001b[34m[62]#011train-error:0.129467#011validation-error:0.1655\u001b[0m\n",
      "\u001b[34m[63]#011train-error:0.129467#011validation-error:0.1664\u001b[0m\n",
      "\u001b[34m[64]#011train-error:0.129133#011validation-error:0.1655\u001b[0m\n",
      "\u001b[34m[65]#011train-error:0.1292#011validation-error:0.1657\u001b[0m\n",
      "\u001b[34m[66]#011train-error:0.127867#011validation-error:0.1655\u001b[0m\n",
      "\u001b[34m[67]#011train-error:0.1282#011validation-error:0.1646\u001b[0m\n",
      "\u001b[34m[68]#011train-error:0.127267#011validation-error:0.165\u001b[0m\n",
      "\u001b[34m[69]#011train-error:0.125467#011validation-error:0.1639\u001b[0m\n",
      "\u001b[34m[70]#011train-error:0.126333#011validation-error:0.163\u001b[0m\n",
      "\u001b[34m[71]#011train-error:0.125867#011validation-error:0.1622\u001b[0m\n",
      "\u001b[34m[72]#011train-error:0.124133#011validation-error:0.1619\u001b[0m\n",
      "\u001b[34m[73]#011train-error:0.1226#011validation-error:0.1615\u001b[0m\n",
      "\u001b[34m[74]#011train-error:0.122067#011validation-error:0.1604\u001b[0m\n",
      "\u001b[34m[75]#011train-error:0.121733#011validation-error:0.1599\u001b[0m\n",
      "\u001b[34m[76]#011train-error:0.122067#011validation-error:0.1607\u001b[0m\n",
      "\u001b[34m[77]#011train-error:0.121#011validation-error:0.1604\u001b[0m\n",
      "\u001b[34m[78]#011train-error:0.120867#011validation-error:0.1594\u001b[0m\n",
      "\u001b[34m[79]#011train-error:0.120533#011validation-error:0.1591\u001b[0m\n",
      "\u001b[34m[80]#011train-error:0.1196#011validation-error:0.1585\u001b[0m\n",
      "\u001b[34m[81]#011train-error:0.1196#011validation-error:0.1582\u001b[0m\n",
      "\u001b[34m[82]#011train-error:0.118667#011validation-error:0.1583\u001b[0m\n",
      "\u001b[34m[83]#011train-error:0.118533#011validation-error:0.1573\u001b[0m\n",
      "\u001b[34m[84]#011train-error:0.117667#011validation-error:0.1567\u001b[0m\n",
      "\u001b[34m[85]#011train-error:0.1172#011validation-error:0.1561\u001b[0m\n",
      "\u001b[34m[86]#011train-error:0.1162#011validation-error:0.1556\u001b[0m\n",
      "\u001b[34m[87]#011train-error:0.116#011validation-error:0.1552\u001b[0m\n",
      "\u001b[34m[88]#011train-error:0.114267#011validation-error:0.1563\u001b[0m\n",
      "\u001b[34m[89]#011train-error:0.114267#011validation-error:0.155\u001b[0m\n",
      "\u001b[34m[90]#011train-error:0.113267#011validation-error:0.1545\u001b[0m\n",
      "\u001b[34m[91]#011train-error:0.113133#011validation-error:0.1546\u001b[0m\n",
      "\u001b[34m[92]#011train-error:0.113467#011validation-error:0.1542\u001b[0m\n",
      "\u001b[34m[93]#011train-error:0.112267#011validation-error:0.1537\u001b[0m\n",
      "\u001b[34m[94]#011train-error:0.111533#011validation-error:0.1539\u001b[0m\n",
      "\u001b[34m[95]#011train-error:0.1108#011validation-error:0.1542\u001b[0m\n",
      "\u001b[34m[96]#011train-error:0.110133#011validation-error:0.1545\u001b[0m\n",
      "\u001b[34m[97]#011train-error:0.1094#011validation-error:0.1539\u001b[0m\n",
      "\u001b[34m[98]#011train-error:0.108733#011validation-error:0.1535\u001b[0m\n",
      "\u001b[34m[99]#011train-error:0.1092#011validation-error:0.1527\u001b[0m\n",
      "\u001b[34m[100]#011train-error:0.108867#011validation-error:0.153\u001b[0m\n",
      "\u001b[34m[101]#011train-error:0.107933#011validation-error:0.152\u001b[0m\n",
      "\u001b[34m[102]#011train-error:0.107867#011validation-error:0.1517\u001b[0m\n",
      "\u001b[34m[103]#011train-error:0.107467#011validation-error:0.1517\u001b[0m\n",
      "\u001b[34m[104]#011train-error:0.106933#011validation-error:0.1515\u001b[0m\n",
      "\u001b[34m[105]#011train-error:0.106667#011validation-error:0.1518\u001b[0m\n",
      "\u001b[34m[106]#011train-error:0.1066#011validation-error:0.1512\u001b[0m\n",
      "\u001b[34m[107]#011train-error:0.1064#011validation-error:0.1507\u001b[0m\n",
      "\u001b[34m[108]#011train-error:0.105867#011validation-error:0.1492\u001b[0m\n",
      "\u001b[34m[109]#011train-error:0.104#011validation-error:0.1493\u001b[0m\n",
      "\u001b[34m[110]#011train-error:0.103267#011validation-error:0.1493\u001b[0m\n",
      "\u001b[34m[111]#011train-error:0.1032#011validation-error:0.1481\u001b[0m\n",
      "\u001b[34m[112]#011train-error:0.102533#011validation-error:0.1479\u001b[0m\n",
      "\u001b[34m[113]#011train-error:0.102467#011validation-error:0.1485\u001b[0m\n",
      "\u001b[34m[114]#011train-error:0.101333#011validation-error:0.1485\u001b[0m\n"
     ]
    },
    {
     "name": "stdout",
     "output_type": "stream",
     "text": [
      "\u001b[34m[115]#011train-error:0.101467#011validation-error:0.1487\u001b[0m\n",
      "\u001b[34m[116]#011train-error:0.101667#011validation-error:0.1484\u001b[0m\n",
      "\u001b[34m[117]#011train-error:0.1016#011validation-error:0.1479\u001b[0m\n",
      "\u001b[34m[118]#011train-error:0.101267#011validation-error:0.1489\u001b[0m\n",
      "\u001b[34m[119]#011train-error:0.1012#011validation-error:0.1487\u001b[0m\n",
      "\u001b[34m[120]#011train-error:0.101133#011validation-error:0.1486\u001b[0m\n",
      "\u001b[34m[121]#011train-error:0.100267#011validation-error:0.149\u001b[0m\n",
      "\u001b[34m[122]#011train-error:0.1002#011validation-error:0.1487\u001b[0m\n",
      "\n",
      "2019-12-08 18:56:42 Uploading - Uploading generated training model\n",
      "2019-12-08 18:56:42 Completed - Training job completed\n",
      "Training seconds: 201\n",
      "Billable seconds: 201\n"
     ]
    }
   ],
   "source": [
    "xgb.fit({'train': s3_input_train, 'validation': s3_input_validation})"
   ]
  },
  {
   "cell_type": "markdown",
   "metadata": {},
   "source": [
    "### (TODO) Testing the model\n",
    "\n",
    "Now that we've fit our XGBoost model, it's time to see how well it performs. To do this we will use SageMakers Batch Transform functionality. Batch Transform is a convenient way to perform inference on a large dataset in a way that is not realtime. That is, we don't necessarily need to use our model's results immediately and instead we can peform inference on a large number of samples. An example of this in industry might be peforming an end of month report. This method of inference can also be useful to us as it means to can perform inference on our entire test set. \n",
    "\n",
    "To perform a Batch Transformation we need to first create a transformer objects from our trained estimator object."
   ]
  },
  {
   "cell_type": "code",
   "execution_count": 28,
   "metadata": {},
   "outputs": [],
   "source": [
    "# TODO: Create a transformer object from the trained model. Using an instance count of 1 and an instance type of ml.m4.xlarge\n",
    "#       should be more than enough.\n",
    "xgb_transformer = xgb.transformer(instance_count=1, instance_type='ml.m4.xlarge')"
   ]
  },
  {
   "cell_type": "markdown",
   "metadata": {},
   "source": [
    "Next we actually perform the transform job. When doing so we need to make sure to specify the type of data we are sending so that it is serialized correctly in the background. In our case we are providing our model with csv data so we specify `text/csv`. Also, if the test data that we have provided is too large to process all at once then we need to specify how the data file should be split up. Since each line is a single entry in our data set we tell SageMaker that it can split the input on each line."
   ]
  },
  {
   "cell_type": "code",
   "execution_count": 29,
   "metadata": {},
   "outputs": [],
   "source": [
    "# TODO: Start the transform job. Make sure to specify the content type and the split type of the test data.\n",
    "\n",
    "xgb_transformer.transform(data=test_location, content_type='text/csv', split_type='Line')"
   ]
  },
  {
   "cell_type": "markdown",
   "metadata": {},
   "source": [
    "Currently the transform job is running but it is doing so in the background. Since we wish to wait until the transform job is done and we would like a bit of feedback we can run the `wait()` method."
   ]
  },
  {
   "cell_type": "code",
   "execution_count": 30,
   "metadata": {},
   "outputs": [
    {
     "name": "stdout",
     "output_type": "stream",
     "text": [
      ".....................\u001b[34m[2019-12-08 19:01:09 +0000] [15] [INFO] Starting gunicorn 19.10.0\u001b[0m\n",
      "\u001b[34m[2019-12-08 19:01:09 +0000] [15] [INFO] Listening at: unix:/tmp/gunicorn.sock (15)\u001b[0m\n",
      "\u001b[34m[2019-12-08 19:01:09 +0000] [15] [INFO] Using worker: gevent\u001b[0m\n",
      "\u001b[34m[2019-12-08 19:01:09 +0000] [22] [INFO] Booting worker with pid: 22\u001b[0m\n",
      "\u001b[34m[2019-12-08 19:01:10 +0000] [23] [INFO] Booting worker with pid: 23\u001b[0m\n",
      "\u001b[34m[2019-12-08 19:01:10 +0000] [27] [INFO] Booting worker with pid: 27\u001b[0m\n",
      "\u001b[34m[2019-12-08 19:01:10 +0000] [28] [INFO] Booting worker with pid: 28\u001b[0m\n",
      "\u001b[34m[2019-12-08:19:01:31:INFO] No GPUs detected (normal if no gpus installed)\u001b[0m\n",
      "\u001b[34m169.254.255.130 - - [08/Dec/2019:19:01:31 +0000] \"GET /ping HTTP/1.1\" 200 0 \"-\" \"Go-http-client/1.1\"\u001b[0m\n",
      "\u001b[34m[2019-12-08:19:01:31:INFO] No GPUs detected (normal if no gpus installed)\u001b[0m\n",
      "\u001b[34m169.254.255.130 - - [08/Dec/2019:19:01:31 +0000] \"GET /execution-parameters HTTP/1.1\" 200 84 \"-\" \"Go-http-client/1.1\"\u001b[0m\n",
      "\u001b[34m[2019-12-08:19:01:34:INFO] No GPUs detected (normal if no gpus installed)\u001b[0m\n",
      "\u001b[34m[2019-12-08:19:01:34:INFO] No GPUs detected (normal if no gpus installed)\u001b[0m\n",
      "\u001b[34m[2019-12-08:19:01:34:INFO] Determined delimiter of CSV input is ','\u001b[0m\n",
      "\u001b[34m[2019-12-08:19:01:34:INFO] Determined delimiter of CSV input is ','\u001b[0m\n",
      "\u001b[34m[2019-12-08:19:01:34:INFO] Determined delimiter of CSV input is ','\u001b[0m\n",
      "\u001b[34m[2019-12-08:19:01:34:INFO] Determined delimiter of CSV input is ','\u001b[0m\n",
      "\u001b[32m2019-12-08T19:01:31.139:[sagemaker logs]: MaxConcurrentTransforms=4, MaxPayloadInMB=6, BatchStrategy=MULTI_RECORD\u001b[0m\n",
      "\u001b[34m169.254.255.130 - - [08/Dec/2019:19:01:37 +0000] \"POST /invocations HTTP/1.1\" 200 12160 \"-\" \"Go-http-client/1.1\"\u001b[0m\n",
      "\u001b[34m169.254.255.130 - - [08/Dec/2019:19:01:37 +0000] \"POST /invocations HTTP/1.1\" 200 12146 \"-\" \"Go-http-client/1.1\"\u001b[0m\n",
      "\u001b[34m169.254.255.130 - - [08/Dec/2019:19:01:37 +0000] \"POST /invocations HTTP/1.1\" 200 12160 \"-\" \"Go-http-client/1.1\"\u001b[0m\n",
      "\u001b[34m[2019-12-08:19:01:38:INFO] Determined delimiter of CSV input is ','\u001b[0m\n",
      "\u001b[34m169.254.255.130 - - [08/Dec/2019:19:01:38 +0000] \"POST /invocations HTTP/1.1\" 200 12171 \"-\" \"Go-http-client/1.1\"\u001b[0m\n",
      "\u001b[35m169.254.255.130 - - [08/Dec/2019:19:01:37 +0000] \"POST /invocations HTTP/1.1\" 200 12160 \"-\" \"Go-http-client/1.1\"\u001b[0m\n",
      "\u001b[35m169.254.255.130 - - [08/Dec/2019:19:01:37 +0000] \"POST /invocations HTTP/1.1\" 200 12146 \"-\" \"Go-http-client/1.1\"\u001b[0m\n",
      "\u001b[35m169.254.255.130 - - [08/Dec/2019:19:01:37 +0000] \"POST /invocations HTTP/1.1\" 200 12160 \"-\" \"Go-http-client/1.1\"\u001b[0m\n",
      "\u001b[35m[2019-12-08:19:01:38:INFO] Determined delimiter of CSV input is ','\u001b[0m\n",
      "\u001b[35m169.254.255.130 - - [08/Dec/2019:19:01:38 +0000] \"POST /invocations HTTP/1.1\" 200 12171 \"-\" \"Go-http-client/1.1\"\u001b[0m\n",
      "\u001b[34m[2019-12-08:19:01:38:INFO] Determined delimiter of CSV input is ','\u001b[0m\n",
      "\u001b[34m[2019-12-08:19:01:38:INFO] Determined delimiter of CSV input is ','\u001b[0m\n",
      "\u001b[35m[2019-12-08:19:01:38:INFO] Determined delimiter of CSV input is ','\u001b[0m\n",
      "\u001b[35m[2019-12-08:19:01:38:INFO] Determined delimiter of CSV input is ','\u001b[0m\n",
      "\u001b[34m[2019-12-08:19:01:38:INFO] Determined delimiter of CSV input is ','\u001b[0m\n",
      "\u001b[35m[2019-12-08:19:01:38:INFO] Determined delimiter of CSV input is ','\u001b[0m\n",
      "\u001b[34m169.254.255.130 - - [08/Dec/2019:19:01:41 +0000] \"POST /invocations HTTP/1.1\" 200 12171 \"-\" \"Go-http-client/1.1\"\u001b[0m\n",
      "\u001b[34m169.254.255.130 - - [08/Dec/2019:19:01:41 +0000] \"POST /invocations HTTP/1.1\" 200 12155 \"-\" \"Go-http-client/1.1\"\u001b[0m\n",
      "\u001b[34m169.254.255.130 - - [08/Dec/2019:19:01:41 +0000] \"POST /invocations HTTP/1.1\" 200 12162 \"-\" \"Go-http-client/1.1\"\u001b[0m\n",
      "\u001b[34m[2019-12-08:19:01:41:INFO] Determined delimiter of CSV input is ','\u001b[0m\n",
      "\u001b[34m169.254.255.130 - - [08/Dec/2019:19:01:41 +0000] \"POST /invocations HTTP/1.1\" 200 12188 \"-\" \"Go-http-client/1.1\"\u001b[0m\n",
      "\u001b[34m[2019-12-08:19:01:41:INFO] Determined delimiter of CSV input is ','\u001b[0m\n",
      "\u001b[34m[2019-12-08:19:01:41:INFO] Determined delimiter of CSV input is ','\u001b[0m\n",
      "\u001b[34m[2019-12-08:19:01:41:INFO] Determined delimiter of CSV input is ','\u001b[0m\n",
      "\u001b[35m169.254.255.130 - - [08/Dec/2019:19:01:41 +0000] \"POST /invocations HTTP/1.1\" 200 12171 \"-\" \"Go-http-client/1.1\"\u001b[0m\n",
      "\u001b[35m169.254.255.130 - - [08/Dec/2019:19:01:41 +0000] \"POST /invocations HTTP/1.1\" 200 12155 \"-\" \"Go-http-client/1.1\"\u001b[0m\n",
      "\u001b[35m169.254.255.130 - - [08/Dec/2019:19:01:41 +0000] \"POST /invocations HTTP/1.1\" 200 12162 \"-\" \"Go-http-client/1.1\"\u001b[0m\n",
      "\u001b[35m[2019-12-08:19:01:41:INFO] Determined delimiter of CSV input is ','\u001b[0m\n",
      "\u001b[35m169.254.255.130 - - [08/Dec/2019:19:01:41 +0000] \"POST /invocations HTTP/1.1\" 200 12188 \"-\" \"Go-http-client/1.1\"\u001b[0m\n",
      "\u001b[35m[2019-12-08:19:01:41:INFO] Determined delimiter of CSV input is ','\u001b[0m\n",
      "\u001b[35m[2019-12-08:19:01:41:INFO] Determined delimiter of CSV input is ','\u001b[0m\n",
      "\u001b[35m[2019-12-08:19:01:41:INFO] Determined delimiter of CSV input is ','\u001b[0m\n",
      "\u001b[34m169.254.255.130 - - [08/Dec/2019:19:01:48 +0000] \"POST /invocations HTTP/1.1\" 200 12159 \"-\" \"Go-http-client/1.1\"\u001b[0m\n",
      "\u001b[34m169.254.255.130 - - [08/Dec/2019:19:01:48 +0000] \"POST /invocations HTTP/1.1\" 200 12136 \"-\" \"Go-http-client/1.1\"\u001b[0m\n",
      "\u001b[34m169.254.255.130 - - [08/Dec/2019:19:01:48 +0000] \"POST /invocations HTTP/1.1\" 200 12144 \"-\" \"Go-http-client/1.1\"\u001b[0m\n",
      "\u001b[34m169.254.255.130 - - [08/Dec/2019:19:01:48 +0000] \"POST /invocations HTTP/1.1\" 200 12184 \"-\" \"Go-http-client/1.1\"\u001b[0m\n",
      "\u001b[34m[2019-12-08:19:01:48:INFO] Determined delimiter of CSV input is ','\u001b[0m\n",
      "\u001b[34m[2019-12-08:19:01:48:INFO] Determined delimiter of CSV input is ','\u001b[0m\n",
      "\u001b[34m[2019-12-08:19:01:48:INFO] Determined delimiter of CSV input is ','\u001b[0m\n",
      "\u001b[34m[2019-12-08:19:01:49:INFO] Determined delimiter of CSV input is ','\u001b[0m\n",
      "\u001b[35m169.254.255.130 - - [08/Dec/2019:19:01:48 +0000] \"POST /invocations HTTP/1.1\" 200 12159 \"-\" \"Go-http-client/1.1\"\u001b[0m\n",
      "\u001b[35m169.254.255.130 - - [08/Dec/2019:19:01:48 +0000] \"POST /invocations HTTP/1.1\" 200 12136 \"-\" \"Go-http-client/1.1\"\u001b[0m\n",
      "\u001b[35m169.254.255.130 - - [08/Dec/2019:19:01:48 +0000] \"POST /invocations HTTP/1.1\" 200 12144 \"-\" \"Go-http-client/1.1\"\u001b[0m\n",
      "\u001b[35m169.254.255.130 - - [08/Dec/2019:19:01:48 +0000] \"POST /invocations HTTP/1.1\" 200 12184 \"-\" \"Go-http-client/1.1\"\u001b[0m\n",
      "\u001b[35m[2019-12-08:19:01:48:INFO] Determined delimiter of CSV input is ','\u001b[0m\n",
      "\u001b[35m[2019-12-08:19:01:48:INFO] Determined delimiter of CSV input is ','\u001b[0m\n",
      "\u001b[35m[2019-12-08:19:01:48:INFO] Determined delimiter of CSV input is ','\u001b[0m\n",
      "\u001b[35m[2019-12-08:19:01:49:INFO] Determined delimiter of CSV input is ','\u001b[0m\n",
      "\u001b[34m169.254.255.130 - - [08/Dec/2019:19:01:55 +0000] \"POST /invocations HTTP/1.1\" 200 12160 \"-\" \"Go-http-client/1.1\"\u001b[0m\n",
      "\u001b[34m169.254.255.130 - - [08/Dec/2019:19:01:55 +0000] \"POST /invocations HTTP/1.1\" 200 12202 \"-\" \"Go-http-client/1.1\"\u001b[0m\n",
      "\u001b[34m169.254.255.130 - - [08/Dec/2019:19:01:55 +0000] \"POST /invocations HTTP/1.1\" 200 12178 \"-\" \"Go-http-client/1.1\"\u001b[0m\n",
      "\u001b[34m169.254.255.130 - - [08/Dec/2019:19:01:55 +0000] \"POST /invocations HTTP/1.1\" 200 12208 \"-\" \"Go-http-client/1.1\"\u001b[0m\n",
      "\u001b[34m[2019-12-08:19:01:55:INFO] Determined delimiter of CSV input is ','\u001b[0m\n",
      "\u001b[34m[2019-12-08:19:01:55:INFO] Determined delimiter of CSV input is ','\u001b[0m\n",
      "\u001b[34m[2019-12-08:19:01:56:INFO] Determined delimiter of CSV input is ','\u001b[0m\n",
      "\u001b[34m[2019-12-08:19:01:56:INFO] Determined delimiter of CSV input is ','\u001b[0m\n",
      "\u001b[35m169.254.255.130 - - [08/Dec/2019:19:01:55 +0000] \"POST /invocations HTTP/1.1\" 200 12160 \"-\" \"Go-http-client/1.1\"\u001b[0m\n",
      "\u001b[35m169.254.255.130 - - [08/Dec/2019:19:01:55 +0000] \"POST /invocations HTTP/1.1\" 200 12202 \"-\" \"Go-http-client/1.1\"\u001b[0m\n",
      "\u001b[35m169.254.255.130 - - [08/Dec/2019:19:01:55 +0000] \"POST /invocations HTTP/1.1\" 200 12178 \"-\" \"Go-http-client/1.1\"\u001b[0m\n",
      "\u001b[35m169.254.255.130 - - [08/Dec/2019:19:01:55 +0000] \"POST /invocations HTTP/1.1\" 200 12208 \"-\" \"Go-http-client/1.1\"\u001b[0m\n",
      "\u001b[35m[2019-12-08:19:01:55:INFO] Determined delimiter of CSV input is ','\u001b[0m\n",
      "\u001b[35m[2019-12-08:19:01:55:INFO] Determined delimiter of CSV input is ','\u001b[0m\n",
      "\u001b[35m[2019-12-08:19:01:56:INFO] Determined delimiter of CSV input is ','\u001b[0m\n",
      "\u001b[35m[2019-12-08:19:01:56:INFO] Determined delimiter of CSV input is ','\u001b[0m\n",
      "\u001b[34m169.254.255.130 - - [08/Dec/2019:19:01:59 +0000] \"POST /invocations HTTP/1.1\" 200 12187 \"-\" \"Go-http-client/1.1\"\u001b[0m\n",
      "\u001b[34m169.254.255.130 - - [08/Dec/2019:19:01:59 +0000] \"POST /invocations HTTP/1.1\" 200 12170 \"-\" \"Go-http-client/1.1\"\u001b[0m\n",
      "\u001b[35m169.254.255.130 - - [08/Dec/2019:19:01:59 +0000] \"POST /invocations HTTP/1.1\" 200 12187 \"-\" \"Go-http-client/1.1\"\u001b[0m\n",
      "\u001b[35m169.254.255.130 - - [08/Dec/2019:19:01:59 +0000] \"POST /invocations HTTP/1.1\" 200 12170 \"-\" \"Go-http-client/1.1\"\u001b[0m\n",
      "\u001b[34m169.254.255.130 - - [08/Dec/2019:19:01:59 +0000] \"POST /invocations HTTP/1.1\" 200 12182 \"-\" \"Go-http-client/1.1\"\u001b[0m\n",
      "\u001b[34m169.254.255.130 - - [08/Dec/2019:19:01:59 +0000] \"POST /invocations HTTP/1.1\" 200 12186 \"-\" \"Go-http-client/1.1\"\u001b[0m\n",
      "\u001b[34m[2019-12-08:19:01:59:INFO] Determined delimiter of CSV input is ','\u001b[0m\n",
      "\u001b[34m[2019-12-08:19:01:59:INFO] Determined delimiter of CSV input is ','\u001b[0m\n",
      "\u001b[34m[2019-12-08:19:01:59:INFO] Determined delimiter of CSV input is ','\u001b[0m\n",
      "\u001b[34m[2019-12-08:19:01:59:INFO] Determined delimiter of CSV input is ','\u001b[0m\n",
      "\u001b[35m169.254.255.130 - - [08/Dec/2019:19:01:59 +0000] \"POST /invocations HTTP/1.1\" 200 12182 \"-\" \"Go-http-client/1.1\"\u001b[0m\n",
      "\u001b[35m169.254.255.130 - - [08/Dec/2019:19:01:59 +0000] \"POST /invocations HTTP/1.1\" 200 12186 \"-\" \"Go-http-client/1.1\"\u001b[0m\n",
      "\u001b[35m[2019-12-08:19:01:59:INFO] Determined delimiter of CSV input is ','\u001b[0m\n",
      "\u001b[35m[2019-12-08:19:01:59:INFO] Determined delimiter of CSV input is ','\u001b[0m\n",
      "\u001b[35m[2019-12-08:19:01:59:INFO] Determined delimiter of CSV input is ','\u001b[0m\n",
      "\u001b[35m[2019-12-08:19:01:59:INFO] Determined delimiter of CSV input is ','\u001b[0m\n",
      "\u001b[34m169.254.255.130 - - [08/Dec/2019:19:02:02 +0000] \"POST /invocations HTTP/1.1\" 200 12186 \"-\" \"Go-http-client/1.1\"\u001b[0m\n",
      "\u001b[34m169.254.255.130 - - [08/Dec/2019:19:02:02 +0000] \"POST /invocations HTTP/1.1\" 200 12189 \"-\" \"Go-http-client/1.1\"\u001b[0m\n",
      "\u001b[35m169.254.255.130 - - [08/Dec/2019:19:02:02 +0000] \"POST /invocations HTTP/1.1\" 200 12186 \"-\" \"Go-http-client/1.1\"\u001b[0m\n",
      "\u001b[35m169.254.255.130 - - [08/Dec/2019:19:02:02 +0000] \"POST /invocations HTTP/1.1\" 200 12189 \"-\" \"Go-http-client/1.1\"\u001b[0m\n",
      "\u001b[34m169.254.255.130 - - [08/Dec/2019:19:02:02 +0000] \"POST /invocations HTTP/1.1\" 200 12202 \"-\" \"Go-http-client/1.1\"\u001b[0m\n",
      "\u001b[34m169.254.255.130 - - [08/Dec/2019:19:02:02 +0000] \"POST /invocations HTTP/1.1\" 200 12205 \"-\" \"Go-http-client/1.1\"\u001b[0m\n",
      "\u001b[34m[2019-12-08:19:02:02:INFO] Determined delimiter of CSV input is ','\u001b[0m\n",
      "\u001b[34m[2019-12-08:19:02:03:INFO] Determined delimiter of CSV input is ','\u001b[0m\n",
      "\u001b[34m[2019-12-08:19:02:03:INFO] Determined delimiter of CSV input is ','\u001b[0m\n",
      "\u001b[35m169.254.255.130 - - [08/Dec/2019:19:02:02 +0000] \"POST /invocations HTTP/1.1\" 200 12202 \"-\" \"Go-http-client/1.1\"\u001b[0m\n",
      "\u001b[35m169.254.255.130 - - [08/Dec/2019:19:02:02 +0000] \"POST /invocations HTTP/1.1\" 200 12205 \"-\" \"Go-http-client/1.1\"\u001b[0m\n",
      "\u001b[35m[2019-12-08:19:02:02:INFO] Determined delimiter of CSV input is ','\u001b[0m\n",
      "\u001b[35m[2019-12-08:19:02:03:INFO] Determined delimiter of CSV input is ','\u001b[0m\n",
      "\u001b[35m[2019-12-08:19:02:03:INFO] Determined delimiter of CSV input is ','\u001b[0m\n",
      "\u001b[34m[2019-12-08:19:02:03:INFO] Determined delimiter of CSV input is ','\u001b[0m\n",
      "\u001b[35m[2019-12-08:19:02:03:INFO] Determined delimiter of CSV input is ','\u001b[0m\n"
     ]
    },
    {
     "name": "stdout",
     "output_type": "stream",
     "text": [
      "\u001b[34m169.254.255.130 - - [08/Dec/2019:19:02:06 +0000] \"POST /invocations HTTP/1.1\" 200 12159 \"-\" \"Go-http-client/1.1\"\u001b[0m\n",
      "\u001b[34m169.254.255.130 - - [08/Dec/2019:19:02:06 +0000] \"POST /invocations HTTP/1.1\" 200 12157 \"-\" \"Go-http-client/1.1\"\u001b[0m\n",
      "\u001b[34m[2019-12-08:19:02:06:INFO] Determined delimiter of CSV input is ','\u001b[0m\n",
      "\u001b[34m169.254.255.130 - - [08/Dec/2019:19:02:06 +0000] \"POST /invocations HTTP/1.1\" 200 12137 \"-\" \"Go-http-client/1.1\"\u001b[0m\n",
      "\u001b[34m[2019-12-08:19:02:06:INFO] Determined delimiter of CSV input is ','\u001b[0m\n",
      "\u001b[34m[2019-12-08:19:02:06:INFO] Determined delimiter of CSV input is ','\u001b[0m\n",
      "\u001b[34m[2019-12-08:19:02:06:INFO] Determined delimiter of CSV input is ','\u001b[0m\n",
      "\u001b[35m169.254.255.130 - - [08/Dec/2019:19:02:06 +0000] \"POST /invocations HTTP/1.1\" 200 12159 \"-\" \"Go-http-client/1.1\"\u001b[0m\n",
      "\u001b[35m169.254.255.130 - - [08/Dec/2019:19:02:06 +0000] \"POST /invocations HTTP/1.1\" 200 12157 \"-\" \"Go-http-client/1.1\"\u001b[0m\n",
      "\u001b[35m[2019-12-08:19:02:06:INFO] Determined delimiter of CSV input is ','\u001b[0m\n",
      "\u001b[35m169.254.255.130 - - [08/Dec/2019:19:02:06 +0000] \"POST /invocations HTTP/1.1\" 200 12137 \"-\" \"Go-http-client/1.1\"\u001b[0m\n",
      "\u001b[35m[2019-12-08:19:02:06:INFO] Determined delimiter of CSV input is ','\u001b[0m\n",
      "\u001b[35m[2019-12-08:19:02:06:INFO] Determined delimiter of CSV input is ','\u001b[0m\n",
      "\u001b[35m[2019-12-08:19:02:06:INFO] Determined delimiter of CSV input is ','\u001b[0m\n",
      "\u001b[34m169.254.255.130 - - [08/Dec/2019:19:02:09 +0000] \"POST /invocations HTTP/1.1\" 200 9114 \"-\" \"Go-http-client/1.1\"\u001b[0m\n",
      "\u001b[35m169.254.255.130 - - [08/Dec/2019:19:02:09 +0000] \"POST /invocations HTTP/1.1\" 200 9114 \"-\" \"Go-http-client/1.1\"\u001b[0m\n",
      "\u001b[34m169.254.255.130 - - [08/Dec/2019:19:02:09 +0000] \"POST /invocations HTTP/1.1\" 200 12171 \"-\" \"Go-http-client/1.1\"\u001b[0m\n",
      "\u001b[34m169.254.255.130 - - [08/Dec/2019:19:02:09 +0000] \"POST /invocations HTTP/1.1\" 200 12165 \"-\" \"Go-http-client/1.1\"\u001b[0m\n",
      "\u001b[34m169.254.255.130 - - [08/Dec/2019:19:02:09 +0000] \"POST /invocations HTTP/1.1\" 200 12151 \"-\" \"Go-http-client/1.1\"\u001b[0m\n",
      "\u001b[35m169.254.255.130 - - [08/Dec/2019:19:02:09 +0000] \"POST /invocations HTTP/1.1\" 200 12171 \"-\" \"Go-http-client/1.1\"\u001b[0m\n",
      "\u001b[35m169.254.255.130 - - [08/Dec/2019:19:02:09 +0000] \"POST /invocations HTTP/1.1\" 200 12165 \"-\" \"Go-http-client/1.1\"\u001b[0m\n",
      "\u001b[35m169.254.255.130 - - [08/Dec/2019:19:02:09 +0000] \"POST /invocations HTTP/1.1\" 200 12151 \"-\" \"Go-http-client/1.1\"\u001b[0m\n",
      "\n"
     ]
    }
   ],
   "source": [
    "xgb_transformer.wait()"
   ]
  },
  {
   "cell_type": "markdown",
   "metadata": {},
   "source": [
    "Now the transform job has executed and the result, the estimated sentiment of each review, has been saved on S3. Since we would rather work on this file locally we can perform a bit of notebook magic to copy the file to the `data_dir`."
   ]
  },
  {
   "cell_type": "code",
   "execution_count": 31,
   "metadata": {},
   "outputs": [
    {
     "name": "stdout",
     "output_type": "stream",
     "text": [
      "Completed 256.0 KiB/472.4 KiB (2.3 MiB/s) with 1 file(s) remaining\r",
      "Completed 472.4 KiB/472.4 KiB (4.1 MiB/s) with 1 file(s) remaining\r",
      "download: s3://sagemaker-us-east-2-020479436148/sagemaker-xgboost-2019-12-08-18-57-54-551/test.csv.out to ../data/xgboost/test.csv.out\r\n"
     ]
    }
   ],
   "source": [
    "!aws s3 cp --recursive $xgb_transformer.output_path $data_dir"
   ]
  },
  {
   "cell_type": "markdown",
   "metadata": {},
   "source": [
    "The last step is now to read in the output from our model, convert the output to something a little more usable, in this case we want the sentiment to be either `1` (positive) or `0` (negative), and then compare to the ground truth labels."
   ]
  },
  {
   "cell_type": "code",
   "execution_count": 32,
   "metadata": {},
   "outputs": [],
   "source": [
    "predictions = pd.read_csv(os.path.join(data_dir, 'test.csv.out'), header=None)\n",
    "predictions = [round(num) for num in predictions.squeeze().values]"
   ]
  },
  {
   "cell_type": "code",
   "execution_count": 33,
   "metadata": {},
   "outputs": [
    {
     "data": {
      "text/plain": [
       "0.85492"
      ]
     },
     "execution_count": 33,
     "metadata": {},
     "output_type": "execute_result"
    }
   ],
   "source": [
    "from sklearn.metrics import accuracy_score\n",
    "accuracy_score(test_y, predictions)"
   ]
  },
  {
   "cell_type": "code",
   "execution_count": 35,
   "metadata": {},
   "outputs": [
    {
     "data": {
      "text/plain": [
       "array([[10418,  2082],\n",
       "       [ 1545, 10955]])"
      ]
     },
     "execution_count": 35,
     "metadata": {},
     "output_type": "execute_result"
    }
   ],
   "source": [
    "from sklearn.metrics import confusion_matrix\n",
    "confusion_matrix(test_y, predictions)"
   ]
  },
  {
   "cell_type": "markdown",
   "metadata": {},
   "source": [
    "## Optional: Clean up\n",
    "\n",
    "The default notebook instance on SageMaker doesn't have a lot of excess disk space available. As you continue to complete and execute notebooks you will eventually fill up this disk space, leading to errors which can be difficult to diagnose. Once you are completely finished using a notebook it is a good idea to remove the files that you created along the way. Of course, you can do this from the terminal or from the notebook hub if you would like. The cell below contains some commands to clean up the created files from within the notebook."
   ]
  },
  {
   "cell_type": "code",
   "execution_count": 36,
   "metadata": {},
   "outputs": [],
   "source": [
    "# First we will remove all of the files contained in the data_dir directory\n",
    "!rm $data_dir/*\n",
    "\n",
    "# And then we delete the directory itself\n",
    "!rmdir $data_dir\n",
    "\n",
    "# Similarly we will remove the files in the cache_dir directory and the directory itself\n",
    "!rm $cache_dir/*\n",
    "!rmdir $cache_dir"
   ]
  },
  {
   "cell_type": "code",
   "execution_count": null,
   "metadata": {},
   "outputs": [],
   "source": []
  }
 ],
 "metadata": {
  "kernelspec": {
   "display_name": "conda_python3",
   "language": "python",
   "name": "conda_python3"
  },
  "language_info": {
   "codemirror_mode": {
    "name": "ipython",
    "version": 3
   },
   "file_extension": ".py",
   "mimetype": "text/x-python",
   "name": "python",
   "nbconvert_exporter": "python",
   "pygments_lexer": "ipython3",
   "version": "3.6.5"
  }
 },
 "nbformat": 4,
 "nbformat_minor": 2
}
