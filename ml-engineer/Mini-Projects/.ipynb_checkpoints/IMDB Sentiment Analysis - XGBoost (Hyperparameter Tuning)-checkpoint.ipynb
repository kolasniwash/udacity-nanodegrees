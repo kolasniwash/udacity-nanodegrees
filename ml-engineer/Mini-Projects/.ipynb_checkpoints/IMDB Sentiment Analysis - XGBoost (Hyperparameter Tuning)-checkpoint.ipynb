{
 "cells": [
  {
   "cell_type": "markdown",
   "metadata": {},
   "source": [
    "# Sentiment Analysis\n",
    "\n",
    "## Using XGBoost in SageMaker\n",
    "\n",
    "_Deep Learning Nanodegree Program | Deployment_\n",
    "\n",
    "---\n",
    "\n",
    "In this example of using Amazon's SageMaker service we will construct a random tree model to predict the sentiment of a movie review. You may have seen a version of this example in a pervious lesson although it would have been done using the sklearn package. Instead, we will be using the XGBoost package as it is provided to us by Amazon.\n",
    "\n",
    "## Instructions\n",
    "\n",
    "Some template code has already been provided for you, and you will need to implement additional functionality to successfully complete this notebook. You will not need to modify the included code beyond what is requested. Sections that begin with '**TODO**' in the header indicate that you need to complete or implement some portion within them. Instructions will be provided for each section and the specifics of the implementation are marked in the code block with a `# TODO: ...` comment. Please be sure to read the instructions carefully!\n",
    "\n",
    "In addition to implementing code, there will be questions for you to answer which relate to the task and your implementation. Each section where you will answer a question is preceded by a '**Question:**' header. Carefully read each question and provide your answer below the '**Answer:**' header by editing the Markdown cell.\n",
    "\n",
    "> **Note**: Code and Markdown cells can be executed using the **Shift+Enter** keyboard shortcut. In addition, a cell can be edited by typically clicking it (double-click for Markdown cells) or by pressing **Enter** while it is highlighted."
   ]
  },
  {
   "cell_type": "markdown",
   "metadata": {},
   "source": [
    "## Step 1: Downloading the data\n",
    "\n",
    "The dataset we are going to use is very popular among researchers in Natural Language Processing, usually referred to as the [IMDb dataset](http://ai.stanford.edu/~amaas/data/sentiment/). It consists of movie reviews from the website [imdb.com](http://www.imdb.com/), each labeled as either '**pos**itive', if the reviewer enjoyed the film, or '**neg**ative' otherwise.\n",
    "\n",
    "> Maas, Andrew L., et al. [Learning Word Vectors for Sentiment Analysis](http://ai.stanford.edu/~amaas/data/sentiment/). In _Proceedings of the 49th Annual Meeting of the Association for Computational Linguistics: Human Language Technologies_. Association for Computational Linguistics, 2011.\n",
    "\n",
    "We begin by using some Jupyter Notebook magic to download and extract the dataset."
   ]
  },
  {
   "cell_type": "code",
   "execution_count": 3,
   "metadata": {},
   "outputs": [
    {
     "name": "stdout",
     "output_type": "stream",
     "text": [
      "mkdir: cannot create directory ‘../data’: File exists\n",
      "--2019-12-11 21:38:38--  http://ai.stanford.edu/~amaas/data/sentiment/aclImdb_v1.tar.gz\n",
      "Resolving ai.stanford.edu (ai.stanford.edu)... 171.64.68.10\n",
      "Connecting to ai.stanford.edu (ai.stanford.edu)|171.64.68.10|:80... connected.\n",
      "HTTP request sent, awaiting response... 200 OK\n",
      "Length: 84125825 (80M) [application/x-gzip]\n",
      "Saving to: ‘../data/aclImdb_v1.tar.gz’\n",
      "\n",
      "../data/aclImdb_v1. 100%[===================>]  80.23M  25.2MB/s    in 3.6s    \n",
      "\n",
      "2019-12-11 21:38:42 (22.0 MB/s) - ‘../data/aclImdb_v1.tar.gz’ saved [84125825/84125825]\n",
      "\n"
     ]
    }
   ],
   "source": [
    "%mkdir ../data\n",
    "!wget -O ../data/aclImdb_v1.tar.gz http://ai.stanford.edu/~amaas/data/sentiment/aclImdb_v1.tar.gz\n",
    "!tar -zxf ../data/aclImdb_v1.tar.gz -C ../data"
   ]
  },
  {
   "cell_type": "markdown",
   "metadata": {},
   "source": [
    "## Step 2: Preparing the data\n",
    "\n",
    "The data we have downloaded is split into various files, each of which contains a single review. It will be much easier going forward if we combine these individual files into two large files, one for training and one for testing."
   ]
  },
  {
   "cell_type": "code",
   "execution_count": 4,
   "metadata": {},
   "outputs": [],
   "source": [
    "import os\n",
    "import glob\n",
    "\n",
    "def read_imdb_data(data_dir='../data/aclImdb'):\n",
    "    data = {}\n",
    "    labels = {}\n",
    "    \n",
    "    for data_type in ['train', 'test']:\n",
    "        data[data_type] = {}\n",
    "        labels[data_type] = {}\n",
    "        \n",
    "        for sentiment in ['pos', 'neg']:\n",
    "            data[data_type][sentiment] = []\n",
    "            labels[data_type][sentiment] = []\n",
    "            \n",
    "            path = os.path.join(data_dir, data_type, sentiment, '*.txt')\n",
    "            files = glob.glob(path)\n",
    "            \n",
    "            for f in files:\n",
    "                with open(f) as review:\n",
    "                    data[data_type][sentiment].append(review.read())\n",
    "                    # Here we represent a positive review by '1' and a negative review by '0'\n",
    "                    labels[data_type][sentiment].append(1 if sentiment == 'pos' else 0)\n",
    "                    \n",
    "            assert len(data[data_type][sentiment]) == len(labels[data_type][sentiment]), \\\n",
    "                    \"{}/{} data size does not match labels size\".format(data_type, sentiment)\n",
    "                \n",
    "    return data, labels"
   ]
  },
  {
   "cell_type": "code",
   "execution_count": 5,
   "metadata": {},
   "outputs": [
    {
     "name": "stdout",
     "output_type": "stream",
     "text": [
      "IMDB reviews: train = 12500 pos / 12500 neg, test = 12500 pos / 12500 neg\n"
     ]
    }
   ],
   "source": [
    "data, labels = read_imdb_data()\n",
    "print(\"IMDB reviews: train = {} pos / {} neg, test = {} pos / {} neg\".format(\n",
    "            len(data['train']['pos']), len(data['train']['neg']),\n",
    "            len(data['test']['pos']), len(data['test']['neg'])))"
   ]
  },
  {
   "cell_type": "code",
   "execution_count": 6,
   "metadata": {},
   "outputs": [],
   "source": [
    "from sklearn.utils import shuffle\n",
    "\n",
    "def prepare_imdb_data(data, labels):\n",
    "    \"\"\"Prepare training and test sets from IMDb movie reviews.\"\"\"\n",
    "    \n",
    "    #Combine positive and negative reviews and labels\n",
    "    data_train = data['train']['pos'] + data['train']['neg']\n",
    "    data_test = data['test']['pos'] + data['test']['neg']\n",
    "    labels_train = labels['train']['pos'] + labels['train']['neg']\n",
    "    labels_test = labels['test']['pos'] + labels['test']['neg']\n",
    "    \n",
    "    #Shuffle reviews and corresponding labels within training and test sets\n",
    "    data_train, labels_train = shuffle(data_train, labels_train)\n",
    "    data_test, labels_test = shuffle(data_test, labels_test)\n",
    "    \n",
    "    # Return a unified training data, test data, training labels, test labets\n",
    "    return data_train, data_test, labels_train, labels_test"
   ]
  },
  {
   "cell_type": "code",
   "execution_count": 7,
   "metadata": {},
   "outputs": [
    {
     "name": "stdout",
     "output_type": "stream",
     "text": [
      "IMDb reviews (combined): train = 25000, test = 25000\n"
     ]
    }
   ],
   "source": [
    "train_X, test_X, train_y, test_y = prepare_imdb_data(data, labels)\n",
    "print(\"IMDb reviews (combined): train = {}, test = {}\".format(len(train_X), len(test_X)))"
   ]
  },
  {
   "cell_type": "code",
   "execution_count": 8,
   "metadata": {},
   "outputs": [
    {
     "data": {
      "text/plain": [
       "\"Well, I was excited at first to download an animated open source movie, only to be ruined by a demo reel. The animation is excellent, the lip syncing is awful, and you keep watching the movie hoping to understand what's going on, only to realize nothing is going on. You feel no emotion for the characters, only pity for the creators for wasting their time. I have seen short films with twice the emotion in half the time! This could of been an excellent short film, if they had just taken the time to hire a real director. I'm sure everyone over at Blender is excited to showcase their software and its rendering capabilities, but sorry guys-story telling is what makes a movie.\""
      ]
     },
     "execution_count": 8,
     "metadata": {},
     "output_type": "execute_result"
    }
   ],
   "source": [
    "train_X[100]"
   ]
  },
  {
   "cell_type": "markdown",
   "metadata": {},
   "source": [
    "## Step 3: Processing the data\n",
    "\n",
    "Now that we have our training and testing datasets merged and ready to use, we need to start processing the raw data into something that will be useable by our machine learning algorithm. To begin with, we remove any html formatting that may appear in the reviews and perform some standard natural language processing in order to homogenize the data."
   ]
  },
  {
   "cell_type": "code",
   "execution_count": 9,
   "metadata": {},
   "outputs": [
    {
     "name": "stdout",
     "output_type": "stream",
     "text": [
      "[nltk_data] Downloading package stopwords to\n",
      "[nltk_data]     /home/ec2-user/nltk_data...\n",
      "[nltk_data]   Unzipping corpora/stopwords.zip.\n"
     ]
    }
   ],
   "source": [
    "import nltk\n",
    "nltk.download(\"stopwords\")\n",
    "from nltk.corpus import stopwords\n",
    "from nltk.stem.porter import *\n",
    "stemmer = PorterStemmer()"
   ]
  },
  {
   "cell_type": "code",
   "execution_count": 10,
   "metadata": {},
   "outputs": [],
   "source": [
    "import re\n",
    "from bs4 import BeautifulSoup\n",
    "\n",
    "def review_to_words(review):\n",
    "    text = BeautifulSoup(review, \"html.parser\").get_text() # Remove HTML tags\n",
    "    text = re.sub(r\"[^a-zA-Z0-9]\", \" \", text.lower()) # Convert to lower case\n",
    "    words = text.split() # Split string into words\n",
    "    words = [w for w in words if w not in stopwords.words(\"english\")] # Remove stopwords\n",
    "    words = [PorterStemmer().stem(w) for w in words] # stem\n",
    "    \n",
    "    return words"
   ]
  },
  {
   "cell_type": "code",
   "execution_count": 11,
   "metadata": {},
   "outputs": [],
   "source": [
    "import pickle\n",
    "\n",
    "cache_dir = os.path.join(\"../cache\", \"sentiment_analysis\")  # where to store cache files\n",
    "os.makedirs(cache_dir, exist_ok=True)  # ensure cache directory exists\n",
    "\n",
    "def preprocess_data(data_train, data_test, labels_train, labels_test,\n",
    "                    cache_dir=cache_dir, cache_file=\"preprocessed_data.pkl\"):\n",
    "    \"\"\"Convert each review to words; read from cache if available.\"\"\"\n",
    "\n",
    "    # If cache_file is not None, try to read from it first\n",
    "    cache_data = None\n",
    "    if cache_file is not None:\n",
    "        try:\n",
    "            with open(os.path.join(cache_dir, cache_file), \"rb\") as f:\n",
    "                cache_data = pickle.load(f)\n",
    "            print(\"Read preprocessed data from cache file:\", cache_file)\n",
    "        except:\n",
    "            pass  # unable to read from cache, but that's okay\n",
    "    \n",
    "    # If cache is missing, then do the heavy lifting\n",
    "    if cache_data is None:\n",
    "        # Preprocess training and test data to obtain words for each review\n",
    "        #words_train = list(map(review_to_words, data_train))\n",
    "        #words_test = list(map(review_to_words, data_test))\n",
    "        words_train = [review_to_words(review) for review in data_train]\n",
    "        words_test = [review_to_words(review) for review in data_test]\n",
    "        \n",
    "        # Write to cache file for future runs\n",
    "        if cache_file is not None:\n",
    "            cache_data = dict(words_train=words_train, words_test=words_test,\n",
    "                              labels_train=labels_train, labels_test=labels_test)\n",
    "            with open(os.path.join(cache_dir, cache_file), \"wb\") as f:\n",
    "                pickle.dump(cache_data, f)\n",
    "            print(\"Wrote preprocessed data to cache file:\", cache_file)\n",
    "    else:\n",
    "        # Unpack data loaded from cache file\n",
    "        words_train, words_test, labels_train, labels_test = (cache_data['words_train'],\n",
    "                cache_data['words_test'], cache_data['labels_train'], cache_data['labels_test'])\n",
    "    \n",
    "    return words_train, words_test, labels_train, labels_test"
   ]
  },
  {
   "cell_type": "code",
   "execution_count": 12,
   "metadata": {},
   "outputs": [
    {
     "name": "stdout",
     "output_type": "stream",
     "text": [
      "Read preprocessed data from cache file: preprocessed_data.pkl\n"
     ]
    }
   ],
   "source": [
    "# Preprocess data\n",
    "train_X, test_X, train_y, test_y = preprocess_data(train_X, test_X, train_y, test_y)"
   ]
  },
  {
   "cell_type": "markdown",
   "metadata": {},
   "source": [
    "### Extract Bag-of-Words features\n",
    "\n",
    "For the model we will be implementing, rather than using the reviews directly, we are going to transform each review into a Bag-of-Words feature representation. Keep in mind that 'in the wild' we will only have access to the training set so our transformer can only use the training set to construct a representation."
   ]
  },
  {
   "cell_type": "code",
   "execution_count": 13,
   "metadata": {},
   "outputs": [],
   "source": [
    "import numpy as np\n",
    "from sklearn.feature_extraction.text import CountVectorizer\n",
    "from sklearn.externals import joblib\n",
    "# joblib is an enhanced version of pickle that is more efficient for storing NumPy arrays\n",
    "\n",
    "def extract_BoW_features(words_train, words_test, vocabulary_size=5000,\n",
    "                         cache_dir=cache_dir, cache_file=\"bow_features.pkl\"):\n",
    "    \"\"\"Extract Bag-of-Words for a given set of documents, already preprocessed into words.\"\"\"\n",
    "    \n",
    "    # If cache_file is not None, try to read from it first\n",
    "    cache_data = None\n",
    "    if cache_file is not None:\n",
    "        try:\n",
    "            with open(os.path.join(cache_dir, cache_file), \"rb\") as f:\n",
    "                cache_data = joblib.load(f)\n",
    "            print(\"Read features from cache file:\", cache_file)\n",
    "        except:\n",
    "            pass  # unable to read from cache, but that's okay\n",
    "    \n",
    "    # If cache is missing, then do the heavy lifting\n",
    "    if cache_data is None:\n",
    "        # Fit a vectorizer to training documents and use it to transform them\n",
    "        # NOTE: Training documents have already been preprocessed and tokenized into words;\n",
    "        #       pass in dummy functions to skip those steps, e.g. preprocessor=lambda x: x\n",
    "        vectorizer = CountVectorizer(max_features=vocabulary_size,\n",
    "                preprocessor=lambda x: x, tokenizer=lambda x: x)  # already preprocessed\n",
    "        features_train = vectorizer.fit_transform(words_train).toarray()\n",
    "\n",
    "        # Apply the same vectorizer to transform the test documents (ignore unknown words)\n",
    "        features_test = vectorizer.transform(words_test).toarray()\n",
    "        \n",
    "        # NOTE: Remember to convert the features using .toarray() for a compact representation\n",
    "        \n",
    "        # Write to cache file for future runs (store vocabulary as well)\n",
    "        if cache_file is not None:\n",
    "            vocabulary = vectorizer.vocabulary_\n",
    "            cache_data = dict(features_train=features_train, features_test=features_test,\n",
    "                             vocabulary=vocabulary)\n",
    "            with open(os.path.join(cache_dir, cache_file), \"wb\") as f:\n",
    "                joblib.dump(cache_data, f)\n",
    "            print(\"Wrote features to cache file:\", cache_file)\n",
    "    else:\n",
    "        # Unpack data loaded from cache file\n",
    "        features_train, features_test, vocabulary = (cache_data['features_train'],\n",
    "                cache_data['features_test'], cache_data['vocabulary'])\n",
    "    \n",
    "    # Return both the extracted features as well as the vocabulary\n",
    "    return features_train, features_test, vocabulary"
   ]
  },
  {
   "cell_type": "code",
   "execution_count": 14,
   "metadata": {},
   "outputs": [
    {
     "name": "stdout",
     "output_type": "stream",
     "text": [
      "Read features from cache file: bow_features.pkl\n"
     ]
    }
   ],
   "source": [
    "# Extract Bag of Words features for both training and test datasets\n",
    "train_X, test_X, vocabulary = extract_BoW_features(train_X, test_X)"
   ]
  },
  {
   "cell_type": "markdown",
   "metadata": {},
   "source": [
    "## Step 4: Classification using XGBoost\n",
    "\n",
    "Now that we have created the feature representation of our training (and testing) data, it is time to start setting up and using the XGBoost classifier provided by SageMaker.\n",
    "\n",
    "### Writing the dataset\n",
    "\n",
    "The XGBoost classifier that we will be using requires the dataset to be written to a file and stored using Amazon S3. To do this, we will start by splitting the training dataset into two parts, the data we will train the model with and a validation set. Then, we will write those datasets to a file and upload the files to S3. In addition, we will write the test set input to a file and upload the file to S3. This is so that we can use SageMakers Batch Transform functionality to test our model once we've fit it."
   ]
  },
  {
   "cell_type": "code",
   "execution_count": 15,
   "metadata": {},
   "outputs": [],
   "source": [
    "import pandas as pd\n",
    "\n",
    "val_X = pd.DataFrame(train_X[:10000])\n",
    "train_X = pd.DataFrame(train_X[10000:])\n",
    "\n",
    "val_y = pd.DataFrame(train_y[:10000])\n",
    "train_y = pd.DataFrame(train_y[10000:])\n",
    "\n",
    "test_y = pd.DataFrame(test_y)\n",
    "test_X = pd.DataFrame(test_X)"
   ]
  },
  {
   "cell_type": "markdown",
   "metadata": {},
   "source": [
    "The documentation for the XGBoost algorithm in SageMaker requires that the saved datasets should contain no headers or index and that for the training and validation data, the label should occur first for each sample.\n",
    "\n",
    "For more information about this and other algorithms, the SageMaker developer documentation can be found on __[Amazon's website.](https://docs.aws.amazon.com/sagemaker/latest/dg/)__"
   ]
  },
  {
   "cell_type": "code",
   "execution_count": 16,
   "metadata": {},
   "outputs": [],
   "source": [
    "# First we make sure that the local directory in which we'd like to store the training and validation csv files exists.\n",
    "data_dir = '../data/xgboost'\n",
    "if not os.path.exists(data_dir):\n",
    "    os.makedirs(data_dir)"
   ]
  },
  {
   "cell_type": "code",
   "execution_count": 17,
   "metadata": {},
   "outputs": [],
   "source": [
    "# First, save the test data to test.csv in the data_dir directory. Note that we do not save the associated ground truth\n",
    "# labels, instead we will use them later to compare with our model output.\n",
    "\n",
    "test_X.to_csv(os.path.join(data_dir, 'test.csv'), header=False, index=False)\n",
    "pd.concat([val_y, val_X], axis=1).to_csv(os.path.join(data_dir, 'validation.csv'), header=False, index=False)\n",
    "pd.concat([train_y, train_X], axis=1).to_csv(os.path.join(data_dir, 'train.csv'), header=False, index=False)"
   ]
  },
  {
   "cell_type": "code",
   "execution_count": 18,
   "metadata": {},
   "outputs": [],
   "source": [
    "# To save a bit of memory we can set text_X, train_X, val_X, train_y and val_y to None.\n",
    "\n",
    "train_X = val_X = train_y = val_y = None"
   ]
  },
  {
   "cell_type": "markdown",
   "metadata": {},
   "source": [
    "### Uploading Training / Validation files to S3\n",
    "\n",
    "Amazon's S3 service allows us to store files that can be access by both the built-in training models such as the XGBoost model we will be using as well as custom models such as the one we will see a little later.\n",
    "\n",
    "For this, and most other tasks we will be doing using SageMaker, there are two methods we could use. The first is to use the low level functionality of SageMaker which requires knowing each of the objects involved in the SageMaker environment. The second is to use the high level functionality in which certain choices have been made on the user's behalf. The low level approach benefits from allowing the user a great deal of flexibility while the high level approach makes development much quicker. For our purposes we will opt to use the high level approach although using the low-level approach is certainly an option.\n",
    "\n",
    "Recall the method `upload_data()` which is a member of object representing our current SageMaker session. What this method does is upload the data to the default bucket (which is created if it does not exist) into the path described by the key_prefix variable. To see this for yourself, once you have uploaded the data files, go to the S3 console and look to see where the files have been uploaded.\n",
    "\n",
    "For additional resources, see the __[SageMaker API documentation](http://sagemaker.readthedocs.io/en/latest/)__ and in addition the __[SageMaker Developer Guide.](https://docs.aws.amazon.com/sagemaker/latest/dg/)__"
   ]
  },
  {
   "cell_type": "code",
   "execution_count": 19,
   "metadata": {},
   "outputs": [],
   "source": [
    "import sagemaker\n",
    "\n",
    "session = sagemaker.Session() # Store the current SageMaker session\n",
    "\n",
    "# S3 prefix (which folder will we use)\n",
    "prefix = 'sentiment-xgboost'\n",
    "\n",
    "test_location = session.upload_data(os.path.join(data_dir, 'test.csv'), key_prefix=prefix)\n",
    "val_location = session.upload_data(os.path.join(data_dir, 'validation.csv'), key_prefix=prefix)\n",
    "train_location = session.upload_data(os.path.join(data_dir, 'train.csv'), key_prefix=prefix)"
   ]
  },
  {
   "cell_type": "markdown",
   "metadata": {},
   "source": [
    "### (TODO) Creating a hypertuned XGBoost model\n",
    "\n",
    "Now that the data has been uploaded it is time to create the XGBoost model. As in the Boston Housing notebook, the first step is to create an estimator object which will be used as the *base* of your hyperparameter tuning job."
   ]
  },
  {
   "cell_type": "code",
   "execution_count": 20,
   "metadata": {},
   "outputs": [],
   "source": [
    "from sagemaker import get_execution_role\n",
    "\n",
    "# Our current execution role is require when creating the model as the training\n",
    "# and inference code will need to access the model artifacts.\n",
    "role = get_execution_role()"
   ]
  },
  {
   "cell_type": "code",
   "execution_count": 21,
   "metadata": {},
   "outputs": [],
   "source": [
    "# We need to retrieve the location of the container which is provided by Amazon for using XGBoost.\n",
    "# As a matter of convenience, the training and inference code both use the same container.\n",
    "from sagemaker.amazon.amazon_estimator import get_image_uri\n",
    "\n",
    "container = get_image_uri(session.boto_region_name, 'xgboost', '0.90-1')"
   ]
  },
  {
   "cell_type": "code",
   "execution_count": 38,
   "metadata": {},
   "outputs": [],
   "source": [
    "# TODO: Create a SageMaker estimator using the container location determined in the previous cell.\n",
    "#       It is recommended that you use a single training instance of type ml.m4.xlarge. It is also\n",
    "#       recommended that you use 's3://{}/{}/output'.format(session.default_bucket(), prefix) as the\n",
    "#       output path.\n",
    "\n",
    "xgb = sagemaker.estimator.Estimator(container,\n",
    "                                    role,\n",
    "                                    train_instance_count=1,\n",
    "                                    train_instance_type='ml.m4.xlarge',\n",
    "                                    output_path='s3://{}/{}/output'.format(session.default_bucket(), prefix),\n",
    "                                    sagemaker_session=session)\n",
    "\n",
    "# TODO: Set the XGBoost hyperparameters in the xgb object. Don't forget that in this case we have a binary\n",
    "#       label so we should be using the 'binary:logistic' objective.\n",
    "\n",
    "xgb.set_hyperparameters(max_depth=5,\n",
    "                        eta = .2,\n",
    "                        gamma = 4,\n",
    "                        min_child_weight = 6,\n",
    "                        subsample=0.8,\n",
    "                        objective='binary:logistic',\n",
    "                        early_stopping_rounds=10,\n",
    "                        num_round=200)\n"
   ]
  },
  {
   "cell_type": "markdown",
   "metadata": {},
   "source": [
    "### (TODO) Create the hyperparameter tuner\n",
    "\n",
    "Now that the base estimator has been set up we need to construct a hyperparameter tuner object which we will use to request SageMaker construct a hyperparameter tuning job.\n",
    "\n",
    "**Note:** Training a single sentiment analysis XGBoost model takes longer than training a Boston Housing XGBoost model so if you don't want the hyperparameter tuning job to take too long, make sure to not set the total number of models (jobs) too high."
   ]
  },
  {
   "cell_type": "code",
   "execution_count": 39,
   "metadata": {},
   "outputs": [],
   "source": [
    "# First, make sure to import the relevant objects used to construct the tuner\n",
    "from sagemaker.tuner import IntegerParameter, ContinuousParameter, HyperparameterTuner\n",
    "\n",
    "# TODO: Create the hyperparameter tuner object\n",
    "\n",
    "xgb_hyperparameter_tuner = HyperparameterTuner(xgb,\n",
    "                                              objective_metric_name='validation:rmse',\n",
    "                                              objective_type='Minimize',\n",
    "                                              max_jobs=9,\n",
    "                                              max_parallel_jobs=3,\n",
    "                                              hyperparameter_ranges={\n",
    "                                                  'max_depth' : IntegerParameter(3,8),\n",
    "                                                  'eta' : ContinuousParameter(0.1,0.3),\n",
    "                                                  'gamma': ContinuousParameter(0,9),\n",
    "                                                  'min_child_weight': IntegerParameter(2,9),\n",
    "                                                  'subsample': ContinuousParameter(0.5,0.9)}\n",
    "                                              )\n",
    "\n"
   ]
  },
  {
   "cell_type": "markdown",
   "metadata": {},
   "source": [
    "### Fit the hyperparameter tuner\n",
    "\n",
    "Now that the hyperparameter tuner object has been constructed, it is time to fit the various models and find the best performing model."
   ]
  },
  {
   "cell_type": "code",
   "execution_count": 27,
   "metadata": {},
   "outputs": [],
   "source": [
    "s3_input_train = sagemaker.s3_input(s3_data=train_location, content_type='text/csv')\n",
    "s3_input_validation = sagemaker.s3_input(s3_data=val_location, content_type='text/csv')"
   ]
  },
  {
   "cell_type": "code",
   "execution_count": 40,
   "metadata": {},
   "outputs": [],
   "source": [
    "xgb_hyperparameter_tuner.fit({'train': s3_input_train, 'validation': s3_input_validation})"
   ]
  },
  {
   "cell_type": "markdown",
   "metadata": {},
   "source": [
    "Remember that the tuning job is constructed and run in the background so if we want to see the progress of our training job we need to call the `wait()` method."
   ]
  },
  {
   "cell_type": "code",
   "execution_count": 41,
   "metadata": {},
   "outputs": [
    {
     "name": "stdout",
     "output_type": "stream",
     "text": [
      ".............................................................................................................................................................................................................................................................................................................!\n"
     ]
    }
   ],
   "source": [
    "xgb_hyperparameter_tuner.wait()"
   ]
  },
  {
   "cell_type": "code",
   "execution_count": 30,
   "metadata": {},
   "outputs": [
    {
     "data": {
      "text/plain": [
       "'sagemaker-xgboost-191211-2149-007-9da39a6a'"
      ]
     },
     "execution_count": 30,
     "metadata": {},
     "output_type": "execute_result"
    }
   ],
   "source": [
    "xgb_hyperparameter_tuner.best_training_job()"
   ]
  },
  {
   "cell_type": "markdown",
   "metadata": {},
   "source": [
    "### (TODO) Testing the model\n",
    "\n",
    "Now that we've run our hyperparameter tuning job, it's time to see how well the best performing model actually performs. To do this we will use SageMaker's Batch Transform functionality. Batch Transform is a convenient way to perform inference on a large dataset in a way that is not realtime. That is, we don't necessarily need to use our model's results immediately and instead we can peform inference on a large number of samples. An example of this in industry might be peforming an end of month report. This method of inference can also be useful to us as it means to can perform inference on our entire test set. \n",
    "\n",
    "Remember that in order to create a transformer object to perform the batch transform job, we need a trained estimator object. We can do that using the `attach()` method, creating an estimator object which is attached to the best trained job."
   ]
  },
  {
   "cell_type": "code",
   "execution_count": 42,
   "metadata": {},
   "outputs": [
    {
     "name": "stdout",
     "output_type": "stream",
     "text": [
      "2019-12-11 22:38:38 Starting - Preparing the instances for training\n",
      "2019-12-11 22:38:38 Downloading - Downloading input data\n",
      "2019-12-11 22:38:38 Training - Training image download completed. Training in progress.\n",
      "2019-12-11 22:38:38 Uploading - Uploading generated training model\n",
      "2019-12-11 22:38:38 Completed - Training job completed\u001b[34mINFO:sagemaker-containers:Imported framework sagemaker_xgboost_container.training\u001b[0m\n",
      "\u001b[34mINFO:sagemaker-containers:Failed to parse hyperparameter _tuning_objective_metric value validation:rmse to Json.\u001b[0m\n",
      "\u001b[34mReturning the value itself\u001b[0m\n",
      "\u001b[34mINFO:sagemaker-containers:Failed to parse hyperparameter objective value binary:logistic to Json.\u001b[0m\n",
      "\u001b[34mReturning the value itself\u001b[0m\n",
      "\u001b[34mINFO:sagemaker-containers:No GPUs detected (normal if no gpus installed)\u001b[0m\n",
      "\u001b[34mINFO:sagemaker_xgboost_container.training:Running XGBoost Sagemaker in algorithm mode\u001b[0m\n",
      "\u001b[34mINFO:root:Determined delimiter of CSV input is ','\u001b[0m\n",
      "\u001b[34mINFO:root:Determined delimiter of CSV input is ','\u001b[0m\n",
      "\u001b[34mINFO:root:Determined delimiter of CSV input is ','\u001b[0m\n",
      "\u001b[34m[22:33:32] 15000x5000 matrix with 75000000 entries loaded from /opt/ml/input/data/train?format=csv&label_column=0&delimiter=,\u001b[0m\n",
      "\u001b[34mINFO:root:Determined delimiter of CSV input is ','\u001b[0m\n",
      "\u001b[34m[22:33:33] 10000x5000 matrix with 50000000 entries loaded from /opt/ml/input/data/validation?format=csv&label_column=0&delimiter=,\u001b[0m\n",
      "\u001b[34mINFO:root:Single node training.\u001b[0m\n",
      "\u001b[34mINFO:root:Setting up HPO optimized metric to be : rmse\u001b[0m\n",
      "\u001b[34mINFO:root:Train matrix has 15000 rows\u001b[0m\n",
      "\u001b[34mINFO:root:Validation matrix has 10000 rows\u001b[0m\n",
      "\u001b[34m[0]#011train-rmse:0.476238#011validation-rmse:0.476682\u001b[0m\n",
      "\u001b[34m[1]#011train-rmse:0.459735#011validation-rmse:0.460147\u001b[0m\n",
      "\u001b[34m[2]#011train-rmse:0.44774#011validation-rmse:0.449158\u001b[0m\n",
      "\u001b[34m[3]#011train-rmse:0.438595#011validation-rmse:0.440753\u001b[0m\n",
      "\u001b[34m[4]#011train-rmse:0.43073#011validation-rmse:0.433554\u001b[0m\n",
      "\u001b[34m[5]#011train-rmse:0.423788#011validation-rmse:0.426905\u001b[0m\n",
      "\u001b[34m[6]#011train-rmse:0.417095#011validation-rmse:0.42145\u001b[0m\n",
      "\u001b[34m[7]#011train-rmse:0.41191#011validation-rmse:0.417306\u001b[0m\n",
      "\u001b[34m[8]#011train-rmse:0.406599#011validation-rmse:0.412305\u001b[0m\n",
      "\u001b[34m[9]#011train-rmse:0.402325#011validation-rmse:0.408196\u001b[0m\n",
      "\u001b[34m[10]#011train-rmse:0.397414#011validation-rmse:0.403598\u001b[0m\n",
      "\u001b[34m[11]#011train-rmse:0.392794#011validation-rmse:0.400383\u001b[0m\n",
      "\u001b[34m[12]#011train-rmse:0.38924#011validation-rmse:0.397531\u001b[0m\n",
      "\u001b[34m[13]#011train-rmse:0.386111#011validation-rmse:0.394742\u001b[0m\n",
      "\u001b[34m[14]#011train-rmse:0.382576#011validation-rmse:0.392266\u001b[0m\n",
      "\u001b[34m[15]#011train-rmse:0.379217#011validation-rmse:0.389616\u001b[0m\n",
      "\u001b[34m[16]#011train-rmse:0.376297#011validation-rmse:0.387234\u001b[0m\n",
      "\u001b[34m[17]#011train-rmse:0.373404#011validation-rmse:0.385524\u001b[0m\n",
      "\u001b[34m[18]#011train-rmse:0.371014#011validation-rmse:0.383421\u001b[0m\n",
      "\u001b[34m[19]#011train-rmse:0.368522#011validation-rmse:0.381797\u001b[0m\n",
      "\u001b[34m[20]#011train-rmse:0.366047#011validation-rmse:0.380018\u001b[0m\n",
      "\u001b[34m[21]#011train-rmse:0.363695#011validation-rmse:0.377908\u001b[0m\n",
      "\u001b[34m[22]#011train-rmse:0.361174#011validation-rmse:0.376373\u001b[0m\n",
      "\u001b[34m[23]#011train-rmse:0.358978#011validation-rmse:0.374954\u001b[0m\n",
      "\u001b[34m[24]#011train-rmse:0.357134#011validation-rmse:0.373586\u001b[0m\n",
      "\u001b[34m[25]#011train-rmse:0.35493#011validation-rmse:0.371444\u001b[0m\n",
      "\u001b[34m[26]#011train-rmse:0.353013#011validation-rmse:0.36993\u001b[0m\n",
      "\u001b[34m[27]#011train-rmse:0.351003#011validation-rmse:0.368255\u001b[0m\n",
      "\u001b[34m[28]#011train-rmse:0.349025#011validation-rmse:0.366695\u001b[0m\n",
      "\u001b[34m[29]#011train-rmse:0.347165#011validation-rmse:0.365469\u001b[0m\n",
      "\u001b[34m[30]#011train-rmse:0.345305#011validation-rmse:0.364164\u001b[0m\n",
      "\u001b[34m[31]#011train-rmse:0.343899#011validation-rmse:0.362926\u001b[0m\n",
      "\u001b[34m[32]#011train-rmse:0.342039#011validation-rmse:0.361407\u001b[0m\n",
      "\u001b[34m[33]#011train-rmse:0.34048#011validation-rmse:0.360414\u001b[0m\n",
      "\u001b[34m[34]#011train-rmse:0.33876#011validation-rmse:0.359363\u001b[0m\n",
      "\u001b[34m[35]#011train-rmse:0.337507#011validation-rmse:0.358283\u001b[0m\n",
      "\u001b[34m[36]#011train-rmse:0.335877#011validation-rmse:0.357111\u001b[0m\n",
      "\u001b[34m[37]#011train-rmse:0.334055#011validation-rmse:0.356095\u001b[0m\n",
      "\u001b[34m[38]#011train-rmse:0.332987#011validation-rmse:0.355176\u001b[0m\n",
      "\u001b[34m[39]#011train-rmse:0.331392#011validation-rmse:0.353901\u001b[0m\n",
      "\u001b[34m[40]#011train-rmse:0.330307#011validation-rmse:0.353091\u001b[0m\n",
      "\u001b[34m[41]#011train-rmse:0.329238#011validation-rmse:0.352389\u001b[0m\n",
      "\u001b[34m[42]#011train-rmse:0.32782#011validation-rmse:0.35175\u001b[0m\n",
      "\u001b[34m[43]#011train-rmse:0.326687#011validation-rmse:0.350852\u001b[0m\n",
      "\u001b[34m[44]#011train-rmse:0.325615#011validation-rmse:0.350063\u001b[0m\n",
      "\u001b[34m[45]#011train-rmse:0.324578#011validation-rmse:0.349459\u001b[0m\n",
      "\u001b[34m[46]#011train-rmse:0.323516#011validation-rmse:0.348544\u001b[0m\n",
      "\u001b[34m[47]#011train-rmse:0.322623#011validation-rmse:0.347903\u001b[0m\n",
      "\u001b[34m[48]#011train-rmse:0.321051#011validation-rmse:0.347085\u001b[0m\n",
      "\u001b[34m[49]#011train-rmse:0.320098#011validation-rmse:0.346406\u001b[0m\n",
      "\u001b[34m[50]#011train-rmse:0.319052#011validation-rmse:0.345293\u001b[0m\n",
      "\u001b[34m[51]#011train-rmse:0.31821#011validation-rmse:0.344887\u001b[0m\n",
      "\u001b[34m[52]#011train-rmse:0.317072#011validation-rmse:0.344276\u001b[0m\n",
      "\u001b[34m[53]#011train-rmse:0.315853#011validation-rmse:0.343643\u001b[0m\n",
      "\u001b[34m[54]#011train-rmse:0.314993#011validation-rmse:0.343115\u001b[0m\n",
      "\u001b[34m[55]#011train-rmse:0.314177#011validation-rmse:0.342241\u001b[0m\n",
      "\u001b[34m[56]#011train-rmse:0.313281#011validation-rmse:0.341578\u001b[0m\n",
      "\u001b[34m[57]#011train-rmse:0.31244#011validation-rmse:0.341019\u001b[0m\n",
      "\u001b[34m[58]#011train-rmse:0.311509#011validation-rmse:0.340558\u001b[0m\n",
      "\u001b[34m[59]#011train-rmse:0.310596#011validation-rmse:0.34018\u001b[0m\n",
      "\u001b[34m[60]#011train-rmse:0.309565#011validation-rmse:0.339574\u001b[0m\n",
      "\u001b[34m[61]#011train-rmse:0.308622#011validation-rmse:0.33909\u001b[0m\n",
      "\u001b[34m[62]#011train-rmse:0.307853#011validation-rmse:0.338833\u001b[0m\n",
      "\u001b[34m[63]#011train-rmse:0.30729#011validation-rmse:0.338495\u001b[0m\n",
      "\u001b[34m[64]#011train-rmse:0.306589#011validation-rmse:0.338206\u001b[0m\n",
      "\u001b[34m[65]#011train-rmse:0.305784#011validation-rmse:0.33774\u001b[0m\n",
      "\u001b[34m[66]#011train-rmse:0.305019#011validation-rmse:0.337279\u001b[0m\n",
      "\u001b[34m[67]#011train-rmse:0.303909#011validation-rmse:0.336699\u001b[0m\n",
      "\u001b[34m[68]#011train-rmse:0.303366#011validation-rmse:0.336103\u001b[0m\n",
      "\u001b[34m[69]#011train-rmse:0.30275#011validation-rmse:0.335909\u001b[0m\n",
      "\u001b[34m[70]#011train-rmse:0.301991#011validation-rmse:0.335502\u001b[0m\n",
      "\u001b[34m[71]#011train-rmse:0.301171#011validation-rmse:0.334794\u001b[0m\n",
      "\u001b[34m[72]#011train-rmse:0.300262#011validation-rmse:0.334214\u001b[0m\n",
      "\u001b[34m[73]#011train-rmse:0.299572#011validation-rmse:0.333927\u001b[0m\n",
      "\u001b[34m[74]#011train-rmse:0.298996#011validation-rmse:0.333564\u001b[0m\n",
      "\u001b[34m[75]#011train-rmse:0.298534#011validation-rmse:0.333061\u001b[0m\n",
      "\u001b[34m[76]#011train-rmse:0.297935#011validation-rmse:0.332729\u001b[0m\n",
      "\u001b[34m[77]#011train-rmse:0.297438#011validation-rmse:0.332403\u001b[0m\n",
      "\u001b[34m[78]#011train-rmse:0.296804#011validation-rmse:0.332076\u001b[0m\n",
      "\u001b[34m[79]#011train-rmse:0.296241#011validation-rmse:0.331699\u001b[0m\n",
      "\u001b[34m[80]#011train-rmse:0.295752#011validation-rmse:0.3314\u001b[0m\n",
      "\u001b[34m[81]#011train-rmse:0.294842#011validation-rmse:0.330985\u001b[0m\n",
      "\u001b[34m[82]#011train-rmse:0.294231#011validation-rmse:0.330875\u001b[0m\n",
      "\u001b[34m[83]#011train-rmse:0.293697#011validation-rmse:0.33062\u001b[0m\n",
      "\u001b[34m[84]#011train-rmse:0.29301#011validation-rmse:0.330213\u001b[0m\n",
      "\u001b[34m[85]#011train-rmse:0.292272#011validation-rmse:0.32993\u001b[0m\n",
      "\u001b[34m[86]#011train-rmse:0.291503#011validation-rmse:0.329427\u001b[0m\n",
      "\u001b[34m[87]#011train-rmse:0.290809#011validation-rmse:0.329082\u001b[0m\n",
      "\u001b[34m[88]#011train-rmse:0.290015#011validation-rmse:0.3289\u001b[0m\n",
      "\u001b[34m[89]#011train-rmse:0.289335#011validation-rmse:0.32855\u001b[0m\n",
      "\u001b[34m[90]#011train-rmse:0.288683#011validation-rmse:0.328137\u001b[0m\n",
      "\u001b[34m[91]#011train-rmse:0.288106#011validation-rmse:0.327857\u001b[0m\n",
      "\u001b[34m[92]#011train-rmse:0.287466#011validation-rmse:0.327705\u001b[0m\n",
      "\u001b[34m[93]#011train-rmse:0.286913#011validation-rmse:0.327219\u001b[0m\n",
      "\u001b[34m[94]#011train-rmse:0.286532#011validation-rmse:0.327036\u001b[0m\n",
      "\u001b[34m[95]#011train-rmse:0.286024#011validation-rmse:0.326762\u001b[0m\n",
      "\u001b[34m[96]#011train-rmse:0.285489#011validation-rmse:0.326684\u001b[0m\n",
      "\u001b[34m[97]#011train-rmse:0.284917#011validation-rmse:0.32641\u001b[0m\n",
      "\u001b[34m[98]#011train-rmse:0.28441#011validation-rmse:0.326105\u001b[0m\n",
      "\u001b[34m[99]#011train-rmse:0.28402#011validation-rmse:0.325931\u001b[0m\n",
      "\u001b[34m[100]#011train-rmse:0.283554#011validation-rmse:0.325552\u001b[0m\n",
      "\u001b[34m[101]#011train-rmse:0.283#011validation-rmse:0.325239\u001b[0m\n",
      "\u001b[34m[102]#011train-rmse:0.282524#011validation-rmse:0.324991\u001b[0m\n",
      "\u001b[34m[103]#011train-rmse:0.282119#011validation-rmse:0.324764\u001b[0m\n",
      "\u001b[34m[104]#011train-rmse:0.281424#011validation-rmse:0.324679\u001b[0m\n",
      "\u001b[34m[105]#011train-rmse:0.281061#011validation-rmse:0.324572\u001b[0m\n",
      "\u001b[34m[106]#011train-rmse:0.280577#011validation-rmse:0.324244\u001b[0m\n",
      "\u001b[34m[107]#011train-rmse:0.280136#011validation-rmse:0.323963\u001b[0m\n",
      "\u001b[34m[108]#011train-rmse:0.279606#011validation-rmse:0.323615\u001b[0m\n",
      "\u001b[34m[109]#011train-rmse:0.279195#011validation-rmse:0.323439\u001b[0m\n",
      "\u001b[34m[110]#011train-rmse:0.278525#011validation-rmse:0.323144\u001b[0m\n",
      "\u001b[34m[111]#011train-rmse:0.278132#011validation-rmse:0.322901\u001b[0m\n",
      "\u001b[34m[112]#011train-rmse:0.277723#011validation-rmse:0.322763\u001b[0m\n",
      "\u001b[34m[113]#011train-rmse:0.277169#011validation-rmse:0.322332\u001b[0m\n",
      "\u001b[34m[114]#011train-rmse:0.276814#011validation-rmse:0.322066\u001b[0m\n",
      "\u001b[34m[115]#011train-rmse:0.27619#011validation-rmse:0.321918\u001b[0m\n",
      "\u001b[34m[116]#011train-rmse:0.275657#011validation-rmse:0.321805\u001b[0m\n",
      "\u001b[34m[117]#011train-rmse:0.275315#011validation-rmse:0.321509\u001b[0m\n",
      "\u001b[34m[118]#011train-rmse:0.274897#011validation-rmse:0.321249\u001b[0m\n",
      "\u001b[34m[119]#011train-rmse:0.274573#011validation-rmse:0.320948\u001b[0m\n",
      "\u001b[34m[120]#011train-rmse:0.274241#011validation-rmse:0.320638\u001b[0m\n",
      "\u001b[34m[121]#011train-rmse:0.274#011validation-rmse:0.32051\u001b[0m\n",
      "\u001b[34m[122]#011train-rmse:0.273241#011validation-rmse:0.320112\u001b[0m\n",
      "\u001b[34m[123]#011train-rmse:0.272843#011validation-rmse:0.319954\u001b[0m\n",
      "\u001b[34m[124]#011train-rmse:0.272409#011validation-rmse:0.319818\u001b[0m\n",
      "\u001b[34m[125]#011train-rmse:0.272067#011validation-rmse:0.319671\u001b[0m\n",
      "\u001b[34m[126]#011train-rmse:0.271795#011validation-rmse:0.319493\u001b[0m\n",
      "\u001b[34m[127]#011train-rmse:0.271338#011validation-rmse:0.319368\u001b[0m\n",
      "\u001b[34m[128]#011train-rmse:0.270725#011validation-rmse:0.31953\u001b[0m\n",
      "\u001b[34m[129]#011train-rmse:0.270262#011validation-rmse:0.319252\u001b[0m\n",
      "\u001b[34m[130]#011train-rmse:0.269775#011validation-rmse:0.319136\u001b[0m\n",
      "\u001b[34m[131]#011train-rmse:0.269426#011validation-rmse:0.319028\u001b[0m\n",
      "\u001b[34m[132]#011train-rmse:0.269183#011validation-rmse:0.318824\u001b[0m\n",
      "\u001b[34m[133]#011train-rmse:0.268849#011validation-rmse:0.318637\u001b[0m\n",
      "\u001b[34m[134]#011train-rmse:0.268481#011validation-rmse:0.31853\u001b[0m\n",
      "\u001b[34m[135]#011train-rmse:0.268243#011validation-rmse:0.318242\u001b[0m\n",
      "\u001b[34m[136]#011train-rmse:0.26778#011validation-rmse:0.318048\u001b[0m\n",
      "\u001b[34m[137]#011train-rmse:0.267455#011validation-rmse:0.317927\u001b[0m\n",
      "\u001b[34m[138]#011train-rmse:0.266993#011validation-rmse:0.317921\u001b[0m\n",
      "\u001b[34m[139]#011train-rmse:0.266647#011validation-rmse:0.317863\u001b[0m\n",
      "\u001b[34m[140]#011train-rmse:0.266211#011validation-rmse:0.317879\u001b[0m\n",
      "\u001b[34m[141]#011train-rmse:0.265574#011validation-rmse:0.317562\u001b[0m\n",
      "\u001b[34m[142]#011train-rmse:0.265216#011validation-rmse:0.317536\u001b[0m\n",
      "\u001b[34m[143]#011train-rmse:0.264916#011validation-rmse:0.317427\u001b[0m\n",
      "\u001b[34m[144]#011train-rmse:0.264439#011validation-rmse:0.317264\u001b[0m\n",
      "\u001b[34m[145]#011train-rmse:0.264158#011validation-rmse:0.316905\u001b[0m\n",
      "\u001b[34m[146]#011train-rmse:0.263679#011validation-rmse:0.31685\u001b[0m\n",
      "\u001b[34m[147]#011train-rmse:0.263277#011validation-rmse:0.316655\u001b[0m\n",
      "\u001b[34m[148]#011train-rmse:0.262931#011validation-rmse:0.316488\u001b[0m\n",
      "\u001b[34m[149]#011train-rmse:0.262592#011validation-rmse:0.316468\u001b[0m\n",
      "\u001b[34m[150]#011train-rmse:0.262289#011validation-rmse:0.316184\u001b[0m\n",
      "\u001b[34m[151]#011train-rmse:0.262001#011validation-rmse:0.316141\u001b[0m\n",
      "\u001b[34m[152]#011train-rmse:0.261584#011validation-rmse:0.315989\u001b[0m\n",
      "\u001b[34m[153]#011train-rmse:0.261317#011validation-rmse:0.31602\u001b[0m\n",
      "\u001b[34m[154]#011train-rmse:0.261088#011validation-rmse:0.315936\u001b[0m\n",
      "\u001b[34m[155]#011train-rmse:0.260844#011validation-rmse:0.315742\u001b[0m\n",
      "\u001b[34m[156]#011train-rmse:0.260438#011validation-rmse:0.315771\u001b[0m\n",
      "\u001b[34m[157]#011train-rmse:0.260149#011validation-rmse:0.315783\u001b[0m\n",
      "\u001b[34m[158]#011train-rmse:0.259568#011validation-rmse:0.315844\u001b[0m\n",
      "\u001b[34m[159]#011train-rmse:0.259137#011validation-rmse:0.315668\u001b[0m\n",
      "\u001b[34m[160]#011train-rmse:0.258829#011validation-rmse:0.315796\u001b[0m\n",
      "\u001b[34m[161]#011train-rmse:0.258523#011validation-rmse:0.315765\u001b[0m\n",
      "\u001b[34m[162]#011train-rmse:0.258086#011validation-rmse:0.315607\u001b[0m\n",
      "\u001b[34m[163]#011train-rmse:0.257712#011validation-rmse:0.315618\u001b[0m\n",
      "\u001b[34m[164]#011train-rmse:0.257492#011validation-rmse:0.315541\u001b[0m\n",
      "\u001b[34m[165]#011train-rmse:0.257158#011validation-rmse:0.315552\u001b[0m\n",
      "\u001b[34m[166]#011train-rmse:0.256986#011validation-rmse:0.315315\u001b[0m\n",
      "\u001b[34m[167]#011train-rmse:0.256774#011validation-rmse:0.315355\u001b[0m\n",
      "\u001b[34m[168]#011train-rmse:0.256494#011validation-rmse:0.315237\u001b[0m\n",
      "\u001b[34m[169]#011train-rmse:0.256255#011validation-rmse:0.315037\u001b[0m\n",
      "\u001b[34m[170]#011train-rmse:0.255976#011validation-rmse:0.315061\u001b[0m\n",
      "\u001b[34m[171]#011train-rmse:0.255737#011validation-rmse:0.314912\u001b[0m\n",
      "\u001b[34m[172]#011train-rmse:0.255352#011validation-rmse:0.314841\u001b[0m\n",
      "\u001b[34m[173]#011train-rmse:0.255078#011validation-rmse:0.314658\u001b[0m\n",
      "\u001b[34m[174]#011train-rmse:0.254848#011validation-rmse:0.314648\u001b[0m\n",
      "\u001b[34m[175]#011train-rmse:0.254565#011validation-rmse:0.31452\u001b[0m\n",
      "\u001b[34m[176]#011train-rmse:0.254131#011validation-rmse:0.314359\u001b[0m\n",
      "\u001b[34m[177]#011train-rmse:0.253863#011validation-rmse:0.314198\u001b[0m\n",
      "\u001b[34m[178]#011train-rmse:0.253639#011validation-rmse:0.314065\u001b[0m\n",
      "\u001b[34m[179]#011train-rmse:0.253438#011validation-rmse:0.314047\u001b[0m\n",
      "\u001b[34m[180]#011train-rmse:0.25319#011validation-rmse:0.314047\u001b[0m\n",
      "\u001b[34m[181]#011train-rmse:0.252966#011validation-rmse:0.31402\u001b[0m\n",
      "\u001b[34m[182]#011train-rmse:0.252584#011validation-rmse:0.314046\u001b[0m\n",
      "\u001b[34m[183]#011train-rmse:0.252215#011validation-rmse:0.314224\u001b[0m\n",
      "\u001b[34m[184]#011train-rmse:0.251877#011validation-rmse:0.313879\u001b[0m\n",
      "\u001b[34m[185]#011train-rmse:0.251631#011validation-rmse:0.313679\u001b[0m\n",
      "\u001b[34m[186]#011train-rmse:0.251368#011validation-rmse:0.31349\u001b[0m\n",
      "\u001b[34m[187]#011train-rmse:0.251066#011validation-rmse:0.313308\u001b[0m\n",
      "\u001b[34m[188]#011train-rmse:0.250598#011validation-rmse:0.313126\u001b[0m\n",
      "\u001b[34m[189]#011train-rmse:0.250285#011validation-rmse:0.313187\u001b[0m\n",
      "\u001b[34m[190]#011train-rmse:0.250036#011validation-rmse:0.313163\u001b[0m\n",
      "\u001b[34m[191]#011train-rmse:0.24982#011validation-rmse:0.313015\u001b[0m\n",
      "\u001b[34m[192]#011train-rmse:0.249509#011validation-rmse:0.313062\u001b[0m\n",
      "\u001b[34m[193]#011train-rmse:0.249008#011validation-rmse:0.313055\u001b[0m\n",
      "\u001b[34m[194]#011train-rmse:0.248714#011validation-rmse:0.312952\u001b[0m\n",
      "\u001b[34m[195]#011train-rmse:0.248159#011validation-rmse:0.312928\u001b[0m\n",
      "\u001b[34m[196]#011train-rmse:0.247975#011validation-rmse:0.312861\u001b[0m\n",
      "\u001b[34m[197]#011train-rmse:0.247728#011validation-rmse:0.31271\u001b[0m\n",
      "\u001b[34m[198]#011train-rmse:0.247633#011validation-rmse:0.312523\u001b[0m\n",
      "\u001b[34m[199]#011train-rmse:0.247425#011validation-rmse:0.312448\u001b[0m\n",
      "Training seconds: 357\n",
      "Billable seconds: 357\n"
     ]
    }
   ],
   "source": [
    "# TODO: Create a new estimator object attached to the best training job found during hyperparameter tuning\n",
    "\n",
    "xgb_attached = sagemaker.estimator.Estimator.attach(xgb_hyperparameter_tuner.best_training_job())"
   ]
  },
  {
   "cell_type": "markdown",
   "metadata": {},
   "source": [
    "Now that we have an estimator object attached to the correct training job, we can proceed as we normally would and create a transformer object."
   ]
  },
  {
   "cell_type": "code",
   "execution_count": 43,
   "metadata": {},
   "outputs": [],
   "source": [
    "# TODO: Create a transformer object from the attached estimator. Using an instance count of 1 and an instance type of ml.m4.xlarge\n",
    "#       should be more than enough.\n",
    "\n",
    "xgb_transformer = xgb_attached.transformer(instance_count=1, instance_type='ml.m4.xlarge')\n"
   ]
  },
  {
   "cell_type": "markdown",
   "metadata": {},
   "source": [
    "Next we actually perform the transform job. When doing so we need to make sure to specify the type of data we are sending so that it is serialized correctly in the background. In our case we are providing our model with csv data so we specify `text/csv`. Also, if the test data that we have provided is too large to process all at once then we need to specify how the data file should be split up. Since each line is a single entry in our data set we tell SageMaker that it can split the input on each line."
   ]
  },
  {
   "cell_type": "code",
   "execution_count": 44,
   "metadata": {},
   "outputs": [],
   "source": [
    "# TODO: Start the transform job. Make sure to specify the content type and the split type of the test data.\n",
    "xgb_transformer.transform(test_location, content_type='text/csv', split_type='Line')"
   ]
  },
  {
   "cell_type": "markdown",
   "metadata": {},
   "source": [
    "Currently the transform job is running but it is doing so in the background. Since we wish to wait until the transform job is done and we would like a bit of feedback we can run the `wait()` method."
   ]
  },
  {
   "cell_type": "code",
   "execution_count": 45,
   "metadata": {},
   "outputs": [
    {
     "name": "stdout",
     "output_type": "stream",
     "text": [
      ".....................\u001b[34m[2019-12-11 22:46:58 +0000] [16] [INFO] Starting gunicorn 19.10.0\u001b[0m\n",
      "\u001b[34m[2019-12-11 22:46:58 +0000] [16] [INFO] Listening at: unix:/tmp/gunicorn.sock (16)\u001b[0m\n",
      "\u001b[34m[2019-12-11 22:46:58 +0000] [16] [INFO] Using worker: gevent\u001b[0m\n",
      "\u001b[34m[2019-12-11 22:46:58 +0000] [23] [INFO] Booting worker with pid: 23\u001b[0m\n",
      "\u001b[34m[2019-12-11 22:46:58 +0000] [24] [INFO] Booting worker with pid: 24\u001b[0m\n",
      "\u001b[34m[2019-12-11 22:46:58 +0000] [25] [INFO] Booting worker with pid: 25\u001b[0m\n",
      "\u001b[34m[2019-12-11 22:46:58 +0000] [26] [INFO] Booting worker with pid: 26\u001b[0m\n",
      "\u001b[34m[2019-12-11:22:47:20:INFO] No GPUs detected (normal if no gpus installed)\u001b[0m\n",
      "\u001b[34m169.254.255.130 - - [11/Dec/2019:22:47:20 +0000] \"GET /ping HTTP/1.1\" 200 0 \"-\" \"Go-http-client/1.1\"\u001b[0m\n",
      "\u001b[34m169.254.255.130 - - [11/Dec/2019:22:47:20 +0000] \"GET /execution-parameters HTTP/1.1\" 200 84 \"-\" \"Go-http-client/1.1\"\u001b[0m\n",
      "\u001b[35m[2019-12-11:22:47:20:INFO] No GPUs detected (normal if no gpus installed)\u001b[0m\n",
      "\u001b[35m169.254.255.130 - - [11/Dec/2019:22:47:20 +0000] \"GET /ping HTTP/1.1\" 200 0 \"-\" \"Go-http-client/1.1\"\u001b[0m\n",
      "\u001b[35m169.254.255.130 - - [11/Dec/2019:22:47:20 +0000] \"GET /execution-parameters HTTP/1.1\" 200 84 \"-\" \"Go-http-client/1.1\"\u001b[0m\n",
      "\u001b[32m2019-12-11T22:47:20.518:[sagemaker logs]: MaxConcurrentTransforms=4, MaxPayloadInMB=6, BatchStrategy=MULTI_RECORD\u001b[0m\n",
      "\u001b[34m[2019-12-11:22:47:23:INFO] No GPUs detected (normal if no gpus installed)\u001b[0m\n",
      "\u001b[34m[2019-12-11:22:47:23:INFO] No GPUs detected (normal if no gpus installed)\u001b[0m\n",
      "\u001b[34m[2019-12-11:22:47:23:INFO] Determined delimiter of CSV input is ','\u001b[0m\n",
      "\u001b[34m[2019-12-11:22:47:23:INFO] Determined delimiter of CSV input is ','\u001b[0m\n",
      "\u001b[35m[2019-12-11:22:47:23:INFO] No GPUs detected (normal if no gpus installed)\u001b[0m\n",
      "\u001b[35m[2019-12-11:22:47:23:INFO] No GPUs detected (normal if no gpus installed)\u001b[0m\n",
      "\u001b[35m[2019-12-11:22:47:23:INFO] Determined delimiter of CSV input is ','\u001b[0m\n",
      "\u001b[35m[2019-12-11:22:47:23:INFO] Determined delimiter of CSV input is ','\u001b[0m\n",
      "\u001b[34m[2019-12-11:22:47:23:INFO] No GPUs detected (normal if no gpus installed)\u001b[0m\n",
      "\u001b[34m[2019-12-11:22:47:23:INFO] Determined delimiter of CSV input is ','\u001b[0m\n",
      "\u001b[34m[2019-12-11:22:47:23:INFO] Determined delimiter of CSV input is ','\u001b[0m\n",
      "\u001b[35m[2019-12-11:22:47:23:INFO] No GPUs detected (normal if no gpus installed)\u001b[0m\n",
      "\u001b[35m[2019-12-11:22:47:23:INFO] Determined delimiter of CSV input is ','\u001b[0m\n",
      "\u001b[35m[2019-12-11:22:47:23:INFO] Determined delimiter of CSV input is ','\u001b[0m\n",
      "\u001b[34m169.254.255.130 - - [11/Dec/2019:22:47:27 +0000] \"POST /invocations HTTP/1.1\" 200 12326 \"-\" \"Go-http-client/1.1\"\u001b[0m\n",
      "\u001b[34m[2019-12-11:22:47:27:INFO] Determined delimiter of CSV input is ','\u001b[0m\n",
      "\u001b[34m[2019-12-11:22:47:27:INFO] Determined delimiter of CSV input is ','\u001b[0m\n",
      "\u001b[35m169.254.255.130 - - [11/Dec/2019:22:47:27 +0000] \"POST /invocations HTTP/1.1\" 200 12326 \"-\" \"Go-http-client/1.1\"\u001b[0m\n",
      "\u001b[35m[2019-12-11:22:47:27:INFO] Determined delimiter of CSV input is ','\u001b[0m\n",
      "\u001b[35m[2019-12-11:22:47:27:INFO] Determined delimiter of CSV input is ','\u001b[0m\n",
      "\u001b[34m[2019-12-11:22:47:27:INFO] Determined delimiter of CSV input is ','\u001b[0m\n",
      "\u001b[34m[2019-12-11:22:47:27:INFO] Determined delimiter of CSV input is ','\u001b[0m\n",
      "\u001b[35m[2019-12-11:22:47:27:INFO] Determined delimiter of CSV input is ','\u001b[0m\n",
      "\u001b[35m[2019-12-11:22:47:27:INFO] Determined delimiter of CSV input is ','\u001b[0m\n",
      "\u001b[34m169.254.255.130 - - [11/Dec/2019:22:47:30 +0000] \"POST /invocations HTTP/1.1\" 200 12289 \"-\" \"Go-http-client/1.1\"\u001b[0m\n",
      "\u001b[34m169.254.255.130 - - [11/Dec/2019:22:47:30 +0000] \"POST /invocations HTTP/1.1\" 200 12283 \"-\" \"Go-http-client/1.1\"\u001b[0m\n",
      "\u001b[34m[2019-12-11:22:47:30:INFO] Determined delimiter of CSV input is ','\u001b[0m\n",
      "\u001b[34m169.254.255.130 - - [11/Dec/2019:22:47:30 +0000] \"POST /invocations HTTP/1.1\" 200 12283 \"-\" \"Go-http-client/1.1\"\u001b[0m\n",
      "\u001b[34m169.254.255.130 - - [11/Dec/2019:22:47:30 +0000] \"POST /invocations HTTP/1.1\" 200 12282 \"-\" \"Go-http-client/1.1\"\u001b[0m\n",
      "\u001b[34m[2019-12-11:22:47:30:INFO] Determined delimiter of CSV input is ','\u001b[0m\n",
      "\u001b[34m[2019-12-11:22:47:30:INFO] Determined delimiter of CSV input is ','\u001b[0m\n",
      "\u001b[34m[2019-12-11:22:47:31:INFO] Determined delimiter of CSV input is ','\u001b[0m\n",
      "\u001b[35m169.254.255.130 - - [11/Dec/2019:22:47:30 +0000] \"POST /invocations HTTP/1.1\" 200 12289 \"-\" \"Go-http-client/1.1\"\u001b[0m\n",
      "\u001b[35m169.254.255.130 - - [11/Dec/2019:22:47:30 +0000] \"POST /invocations HTTP/1.1\" 200 12283 \"-\" \"Go-http-client/1.1\"\u001b[0m\n",
      "\u001b[35m[2019-12-11:22:47:30:INFO] Determined delimiter of CSV input is ','\u001b[0m\n",
      "\u001b[35m169.254.255.130 - - [11/Dec/2019:22:47:30 +0000] \"POST /invocations HTTP/1.1\" 200 12283 \"-\" \"Go-http-client/1.1\"\u001b[0m\n",
      "\u001b[35m169.254.255.130 - - [11/Dec/2019:22:47:30 +0000] \"POST /invocations HTTP/1.1\" 200 12282 \"-\" \"Go-http-client/1.1\"\u001b[0m\n",
      "\u001b[35m[2019-12-11:22:47:30:INFO] Determined delimiter of CSV input is ','\u001b[0m\n",
      "\u001b[35m[2019-12-11:22:47:30:INFO] Determined delimiter of CSV input is ','\u001b[0m\n",
      "\u001b[35m[2019-12-11:22:47:31:INFO] Determined delimiter of CSV input is ','\u001b[0m\n",
      "\u001b[34m169.254.255.130 - - [11/Dec/2019:22:47:34 +0000] \"POST /invocations HTTP/1.1\" 200 12241 \"-\" \"Go-http-client/1.1\"\u001b[0m\n",
      "\u001b[34m169.254.255.130 - - [11/Dec/2019:22:47:34 +0000] \"POST /invocations HTTP/1.1\" 200 12246 \"-\" \"Go-http-client/1.1\"\u001b[0m\n",
      "\u001b[34m169.254.255.130 - - [11/Dec/2019:22:47:34 +0000] \"POST /invocations HTTP/1.1\" 200 12246 \"-\" \"Go-http-client/1.1\"\u001b[0m\n",
      "\u001b[34m[2019-12-11:22:47:34:INFO] Determined delimiter of CSV input is ','\u001b[0m\n",
      "\u001b[35m169.254.255.130 - - [11/Dec/2019:22:47:34 +0000] \"POST /invocations HTTP/1.1\" 200 12241 \"-\" \"Go-http-client/1.1\"\u001b[0m\n",
      "\u001b[35m169.254.255.130 - - [11/Dec/2019:22:47:34 +0000] \"POST /invocations HTTP/1.1\" 200 12246 \"-\" \"Go-http-client/1.1\"\u001b[0m\n",
      "\u001b[35m169.254.255.130 - - [11/Dec/2019:22:47:34 +0000] \"POST /invocations HTTP/1.1\" 200 12246 \"-\" \"Go-http-client/1.1\"\u001b[0m\n",
      "\u001b[35m[2019-12-11:22:47:34:INFO] Determined delimiter of CSV input is ','\u001b[0m\n",
      "\u001b[34m169.254.255.130 - - [11/Dec/2019:22:47:34 +0000] \"POST /invocations HTTP/1.1\" 200 12270 \"-\" \"Go-http-client/1.1\"\u001b[0m\n",
      "\u001b[34m[2019-12-11:22:47:34:INFO] Determined delimiter of CSV input is ','\u001b[0m\n",
      "\u001b[34m[2019-12-11:22:47:34:INFO] Determined delimiter of CSV input is ','\u001b[0m\n",
      "\u001b[34m[2019-12-11:22:47:34:INFO] Determined delimiter of CSV input is ','\u001b[0m\n",
      "\u001b[35m169.254.255.130 - - [11/Dec/2019:22:47:34 +0000] \"POST /invocations HTTP/1.1\" 200 12270 \"-\" \"Go-http-client/1.1\"\u001b[0m\n",
      "\u001b[35m[2019-12-11:22:47:34:INFO] Determined delimiter of CSV input is ','\u001b[0m\n",
      "\u001b[35m[2019-12-11:22:47:34:INFO] Determined delimiter of CSV input is ','\u001b[0m\n",
      "\u001b[35m[2019-12-11:22:47:34:INFO] Determined delimiter of CSV input is ','\u001b[0m\n",
      "\u001b[34m169.254.255.130 - - [11/Dec/2019:22:47:37 +0000] \"POST /invocations HTTP/1.1\" 200 12261 \"-\" \"Go-http-client/1.1\"\u001b[0m\n",
      "\u001b[34m169.254.255.130 - - [11/Dec/2019:22:47:37 +0000] \"POST /invocations HTTP/1.1\" 200 12282 \"-\" \"Go-http-client/1.1\"\u001b[0m\n",
      "\u001b[34m169.254.255.130 - - [11/Dec/2019:22:47:37 +0000] \"POST /invocations HTTP/1.1\" 200 12272 \"-\" \"Go-http-client/1.1\"\u001b[0m\n",
      "\u001b[34m[2019-12-11:22:47:37:INFO] Determined delimiter of CSV input is ','\u001b[0m\n",
      "\u001b[34m169.254.255.130 - - [11/Dec/2019:22:47:37 +0000] \"POST /invocations HTTP/1.1\" 200 12232 \"-\" \"Go-http-client/1.1\"\u001b[0m\n",
      "\u001b[34m[2019-12-11:22:47:37:INFO] Determined delimiter of CSV input is ','\u001b[0m\n",
      "\u001b[34m[2019-12-11:22:47:37:INFO] Determined delimiter of CSV input is ','\u001b[0m\n",
      "\u001b[34m[2019-12-11:22:47:38:INFO] Determined delimiter of CSV input is ','\u001b[0m\n",
      "\u001b[35m169.254.255.130 - - [11/Dec/2019:22:47:37 +0000] \"POST /invocations HTTP/1.1\" 200 12261 \"-\" \"Go-http-client/1.1\"\u001b[0m\n",
      "\u001b[35m169.254.255.130 - - [11/Dec/2019:22:47:37 +0000] \"POST /invocations HTTP/1.1\" 200 12282 \"-\" \"Go-http-client/1.1\"\u001b[0m\n",
      "\u001b[35m169.254.255.130 - - [11/Dec/2019:22:47:37 +0000] \"POST /invocations HTTP/1.1\" 200 12272 \"-\" \"Go-http-client/1.1\"\u001b[0m\n",
      "\u001b[35m[2019-12-11:22:47:37:INFO] Determined delimiter of CSV input is ','\u001b[0m\n",
      "\u001b[35m169.254.255.130 - - [11/Dec/2019:22:47:37 +0000] \"POST /invocations HTTP/1.1\" 200 12232 \"-\" \"Go-http-client/1.1\"\u001b[0m\n",
      "\u001b[35m[2019-12-11:22:47:37:INFO] Determined delimiter of CSV input is ','\u001b[0m\n",
      "\u001b[35m[2019-12-11:22:47:37:INFO] Determined delimiter of CSV input is ','\u001b[0m\n",
      "\u001b[35m[2019-12-11:22:47:38:INFO] Determined delimiter of CSV input is ','\u001b[0m\n",
      "\u001b[34m169.254.255.130 - - [11/Dec/2019:22:47:44 +0000] \"POST /invocations HTTP/1.1\" 200 12243 \"-\" \"Go-http-client/1.1\"\u001b[0m\n",
      "\u001b[34m[2019-12-11:22:47:44:INFO] Determined delimiter of CSV input is ','\u001b[0m\n",
      "\u001b[34m169.254.255.130 - - [11/Dec/2019:22:47:44 +0000] \"POST /invocations HTTP/1.1\" 200 12267 \"-\" \"Go-http-client/1.1\"\u001b[0m\n",
      "\u001b[34m169.254.255.130 - - [11/Dec/2019:22:47:44 +0000] \"POST /invocations HTTP/1.1\" 200 12281 \"-\" \"Go-http-client/1.1\"\u001b[0m\n",
      "\u001b[34m169.254.255.130 - - [11/Dec/2019:22:47:44 +0000] \"POST /invocations HTTP/1.1\" 200 12277 \"-\" \"Go-http-client/1.1\"\u001b[0m\n",
      "\u001b[34m[2019-12-11:22:47:44:INFO] Determined delimiter of CSV input is ','\u001b[0m\n",
      "\u001b[34m[2019-12-11:22:47:45:INFO] Determined delimiter of CSV input is ','\u001b[0m\n",
      "\u001b[34m[2019-12-11:22:47:45:INFO] Determined delimiter of CSV input is ','\u001b[0m\n",
      "\u001b[35m169.254.255.130 - - [11/Dec/2019:22:47:44 +0000] \"POST /invocations HTTP/1.1\" 200 12243 \"-\" \"Go-http-client/1.1\"\u001b[0m\n",
      "\u001b[35m[2019-12-11:22:47:44:INFO] Determined delimiter of CSV input is ','\u001b[0m\n",
      "\u001b[35m169.254.255.130 - - [11/Dec/2019:22:47:44 +0000] \"POST /invocations HTTP/1.1\" 200 12267 \"-\" \"Go-http-client/1.1\"\u001b[0m\n",
      "\u001b[35m169.254.255.130 - - [11/Dec/2019:22:47:44 +0000] \"POST /invocations HTTP/1.1\" 200 12281 \"-\" \"Go-http-client/1.1\"\u001b[0m\n",
      "\u001b[35m169.254.255.130 - - [11/Dec/2019:22:47:44 +0000] \"POST /invocations HTTP/1.1\" 200 12277 \"-\" \"Go-http-client/1.1\"\u001b[0m\n",
      "\u001b[35m[2019-12-11:22:47:44:INFO] Determined delimiter of CSV input is ','\u001b[0m\n",
      "\u001b[35m[2019-12-11:22:47:45:INFO] Determined delimiter of CSV input is ','\u001b[0m\n",
      "\u001b[35m[2019-12-11:22:47:45:INFO] Determined delimiter of CSV input is ','\u001b[0m\n"
     ]
    },
    {
     "name": "stdout",
     "output_type": "stream",
     "text": [
      "\u001b[34m169.254.255.130 - - [11/Dec/2019:22:47:51 +0000] \"POST /invocations HTTP/1.1\" 200 12252 \"-\" \"Go-http-client/1.1\"\u001b[0m\n",
      "\u001b[35m169.254.255.130 - - [11/Dec/2019:22:47:51 +0000] \"POST /invocations HTTP/1.1\" 200 12252 \"-\" \"Go-http-client/1.1\"\u001b[0m\n",
      "\u001b[34m[2019-12-11:22:47:51:INFO] Determined delimiter of CSV input is ','\u001b[0m\n",
      "\u001b[34m169.254.255.130 - - [11/Dec/2019:22:47:51 +0000] \"POST /invocations HTTP/1.1\" 200 12248 \"-\" \"Go-http-client/1.1\"\u001b[0m\n",
      "\u001b[34m169.254.255.130 - - [11/Dec/2019:22:47:51 +0000] \"POST /invocations HTTP/1.1\" 200 12285 \"-\" \"Go-http-client/1.1\"\u001b[0m\n",
      "\u001b[34m169.254.255.130 - - [11/Dec/2019:22:47:51 +0000] \"POST /invocations HTTP/1.1\" 200 12208 \"-\" \"Go-http-client/1.1\"\u001b[0m\n",
      "\u001b[34m[2019-12-11:22:47:52:INFO] Determined delimiter of CSV input is ','\u001b[0m\n",
      "\u001b[34m[2019-12-11:22:47:52:INFO] Determined delimiter of CSV input is ','\u001b[0m\n",
      "\u001b[34m[2019-12-11:22:47:52:INFO] Determined delimiter of CSV input is ','\u001b[0m\n",
      "\u001b[35m[2019-12-11:22:47:51:INFO] Determined delimiter of CSV input is ','\u001b[0m\n",
      "\u001b[35m169.254.255.130 - - [11/Dec/2019:22:47:51 +0000] \"POST /invocations HTTP/1.1\" 200 12248 \"-\" \"Go-http-client/1.1\"\u001b[0m\n",
      "\u001b[35m169.254.255.130 - - [11/Dec/2019:22:47:51 +0000] \"POST /invocations HTTP/1.1\" 200 12285 \"-\" \"Go-http-client/1.1\"\u001b[0m\n",
      "\u001b[35m169.254.255.130 - - [11/Dec/2019:22:47:51 +0000] \"POST /invocations HTTP/1.1\" 200 12208 \"-\" \"Go-http-client/1.1\"\u001b[0m\n",
      "\u001b[35m[2019-12-11:22:47:52:INFO] Determined delimiter of CSV input is ','\u001b[0m\n",
      "\u001b[35m[2019-12-11:22:47:52:INFO] Determined delimiter of CSV input is ','\u001b[0m\n",
      "\u001b[35m[2019-12-11:22:47:52:INFO] Determined delimiter of CSV input is ','\u001b[0m\n",
      "\u001b[34m[2019-12-11:22:47:55:INFO] Determined delimiter of CSV input is ','\u001b[0m\n",
      "\u001b[35m[2019-12-11:22:47:55:INFO] Determined delimiter of CSV input is ','\u001b[0m\n",
      "\u001b[34m169.254.255.130 - - [11/Dec/2019:22:47:58 +0000] \"POST /invocations HTTP/1.1\" 200 9137 \"-\" \"Go-http-client/1.1\"\u001b[0m\n",
      "\u001b[35m169.254.255.130 - - [11/Dec/2019:22:47:58 +0000] \"POST /invocations HTTP/1.1\" 200 9137 \"-\" \"Go-http-client/1.1\"\u001b[0m\n",
      "\u001b[34m169.254.255.130 - - [11/Dec/2019:22:47:58 +0000] \"POST /invocations HTTP/1.1\" 200 12240 \"-\" \"Go-http-client/1.1\"\u001b[0m\n",
      "\u001b[34m169.254.255.130 - - [11/Dec/2019:22:47:58 +0000] \"POST /invocations HTTP/1.1\" 200 12244 \"-\" \"Go-http-client/1.1\"\u001b[0m\n",
      "\u001b[34m169.254.255.130 - - [11/Dec/2019:22:47:58 +0000] \"POST /invocations HTTP/1.1\" 200 12256 \"-\" \"Go-http-client/1.1\"\u001b[0m\n",
      "\u001b[35m169.254.255.130 - - [11/Dec/2019:22:47:58 +0000] \"POST /invocations HTTP/1.1\" 200 12240 \"-\" \"Go-http-client/1.1\"\u001b[0m\n",
      "\u001b[35m169.254.255.130 - - [11/Dec/2019:22:47:58 +0000] \"POST /invocations HTTP/1.1\" 200 12244 \"-\" \"Go-http-client/1.1\"\u001b[0m\n",
      "\u001b[35m169.254.255.130 - - [11/Dec/2019:22:47:58 +0000] \"POST /invocations HTTP/1.1\" 200 12256 \"-\" \"Go-http-client/1.1\"\u001b[0m\n",
      "\n"
     ]
    }
   ],
   "source": [
    "xgb_transformer.wait()"
   ]
  },
  {
   "cell_type": "markdown",
   "metadata": {},
   "source": [
    "Now the transform job has executed and the result, the estimated sentiment of each review, has been saved on S3. Since we would rather work on this file locally we can perform a bit of notebook magic to copy the file to the `data_dir`."
   ]
  },
  {
   "cell_type": "code",
   "execution_count": 35,
   "metadata": {},
   "outputs": [
    {
     "name": "stdout",
     "output_type": "stream",
     "text": [
      "Completed 256.0 KiB/456.6 KiB (2.4 MiB/s) with 1 file(s) remaining\r",
      "Completed 456.6 KiB/456.6 KiB (4.1 MiB/s) with 1 file(s) remaining\r",
      "download: s3://sagemaker-us-east-2-020479436148/sagemaker-xgboost-191211-2149-007-9da39-2019-12-11-22-02-48-658/test.csv.out to ../data/xgboost/test.csv.out\r\n"
     ]
    }
   ],
   "source": [
    "!aws s3 cp --recursive $xgb_transformer.output_path $data_dir"
   ]
  },
  {
   "cell_type": "markdown",
   "metadata": {},
   "source": [
    "The last step is now to read in the output from our model, convert the output to something a little more usable, in this case we want the sentiment to be either `1` (positive) or `0` (negative), and then compare to the ground truth labels."
   ]
  },
  {
   "cell_type": "code",
   "execution_count": 36,
   "metadata": {},
   "outputs": [],
   "source": [
    "predictions = pd.read_csv(os.path.join(data_dir, 'test.csv.out'), header=None)\n",
    "predictions = [round(num) for num in predictions.squeeze().values]"
   ]
  },
  {
   "cell_type": "code",
   "execution_count": 37,
   "metadata": {},
   "outputs": [
    {
     "data": {
      "text/plain": [
       "0.72884"
      ]
     },
     "execution_count": 37,
     "metadata": {},
     "output_type": "execute_result"
    }
   ],
   "source": [
    "from sklearn.metrics import accuracy_score\n",
    "accuracy_score(test_y, predictions)"
   ]
  },
  {
   "cell_type": "markdown",
   "metadata": {},
   "source": [
    "## Optional: Clean up\n",
    "\n",
    "The default notebook instance on SageMaker doesn't have a lot of excess disk space available. As you continue to complete and execute notebooks you will eventually fill up this disk space, leading to errors which can be difficult to diagnose. Once you are completely finished using a notebook it is a good idea to remove the files that you created along the way. Of course, you can do this from the terminal or from the notebook hub if you would like. The cell below contains some commands to clean up the created files from within the notebook."
   ]
  },
  {
   "cell_type": "code",
   "execution_count": 46,
   "metadata": {},
   "outputs": [],
   "source": [
    "# First we will remove all of the files contained in the data_dir directory\n",
    "!rm $data_dir/*\n",
    "\n",
    "# And then we delete the directory itself\n",
    "!rmdir $data_dir\n",
    "\n",
    "# Similarly we will remove the files in the cache_dir directory and the directory itself\n",
    "# !rm $cache_dir/*\n",
    "# !rmdir $cache_dir"
   ]
  },
  {
   "cell_type": "code",
   "execution_count": null,
   "metadata": {},
   "outputs": [],
   "source": []
  }
 ],
 "metadata": {
  "kernelspec": {
   "display_name": "conda_python3",
   "language": "python",
   "name": "conda_python3"
  },
  "language_info": {
   "codemirror_mode": {
    "name": "ipython",
    "version": 3
   },
   "file_extension": ".py",
   "mimetype": "text/x-python",
   "name": "python",
   "nbconvert_exporter": "python",
   "pygments_lexer": "ipython3",
   "version": "3.6.5"
  }
 },
 "nbformat": 4,
 "nbformat_minor": 2
}
