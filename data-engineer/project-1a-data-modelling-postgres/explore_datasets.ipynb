{
 "cells": [
  {
   "cell_type": "code",
   "execution_count": 2,
   "metadata": {
    "editable": true
   },
   "outputs": [],
   "source": [
    "import pandas as pd\n",
    "import os"
   ]
  },
  {
   "cell_type": "code",
   "execution_count": 3,
   "metadata": {
    "editable": true
   },
   "outputs": [],
   "source": [
    "path = 'data/log_data/2018/11/2018-11-12-events.json'"
   ]
  },
  {
   "cell_type": "markdown",
   "metadata": {
    "editable": true
   },
   "source": [
    "## Log Dataset"
   ]
  },
  {
   "cell_type": "code",
   "execution_count": 8,
   "metadata": {
    "editable": true
   },
   "outputs": [],
   "source": [
    "logs = pd.read_json(path, lines=True)"
   ]
  },
  {
   "cell_type": "code",
   "execution_count": 9,
   "metadata": {
    "editable": true
   },
   "outputs": [
    {
     "name": "stdout",
     "output_type": "stream",
     "text": [
      "<class 'pandas.core.frame.DataFrame'>\n",
      "RangeIndex: 213 entries, 0 to 212\n",
      "Data columns (total 18 columns):\n",
      "artist           166 non-null object\n",
      "auth             213 non-null object\n",
      "firstName        205 non-null object\n",
      "gender           205 non-null object\n",
      "itemInSession    213 non-null int64\n",
      "lastName         205 non-null object\n",
      "length           166 non-null float64\n",
      "level            213 non-null object\n",
      "location         205 non-null object\n",
      "method           213 non-null object\n",
      "page             213 non-null object\n",
      "registration     205 non-null float64\n",
      "sessionId        213 non-null int64\n",
      "song             166 non-null object\n",
      "status           213 non-null int64\n",
      "ts               213 non-null int64\n",
      "userAgent        205 non-null object\n",
      "userId           213 non-null object\n",
      "dtypes: float64(2), int64(4), object(12)\n",
      "memory usage: 30.0+ KB\n"
     ]
    }
   ],
   "source": [
    "logs.info()"
   ]
  },
  {
   "cell_type": "code",
   "execution_count": 10,
   "metadata": {
    "editable": true
   },
   "outputs": [
    {
     "data": {
      "text/html": [
       "<div>\n",
       "<style scoped>\n",
       "    .dataframe tbody tr th:only-of-type {\n",
       "        vertical-align: middle;\n",
       "    }\n",
       "\n",
       "    .dataframe tbody tr th {\n",
       "        vertical-align: top;\n",
       "    }\n",
       "\n",
       "    .dataframe thead th {\n",
       "        text-align: right;\n",
       "    }\n",
       "</style>\n",
       "<table border=\"1\" class=\"dataframe\">\n",
       "  <thead>\n",
       "    <tr style=\"text-align: right;\">\n",
       "      <th></th>\n",
       "      <th>artist</th>\n",
       "      <th>auth</th>\n",
       "      <th>firstName</th>\n",
       "      <th>gender</th>\n",
       "      <th>itemInSession</th>\n",
       "      <th>lastName</th>\n",
       "      <th>length</th>\n",
       "      <th>level</th>\n",
       "      <th>location</th>\n",
       "      <th>method</th>\n",
       "      <th>page</th>\n",
       "      <th>registration</th>\n",
       "      <th>sessionId</th>\n",
       "      <th>song</th>\n",
       "      <th>status</th>\n",
       "      <th>ts</th>\n",
       "      <th>userAgent</th>\n",
       "      <th>userId</th>\n",
       "    </tr>\n",
       "  </thead>\n",
       "  <tbody>\n",
       "    <tr>\n",
       "      <th>0</th>\n",
       "      <td>None</td>\n",
       "      <td>Logged In</td>\n",
       "      <td>Celeste</td>\n",
       "      <td>F</td>\n",
       "      <td>0</td>\n",
       "      <td>Williams</td>\n",
       "      <td>NaN</td>\n",
       "      <td>free</td>\n",
       "      <td>Klamath Falls, OR</td>\n",
       "      <td>GET</td>\n",
       "      <td>Home</td>\n",
       "      <td>1.541078e+12</td>\n",
       "      <td>438</td>\n",
       "      <td>None</td>\n",
       "      <td>200</td>\n",
       "      <td>1541990217796</td>\n",
       "      <td>\"Mozilla/5.0 (Windows NT 6.1; WOW64) AppleWebK...</td>\n",
       "      <td>53</td>\n",
       "    </tr>\n",
       "    <tr>\n",
       "      <th>1</th>\n",
       "      <td>Pavement</td>\n",
       "      <td>Logged In</td>\n",
       "      <td>Sylvie</td>\n",
       "      <td>F</td>\n",
       "      <td>0</td>\n",
       "      <td>Cruz</td>\n",
       "      <td>99.16036</td>\n",
       "      <td>free</td>\n",
       "      <td>Washington-Arlington-Alexandria, DC-VA-MD-WV</td>\n",
       "      <td>PUT</td>\n",
       "      <td>NextSong</td>\n",
       "      <td>1.540266e+12</td>\n",
       "      <td>345</td>\n",
       "      <td>Mercy:The Laundromat</td>\n",
       "      <td>200</td>\n",
       "      <td>1541990258796</td>\n",
       "      <td>\"Mozilla/5.0 (Macintosh; Intel Mac OS X 10_9_4...</td>\n",
       "      <td>10</td>\n",
       "    </tr>\n",
       "    <tr>\n",
       "      <th>2</th>\n",
       "      <td>Barry Tuckwell/Academy of St Martin-in-the-Fie...</td>\n",
       "      <td>Logged In</td>\n",
       "      <td>Celeste</td>\n",
       "      <td>F</td>\n",
       "      <td>1</td>\n",
       "      <td>Williams</td>\n",
       "      <td>277.15873</td>\n",
       "      <td>free</td>\n",
       "      <td>Klamath Falls, OR</td>\n",
       "      <td>PUT</td>\n",
       "      <td>NextSong</td>\n",
       "      <td>1.541078e+12</td>\n",
       "      <td>438</td>\n",
       "      <td>Horn Concerto No. 4 in E flat K495: II. Romanc...</td>\n",
       "      <td>200</td>\n",
       "      <td>1541990264796</td>\n",
       "      <td>\"Mozilla/5.0 (Windows NT 6.1; WOW64) AppleWebK...</td>\n",
       "      <td>53</td>\n",
       "    </tr>\n",
       "    <tr>\n",
       "      <th>3</th>\n",
       "      <td>Gary Allan</td>\n",
       "      <td>Logged In</td>\n",
       "      <td>Celeste</td>\n",
       "      <td>F</td>\n",
       "      <td>2</td>\n",
       "      <td>Williams</td>\n",
       "      <td>211.22567</td>\n",
       "      <td>free</td>\n",
       "      <td>Klamath Falls, OR</td>\n",
       "      <td>PUT</td>\n",
       "      <td>NextSong</td>\n",
       "      <td>1.541078e+12</td>\n",
       "      <td>438</td>\n",
       "      <td>Nothing On But The Radio</td>\n",
       "      <td>200</td>\n",
       "      <td>1541990541796</td>\n",
       "      <td>\"Mozilla/5.0 (Windows NT 6.1; WOW64) AppleWebK...</td>\n",
       "      <td>53</td>\n",
       "    </tr>\n",
       "    <tr>\n",
       "      <th>4</th>\n",
       "      <td>None</td>\n",
       "      <td>Logged In</td>\n",
       "      <td>Jacqueline</td>\n",
       "      <td>F</td>\n",
       "      <td>0</td>\n",
       "      <td>Lynch</td>\n",
       "      <td>NaN</td>\n",
       "      <td>paid</td>\n",
       "      <td>Atlanta-Sandy Springs-Roswell, GA</td>\n",
       "      <td>GET</td>\n",
       "      <td>Home</td>\n",
       "      <td>1.540224e+12</td>\n",
       "      <td>389</td>\n",
       "      <td>None</td>\n",
       "      <td>200</td>\n",
       "      <td>1541990714796</td>\n",
       "      <td>\"Mozilla/5.0 (Macintosh; Intel Mac OS X 10_9_4...</td>\n",
       "      <td>29</td>\n",
       "    </tr>\n",
       "  </tbody>\n",
       "</table>\n",
       "</div>"
      ],
      "text/plain": [
       "                                              artist       auth   firstName  \\\n",
       "0                                               None  Logged In     Celeste   \n",
       "1                                           Pavement  Logged In      Sylvie   \n",
       "2  Barry Tuckwell/Academy of St Martin-in-the-Fie...  Logged In     Celeste   \n",
       "3                                         Gary Allan  Logged In     Celeste   \n",
       "4                                               None  Logged In  Jacqueline   \n",
       "\n",
       "  gender  itemInSession  lastName     length level  \\\n",
       "0      F              0  Williams        NaN  free   \n",
       "1      F              0      Cruz   99.16036  free   \n",
       "2      F              1  Williams  277.15873  free   \n",
       "3      F              2  Williams  211.22567  free   \n",
       "4      F              0     Lynch        NaN  paid   \n",
       "\n",
       "                                       location method      page  \\\n",
       "0                             Klamath Falls, OR    GET      Home   \n",
       "1  Washington-Arlington-Alexandria, DC-VA-MD-WV    PUT  NextSong   \n",
       "2                             Klamath Falls, OR    PUT  NextSong   \n",
       "3                             Klamath Falls, OR    PUT  NextSong   \n",
       "4             Atlanta-Sandy Springs-Roswell, GA    GET      Home   \n",
       "\n",
       "   registration  sessionId                                               song  \\\n",
       "0  1.541078e+12        438                                               None   \n",
       "1  1.540266e+12        345                               Mercy:The Laundromat   \n",
       "2  1.541078e+12        438  Horn Concerto No. 4 in E flat K495: II. Romanc...   \n",
       "3  1.541078e+12        438                           Nothing On But The Radio   \n",
       "4  1.540224e+12        389                                               None   \n",
       "\n",
       "   status             ts                                          userAgent  \\\n",
       "0     200  1541990217796  \"Mozilla/5.0 (Windows NT 6.1; WOW64) AppleWebK...   \n",
       "1     200  1541990258796  \"Mozilla/5.0 (Macintosh; Intel Mac OS X 10_9_4...   \n",
       "2     200  1541990264796  \"Mozilla/5.0 (Windows NT 6.1; WOW64) AppleWebK...   \n",
       "3     200  1541990541796  \"Mozilla/5.0 (Windows NT 6.1; WOW64) AppleWebK...   \n",
       "4     200  1541990714796  \"Mozilla/5.0 (Macintosh; Intel Mac OS X 10_9_4...   \n",
       "\n",
       "  userId  \n",
       "0     53  \n",
       "1     10  \n",
       "2     53  \n",
       "3     53  \n",
       "4     29  "
      ]
     },
     "execution_count": 10,
     "metadata": {},
     "output_type": "execute_result"
    }
   ],
   "source": [
    "logs.head()"
   ]
  },
  {
   "cell_type": "code",
   "execution_count": null,
   "metadata": {
    "editable": true
   },
   "outputs": [],
   "source": []
  },
  {
   "cell_type": "code",
   "execution_count": null,
   "metadata": {
    "editable": true
   },
   "outputs": [],
   "source": []
  },
  {
   "cell_type": "code",
   "execution_count": null,
   "metadata": {
    "editable": true
   },
   "outputs": [],
   "source": []
  },
  {
   "cell_type": "markdown",
   "metadata": {
    "editable": true
   },
   "source": [
    "## Song Dataset"
   ]
  },
  {
   "cell_type": "code",
   "execution_count": 14,
   "metadata": {
    "editable": true
   },
   "outputs": [],
   "source": [
    "song_path = 'data/song_data/A/A/B/TRAABJL12903CDCF1A.json'\n",
    "\n",
    "songs = pd.read_json(song_path, lines=True)"
   ]
  },
  {
   "cell_type": "code",
   "execution_count": 15,
   "metadata": {
    "editable": true
   },
   "outputs": [
    {
     "name": "stdout",
     "output_type": "stream",
     "text": [
      "<class 'pandas.core.frame.DataFrame'>\n",
      "RangeIndex: 1 entries, 0 to 0\n",
      "Data columns (total 10 columns):\n",
      "artist_id           1 non-null object\n",
      "artist_latitude     0 non-null float64\n",
      "artist_location     1 non-null object\n",
      "artist_longitude    0 non-null float64\n",
      "artist_name         1 non-null object\n",
      "duration            1 non-null float64\n",
      "num_songs           1 non-null int64\n",
      "song_id             1 non-null object\n",
      "title               1 non-null object\n",
      "year                1 non-null int64\n",
      "dtypes: float64(3), int64(2), object(5)\n",
      "memory usage: 160.0+ bytes\n"
     ]
    }
   ],
   "source": [
    "songs.info()"
   ]
  },
  {
   "cell_type": "code",
   "execution_count": 16,
   "metadata": {
    "editable": true
   },
   "outputs": [
    {
     "data": {
      "text/html": [
       "<div>\n",
       "<style scoped>\n",
       "    .dataframe tbody tr th:only-of-type {\n",
       "        vertical-align: middle;\n",
       "    }\n",
       "\n",
       "    .dataframe tbody tr th {\n",
       "        vertical-align: top;\n",
       "    }\n",
       "\n",
       "    .dataframe thead th {\n",
       "        text-align: right;\n",
       "    }\n",
       "</style>\n",
       "<table border=\"1\" class=\"dataframe\">\n",
       "  <thead>\n",
       "    <tr style=\"text-align: right;\">\n",
       "      <th></th>\n",
       "      <th>artist_id</th>\n",
       "      <th>artist_latitude</th>\n",
       "      <th>artist_location</th>\n",
       "      <th>artist_longitude</th>\n",
       "      <th>artist_name</th>\n",
       "      <th>duration</th>\n",
       "      <th>num_songs</th>\n",
       "      <th>song_id</th>\n",
       "      <th>title</th>\n",
       "      <th>year</th>\n",
       "    </tr>\n",
       "  </thead>\n",
       "  <tbody>\n",
       "    <tr>\n",
       "      <th>0</th>\n",
       "      <td>ARHHO3O1187B989413</td>\n",
       "      <td>NaN</td>\n",
       "      <td></td>\n",
       "      <td>NaN</td>\n",
       "      <td>Bob Azzam</td>\n",
       "      <td>191.84281</td>\n",
       "      <td>1</td>\n",
       "      <td>SORAMLE12AB017C8B0</td>\n",
       "      <td>Auguri Cha Cha</td>\n",
       "      <td>0</td>\n",
       "    </tr>\n",
       "  </tbody>\n",
       "</table>\n",
       "</div>"
      ],
      "text/plain": [
       "            artist_id  artist_latitude artist_location  artist_longitude  \\\n",
       "0  ARHHO3O1187B989413              NaN                               NaN   \n",
       "\n",
       "  artist_name   duration  num_songs             song_id           title  year  \n",
       "0   Bob Azzam  191.84281          1  SORAMLE12AB017C8B0  Auguri Cha Cha     0  "
      ]
     },
     "execution_count": 16,
     "metadata": {},
     "output_type": "execute_result"
    }
   ],
   "source": [
    "songs.head()"
   ]
  },
  {
   "cell_type": "code",
   "execution_count": null,
   "metadata": {
    "editable": true
   },
   "outputs": [],
   "source": []
  }
 ],
 "metadata": {
  "kernelspec": {
   "display_name": "Python 3",
   "language": "python",
   "name": "python3"
  },
  "language_info": {
   "codemirror_mode": {
    "name": "ipython",
    "version": 3
   },
   "file_extension": ".py",
   "mimetype": "text/x-python",
   "name": "python",
   "nbconvert_exporter": "python",
   "pygments_lexer": "ipython3",
   "version": "3.6.3"
  }
 },
 "nbformat": 4,
 "nbformat_minor": 4
}
